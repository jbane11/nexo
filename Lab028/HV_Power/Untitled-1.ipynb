{
 "cells": [
  {
   "cell_type": "markdown",
   "metadata": {},
   "source": [
    "# Imports"
   ]
  },
  {
   "cell_type": "code",
   "execution_count": 6,
   "metadata": {},
   "outputs": [],
   "source": [
    "from caen_libs import caenhvwrapper as hv  \n",
    "from pycaenhv.wrappers import init_system, deinit_system, get_board_parameters, get_crate_map, get_channel_parameter_property, get_channel_parameters, list_commands,get_channel_parameter\n",
    "from pycaenhv.enums import CAENHV_SYSTEM_TYPE, LinkType\n",
    "from pycaenhv.errors import CAENHVError\n",
    "import os, time"
   ]
  },
  {
   "cell_type": "code",
   "execution_count": 7,
   "metadata": {},
   "outputs": [],
   "source": [
    "import caenhv"
   ]
  },
  {
   "cell_type": "markdown",
   "metadata": {},
   "source": [
    "## Useful info for connecting to the HV supply"
   ]
  },
  {
   "cell_type": "code",
   "execution_count": 8,
   "metadata": {},
   "outputs": [],
   "source": [
    "type=\"N1470\"   ##Type of power suppl\n",
    "link=\"USB_VCP\" ##How the supply is connected\n",
    "address=\"COM5\"   ##The connection port"
   ]
  },
  {
   "cell_type": "markdown",
   "metadata": {},
   "source": [
    "## Opening Connection"
   ]
  },
  {
   "cell_type": "code",
   "execution_count": 9,
   "metadata": {},
   "outputs": [
    {
     "name": "stdout",
     "output_type": "stream",
     "text": [
      "System already closed\n",
      "Opening connection\n"
     ]
    },
    {
     "ename": "CAENHVError",
     "evalue": "Login failed ",
     "output_type": "error",
     "traceback": [
      "\u001b[1;31m---------------------------------------------------------------------------\u001b[0m",
      "\u001b[1;31mCAENHVError\u001b[0m                               Traceback (most recent call last)",
      "Cell \u001b[1;32mIn[9], line 11\u001b[0m\n\u001b[0;32m      9\u001b[0m \u001b[38;5;66;03m# Make connection  \u001b[39;00m\n\u001b[0;32m     10\u001b[0m \u001b[38;5;28mprint\u001b[39m(\u001b[38;5;124m\"\u001b[39m\u001b[38;5;124mOpening connection\u001b[39m\u001b[38;5;124m\"\u001b[39m)\n\u001b[1;32m---> 11\u001b[0m handle \u001b[38;5;241m=\u001b[39m \u001b[43minit_system\u001b[49m\u001b[43m(\u001b[49m\u001b[43msystem_type\u001b[49m\u001b[43m,\u001b[49m\u001b[43m \u001b[49m\u001b[43mlink_type\u001b[49m\u001b[43m,\u001b[49m\n\u001b[0;32m     12\u001b[0m \u001b[43m                         \u001b[49m\u001b[43maddress\u001b[49m\u001b[43m,\u001b[49m\n\u001b[0;32m     13\u001b[0m \u001b[43m                         \u001b[49m\u001b[38;5;124;43m'\u001b[39;49m\u001b[38;5;124;43m'\u001b[39;49m\u001b[43m,\u001b[49m\u001b[38;5;124;43m'\u001b[39;49m\u001b[38;5;124;43m'\u001b[39;49m\u001b[43m)\u001b[49m\n\u001b[0;32m     15\u001b[0m \u001b[38;5;28;01mtry\u001b[39;00m:\n\u001b[0;32m     16\u001b[0m     \u001b[38;5;28mprint\u001b[39m(\u001b[38;5;124mf\u001b[39m\u001b[38;5;124m\"\u001b[39m\u001b[38;5;124mGot handle: \u001b[39m\u001b[38;5;132;01m{\u001b[39;00mhandle\u001b[38;5;132;01m}\u001b[39;00m\u001b[38;5;124m\"\u001b[39m)\n",
      "File \u001b[1;32mc:\\Python310\\lib\\site-packages\\pycaenhv\\wrappers.py:69\u001b[0m, in \u001b[0;36minit_system\u001b[1;34m(system_type, link_type, argument, username, password)\u001b[0m\n\u001b[0;32m     66\u001b[0m     _arg \u001b[38;5;241m=\u001b[39m _arg\u001b[38;5;241m.\u001b[39mencode()\n\u001b[0;32m     67\u001b[0m err \u001b[38;5;241m=\u001b[39m CAENHV_InitSystem(_system, _link, _arg, username\u001b[38;5;241m.\u001b[39mencode(),\n\u001b[0;32m     68\u001b[0m                         password\u001b[38;5;241m.\u001b[39mencode(), byref(_handle))\n\u001b[1;32m---> 69\u001b[0m \u001b[43mcheck_function_output\u001b[49m\u001b[43m(\u001b[49m\u001b[43merr\u001b[49m\u001b[43m)\u001b[49m\n\u001b[0;32m     70\u001b[0m \u001b[38;5;28;01mreturn\u001b[39;00m _handle\u001b[38;5;241m.\u001b[39mvalue\n",
      "File \u001b[1;32mc:\\Python310\\lib\\site-packages\\pycaenhv\\errors.py:51\u001b[0m, in \u001b[0;36mcheck_function_output\u001b[1;34m(command_output, should_raise)\u001b[0m\n\u001b[0;32m     49\u001b[0m err_msg \u001b[38;5;241m=\u001b[39m Errors[command_output]\n\u001b[0;32m     50\u001b[0m \u001b[38;5;28;01mif\u001b[39;00m should_raise:\n\u001b[1;32m---> 51\u001b[0m     \u001b[38;5;28;01mraise\u001b[39;00m CAENHVError(err_msg)\n\u001b[0;32m     52\u001b[0m \u001b[38;5;28mprint\u001b[39m(\u001b[38;5;124mf\u001b[39m\u001b[38;5;124m\"\u001b[39m\u001b[38;5;124mError: \u001b[39m\u001b[38;5;132;01m{\u001b[39;00merr_msg\u001b[38;5;132;01m}\u001b[39;00m\u001b[38;5;124m\"\u001b[39m)\n\u001b[0;32m     53\u001b[0m \u001b[38;5;28;01mreturn\u001b[39;00m \u001b[38;5;28;01mFalse\u001b[39;00m\n",
      "\u001b[1;31mCAENHVError\u001b[0m: Login failed "
     ]
    }
   ],
   "source": [
    "system_type = CAENHV_SYSTEM_TYPE[type] #Function to pull enum from list of types\n",
    "link_type = LinkType[link]             #Function to pull enum from list of links\n",
    "\n",
    "try:\n",
    "    deinit_system(handle)\n",
    "except:\n",
    "    print(\"System already closed\")\n",
    "\n",
    "# Make connection  \n",
    "print(\"Opening connection\")\n",
    "handle = init_system(system_type, link_type,\n",
    "                         address,\n",
    "                         '','')\n",
    "\n",
    "try:\n",
    "    print(f\"Got handle: {handle}\")\n",
    "    crate_map = get_crate_map(handle)\n",
    "    for name, value in crate_map.items():\n",
    "        print(name, value)\n",
    "    board_parameters = get_board_parameters(handle, 0)\n",
    "except CAENHVError as err:\n",
    "    print(f\"Got error: {err}\\nExiting ...\")\n",
    "\n",
    "\n"
   ]
  },
  {
   "cell_type": "code",
   "execution_count": null,
   "metadata": {},
   "outputs": [
    {
     "data": {
      "text/plain": [
       "['IlkStat', 'Interlock', 'Control', 'RTerm', 'Alarm', 'ClrAlarm']"
      ]
     },
     "execution_count": 15,
     "metadata": {},
     "output_type": "execute_result"
    }
   ],
   "source": [
    "board_parameters"
   ]
  },
  {
   "cell_type": "markdown",
   "metadata": {},
   "source": [
    "### Testing functions for reading"
   ]
  },
  {
   "cell_type": "markdown",
   "metadata": {},
   "source": [
    "#### listing our parameter names"
   ]
  },
  {
   "cell_type": "code",
   "execution_count": null,
   "metadata": {},
   "outputs": [
    {
     "name": "stdout",
     "output_type": "stream",
     "text": [
      "['IlkStat', 'Interlock', 'Control', 'RTerm', 'Alarm', 'ClrAlarm']\n",
      "['VSet', 'VMon', 'ISet', 'ImonRange', 'IMonL', 'IMonH', 'MaxV', 'RUp', 'RDwn', 'Trip', 'PDwn', 'Polarity', 'ChStatus', 'Pw']\n"
     ]
    }
   ],
   "source": [
    "keys=get_board_parameters(handle,0)\n",
    "print(keys)\n",
    "ch_keys=get_channel_parameters(handle,0,0)\n",
    "print(ch_keys)"
   ]
  },
  {
   "cell_type": "markdown",
   "metadata": {},
   "source": [
    "#### Getting channel parameter properties"
   ]
  },
  {
   "cell_type": "code",
   "execution_count": null,
   "metadata": {},
   "outputs": [
    {
     "name": "stdout",
     "output_type": "stream",
     "text": [
      "0\n",
      "0\n"
     ]
    }
   ],
   "source": [
    "\n",
    "a=get_channel_parameter_property(handle,0,1,\"ChStatus\",\"Exp\")\n",
    "print(a)\n",
    "\n",
    "b=get_channel_parameter_property(handle,0,3,\"ChStatus\",\"Exp\")\n",
    "print(b)"
   ]
  },
  {
   "cell_type": "code",
   "execution_count": null,
   "metadata": {},
   "outputs": [
    {
     "name": "stdout",
     "output_type": "stream",
     "text": [
      "1\n",
      "0\n"
     ]
    }
   ],
   "source": [
    "\n",
    "a=get_channel_parameter(handle,0,0,\"Polarity\")\n",
    "print(a)\n",
    "\n",
    "b=get_channel_parameter(handle,0,3,\"Polarity\")\n",
    "print(b)"
   ]
  },
  {
   "cell_type": "code",
   "execution_count": null,
   "metadata": {},
   "outputs": [],
   "source": [
    "tn"
   ]
  },
  {
   "cell_type": "code",
   "execution_count": null,
   "metadata": {},
   "outputs": [
    {
     "name": "stdout",
     "output_type": "stream",
     "text": [
      "VSet 840.0\n",
      "VMon 0.0\n",
      "ISet 3.0\n",
      "ImonRange 1\n",
      "IMonL 0.0\n",
      "IMonH 0.0\n",
      "MaxV 2005.0\n",
      "RUp 20.0\n",
      "RDwn 50.0\n",
      "Trip 3.0\n",
      "PDwn 0\n",
      "Polarity 1\n",
      "ChStatus 1024\n",
      "Pw 0\n",
      "\n",
      "\n",
      "VSet 840.0\n",
      "VMon 0.0\n",
      "ISet 3.0\n",
      "ImonRange 1\n",
      "IMonL 0.0\n",
      "IMonH 0.0\n",
      "MaxV 2005.0\n",
      "RUp 20.0\n",
      "RDwn 50.0\n",
      "Trip 3.0\n",
      "PDwn 0\n",
      "Polarity 1\n",
      "ChStatus 1024\n",
      "Pw 0\n",
      "\n",
      "\n",
      "VSet 840.0\n",
      "VMon 0.0\n",
      "ISet 3.0\n",
      "ImonRange 1\n",
      "IMonL 0.0\n",
      "IMonH 0.0\n",
      "MaxV 2005.0\n",
      "RUp 20.0\n",
      "RDwn 50.0\n",
      "Trip 3.0\n",
      "PDwn 0\n",
      "Polarity 1\n",
      "ChStatus 1024\n",
      "Pw 0\n",
      "\n",
      "\n",
      "VSet 840.0\n",
      "VMon 0.0\n",
      "ISet 3.0\n",
      "ImonRange 1\n",
      "IMonL 0.0\n",
      "IMonH 0.0\n",
      "MaxV 2005.0\n",
      "RUp 20.0\n",
      "RDwn 50.0\n",
      "Trip 3.0\n",
      "PDwn 0\n",
      "Polarity 1\n",
      "ChStatus 1024\n",
      "Pw 0\n",
      "\n",
      "\n",
      "VSet 840.0\n",
      "VMon 0.0\n",
      "ISet 3.0\n",
      "ImonRange 1\n",
      "IMonL 0.0\n",
      "IMonH 0.0\n",
      "MaxV 2005.0\n",
      "RUp 20.0\n",
      "RDwn 50.0\n",
      "Trip 3.0\n",
      "PDwn 0\n",
      "Polarity 1\n",
      "ChStatus 0\n",
      "Pw 0\n",
      "\n",
      "\n",
      "Exiting loop\n"
     ]
    }
   ],
   "source": [
    "go=1\n",
    "i =0\n",
    "while(go == 1):\n",
    "    \n",
    "    for key in ch_keys:\n",
    "        print(key , get_channel_parameter(handle,0,1,key))\n",
    "\n",
    "    print(\"\\n\")\n",
    "\n",
    "    i = i + 1\n",
    "    if i > 4:\n",
    "        go = 0\n",
    "        print(\"Exiting loop\")\n",
    "        break\n",
    "    \n",
    "    time.sleep(3)\n",
    "\n",
    "    \n",
    "\n",
    "\n"
   ]
  },
  {
   "cell_type": "code",
   "execution_count": null,
   "metadata": {},
   "outputs": [
    {
     "data": {
      "text/plain": [
       "['']"
      ]
     },
     "execution_count": 19,
     "metadata": {},
     "output_type": "execute_result"
    }
   ],
   "source": [
    "list_commands(handle)"
   ]
  },
  {
   "cell_type": "markdown",
   "metadata": {},
   "source": [
    "## Try out canhv"
   ]
  },
  {
   "cell_type": "code",
   "execution_count": null,
   "metadata": {},
   "outputs": [],
   "source": [
    "Hv = caenhv.CaenHV()\n"
   ]
  },
  {
   "cell_type": "code",
   "execution_count": null,
   "metadata": {},
   "outputs": [
    {
     "data": {
      "text/plain": [
       "<caenhv.devices.module.Module at 0x27560511660>"
      ]
     },
     "execution_count": 5,
     "metadata": {},
     "output_type": "execute_result"
    }
   ],
   "source": [
    "module=Hv.module(0)\n",
    "module"
   ]
  },
  {
   "cell_type": "code",
   "execution_count": null,
   "metadata": {},
   "outputs": [],
   "source": [
    "module.channel(1)"
   ]
  },
  {
   "cell_type": "markdown",
   "metadata": {},
   "source": [
    "# Deinit"
   ]
  },
  {
   "cell_type": "code",
   "execution_count": null,
   "metadata": {},
   "outputs": [],
   "source": [
    "deinit_system(handle)\n"
   ]
  },
  {
   "cell_type": "code",
   "execution_count": null,
   "metadata": {},
   "outputs": [],
   "source": [
    "\n",
    "import glob"
   ]
  },
  {
   "cell_type": "code",
   "execution_count": null,
   "metadata": {},
   "outputs": [
    {
     "data": {
      "text/plain": [
       "['/Users/jasonbane/Documents\\\\20240517-RGA.txt',\n",
       " '/Users/jasonbane/Documents\\\\20240517-RGA.v2.txt',\n",
       " '/Users/jasonbane/Documents\\\\CAD_files',\n",
       " '/Users/jasonbane/Documents\\\\CAENGECO2020.log',\n",
       " '/Users/jasonbane/Documents\\\\curv_19302.pdf',\n",
       " '/Users/jasonbane/Documents\\\\Custom Office Templates',\n",
       " '/Users/jasonbane/Documents\\\\desktop.ini',\n",
       " '/Users/jasonbane/Documents\\\\HVLogFiles',\n",
       " '/Users/jasonbane/Documents\\\\Invoices',\n",
       " '/Users/jasonbane/Documents\\\\Measurement Computing',\n",
       " '/Users/jasonbane/Documents\\\\Metacognition Journal Grading Assignments.xlsx',\n",
       " '/Users/jasonbane/Documents\\\\My Music',\n",
       " '/Users/jasonbane/Documents\\\\My Pictures',\n",
       " '/Users/jasonbane/Documents\\\\My Videos',\n",
       " '/Users/jasonbane/Documents\\\\PicoLog',\n",
       " '/Users/jasonbane/Documents\\\\rga1.rga',\n",
       " '/Users/jasonbane/Documents\\\\SOLIDWORKS Downloads',\n",
       " '/Users/jasonbane/Documents\\\\SOLIDWORKSComposer',\n",
       " '/Users/jasonbane/Documents\\\\SW Log Files',\n",
       " '/Users/jasonbane/Documents\\\\Waveforms',\n",
       " '/Users/jasonbane/Documents\\\\Zoom']"
      ]
     },
     "execution_count": 33,
     "metadata": {},
     "output_type": "execute_result"
    }
   ],
   "source": [
    "glob.glob(\"/Users/jasonbane/Documents/*\")"
   ]
  }
 ],
 "metadata": {
  "kernelspec": {
   "display_name": "Python 3",
   "language": "python",
   "name": "python3"
  },
  "language_info": {
   "codemirror_mode": {
    "name": "ipython",
    "version": 3
   },
   "file_extension": ".py",
   "mimetype": "text/x-python",
   "name": "python",
   "nbconvert_exporter": "python",
   "pygments_lexer": "ipython3",
   "version": "3.10.5"
  }
 },
 "nbformat": 4,
 "nbformat_minor": 2
}
