{
 "cells": [
  {
   "cell_type": "markdown",
   "metadata": {},
   "source": [
    "# Imports"
   ]
  },
  {
   "cell_type": "code",
   "execution_count": 20,
   "metadata": {},
   "outputs": [],
   "source": [
    "from caen_libs import caenhvwrapper as hv  \n",
    "from pycaenhv.wrappers import init_system, deinit_system, get_board_parameters, get_crate_map, get_channel_parameter_property, get_channel_parameters, list_commands,get_channel_parameter\n",
    "from pycaenhv.enums import CAENHV_SYSTEM_TYPE, LinkType\n",
    "from pycaenhv.errors import CAENHVError\n",
    "import os"
   ]
  },
  {
   "cell_type": "code",
   "execution_count": 2,
   "metadata": {},
   "outputs": [],
   "source": [
    "import caenhv"
   ]
  },
  {
   "cell_type": "markdown",
   "metadata": {},
   "source": [
    "## Useful info for connecting to the HV supply"
   ]
  },
  {
   "cell_type": "code",
   "execution_count": 3,
   "metadata": {},
   "outputs": [],
   "source": [
    "type=\"N1470\"   ##Type of power suppl\n",
    "link=\"USB_VCP\" ##How the supply is connected\n",
    "address=\"COM10\"   ##The connection port"
   ]
  },
  {
   "cell_type": "markdown",
   "metadata": {},
   "source": [
    "## Opening Connection"
   ]
  },
  {
   "cell_type": "code",
   "execution_count": 6,
   "metadata": {},
   "outputs": [
    {
     "name": "stdout",
     "output_type": "stream",
     "text": [
      "System already closed\n",
      "Opening connection\n",
      "Got handle: 0\n",
      "slots 1\n",
      "channels [4]\n",
      "models ['NDT1470']\n",
      "descriptions ['']\n",
      "serial_numbers [104]\n",
      "firmware_releases [(2, 7)]\n"
     ]
    }
   ],
   "source": [
    "system_type = CAENHV_SYSTEM_TYPE[type] #Function to pull enum from list of types\n",
    "link_type = LinkType[link]             #Function to pull enum from list of links\n",
    "\n",
    "try:\n",
    "    deinit_system(handle)\n",
    "except:\n",
    "    print(\"System already closed\")\n",
    "\n",
    "# Make connection  \n",
    "print(\"Opening connection\")\n",
    "handle = init_system(system_type, link_type,\n",
    "                         address,\n",
    "                         '','')\n",
    "\n",
    "try:\n",
    "    print(f\"Got handle: {handle}\")\n",
    "    crate_map = get_crate_map(handle)\n",
    "    for name, value in crate_map.items():\n",
    "        print(name, value)\n",
    "    board_parameters = get_board_parameters(handle, 0)\n",
    "except CAENHVError as err:\n",
    "    print(f\"Got error: {err}\\nExiting ...\")\n",
    "\n",
    "\n"
   ]
  },
  {
   "cell_type": "markdown",
   "metadata": {},
   "source": [
    "### Testing functions for reading"
   ]
  },
  {
   "cell_type": "markdown",
   "metadata": {},
   "source": [
    "#### listing our parameter names"
   ]
  },
  {
   "cell_type": "code",
   "execution_count": 7,
   "metadata": {},
   "outputs": [
    {
     "name": "stdout",
     "output_type": "stream",
     "text": [
      "['IlkStat', 'Interlock', 'Control', 'RTerm', 'Alarm', 'ClrAlarm']\n",
      "['VSet', 'VMon', 'ISet', 'ImonRange', 'IMonL', 'IMonH', 'MaxV', 'RUp', 'RDwn', 'Trip', 'PDwn', 'Polarity', 'ChStatus', 'Pw']\n"
     ]
    }
   ],
   "source": [
    "keys=get_board_parameters(handle,0)\n",
    "print(keys)\n",
    "ch_keys=get_channel_parameters(handle,0,0)\n",
    "print(ch_keys)"
   ]
  },
  {
   "cell_type": "markdown",
   "metadata": {},
   "source": [
    "#### Getting channel parameter properties"
   ]
  },
  {
   "cell_type": "code",
   "execution_count": 19,
   "metadata": {},
   "outputs": [
    {
     "name": "stdout",
     "output_type": "stream",
     "text": [
      "0\n",
      "0\n"
     ]
    }
   ],
   "source": [
    "\n",
    "a=get_channel_parameter_property(handle,0,1,\"ChStatus\",\"Exp\")\n",
    "print(a)\n",
    "\n",
    "b=get_channel_parameter_property(handle,0,3,\"ChStatus\",\"Exp\")\n",
    "print(b)"
   ]
  },
  {
   "cell_type": "code",
   "execution_count": 25,
   "metadata": {},
   "outputs": [
    {
     "name": "stdout",
     "output_type": "stream",
     "text": [
      "1\n",
      "0\n"
     ]
    }
   ],
   "source": [
    "\n",
    "a=get_channel_parameter(handle,0,0,\"Polarity\")\n",
    "print(a)\n",
    "\n",
    "b=get_channel_parameter(handle,0,3,\"Polarity\")\n",
    "print(b)"
   ]
  },
  {
   "cell_type": "code",
   "execution_count": 98,
   "metadata": {},
   "outputs": [
    {
     "data": {
      "text/plain": [
       "['\\x04']"
      ]
     },
     "execution_count": 98,
     "metadata": {},
     "output_type": "execute_result"
    }
   ],
   "source": [
    "list_commands(handle)"
   ]
  },
  {
   "cell_type": "markdown",
   "metadata": {},
   "source": [
    "## Try out canhv"
   ]
  },
  {
   "cell_type": "code",
   "execution_count": 4,
   "metadata": {},
   "outputs": [],
   "source": [
    "Hv = caenhv.CaenHV()\n"
   ]
  },
  {
   "cell_type": "code",
   "execution_count": 5,
   "metadata": {},
   "outputs": [
    {
     "data": {
      "text/plain": [
       "<caenhv.devices.module.Module at 0x27560511660>"
      ]
     },
     "execution_count": 5,
     "metadata": {},
     "output_type": "execute_result"
    }
   ],
   "source": [
    "module=Hv.module(0)\n",
    "module"
   ]
  },
  {
   "cell_type": "code",
   "execution_count": 7,
   "metadata": {},
   "outputs": [],
   "source": [
    "module.channel(1)"
   ]
  },
  {
   "cell_type": "markdown",
   "metadata": {},
   "source": [
    "# Deinit"
   ]
  },
  {
   "cell_type": "code",
   "execution_count": 26,
   "metadata": {},
   "outputs": [],
   "source": [
    "deinit_system(handle)\n"
   ]
  }
 ],
 "metadata": {
  "kernelspec": {
   "display_name": "Python 3",
   "language": "python",
   "name": "python3"
  },
  "language_info": {
   "codemirror_mode": {
    "name": "ipython",
    "version": 3
   },
   "file_extension": ".py",
   "mimetype": "text/x-python",
   "name": "python",
   "nbconvert_exporter": "python",
   "pygments_lexer": "ipython3",
   "version": "3.10.5"
  }
 },
 "nbformat": 4,
 "nbformat_minor": 2
}
