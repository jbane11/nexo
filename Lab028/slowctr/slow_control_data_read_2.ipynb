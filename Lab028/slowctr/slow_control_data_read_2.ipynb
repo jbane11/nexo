{
 "cells": [
  {
   "cell_type": "markdown",
   "metadata": {},
   "source": [
    "# Read and analysis slow control data version 2\n",
    "\n",
    "\n",
    "Updated June 10th 20204\n",
    "\n",
    "Starting with headers, envorimental varibles, and functions"
   ]
  },
  {
   "cell_type": "code",
   "execution_count": 1,
   "metadata": {},
   "outputs": [],
   "source": [
    "import h5py\n",
    "import pandas as pd\n",
    "import numpy as np\n",
    "import matplotlib.pyplot as plt\n",
    "import glob,os,platform\n",
    "import datetime,calendar\n",
    "\n",
    "\n",
    "#varible for determining the lab pc or other pc, Check if windows or not, then try to grab pc name\n",
    "pcname=\"\"\n",
    "if platform.system() == \"Windows\":\n",
    "    pcname=platform.uname().node\n",
    "else:\n",
    "    try:\n",
    "        pcname=os.uname()[1]\n",
    "    except:\n",
    "        print(\"Issue with finding pc name\")\n",
    "\n",
    "env_var_dataloc =\"\" #varible for location of waveform data. \n",
    "data_dir_mod_old=\"\" #varible for small difference in storage managment between pc 1 and 2\n",
    "if pcname=='PHYS-PSB02802': #Lab pc 2, (Labview pc)\n",
    "    env_var_dataloc =\"A:/DATA/\"\n",
    "    \n",
    "elif pcname==\"PHYS-PSB02801\": #Lab pc 1, (solidworks pc)\n",
    "    env_var_dataloc =\"data/\" #This is true for Jason's work atm (June 10th) Needs Updateing to global or user friendly verison\n",
    "    data_dir_mod_old=\"/\"\n",
    "\n",
    "\n",
    "TimeZero=datetime.datetime(2023,1,1)\n"
   ]
  },
  {
   "cell_type": "markdown",
   "metadata": {},
   "source": [
    "## Functions and def"
   ]
  },
  {
   "cell_type": "markdown",
   "metadata": {},
   "source": [
    "#### h5 file info"
   ]
  },
  {
   "cell_type": "code",
   "execution_count": 2,
   "metadata": {},
   "outputs": [],
   "source": [
    "groups = []\n",
    "datasets = []\n",
    "atts = {} # attributes\n",
    "\n",
    "def gather_names_and_atts(name, obj):\n",
    "    if isinstance(obj, h5py.Group):\n",
    "        groups.append(name)\n",
    "    elif isinstance(obj, h5py.Dataset):\n",
    "        datasets.append(name)\n",
    "    for key, val in obj.attrs.items():\n",
    "        atts[name + '/' + key] = val\n",
    "\n",
    "def list_groups_datasets_atts(file):\n",
    "    with h5py.File(file, 'r') as f:\n",
    "        f.visititems(gather_names_and_atts)\n",
    "\n",
    "def print_lists(list_name):\n",
    "    i = 0\n",
    "    for name in list_name:\n",
    "        print(i, name)\n",
    "        i=i+1\n",
    "    print()\n",
    "\n",
    "def create_dataframe_from_datasets(file_name, dataset_names):\n",
    "\n",
    "    with h5py.File(file_name, 'r') as f:\n",
    "        dataset_names =[]\n",
    "       \n",
    "        for i in f.keys():\n",
    "            for j in f[i].keys():\n",
    "                dataset_names.append(i+\"/\"+j)\n",
    "       \n",
    "        \n",
    "        dfs = {name: pd.DataFrame(f[name][:])   for name in dataset_names }\n",
    "    return dfs\n",
    "\n",
    "\n",
    "def poop():\n",
    "    with h5py.File(file_name, 'r') as f:\n",
    "        for name in dataset_names:\n",
    "            try:\n",
    "                dfs = {name: pd.DataFrame(f[name][:]) }\n",
    "            except:\n",
    "                print(\"issue with\", name)\n",
    "    return dfs"
   ]
  },
  {
   "cell_type": "markdown",
   "metadata": {},
   "source": [
    "## Read in file and make dataframe function"
   ]
  },
  {
   "cell_type": "code",
   "execution_count": 3,
   "metadata": {},
   "outputs": [],
   "source": [
    "channel_list=  [\"Flow_Meter\" ,\"Liquid_Nitro_Valve\", \"PID_Heater\",\"Pressure_1\",\"Pressure_2\",\n",
    "                \"Heater_State\",\"Nitro_Baseline\",\"Nitro_Weigth\",\"Target_Channel\",\"Target_Temperature\",\n",
    "                \"Time\",\"Valve_State\",\"Cold_Finger\",\"Nitro_Reservoir\",\"Xe_Cell_1\",\"Xe_Cell_2\",\n",
    "                \"Xe_Cell_3\",\"Xe_Cell_Outside\",\"Pressure_Cell\",\"Pressure_Mfold\",\"Storage_1\",\"Storage_2\",\n",
    "                \"Pressure_Cryostat\",\"Pressure_Manifold\",\"Pressure_Nitro\",\"Cryostat_Top\",\"Xe_Cell_Bottom\",\"Xe_Cell_Top\"]\n",
    "\n",
    "\n",
    "def getprologue_time(f):\n",
    "    ''' Argument f == hdf5 file\n",
    "        returns datetimeobject of time information \n",
    "    '''\n",
    "    atr=\"Prologue\"\n",
    "    prologue=f.attrs[atr]\n",
    "    prologue=prologue.replace(\"\\r\",\"\")\n",
    "    splitlog=prologue.split( \"\\n\")\n",
    "    timeinfostr=splitlog[2]\n",
    "    timeinfo={}\n",
    "    timeinfo[\"year\"]=int(timeinfostr[0:4])\n",
    "    timeinfo[\"mon\"]=int(timeinfostr[4:6])\n",
    "    timeinfo[\"day\"]=int(timeinfostr[6:8])\n",
    "    timeinfo[\"hour\"]=int(timeinfostr[8:10])\n",
    "    timeinfo[\"min\"]=int(timeinfostr[10:12])\n",
    "    timeinfo[\"sec\"]=int(timeinfostr[12:14])\n",
    "    \n",
    "    strtime=\"\"\n",
    "    for key in timeinfo.keys():\n",
    "        strtime=strtime+\"%s\"%(str(timeinfo[key]))\n",
    "    RunStart_Datetime=datetime.datetime.strptime(strtime, \"%Y%m%d%H%M%S\") #takes a string in the listed format and turns it into a datetime object\n",
    "\n",
    "\n",
    "    print(timeinfo, RunStart_Datetime)\n",
    "    return RunStart_Datetime \n",
    "\n",
    "def timetosecs(timeinfo):\n",
    "    '''argument timeinfo dict returns total seconds for the day\n",
    "    Need to make this return time from some time in the past to allow for overnight runs'''\n",
    "\n",
    "\n",
    "    return timeinfo[\"hour\"]*60*60 +timeinfo[\"min\"]*60+timeinfo[\"sec\"]\n",
    "\n",
    "\n",
    "\n",
    "def calib_dict_wtime(file_name):\n",
    "    ''' This function grabs the slow control data from the hdf5 file that offsets the time by amount of seconds since Jan 1 2020'''\n",
    "    fh5= h5py.File(file_name, 'r') \n",
    "    timeinfo=getprologue_time(fh5)\n",
    "    timeoffset=(timeinfo-TimeZero).total_seconds()\n",
    "    print(\"Time offset\",timeoffset)\n",
    "    fh5.close()\n",
    "    list_groups_datasets_atts(file_name)\n",
    "    dataset_names = datasets # to create a dataframe for each\n",
    "    datadict = create_dataframe_from_datasets(file_name, dataset_names)\n",
    "    newdict={}\n",
    "    l,m,n=-1,-1,-1\n",
    "    j=0\n",
    "    js=[-1,-1,-1]\n",
    "    print(datadict.keys())\n",
    "    for key in datadict.keys():\n",
    "\n",
    "        #print(key)\n",
    "        pos=key.find(\"/\")\n",
    "        group=key[:pos]\n",
    "        if group==\"omb_daq\":\n",
    "            j=0\n",
    "            l+=1\n",
    "            js[0]+=1\n",
    "        elif group==\"pid_info\":\n",
    "            j=1\n",
    "            m+=1\n",
    "            js[1]+=1\n",
    "        elif group==\"tc08_daq\":\n",
    "            j=2\n",
    "            n+=1\n",
    "            js[2]+=1\n",
    "        \n",
    "        m,b=1,0\n",
    "        s_key=key[pos+1:]\n",
    "\n",
    "        if s_key ==\"Pressure_1\":\n",
    "            s_key=\"Pressure_Cell\"\n",
    "        elif s_key ==\"Pressure_2\":\n",
    "            s_key=\"Pressure_Manifold\"\n",
    "        if s_key not in channel_list:\n",
    "            \n",
    "           print(\"Not in channel list \" ,s_key)\n",
    "           # continue\n",
    "\n",
    "        if s_key==\"Inter\" or s_key ==\"Slope\":\n",
    "                continue\n",
    "        \n",
    "        else:\n",
    "            \n",
    "            #print(group,key, js[j])\n",
    "            if j==1:\n",
    "                m,b=1,0\n",
    "            else:\n",
    "                try:\n",
    "                    m = datadict[\"%s/Slope\"%(group)][0][js[j]]\n",
    "                    b = datadict[\"%s/Inter\"%(group)][0][js[j]]\n",
    "                except:\n",
    "                    m,b=1,0\n",
    "        \n",
    "            \n",
    "        #print(m,b, )\n",
    "        \n",
    "        newdict[s_key]=datadict[key][0]*m +b\n",
    "    \n",
    "    try:\n",
    "        newdict[\"Time\"] = timeoffset + np.arange(0,len(newdict[\"Time\"])*2,2)\n",
    "    except:\n",
    "        newdict[\"Time\"] = timeoffset + np.arange(0,len(newdict[s_key])*2,2)\n",
    "    \n",
    "    return newdict\n",
    "\n",
    "\n",
    "\n",
    "def get_slow_ctr_df(filedate):\n",
    "\n",
    "    filedes =\"slow_control\"\n",
    "    datadir=\"./data\"\n",
    "    \n",
    "    try:\n",
    "        filedate=str(filedate)\n",
    "    except:\n",
    "        print(\"Issue with file date\")\n",
    "\n",
    "    filelist=glob.glob(\"%s/%s*.h5\"%(datadir,filedate))\n",
    "    print(filelist)\n",
    "    if len(filelist) <1:\n",
    "        print(\"Error with globing files\")\n",
    "\n",
    "    datadicts=[]\n",
    "    DFs=[]\n",
    "    for filename in filelist:\n",
    "      \n",
    "        finfo=os.stat(filename)\n",
    "        print(finfo.st_size)\n",
    "        if finfo.st_size < 18000:\n",
    "            print(\"Skipping %s due to size\"%(filename))\n",
    "            continue\n",
    "        datasets = []\n",
    "        print(filename)\n",
    "        datadict=calib_dict_wtime(filename)\n",
    "        datadicts.append(datadict)\n",
    "        try:\n",
    "            DFs.append(pd.DataFrame.from_dict(datadict))\n",
    "        except:\n",
    "            print(\"issue with appending files into list\")\n",
    "        print( \"len\",len(datadict[\"Time\"]))\n",
    "\n",
    "    DF = pd.concat(DFs)\n",
    "    DF =DF.sort_values(by=[\"Time\"])\n",
    "\n",
    "    return DF\n",
    "\n",
    "\n",
    "\n",
    "\n",
    "def fixtimeoffset(DFs): \n",
    "    '''This function will take a list of '''\n",
    "\n",
    "\n"
   ]
  },
  {
   "cell_type": "code",
   "execution_count": 16,
   "metadata": {},
   "outputs": [],
   "source": [
    "def GetAllFiles(date):\n",
    "    if type(date)==type(\"str\") or type(date) == type(2):\n",
    "        date_placeholder=date\n",
    "        date=[]\n",
    "        date.append(date_placeholder)\n",
    "    elif type(date) != type([\"str\",\"str\"]):\n",
    "        print(\"Issue with argument - date \\n Please use string or list of strings in the format YYYYMMDD\")\n",
    "        return [\"\"]\n",
    "    file_list=[]\n",
    "    for d in date:\n",
    "        search_term=env_var_dataloc+str(d)+\"*\"\n",
    "        file_list=file_list+glob.glob(search_term)\n",
    "    return file_list\n",
    "\n",
    "\n",
    "def Get_SlowControl_DF_fromlist(filelist):\n",
    "    if type(filelist)==type(\"str\"):\n",
    "        filelist_placeholder=filelist\n",
    "        filelist=[]\n",
    "        filelist.append(date_placeholder)\n",
    "    elif type(file_list) != type([\"str\",\"str\"]):\n",
    "        print(\"Issue with argument - date \\n Please use string with the filepath\")\n",
    "        return [\"\"]\n",
    "    slowcontrol_dict_list=[]\n",
    "    for file in file_list:\n",
    "        if os.path.getsize(file) <=30000:\n",
    "            continue\n",
    "        slowcontrol_dict_list.append(pd.DataFrame.from_dict(calib_dict_wtime(file)))\n",
    "        DF=pd.concat(slowcontrol_dict_list)\n",
    "    return DF\n",
    "\n",
    "def Get_SlowControl_DF(date):\n",
    "    DF=pd.DataFrame()\n",
    "    if type(date)==type(\"str\") or type(date) == type(2):\n",
    "        date_placeholder=date\n",
    "        date=[]\n",
    "        date.append(date_placeholder)\n",
    "    elif type(date) != type([\"str\",\"str\"]):\n",
    "        print(\"Issue with argument - date \\n Please use string or list of strings in the format YYYYMMDD\")\n",
    "        return DF\n",
    "    file_list=GetAllFiles(date)\n",
    "    slowcontrol_dict_list=[]\n",
    "    for file in file_list:\n",
    "        if os.path.getsize(file) <=30000:\n",
    "            print(\"Skipping %s\"%(file))\n",
    "            continue\n",
    "        slowcontrol_dict_list.append(pd.DataFrame.from_dict(calib_dict_wtime(file)))\n",
    "        DF=pd.concat(slowcontrol_dict_list)\n",
    "    return DF\n"
   ]
  },
  {
   "cell_type": "code",
   "execution_count": 4,
   "metadata": {},
   "outputs": [
    {
     "name": "stdout",
     "output_type": "stream",
     "text": [
      "['A:/DATA\\\\20240522_slow_control.h5', 'A:/DATA\\\\20240522_slow_control_1.h5', 'A:/DATA\\\\20240522_slow_control_2.h5', 'A:/DATA\\\\20240522_slow_control_3.h5', 'A:/DATA\\\\20240522_slow_control_4.h5', 'A:/DATA\\\\20240522_slow_control_5.h5', 'A:/DATA\\\\20240522_slow_control_6.h5']\n"
     ]
    }
   ],
   "source": [
    "filedate=\"20240522\"\n",
    "filedes =\"slow_control\"\n",
    "datadir =env_var_dataloc\n",
    "\n",
    "filelist=glob.glob(\"%s%s*.h5\"%(datadir,filedate))\n",
    "print(filelist)"
   ]
  },
  {
   "cell_type": "code",
   "execution_count": 5,
   "metadata": {},
   "outputs": [
    {
     "ename": "NameError",
     "evalue": "name 'file' is not defined",
     "output_type": "error",
     "traceback": [
      "\u001b[1;31m---------------------------------------------------------------------------\u001b[0m",
      "\u001b[1;31mNameError\u001b[0m                                 Traceback (most recent call last)",
      "Cell \u001b[1;32mIn[5], line 1\u001b[0m\n\u001b[1;32m----> 1\u001b[0m getprologue_time(h5py\u001b[38;5;241m.\u001b[39mFile(\u001b[43mfile\u001b[49m))\n",
      "\u001b[1;31mNameError\u001b[0m: name 'file' is not defined"
     ]
    }
   ],
   "source": [
    "\n",
    "\n",
    "\n",
    "getprologue_time(h5py.File(file))"
   ]
  },
  {
   "cell_type": "markdown",
   "metadata": {},
   "source": [
    "## Read slowcontrol data - from 20231110"
   ]
  },
  {
   "cell_type": "code",
   "execution_count": 6,
   "metadata": {},
   "outputs": [
    {
     "name": "stdout",
     "output_type": "stream",
     "text": [
      "['A:/DATA\\\\20240520_slow_control.h5', 'A:/DATA\\\\20240520_slow_control_1.h5', 'A:/DATA\\\\20240520_slow_control_10.h5', 'A:/DATA\\\\20240520_slow_control_2.h5', 'A:/DATA\\\\20240520_slow_control_3.h5', 'A:/DATA\\\\20240520_slow_control_4.h5', 'A:/DATA\\\\20240520_slow_control_5.h5', 'A:/DATA\\\\20240520_slow_control_6.h5', 'A:/DATA\\\\20240520_slow_control_7.h5', 'A:/DATA\\\\20240520_slow_control_8.h5', 'A:/DATA\\\\20240520_slow_control_9.h5']\n",
      "A:/DATA\\20240520_slow_control.h5\n",
      "{'year': 2024, 'mon': 5, 'day': 20, 'hour': 9, 'min': 17, 'sec': 49} 2024-05-20 09:17:49\n",
      "Time offset 43665469.0\n",
      "dict_keys(['omb_daq/Flow_Meter', 'omb_daq/Inter', 'omb_daq/Liquid_Nitro_Valve', 'omb_daq/PID_Heater', 'omb_daq/Pressure_Cryostat', 'omb_daq/Pressure_Manifold', 'omb_daq/Pressure_Nitro', 'omb_daq/Slope', 'pid_info/Heater_State', 'pid_info/Nitro_Baseline', 'pid_info/Nitro_Weigth', 'pid_info/Target_Channel', 'pid_info/Target_Temperature', 'pid_info/Time', 'pid_info/Valve_State', 'tc08_daq/Cold_Finger', 'tc08_daq/Cryostat_Top', 'tc08_daq/Inter', 'tc08_daq/Nitro_Reservoir', 'tc08_daq/Slope', 'tc08_daq/Storage_1', 'tc08_daq/Storage_2', 'tc08_daq/Xe_Cell_Bottom', 'tc08_daq/Xe_Cell_Outside', 'tc08_daq/Xe_Cell_Top'])\n",
      "Not in channel list  Inter\n",
      "Not in channel list  Slope\n",
      "Not in channel list  Inter\n",
      "Not in channel list  Slope\n",
      "len 3\n",
      "A:/DATA\\20240520_slow_control_1.h5\n",
      "{'year': 2024, 'mon': 5, 'day': 20, 'hour': 9, 'min': 18, 'sec': 20} 2024-05-20 09:18:20\n",
      "Time offset 43665500.0\n",
      "dict_keys(['omb_daq/Flow_Meter', 'omb_daq/Inter', 'omb_daq/Liquid_Nitro_Valve', 'omb_daq/PID_Heater', 'omb_daq/Pressure_Cryostat', 'omb_daq/Pressure_Manifold', 'omb_daq/Pressure_Nitro', 'omb_daq/Slope', 'pid_info/Heater_State', 'pid_info/Nitro_Baseline', 'pid_info/Nitro_Weigth', 'pid_info/Target_Channel', 'pid_info/Target_Temperature', 'pid_info/Time', 'pid_info/Valve_State', 'tc08_daq/Cold_Finger', 'tc08_daq/Cryostat_Top', 'tc08_daq/Inter', 'tc08_daq/Nitro_Reservoir', 'tc08_daq/Slope', 'tc08_daq/Storage_1', 'tc08_daq/Storage_2', 'tc08_daq/Xe_Cell_Bottom', 'tc08_daq/Xe_Cell_Outside', 'tc08_daq/Xe_Cell_Top'])\n",
      "Not in channel list  Inter\n",
      "Not in channel list  Slope\n",
      "Not in channel list  Inter\n",
      "Not in channel list  Slope\n",
      "len 3\n",
      "A:/DATA\\20240520_slow_control_10.h5\n",
      "{'year': 2024, 'mon': 5, 'day': 20, 'hour': 21, 'min': 43, 'sec': 47} 2024-05-20 21:43:47\n",
      "Time offset 43710227.0\n",
      "dict_keys(['omb_daq/Flow_Meter', 'omb_daq/Inter', 'omb_daq/Liquid_Nitro_Valve', 'omb_daq/PID_Heater', 'omb_daq/Pressure_Cryostat', 'omb_daq/Pressure_Manifold', 'omb_daq/Pressure_Nitro', 'omb_daq/Slope', 'pid_info/Heater_State', 'pid_info/Nitro_Baseline', 'pid_info/Nitro_Weigth', 'pid_info/Target_Channel', 'pid_info/Target_Temperature', 'pid_info/Time', 'pid_info/Valve_State', 'tc08_daq/Cold_Finger', 'tc08_daq/Cryostat_Top', 'tc08_daq/Inter', 'tc08_daq/Nitro_Reservoir', 'tc08_daq/Slope', 'tc08_daq/Storage_1', 'tc08_daq/Storage_2', 'tc08_daq/Xe_Cell_Bottom', 'tc08_daq/Xe_Cell_Outside', 'tc08_daq/Xe_Cell_Top'])\n",
      "Not in channel list  Inter\n",
      "Not in channel list  Slope\n",
      "Not in channel list  Inter\n",
      "Not in channel list  Slope\n",
      "len 63701\n",
      "A:/DATA\\20240520_slow_control_2.h5\n",
      "{'year': 2024, 'mon': 5, 'day': 20, 'hour': 10, 'min': 45, 'sec': 59} 2024-05-20 10:45:59\n",
      "Time offset 43670759.0\n",
      "dict_keys(['omb_daq/Flow_Meter', 'omb_daq/Inter', 'omb_daq/Liquid_Nitro_Valve', 'omb_daq/PID_Heater', 'omb_daq/Pressure_Cryostat', 'omb_daq/Pressure_Manifold', 'omb_daq/Pressure_Nitro', 'omb_daq/Slope', 'pid_info/Heater_State', 'pid_info/Nitro_Baseline', 'pid_info/Nitro_Weigth', 'pid_info/Target_Channel', 'pid_info/Target_Temperature', 'pid_info/Time', 'pid_info/Valve_State', 'tc08_daq/Cold_Finger', 'tc08_daq/Cryostat_Top', 'tc08_daq/Inter', 'tc08_daq/Nitro_Reservoir', 'tc08_daq/Slope', 'tc08_daq/Storage_1', 'tc08_daq/Storage_2', 'tc08_daq/Xe_Cell_Bottom', 'tc08_daq/Xe_Cell_Outside', 'tc08_daq/Xe_Cell_Top'])\n",
      "Not in channel list  Inter\n",
      "Not in channel list  Slope\n",
      "Not in channel list  Inter\n",
      "Not in channel list  Slope\n",
      "len 1\n",
      "A:/DATA\\20240520_slow_control_3.h5\n",
      "{'year': 2024, 'mon': 5, 'day': 20, 'hour': 10, 'min': 46, 'sec': 40} 2024-05-20 10:46:40\n",
      "Time offset 43670800.0\n",
      "dict_keys(['omb_daq/Flow_Meter', 'omb_daq/Inter', 'omb_daq/Liquid_Nitro_Valve', 'omb_daq/PID_Heater', 'omb_daq/Pressure_Cryostat', 'omb_daq/Pressure_Manifold', 'omb_daq/Pressure_Nitro', 'omb_daq/Slope', 'pid_info/Heater_State', 'pid_info/Nitro_Baseline', 'pid_info/Nitro_Weigth', 'pid_info/Target_Channel', 'pid_info/Target_Temperature', 'pid_info/Time', 'pid_info/Valve_State', 'tc08_daq/Cold_Finger', 'tc08_daq/Cryostat_Top', 'tc08_daq/Inter', 'tc08_daq/Nitro_Reservoir', 'tc08_daq/Slope', 'tc08_daq/Storage_1', 'tc08_daq/Storage_2', 'tc08_daq/Xe_Cell_Bottom', 'tc08_daq/Xe_Cell_Outside', 'tc08_daq/Xe_Cell_Top'])\n",
      "Not in channel list  Inter\n",
      "Not in channel list  Slope\n",
      "Not in channel list  Inter\n",
      "Not in channel list  Slope\n",
      "len 2618\n",
      "A:/DATA\\20240520_slow_control_4.h5\n",
      "{'year': 2024, 'mon': 5, 'day': 20, 'hour': 12, 'min': 14, 'sec': 2} 2024-05-20 12:14:02\n",
      "Time offset 43676042.0\n",
      "dict_keys(['omb_daq/Flow_Meter', 'omb_daq/Inter', 'omb_daq/Liquid_Nitro_Valve', 'omb_daq/PID_Heater', 'omb_daq/Pressure_Cryostat', 'omb_daq/Pressure_Manifold', 'omb_daq/Pressure_Nitro', 'omb_daq/Slope', 'pid_info/Heater_State', 'pid_info/Nitro_Baseline', 'pid_info/Nitro_Weigth', 'pid_info/Target_Channel', 'pid_info/Target_Temperature', 'pid_info/Time', 'pid_info/Valve_State', 'tc08_daq/Cold_Finger', 'tc08_daq/Cryostat_Top', 'tc08_daq/Inter', 'tc08_daq/Nitro_Reservoir', 'tc08_daq/Slope', 'tc08_daq/Storage_1', 'tc08_daq/Storage_2', 'tc08_daq/Xe_Cell_Bottom', 'tc08_daq/Xe_Cell_Outside', 'tc08_daq/Xe_Cell_Top'])\n",
      "Not in channel list  Inter\n",
      "Not in channel list  Slope\n",
      "Not in channel list  Inter\n",
      "Not in channel list  Slope\n",
      "len 1174\n",
      "A:/DATA\\20240520_slow_control_5.h5\n",
      "{'year': 2024, 'mon': 5, 'day': 20, 'hour': 12, 'min': 53, 'sec': 17} 2024-05-20 12:53:17\n",
      "Time offset 43678397.0\n",
      "dict_keys(['omb_daq/Flow_Meter', 'omb_daq/Inter', 'omb_daq/Liquid_Nitro_Valve', 'omb_daq/PID_Heater', 'omb_daq/Pressure_Cryostat', 'omb_daq/Pressure_Manifold', 'omb_daq/Pressure_Nitro', 'omb_daq/Slope', 'pid_info/Heater_State', 'pid_info/Nitro_Baseline', 'pid_info/Nitro_Weigth', 'pid_info/Target_Channel', 'pid_info/Target_Temperature', 'pid_info/Time', 'pid_info/Valve_State', 'tc08_daq/Cold_Finger', 'tc08_daq/Cryostat_Top', 'tc08_daq/Inter', 'tc08_daq/Nitro_Reservoir', 'tc08_daq/Slope', 'tc08_daq/Storage_1', 'tc08_daq/Storage_2', 'tc08_daq/Xe_Cell_Bottom', 'tc08_daq/Xe_Cell_Outside', 'tc08_daq/Xe_Cell_Top'])\n",
      "Not in channel list  Inter\n",
      "Not in channel list  Slope\n",
      "Not in channel list  Inter\n",
      "Not in channel list  Slope\n",
      "len 6577\n",
      "A:/DATA\\20240520_slow_control_6.h5\n",
      "{'year': 2024, 'mon': 5, 'day': 20, 'hour': 16, 'min': 32, 'sec': 35} 2024-05-20 16:32:35\n",
      "Time offset 43691555.0\n",
      "dict_keys(['omb_daq/Flow_Meter', 'omb_daq/Inter', 'omb_daq/Liquid_Nitro_Valve', 'omb_daq/PID_Heater', 'omb_daq/Pressure_Cryostat', 'omb_daq/Pressure_Manifold', 'omb_daq/Pressure_Nitro', 'omb_daq/Slope', 'pid_info/Heater_State', 'pid_info/Nitro_Baseline', 'pid_info/Nitro_Weigth', 'pid_info/Target_Channel', 'pid_info/Target_Temperature', 'pid_info/Time', 'pid_info/Valve_State', 'tc08_daq/Cold_Finger', 'tc08_daq/Cryostat_Top', 'tc08_daq/Inter', 'tc08_daq/Nitro_Reservoir', 'tc08_daq/Slope', 'tc08_daq/Storage_1', 'tc08_daq/Storage_2', 'tc08_daq/Xe_Cell_Bottom', 'tc08_daq/Xe_Cell_Outside', 'tc08_daq/Xe_Cell_Top'])\n",
      "Not in channel list  Inter\n",
      "Not in channel list  Slope\n",
      "Not in channel list  Inter\n",
      "Not in channel list  Slope\n",
      "len 7362\n",
      "A:/DATA\\20240520_slow_control_7.h5\n",
      "{'year': 2024, 'mon': 5, 'day': 20, 'hour': 20, 'min': 38, 'sec': 8} 2024-05-20 20:38:08\n",
      "Time offset 43706288.0\n",
      "dict_keys(['omb_daq/Flow_Meter', 'omb_daq/Inter', 'omb_daq/Liquid_Nitro_Valve', 'omb_daq/Pressure_Cryostat', 'omb_daq/Pressure_Manifold', 'omb_daq/Pressure_Nitro', 'omb_daq/Slope', 'pid_info/Heater_State', 'pid_info/Nitro_Baseline', 'pid_info/Nitro_Weigth', 'pid_info/Target_Channel', 'pid_info/Target_Temperature', 'pid_info/Time', 'pid_info/Valve_State', 'tc08_daq/Cold_Finger', 'tc08_daq/Cryostat_Top', 'tc08_daq/Inter', 'tc08_daq/Nitro_Reservoir', 'tc08_daq/Slope', 'tc08_daq/Storage_1', 'tc08_daq/Storage_2', 'tc08_daq/Xe_Cell_Bottom', 'tc08_daq/Xe_Cell_Outside', 'tc08_daq/Xe_Cell_Top'])\n",
      "Not in channel list  Inter\n",
      "Not in channel list  Slope\n",
      "Not in channel list  Inter\n",
      "Not in channel list  Slope\n",
      "len 0\n",
      "A:/DATA\\20240520_slow_control_8.h5\n",
      "{'year': 2024, 'mon': 5, 'day': 20, 'hour': 20, 'min': 38, 'sec': 38} 2024-05-20 20:38:38\n",
      "Time offset 43706318.0\n",
      "dict_keys(['omb_daq/Flow_Meter', 'omb_daq/Inter', 'omb_daq/Liquid_Nitro_Valve', 'omb_daq/PID_Heater', 'omb_daq/Pressure_Cryostat', 'omb_daq/Pressure_Manifold', 'omb_daq/Pressure_Nitro', 'omb_daq/Slope', 'pid_info/Heater_State', 'pid_info/Nitro_Baseline', 'pid_info/Nitro_Weigth', 'pid_info/Target_Channel', 'pid_info/Target_Temperature', 'pid_info/Time', 'pid_info/Valve_State', 'tc08_daq/Cold_Finger', 'tc08_daq/Cryostat_Top', 'tc08_daq/Inter', 'tc08_daq/Nitro_Reservoir', 'tc08_daq/Slope', 'tc08_daq/Storage_1', 'tc08_daq/Storage_2', 'tc08_daq/Xe_Cell_Bottom', 'tc08_daq/Xe_Cell_Outside', 'tc08_daq/Xe_Cell_Top'])\n",
      "Not in channel list  Inter\n",
      "Not in channel list  Slope\n",
      "Not in channel list  Inter\n",
      "Not in channel list  Slope\n",
      "len 0\n"
     ]
    },
    {
     "ename": "ValueError",
     "evalue": "array length 0 does not match index length 1",
     "output_type": "error",
     "traceback": [
      "\u001b[1;31m---------------------------------------------------------------------------\u001b[0m",
      "\u001b[1;31mValueError\u001b[0m                                Traceback (most recent call last)",
      "Cell \u001b[1;32mIn[6], line 18\u001b[0m\n\u001b[0;32m     16\u001b[0m \u001b[38;5;28mprint\u001b[39m( \u001b[38;5;124m\"\u001b[39m\u001b[38;5;124mlen\u001b[39m\u001b[38;5;124m\"\u001b[39m,\u001b[38;5;28mlen\u001b[39m(datadict[\u001b[38;5;124m\"\u001b[39m\u001b[38;5;124mTime\u001b[39m\u001b[38;5;124m\"\u001b[39m]))\n\u001b[0;32m     17\u001b[0m \u001b[38;5;28;01mif\u001b[39;00m \u001b[38;5;28mlen\u001b[39m(datadict) \u001b[38;5;241m>\u001b[39m\u001b[38;5;241m=\u001b[39m\u001b[38;5;241m4\u001b[39m:\n\u001b[1;32m---> 18\u001b[0m     DFs\u001b[38;5;241m.\u001b[39mappend(\u001b[43mpd\u001b[49m\u001b[38;5;241;43m.\u001b[39;49m\u001b[43mDataFrame\u001b[49m\u001b[38;5;241;43m.\u001b[39;49m\u001b[43mfrom_dict\u001b[49m\u001b[43m(\u001b[49m\u001b[43mdatadict\u001b[49m\u001b[43m)\u001b[49m)\n\u001b[0;32m     19\u001b[0m \u001b[38;5;28;01melse\u001b[39;00m:\n\u001b[0;32m     20\u001b[0m     \u001b[38;5;28mprint\u001b[39m(\u001b[38;5;28mlen\u001b[39m(pd\u001b[38;5;241m.\u001b[39mDataFrame\u001b[38;5;241m.\u001b[39mfrom_dict(datadict)), \u001b[38;5;28mtype\u001b[39m(pd\u001b[38;5;241m.\u001b[39mDataFrame\u001b[38;5;241m.\u001b[39mfrom_dict(datadict)))\n",
      "File \u001b[1;32mc:\\Python\\3_114\\Lib\\site-packages\\pandas\\core\\frame.py:1760\u001b[0m, in \u001b[0;36mDataFrame.from_dict\u001b[1;34m(cls, data, orient, dtype, columns)\u001b[0m\n\u001b[0;32m   1754\u001b[0m     \u001b[38;5;28;01mraise\u001b[39;00m \u001b[38;5;167;01mValueError\u001b[39;00m(\n\u001b[0;32m   1755\u001b[0m         \u001b[38;5;124mf\u001b[39m\u001b[38;5;124m\"\u001b[39m\u001b[38;5;124mExpected \u001b[39m\u001b[38;5;124m'\u001b[39m\u001b[38;5;124mindex\u001b[39m\u001b[38;5;124m'\u001b[39m\u001b[38;5;124m, \u001b[39m\u001b[38;5;124m'\u001b[39m\u001b[38;5;124mcolumns\u001b[39m\u001b[38;5;124m'\u001b[39m\u001b[38;5;124m or \u001b[39m\u001b[38;5;124m'\u001b[39m\u001b[38;5;124mtight\u001b[39m\u001b[38;5;124m'\u001b[39m\u001b[38;5;124m for orient parameter. \u001b[39m\u001b[38;5;124m\"\u001b[39m\n\u001b[0;32m   1756\u001b[0m         \u001b[38;5;124mf\u001b[39m\u001b[38;5;124m\"\u001b[39m\u001b[38;5;124mGot \u001b[39m\u001b[38;5;124m'\u001b[39m\u001b[38;5;132;01m{\u001b[39;00morient\u001b[38;5;132;01m}\u001b[39;00m\u001b[38;5;124m'\u001b[39m\u001b[38;5;124m instead\u001b[39m\u001b[38;5;124m\"\u001b[39m\n\u001b[0;32m   1757\u001b[0m     )\n\u001b[0;32m   1759\u001b[0m \u001b[38;5;28;01mif\u001b[39;00m orient \u001b[38;5;241m!=\u001b[39m \u001b[38;5;124m\"\u001b[39m\u001b[38;5;124mtight\u001b[39m\u001b[38;5;124m\"\u001b[39m:\n\u001b[1;32m-> 1760\u001b[0m     \u001b[38;5;28;01mreturn\u001b[39;00m \u001b[38;5;28;43mcls\u001b[39;49m\u001b[43m(\u001b[49m\u001b[43mdata\u001b[49m\u001b[43m,\u001b[49m\u001b[43m \u001b[49m\u001b[43mindex\u001b[49m\u001b[38;5;241;43m=\u001b[39;49m\u001b[43mindex\u001b[49m\u001b[43m,\u001b[49m\u001b[43m \u001b[49m\u001b[43mcolumns\u001b[49m\u001b[38;5;241;43m=\u001b[39;49m\u001b[43mcolumns\u001b[49m\u001b[43m,\u001b[49m\u001b[43m \u001b[49m\u001b[43mdtype\u001b[49m\u001b[38;5;241;43m=\u001b[39;49m\u001b[43mdtype\u001b[49m\u001b[43m)\u001b[49m\n\u001b[0;32m   1761\u001b[0m \u001b[38;5;28;01melse\u001b[39;00m:\n\u001b[0;32m   1762\u001b[0m     realdata \u001b[38;5;241m=\u001b[39m data[\u001b[38;5;124m\"\u001b[39m\u001b[38;5;124mdata\u001b[39m\u001b[38;5;124m\"\u001b[39m]\n",
      "File \u001b[1;32mc:\\Python\\3_114\\Lib\\site-packages\\pandas\\core\\frame.py:709\u001b[0m, in \u001b[0;36mDataFrame.__init__\u001b[1;34m(self, data, index, columns, dtype, copy)\u001b[0m\n\u001b[0;32m    703\u001b[0m     mgr \u001b[38;5;241m=\u001b[39m \u001b[38;5;28mself\u001b[39m\u001b[38;5;241m.\u001b[39m_init_mgr(\n\u001b[0;32m    704\u001b[0m         data, axes\u001b[38;5;241m=\u001b[39m{\u001b[38;5;124m\"\u001b[39m\u001b[38;5;124mindex\u001b[39m\u001b[38;5;124m\"\u001b[39m: index, \u001b[38;5;124m\"\u001b[39m\u001b[38;5;124mcolumns\u001b[39m\u001b[38;5;124m\"\u001b[39m: columns}, dtype\u001b[38;5;241m=\u001b[39mdtype, copy\u001b[38;5;241m=\u001b[39mcopy\n\u001b[0;32m    705\u001b[0m     )\n\u001b[0;32m    707\u001b[0m \u001b[38;5;28;01melif\u001b[39;00m \u001b[38;5;28misinstance\u001b[39m(data, \u001b[38;5;28mdict\u001b[39m):\n\u001b[0;32m    708\u001b[0m     \u001b[38;5;66;03m# GH#38939 de facto copy defaults to False only in non-dict cases\u001b[39;00m\n\u001b[1;32m--> 709\u001b[0m     mgr \u001b[38;5;241m=\u001b[39m \u001b[43mdict_to_mgr\u001b[49m\u001b[43m(\u001b[49m\u001b[43mdata\u001b[49m\u001b[43m,\u001b[49m\u001b[43m \u001b[49m\u001b[43mindex\u001b[49m\u001b[43m,\u001b[49m\u001b[43m \u001b[49m\u001b[43mcolumns\u001b[49m\u001b[43m,\u001b[49m\u001b[43m \u001b[49m\u001b[43mdtype\u001b[49m\u001b[38;5;241;43m=\u001b[39;49m\u001b[43mdtype\u001b[49m\u001b[43m,\u001b[49m\u001b[43m \u001b[49m\u001b[43mcopy\u001b[49m\u001b[38;5;241;43m=\u001b[39;49m\u001b[43mcopy\u001b[49m\u001b[43m,\u001b[49m\u001b[43m \u001b[49m\u001b[43mtyp\u001b[49m\u001b[38;5;241;43m=\u001b[39;49m\u001b[43mmanager\u001b[49m\u001b[43m)\u001b[49m\n\u001b[0;32m    710\u001b[0m \u001b[38;5;28;01melif\u001b[39;00m \u001b[38;5;28misinstance\u001b[39m(data, ma\u001b[38;5;241m.\u001b[39mMaskedArray):\n\u001b[0;32m    711\u001b[0m     \u001b[38;5;28;01mfrom\u001b[39;00m \u001b[38;5;21;01mnumpy\u001b[39;00m\u001b[38;5;21;01m.\u001b[39;00m\u001b[38;5;21;01mma\u001b[39;00m \u001b[38;5;28;01mimport\u001b[39;00m mrecords\n",
      "File \u001b[1;32mc:\\Python\\3_114\\Lib\\site-packages\\pandas\\core\\internals\\construction.py:481\u001b[0m, in \u001b[0;36mdict_to_mgr\u001b[1;34m(data, index, columns, dtype, typ, copy)\u001b[0m\n\u001b[0;32m    477\u001b[0m     \u001b[38;5;28;01melse\u001b[39;00m:\n\u001b[0;32m    478\u001b[0m         \u001b[38;5;66;03m# dtype check to exclude e.g. range objects, scalars\u001b[39;00m\n\u001b[0;32m    479\u001b[0m         arrays \u001b[38;5;241m=\u001b[39m [x\u001b[38;5;241m.\u001b[39mcopy() \u001b[38;5;28;01mif\u001b[39;00m \u001b[38;5;28mhasattr\u001b[39m(x, \u001b[38;5;124m\"\u001b[39m\u001b[38;5;124mdtype\u001b[39m\u001b[38;5;124m\"\u001b[39m) \u001b[38;5;28;01melse\u001b[39;00m x \u001b[38;5;28;01mfor\u001b[39;00m x \u001b[38;5;129;01min\u001b[39;00m arrays]\n\u001b[1;32m--> 481\u001b[0m \u001b[38;5;28;01mreturn\u001b[39;00m \u001b[43marrays_to_mgr\u001b[49m\u001b[43m(\u001b[49m\u001b[43marrays\u001b[49m\u001b[43m,\u001b[49m\u001b[43m \u001b[49m\u001b[43mcolumns\u001b[49m\u001b[43m,\u001b[49m\u001b[43m \u001b[49m\u001b[43mindex\u001b[49m\u001b[43m,\u001b[49m\u001b[43m \u001b[49m\u001b[43mdtype\u001b[49m\u001b[38;5;241;43m=\u001b[39;49m\u001b[43mdtype\u001b[49m\u001b[43m,\u001b[49m\u001b[43m \u001b[49m\u001b[43mtyp\u001b[49m\u001b[38;5;241;43m=\u001b[39;49m\u001b[43mtyp\u001b[49m\u001b[43m,\u001b[49m\u001b[43m \u001b[49m\u001b[43mconsolidate\u001b[49m\u001b[38;5;241;43m=\u001b[39;49m\u001b[43mcopy\u001b[49m\u001b[43m)\u001b[49m\n",
      "File \u001b[1;32mc:\\Python\\3_114\\Lib\\site-packages\\pandas\\core\\internals\\construction.py:115\u001b[0m, in \u001b[0;36marrays_to_mgr\u001b[1;34m(arrays, columns, index, dtype, verify_integrity, typ, consolidate)\u001b[0m\n\u001b[0;32m    112\u001b[0m \u001b[38;5;28;01mif\u001b[39;00m verify_integrity:\n\u001b[0;32m    113\u001b[0m     \u001b[38;5;66;03m# figure out the index, if necessary\u001b[39;00m\n\u001b[0;32m    114\u001b[0m     \u001b[38;5;28;01mif\u001b[39;00m index \u001b[38;5;129;01mis\u001b[39;00m \u001b[38;5;28;01mNone\u001b[39;00m:\n\u001b[1;32m--> 115\u001b[0m         index \u001b[38;5;241m=\u001b[39m \u001b[43m_extract_index\u001b[49m\u001b[43m(\u001b[49m\u001b[43marrays\u001b[49m\u001b[43m)\u001b[49m\n\u001b[0;32m    116\u001b[0m     \u001b[38;5;28;01melse\u001b[39;00m:\n\u001b[0;32m    117\u001b[0m         index \u001b[38;5;241m=\u001b[39m ensure_index(index)\n",
      "File \u001b[1;32mc:\\Python\\3_114\\Lib\\site-packages\\pandas\\core\\internals\\construction.py:668\u001b[0m, in \u001b[0;36m_extract_index\u001b[1;34m(data)\u001b[0m\n\u001b[0;32m    663\u001b[0m     \u001b[38;5;28;01mif\u001b[39;00m lengths[\u001b[38;5;241m0\u001b[39m] \u001b[38;5;241m!=\u001b[39m \u001b[38;5;28mlen\u001b[39m(index):\n\u001b[0;32m    664\u001b[0m         msg \u001b[38;5;241m=\u001b[39m (\n\u001b[0;32m    665\u001b[0m             \u001b[38;5;124mf\u001b[39m\u001b[38;5;124m\"\u001b[39m\u001b[38;5;124marray length \u001b[39m\u001b[38;5;132;01m{\u001b[39;00mlengths[\u001b[38;5;241m0\u001b[39m]\u001b[38;5;132;01m}\u001b[39;00m\u001b[38;5;124m does not match index \u001b[39m\u001b[38;5;124m\"\u001b[39m\n\u001b[0;32m    666\u001b[0m             \u001b[38;5;124mf\u001b[39m\u001b[38;5;124m\"\u001b[39m\u001b[38;5;124mlength \u001b[39m\u001b[38;5;132;01m{\u001b[39;00m\u001b[38;5;28mlen\u001b[39m(index)\u001b[38;5;132;01m}\u001b[39;00m\u001b[38;5;124m\"\u001b[39m\n\u001b[0;32m    667\u001b[0m         )\n\u001b[1;32m--> 668\u001b[0m         \u001b[38;5;28;01mraise\u001b[39;00m \u001b[38;5;167;01mValueError\u001b[39;00m(msg)\n\u001b[0;32m    669\u001b[0m \u001b[38;5;28;01melse\u001b[39;00m:\n\u001b[0;32m    670\u001b[0m     index \u001b[38;5;241m=\u001b[39m default_index(lengths[\u001b[38;5;241m0\u001b[39m])\n",
      "\u001b[1;31mValueError\u001b[0m: array length 0 does not match index length 1"
     ]
    }
   ],
   "source": [
    "filedate=\"20240520\"\n",
    "filedes =\"slow_control\"\n",
    "datadir =env_var_dataloc\n",
    "\n",
    "filelist=glob.glob(\"%s%s*.h5\"%(datadir,filedate))\n",
    "\n",
    "print(filelist)\n",
    "\n",
    "datadicts=[]\n",
    "DFs=[]\n",
    "for filename in filelist:\n",
    "    datasets = []\n",
    "    print(filename)\n",
    "    datadict=calib_dict_wtime(filename)\n",
    "    datadicts.append(datadict)\n",
    "    print( \"len\",len(datadict[\"Time\"]))\n",
    "    if len(datadict) >=4:\n",
    "        DFs.append(pd.DataFrame.from_dict(datadict))\n",
    "    else:\n",
    "        print(len(pd.DataFrame.from_dict(datadict)), type(pd.DataFrame.from_dict(datadict)))\n",
    "\n",
    "    \n",
    "\n",
    "\n",
    "\n",
    "\n",
    "\n"
   ]
  },
  {
   "cell_type": "code",
   "execution_count": null,
   "metadata": {},
   "outputs": [
    {
     "data": {
      "text/plain": [
       "{'Flow_Meter': 0        0.001879\n",
       " 1        0.001832\n",
       " 2        0.001666\n",
       " 3        0.001709\n",
       " 4        0.001470\n",
       "            ...   \n",
       " 63696    0.001629\n",
       " 63697    0.001448\n",
       " 63698    0.001731\n",
       " 63699    0.001675\n",
       " 63700    0.001734\n",
       " Name: 0, Length: 63701, dtype: float64,\n",
       " 'Liquid_Nitro_Valve': 0        0.0\n",
       " 1        0.0\n",
       " 2        0.0\n",
       " 3        0.0\n",
       " 4        0.0\n",
       "         ... \n",
       " 63696    0.0\n",
       " 63697    0.0\n",
       " 63698    0.0\n",
       " 63699    0.0\n",
       " 63700    0.0\n",
       " Name: 0, Length: 63701, dtype: float64,\n",
       " 'PID_Heater': 0        0.0\n",
       " 1        0.0\n",
       " 2        0.0\n",
       " 3        0.0\n",
       " 4        0.0\n",
       "         ... \n",
       " 63696    0.0\n",
       " 63697    0.0\n",
       " 63698    0.0\n",
       " 63699    0.0\n",
       " 63700    0.0\n",
       " Name: 0, Length: 63701, dtype: float64,\n",
       " 'Pressure_Cryostat': 0        4.585524\n",
       " 1        4.585149\n",
       " 2        4.585608\n",
       " 3        4.585421\n",
       " 4        4.587227\n",
       "            ...   \n",
       " 63696    6.570799\n",
       " 63697    6.569961\n",
       " 63698    6.570638\n",
       " 63699    6.570001\n",
       " 63700    6.570621\n",
       " Name: 0, Length: 63701, dtype: float64,\n",
       " 'Pressure_Manifold': 0         9.852285\n",
       " 1         9.825137\n",
       " 2         9.847517\n",
       " 3         9.893639\n",
       " 4         9.837105\n",
       "            ...    \n",
       " 63696     9.822899\n",
       " 63697     9.792929\n",
       " 63698    10.842746\n",
       " 63699    10.798959\n",
       " 63700     9.811709\n",
       " Name: 0, Length: 63701, dtype: float64,\n",
       " 'Pressure_Nitro': 0        0.102148\n",
       " 1        0.097720\n",
       " 2        0.097333\n",
       " 3        0.097425\n",
       " 4        0.097930\n",
       "            ...   \n",
       " 63696    0.100405\n",
       " 63697    0.100269\n",
       " 63698    0.100210\n",
       " 63699    0.107641\n",
       " 63700    0.104916\n",
       " Name: 0, Length: 63701, dtype: float64,\n",
       " 'Heater_State': 0        0.0\n",
       " 1        0.0\n",
       " 2        0.0\n",
       " 3        0.0\n",
       " 4        0.0\n",
       "         ... \n",
       " 63696    0.0\n",
       " 63697    0.0\n",
       " 63698    0.0\n",
       " 63699    0.0\n",
       " 63700    0.0\n",
       " Name: 0, Length: 63701, dtype: float64,\n",
       " 'Nitro_Baseline': 0        120.0\n",
       " 1        120.0\n",
       " 2        120.0\n",
       " 3        120.0\n",
       " 4        120.0\n",
       "          ...  \n",
       " 63696    120.0\n",
       " 63697    120.0\n",
       " 63698    120.0\n",
       " 63699    120.0\n",
       " 63700    120.0\n",
       " Name: 0, Length: 63701, dtype: float64,\n",
       " 'Nitro_Weigth': 0        185.2\n",
       " 1        185.2\n",
       " 2        185.2\n",
       " 3        185.2\n",
       " 4        185.2\n",
       "          ...  \n",
       " 63696      0.0\n",
       " 63697      0.0\n",
       " 63698      0.0\n",
       " 63699      0.0\n",
       " 63700      0.0\n",
       " Name: 0, Length: 63701, dtype: float64,\n",
       " 'Target_Channel': 0        1.0\n",
       " 1        1.0\n",
       " 2        1.0\n",
       " 3        1.0\n",
       " 4        1.0\n",
       "         ... \n",
       " 63696    0.0\n",
       " 63697    0.0\n",
       " 63698    0.0\n",
       " 63699    0.0\n",
       " 63700    0.0\n",
       " Name: 0, Length: 63701, dtype: float64,\n",
       " 'Target_Temperature': 0        160.0\n",
       " 1        160.0\n",
       " 2        160.0\n",
       " 3        160.0\n",
       " 4        160.0\n",
       "          ...  \n",
       " 63696    180.0\n",
       " 63697    180.0\n",
       " 63698    180.0\n",
       " 63699    180.0\n",
       " 63700    180.0\n",
       " Name: 0, Length: 63701, dtype: float64,\n",
       " 'Time': array([ 78227,  78229,  78231, ..., 205623, 205625, 205627]),\n",
       " 'Valve_State': 0        0.0\n",
       " 1        0.0\n",
       " 2        0.0\n",
       " 3        0.0\n",
       " 4        0.0\n",
       "         ... \n",
       " 63696    0.0\n",
       " 63697    0.0\n",
       " 63698    0.0\n",
       " 63699    0.0\n",
       " 63700    0.0\n",
       " Name: 0, Length: 63701, dtype: float64,\n",
       " 'Cold_Finger': 0        180.840044\n",
       " 1        180.850242\n",
       " 2        180.860257\n",
       " 3        180.870439\n",
       " 4        180.875561\n",
       "             ...    \n",
       " 63696    294.043196\n",
       " 63697    294.046832\n",
       " 63698    294.039529\n",
       " 63699    294.047105\n",
       " 63700    294.054408\n",
       " Name: 0, Length: 63701, dtype: float64,\n",
       " 'Cryostat_Top': 0        255.911623\n",
       " 1        255.911623\n",
       " 2        255.903546\n",
       " 3        255.899568\n",
       " 4        255.899568\n",
       "             ...    \n",
       " 63696    294.787586\n",
       " 63697    294.794874\n",
       " 63698    294.794874\n",
       " 63699    294.795147\n",
       " 63700    294.802465\n",
       " Name: 0, Length: 63701, dtype: float64,\n",
       " 'Nitro_Reservoir': 0        125.414017\n",
       " 1        125.549582\n",
       " 2        125.646139\n",
       " 3        125.775225\n",
       " 4        125.891429\n",
       "             ...    \n",
       " 63696    292.691939\n",
       " 63697    292.688216\n",
       " 63698    292.691939\n",
       " 63699    292.688519\n",
       " 63700    292.695936\n",
       " Name: 0, Length: 63701, dtype: float64,\n",
       " 'Storage_1': 0        296.144283\n",
       " 1        296.151564\n",
       " 2        296.146548\n",
       " 3        296.136850\n",
       " 4        296.144131\n",
       "             ...    \n",
       " 63696    296.874426\n",
       " 63697    296.881677\n",
       " 63698    296.869561\n",
       " 63699    296.874667\n",
       " 63700    296.874667\n",
       " Name: 0, Length: 63701, dtype: float64,\n",
       " 'Storage_2': 0        295.556061\n",
       " 1        295.565857\n",
       " 2        295.558350\n",
       " 3        295.558350\n",
       " 4        295.560791\n",
       "             ...    \n",
       " 63696    295.914307\n",
       " 63697    295.916748\n",
       " 63698    295.909393\n",
       " 63699    295.921906\n",
       " 63700    295.914551\n",
       " Name: 0, Length: 63701, dtype: float64,\n",
       " 'Xe_Cell_Bottom': 0        190.669830\n",
       " 1        190.684692\n",
       " 2        190.654785\n",
       " 3        190.654785\n",
       " 4        190.659729\n",
       "             ...    \n",
       " 63696    293.981293\n",
       " 63697    293.988617\n",
       " 63698    293.981293\n",
       " 63699    293.988922\n",
       " 63700    293.988922\n",
       " Name: 0, Length: 63701, dtype: float64,\n",
       " 'Xe_Cell_Outside': 0        189.065857\n",
       " 1        189.070816\n",
       " 2        189.070602\n",
       " 3        189.055756\n",
       " 4        189.060699\n",
       "             ...    \n",
       " 63696    293.562866\n",
       " 63697    293.570221\n",
       " 63698    293.570221\n",
       " 63699    293.570496\n",
       " 63700    293.570496\n",
       " Name: 0, Length: 63701, dtype: float64,\n",
       " 'Xe_Cell_Top': 0        195.623520\n",
       " 1        195.628296\n",
       " 2        195.618546\n",
       " 3        195.618546\n",
       " 4        195.618546\n",
       "             ...    \n",
       " 63696    293.739044\n",
       " 63697    293.742737\n",
       " 63698    293.731720\n",
       " 63699    293.735657\n",
       " 63700    293.739349\n",
       " Name: 0, Length: 63701, dtype: float64}"
      ]
     },
     "execution_count": 22,
     "metadata": {},
     "output_type": "execute_result"
    }
   ],
   "source": [
    "\n",
    "\n",
    "\n",
    "\n"
   ]
  },
  {
   "cell_type": "code",
   "execution_count": null,
   "metadata": {},
   "outputs": [],
   "source": [
    "\n",
    "def Get_dict_from_hdf5(file_name):\n",
    "    with h5py.File(file_name, 'r') as f:\n",
    "        dataset_names =[]\n",
    "        \n",
    "        for i in f.keys():\n",
    "            for j in f[i].keys():\n",
    "                dataset_names.append(i+\"/\"+j)\n",
    "        \n",
    "        \n",
    "        dfs = {name: pd.DataFrame(f[name][:])   for name in dataset_names }\n",
    "\n",
    "    return dfs"
   ]
  },
  {
   "cell_type": "code",
   "execution_count": null,
   "metadata": {},
   "outputs": [
    {
     "name": "stdout",
     "output_type": "stream",
     "text": [
      "[0.00148535 0.00168085 0.00175714 ... 0.00133562 0.0014286  0.00177336]\n",
      "[0. 0. 0. ... 0. 0. 0.]\n",
      "[250.96560669 250.94921875 250.95332336 ... 289.03579712 289.03234863\n",
      " 289.02877808]\n"
     ]
    }
   ],
   "source": [
    "f = h5py.File(file,'r')\n",
    "for i in f.keys():\n",
    "    for j in f[i].keys():\n",
    "        print(f[i+\"/\"+j][:])\n",
    "        break"
   ]
  },
  {
   "cell_type": "markdown",
   "metadata": {},
   "source": [
    "## Read slowcontrol data - from 20240606"
   ]
  },
  {
   "cell_type": "code",
   "execution_count": null,
   "metadata": {},
   "outputs": [
    {
     "name": "stdout",
     "output_type": "stream",
     "text": [
      "['A:/DATA\\\\20240605_slow_control.h5', 'A:/DATA\\\\20240605_slow_control_1.h5', 'A:/DATA\\\\20240605_slow_control_2.h5', 'A:/DATA\\\\20240605_slow_control_3.h5', 'A:/DATA\\\\20240605_slow_control_4.h5', 'A:/DATA\\\\20240605_slow_control_5.h5', 'A:/DATA\\\\20240605_slow_control_6.h5', 'A:/DATA\\\\20240606_slow_control.h5', 'A:/DATA\\\\20240606_slow_control_1.h5', 'A:/DATA\\\\20240606_slow_control_2.h5', 'A:/DATA\\\\20240606_slow_control_3.h5', 'A:/DATA\\\\20240606_slow_control_4.h5']\n",
      "Time offset 45047858.0\n",
      "dict_keys(['omb_daq/Flow_Meter', 'omb_daq/Inter', 'omb_daq/Liquid_Nitro_Valve', 'omb_daq/PID_Heater', 'omb_daq/Pressure_Cryostat', 'omb_daq/Pressure_Manifold', 'omb_daq/Pressure_Nitro', 'omb_daq/Slope', 'pid_info/Heater_State', 'pid_info/Nitro_Baseline', 'pid_info/Nitro_Weigth', 'pid_info/Target_Channel', 'pid_info/Target_Temperature', 'pid_info/Time', 'pid_info/Valve_State', 'tc08_daq/Cold_Finger', 'tc08_daq/Cryostat_Top', 'tc08_daq/Inter', 'tc08_daq/Nitro_Reservoir', 'tc08_daq/Slope', 'tc08_daq/Storage_1', 'tc08_daq/Storage_2', 'tc08_daq/Xe_Cell_Bottom', 'tc08_daq/Xe_Cell_Outside', 'tc08_daq/Xe_Cell_Top'])\n",
      "Not in channel list  Inter\n",
      "Not in channel list  Slope\n",
      "Not in channel list  Inter\n",
      "Not in channel list  Slope\n",
      "Time offset 45053541.0\n",
      "dict_keys(['omb_daq/Flow_Meter', 'omb_daq/Inter', 'omb_daq/Liquid_Nitro_Valve', 'omb_daq/PID_Heater', 'omb_daq/Pressure_Cryostat', 'omb_daq/Pressure_Manifold', 'omb_daq/Pressure_Nitro', 'omb_daq/Slope', 'pid_info/Heater_State', 'pid_info/Nitro_Baseline', 'pid_info/Nitro_Weigth', 'pid_info/Target_Channel', 'pid_info/Target_Temperature', 'pid_info/Time', 'pid_info/Valve_State', 'tc08_daq/Cold_Finger', 'tc08_daq/Cryostat_Top', 'tc08_daq/Inter', 'tc08_daq/Nitro_Reservoir', 'tc08_daq/Slope', 'tc08_daq/Storage_1', 'tc08_daq/Storage_2', 'tc08_daq/Xe_Cell_Bottom', 'tc08_daq/Xe_Cell_Outside', 'tc08_daq/Xe_Cell_Top'])\n",
      "Not in channel list  Inter\n",
      "Not in channel list  Slope\n",
      "Not in channel list  Inter\n",
      "Not in channel list  Slope\n",
      "Time offset 45059330.0\n",
      "dict_keys(['omb_daq/Flow_Meter', 'omb_daq/Inter', 'omb_daq/Liquid_Nitro_Valve', 'omb_daq/PID_Heater', 'omb_daq/Pressure_Cryostat', 'omb_daq/Pressure_Manifold', 'omb_daq/Pressure_Nitro', 'omb_daq/Slope', 'pid_info/Heater_State', 'pid_info/Nitro_Baseline', 'pid_info/Nitro_Weigth', 'pid_info/Target_Channel', 'pid_info/Target_Temperature', 'pid_info/Time', 'pid_info/Valve_State', 'tc08_daq/Cold_Finger', 'tc08_daq/Cryostat_Top', 'tc08_daq/Inter', 'tc08_daq/Nitro_Reservoir', 'tc08_daq/Slope', 'tc08_daq/Storage_1', 'tc08_daq/Storage_2', 'tc08_daq/Xe_Cell_Bottom', 'tc08_daq/Xe_Cell_Outside', 'tc08_daq/Xe_Cell_Top'])\n",
      "Not in channel list  Inter\n",
      "Not in channel list  Slope\n",
      "Not in channel list  Inter\n",
      "Not in channel list  Slope\n",
      "Time offset 45061054.0\n",
      "dict_keys(['omb_daq/Flow_Meter', 'omb_daq/Inter', 'omb_daq/Liquid_Nitro_Valve', 'omb_daq/PID_Heater', 'omb_daq/Pressure_Cryostat', 'omb_daq/Pressure_Manifold', 'omb_daq/Pressure_Nitro', 'omb_daq/Slope', 'pid_info/Heater_State', 'pid_info/Nitro_Baseline', 'pid_info/Nitro_Weigth', 'pid_info/Target_Channel', 'pid_info/Target_Temperature', 'pid_info/Time', 'pid_info/Valve_State', 'tc08_daq/Cold_Finger', 'tc08_daq/Cryostat_Top', 'tc08_daq/Inter', 'tc08_daq/Nitro_Reservoir', 'tc08_daq/Slope', 'tc08_daq/Storage_1', 'tc08_daq/Storage_2', 'tc08_daq/Xe_Cell_Bottom', 'tc08_daq/Xe_Cell_Outside', 'tc08_daq/Xe_Cell_Top'])\n",
      "Not in channel list  Inter\n",
      "Not in channel list  Slope\n",
      "Not in channel list  Inter\n",
      "Not in channel list  Slope\n",
      "Time offset 45064753.0\n",
      "dict_keys(['omb_daq/Flow_Meter', 'omb_daq/Inter', 'omb_daq/Liquid_Nitro_Valve', 'omb_daq/PID_Heater', 'omb_daq/Pressure_Cryostat', 'omb_daq/Pressure_Manifold', 'omb_daq/Pressure_Nitro', 'omb_daq/Slope', 'pid_info/Heater_State', 'pid_info/Nitro_Baseline', 'pid_info/Nitro_Weigth', 'pid_info/Target_Channel', 'pid_info/Target_Temperature', 'pid_info/Time', 'pid_info/Valve_State', 'tc08_daq/Cold_Finger', 'tc08_daq/Cryostat_Top', 'tc08_daq/Inter', 'tc08_daq/Nitro_Reservoir', 'tc08_daq/Slope', 'tc08_daq/Storage_1', 'tc08_daq/Storage_2', 'tc08_daq/Xe_Cell_Bottom', 'tc08_daq/Xe_Cell_Outside', 'tc08_daq/Xe_Cell_Top'])\n",
      "Not in channel list  Inter\n",
      "Not in channel list  Slope\n",
      "Not in channel list  Inter\n",
      "Not in channel list  Slope\n",
      "Time offset 45098895.0\n",
      "dict_keys(['omb_daq/Flow_Meter', 'omb_daq/Inter', 'omb_daq/Liquid_Nitro_Valve', 'omb_daq/PID_Heater', 'omb_daq/Pressure_Cryostat', 'omb_daq/Pressure_Manifold', 'omb_daq/Pressure_Nitro', 'omb_daq/Slope', 'pid_info/Heater_State', 'pid_info/Nitro_Baseline', 'pid_info/Nitro_Weigth', 'pid_info/Target_Channel', 'pid_info/Target_Temperature', 'pid_info/Time', 'pid_info/Valve_State', 'tc08_daq/Cold_Finger', 'tc08_daq/Cryostat_Top', 'tc08_daq/Inter', 'tc08_daq/Nitro_Reservoir', 'tc08_daq/Slope', 'tc08_daq/Storage_1', 'tc08_daq/Storage_2', 'tc08_daq/Xe_Cell_Bottom', 'tc08_daq/Xe_Cell_Outside', 'tc08_daq/Xe_Cell_Top'])\n",
      "Not in channel list  Inter\n",
      "Not in channel list  Slope\n",
      "Not in channel list  Inter\n",
      "Not in channel list  Slope\n",
      "Time offset 45099995.0\n",
      "dict_keys(['omb_daq/Flow_Meter', 'omb_daq/Inter', 'omb_daq/Liquid_Nitro_Valve', 'omb_daq/PID_Heater', 'omb_daq/Pressure_Cryostat', 'omb_daq/Pressure_Manifold', 'omb_daq/Pressure_Nitro', 'omb_daq/Slope', 'pid_info/Heater_State', 'pid_info/Nitro_Baseline', 'pid_info/Nitro_Weigth', 'pid_info/Target_Channel', 'pid_info/Target_Temperature', 'pid_info/Time', 'pid_info/Valve_State', 'tc08_daq/Cold_Finger', 'tc08_daq/Cryostat_Top', 'tc08_daq/Inter', 'tc08_daq/Nitro_Reservoir', 'tc08_daq/Slope', 'tc08_daq/Storage_1', 'tc08_daq/Storage_2', 'tc08_daq/Xe_Cell_Bottom', 'tc08_daq/Xe_Cell_Outside', 'tc08_daq/Xe_Cell_Top'])\n",
      "Not in channel list  Inter\n",
      "Not in channel list  Slope\n",
      "Not in channel list  Inter\n",
      "Not in channel list  Slope\n",
      "Time offset 45135887.0\n",
      "dict_keys(['omb_daq/Flow_Meter', 'omb_daq/Inter', 'omb_daq/Liquid_Nitro_Valve', 'omb_daq/PID_Heater', 'omb_daq/Pressure_Cryostat', 'omb_daq/Pressure_Manifold', 'omb_daq/Pressure_Nitro', 'omb_daq/Slope', 'pid_info/Heater_State', 'pid_info/Nitro_Baseline', 'pid_info/Nitro_Weigth', 'pid_info/Target_Channel', 'pid_info/Target_Temperature', 'pid_info/Time', 'pid_info/Valve_State', 'tc08_daq/Cold_Finger', 'tc08_daq/Cryostat_Top', 'tc08_daq/Inter', 'tc08_daq/Nitro_Reservoir', 'tc08_daq/Slope', 'tc08_daq/Storage_1', 'tc08_daq/Storage_2', 'tc08_daq/Xe_Cell_Bottom', 'tc08_daq/Xe_Cell_Outside', 'tc08_daq/Xe_Cell_Top'])\n",
      "Not in channel list  Inter\n",
      "Not in channel list  Slope\n",
      "Not in channel list  Inter\n",
      "Not in channel list  Slope\n",
      "Time offset 45161835.0\n",
      "dict_keys(['omb_daq/Flow_Meter', 'omb_daq/Inter', 'omb_daq/Liquid_Nitro_Valve', 'omb_daq/PID_Heater', 'omb_daq/Pressure_Cryostat', 'omb_daq/Pressure_Manifold', 'omb_daq/Pressure_Nitro', 'omb_daq/Slope', 'pid_info/Heater_State', 'pid_info/Nitro_Baseline', 'pid_info/Nitro_Weigth', 'pid_info/Target_Channel', 'pid_info/Target_Temperature', 'pid_info/Time', 'pid_info/Valve_State', 'tc08_daq/Cold_Finger', 'tc08_daq/Cryostat_Top', 'tc08_daq/Inter', 'tc08_daq/Nitro_Reservoir', 'tc08_daq/Slope', 'tc08_daq/Storage_1', 'tc08_daq/Storage_2', 'tc08_daq/Xe_Cell_Bottom', 'tc08_daq/Xe_Cell_Outside', 'tc08_daq/Xe_Cell_Top'])\n",
      "Not in channel list  Inter\n",
      "Not in channel list  Slope\n",
      "Not in channel list  Inter\n",
      "Not in channel list  Slope\n",
      "Time offset 45164445.0\n",
      "dict_keys(['omb_daq/Flow_Meter', 'omb_daq/Inter', 'omb_daq/Liquid_Nitro_Valve', 'omb_daq/PID_Heater', 'omb_daq/Pressure_Cryostat', 'omb_daq/Pressure_Manifold', 'omb_daq/Pressure_Nitro', 'omb_daq/Slope', 'pid_info/Heater_State', 'pid_info/Nitro_Baseline', 'pid_info/Nitro_Weigth', 'pid_info/Target_Channel', 'pid_info/Target_Temperature', 'pid_info/Time', 'pid_info/Valve_State', 'tc08_daq/Cold_Finger', 'tc08_daq/Cryostat_Top', 'tc08_daq/Inter', 'tc08_daq/Nitro_Reservoir', 'tc08_daq/Slope', 'tc08_daq/Storage_1', 'tc08_daq/Storage_2', 'tc08_daq/Xe_Cell_Bottom', 'tc08_daq/Xe_Cell_Outside', 'tc08_daq/Xe_Cell_Top'])\n",
      "Not in channel list  Inter\n",
      "Not in channel list  Slope\n",
      "Not in channel list  Inter\n",
      "Not in channel list  Slope\n"
     ]
    }
   ],
   "source": [
    "date=20240605\n",
    "data_loc=env_var_dataloc\n",
    "search_term=data_loc+str(date)+\"*\"\n",
    "file_list=glob.glob(search_term)\n",
    "date=20240606\n",
    "data_loc=env_var_dataloc\n",
    "search_term=data_loc+str(date)+\"*\"\n",
    "file_list =file_list + glob.glob(search_term)\n",
    "print(file_list)\n",
    "\n",
    "slowcontrol_dict_list=[]\n",
    "\n",
    "for file in file_list:\n",
    "    if os.path.getsize(file) <=40000:\n",
    "        continue\n",
    "    slowcontrol_dict_list.append(pd.DataFrame.from_dict(calib_dict_wtime(file)))\n",
    "DF_June06=pd.concat(slowcontrol_dict_list)\n",
    "\n"
   ]
  },
  {
   "cell_type": "markdown",
   "metadata": {},
   "source": [
    "## Read slowcontrol data - from 20231110"
   ]
  },
  {
   "cell_type": "code",
   "execution_count": null,
   "metadata": {},
   "outputs": [
    {
     "name": "stdout",
     "output_type": "stream",
     "text": [
      "['A:/DATA\\\\20231110_slow_control.h5', 'A:/DATA\\\\20231110_slow_control_1.h5', 'A:/DATA\\\\20231110_slow_control_10.h5', 'A:/DATA\\\\20231110_slow_control_11.h5', 'A:/DATA\\\\20231110_slow_control_12.h5', 'A:/DATA\\\\20231110_slow_control_13.h5', 'A:/DATA\\\\20231110_slow_control_14.h5', 'A:/DATA\\\\20231110_slow_control_15.h5', 'A:/DATA\\\\20231110_slow_control_16.h5', 'A:/DATA\\\\20231110_slow_control_17.h5', 'A:/DATA\\\\20231110_slow_control_18.h5', 'A:/DATA\\\\20231110_slow_control_19.h5', 'A:/DATA\\\\20231110_slow_control_2.h5', 'A:/DATA\\\\20231110_slow_control_20.h5', 'A:/DATA\\\\20231110_slow_control_21.h5', 'A:/DATA\\\\20231110_slow_control_3.h5', 'A:/DATA\\\\20231110_slow_control_4.h5', 'A:/DATA\\\\20231110_slow_control_5.h5', 'A:/DATA\\\\20231110_slow_control_6.h5', 'A:/DATA\\\\20231110_slow_control_7.h5', 'A:/DATA\\\\20231110_slow_control_8.h5', 'A:/DATA\\\\20231110_slow_control_9.h5']\n",
      "A:/DATA\\20231110_slow_control.h5\n",
      "Time offset 27074719.0\n",
      "dict_keys(['omb_daq/Flow_Meter', 'omb_daq/Inter', 'omb_daq/Liquid_Nitro_Valve', 'omb_daq/PID_Heater', 'omb_daq/Pressure_Cell', 'omb_daq/Pressure_Mfold', 'omb_daq/Pressure_Nitro', 'omb_daq/Slope', 'pid_info/Heater_State', 'pid_info/Nitro_Baseline', 'pid_info/Nitro_Weigth', 'pid_info/Target_Channel', 'pid_info/Target_Temperature', 'pid_info/Time', 'pid_info/Valve_State', 'tc08_daq/Cold_Finger', 'tc08_daq/Inter', 'tc08_daq/Nitro_Reservoir', 'tc08_daq/Slope', 'tc08_daq/Storage_1', 'tc08_daq/Storage_2', 'tc08_daq/Xe_Cell_1', 'tc08_daq/Xe_Cell_2', 'tc08_daq/Xe_Cell_3', 'tc08_daq/Xe_Cell_Outside'])\n",
      "Not in channel list  Inter\n",
      "Not in channel list  Slope\n",
      "Not in channel list  Inter\n",
      "Not in channel list  Slope\n",
      "A:/DATA\\20231110_slow_control_1.h5\n",
      "\t\t too small\n",
      "A:/DATA\\20231110_slow_control_10.h5\n",
      "Time offset 27078949.0\n",
      "dict_keys(['omb_daq/Flow_Meter', 'omb_daq/Inter', 'omb_daq/Liquid_Nitro_Valve', 'omb_daq/PID_Heater', 'omb_daq/Pressure_Cell', 'omb_daq/Pressure_Mfold', 'omb_daq/Pressure_Nitro', 'omb_daq/Slope', 'pid_info/Heater_State', 'pid_info/Nitro_Baseline', 'pid_info/Nitro_Weigth', 'pid_info/Target_Channel', 'pid_info/Target_Temperature', 'pid_info/Time', 'pid_info/Valve_State', 'tc08_daq/Cold_Finger', 'tc08_daq/Inter', 'tc08_daq/Nitro_Reservoir', 'tc08_daq/Slope', 'tc08_daq/Storage_1', 'tc08_daq/Storage_2', 'tc08_daq/Xe_Cell_1', 'tc08_daq/Xe_Cell_2', 'tc08_daq/Xe_Cell_3', 'tc08_daq/Xe_Cell_Outside'])\n",
      "Not in channel list  Inter\n",
      "Not in channel list  Slope\n",
      "Not in channel list  Inter\n",
      "Not in channel list  Slope\n",
      "A:/DATA\\20231110_slow_control_11.h5\n",
      "Time offset 27079705.0\n",
      "dict_keys(['omb_daq/Flow_Meter', 'omb_daq/Inter', 'omb_daq/Liquid_Nitro_Valve', 'omb_daq/PID_Heater', 'omb_daq/Pressure_Cell', 'omb_daq/Pressure_Mfold', 'omb_daq/Pressure_Nitro', 'omb_daq/Slope', 'pid_info/Heater_State', 'pid_info/Nitro_Baseline', 'pid_info/Nitro_Weigth', 'pid_info/Target_Channel', 'pid_info/Target_Temperature', 'pid_info/Time', 'pid_info/Valve_State', 'tc08_daq/Cold_Finger', 'tc08_daq/Inter', 'tc08_daq/Nitro_Reservoir', 'tc08_daq/Slope', 'tc08_daq/Storage_1', 'tc08_daq/Storage_2', 'tc08_daq/Xe_Cell_1', 'tc08_daq/Xe_Cell_2', 'tc08_daq/Xe_Cell_3', 'tc08_daq/Xe_Cell_Outside'])\n",
      "Not in channel list  Inter\n",
      "Not in channel list  Slope\n",
      "Not in channel list  Inter\n",
      "Not in channel list  Slope\n",
      "A:/DATA\\20231110_slow_control_12.h5\n",
      "Time offset 27079995.0\n",
      "dict_keys(['omb_daq/Flow_Meter', 'omb_daq/Inter', 'omb_daq/Liquid_Nitro_Valve', 'omb_daq/PID_Heater', 'omb_daq/Pressure_Cell', 'omb_daq/Pressure_Mfold', 'omb_daq/Pressure_Nitro', 'omb_daq/Slope', 'pid_info/Heater_State', 'pid_info/Nitro_Baseline', 'pid_info/Nitro_Weigth', 'pid_info/Target_Channel', 'pid_info/Target_Temperature', 'pid_info/Time', 'pid_info/Valve_State', 'tc08_daq/Cold_Finger', 'tc08_daq/Inter', 'tc08_daq/Nitro_Reservoir', 'tc08_daq/Slope', 'tc08_daq/Storage_1', 'tc08_daq/Storage_2', 'tc08_daq/Xe_Cell_1', 'tc08_daq/Xe_Cell_2', 'tc08_daq/Xe_Cell_3', 'tc08_daq/Xe_Cell_Outside'])\n",
      "Not in channel list  Inter\n",
      "Not in channel list  Slope\n",
      "Not in channel list  Inter\n",
      "Not in channel list  Slope\n",
      "A:/DATA\\20231110_slow_control_13.h5\n",
      "Time offset 27080520.0\n",
      "dict_keys(['omb_daq/Flow_Meter', 'omb_daq/Inter', 'omb_daq/Liquid_Nitro_Valve', 'omb_daq/PID_Heater', 'omb_daq/Pressure_Cell', 'omb_daq/Pressure_Mfold', 'omb_daq/Pressure_Nitro', 'omb_daq/Slope', 'pid_info/Heater_State', 'pid_info/Nitro_Baseline', 'pid_info/Nitro_Weigth', 'pid_info/Target_Channel', 'pid_info/Target_Temperature', 'pid_info/Time', 'pid_info/Valve_State', 'tc08_daq/Cold_Finger', 'tc08_daq/Inter', 'tc08_daq/Nitro_Reservoir', 'tc08_daq/Slope', 'tc08_daq/Storage_1', 'tc08_daq/Storage_2', 'tc08_daq/Xe_Cell_1', 'tc08_daq/Xe_Cell_2', 'tc08_daq/Xe_Cell_3', 'tc08_daq/Xe_Cell_Outside'])\n",
      "Not in channel list  Inter\n",
      "Not in channel list  Slope\n",
      "Not in channel list  Inter\n",
      "Not in channel list  Slope\n",
      "A:/DATA\\20231110_slow_control_14.h5\n",
      "Time offset 27081277.0\n",
      "dict_keys(['omb_daq/Flow_Meter', 'omb_daq/Inter', 'omb_daq/Liquid_Nitro_Valve', 'omb_daq/PID_Heater', 'omb_daq/Pressure_Cell', 'omb_daq/Pressure_Mfold', 'omb_daq/Pressure_Nitro', 'omb_daq/Slope', 'pid_info/Heater_State', 'pid_info/Nitro_Baseline', 'pid_info/Nitro_Weigth', 'pid_info/Target_Channel', 'pid_info/Target_Temperature', 'pid_info/Time', 'pid_info/Valve_State', 'tc08_daq/Cold_Finger', 'tc08_daq/Inter', 'tc08_daq/Nitro_Reservoir', 'tc08_daq/Slope', 'tc08_daq/Storage_1', 'tc08_daq/Storage_2', 'tc08_daq/Xe_Cell_1', 'tc08_daq/Xe_Cell_2', 'tc08_daq/Xe_Cell_3', 'tc08_daq/Xe_Cell_Outside'])\n",
      "Not in channel list  Inter\n",
      "Not in channel list  Slope\n",
      "Not in channel list  Inter\n",
      "Not in channel list  Slope\n",
      "A:/DATA\\20231110_slow_control_15.h5\n",
      "Time offset 27081326.0\n",
      "dict_keys(['omb_daq/Flow_Meter', 'omb_daq/Inter', 'omb_daq/Liquid_Nitro_Valve', 'omb_daq/PID_Heater', 'omb_daq/Pressure_Cell', 'omb_daq/Pressure_Mfold', 'omb_daq/Pressure_Nitro', 'omb_daq/Slope', 'pid_info/Heater_State', 'pid_info/Nitro_Baseline', 'pid_info/Nitro_Weigth', 'pid_info/Target_Channel', 'pid_info/Target_Temperature', 'pid_info/Time', 'pid_info/Valve_State', 'tc08_daq/Cold_Finger', 'tc08_daq/Inter', 'tc08_daq/Nitro_Reservoir', 'tc08_daq/Slope', 'tc08_daq/Storage_1', 'tc08_daq/Storage_2', 'tc08_daq/Xe_Cell_1', 'tc08_daq/Xe_Cell_2', 'tc08_daq/Xe_Cell_3', 'tc08_daq/Xe_Cell_Outside'])\n",
      "Not in channel list  Inter\n",
      "Not in channel list  Slope\n",
      "Not in channel list  Inter\n",
      "Not in channel list  Slope\n",
      "A:/DATA\\20231110_slow_control_16.h5\n",
      "Time offset 27082394.0\n",
      "dict_keys(['omb_daq/Flow_Meter', 'omb_daq/Inter', 'omb_daq/Liquid_Nitro_Valve', 'omb_daq/PID_Heater', 'omb_daq/Pressure_Cell', 'omb_daq/Pressure_Mfold', 'omb_daq/Pressure_Nitro', 'omb_daq/Slope', 'pid_info/Heater_State', 'pid_info/Nitro_Baseline', 'pid_info/Nitro_Weigth', 'pid_info/Target_Channel', 'pid_info/Target_Temperature', 'pid_info/Time', 'pid_info/Valve_State', 'tc08_daq/Cold_Finger', 'tc08_daq/Inter', 'tc08_daq/Nitro_Reservoir', 'tc08_daq/Slope', 'tc08_daq/Storage_1', 'tc08_daq/Storage_2', 'tc08_daq/Xe_Cell_1', 'tc08_daq/Xe_Cell_2', 'tc08_daq/Xe_Cell_3', 'tc08_daq/Xe_Cell_Outside'])\n",
      "Not in channel list  Inter\n",
      "Not in channel list  Slope\n",
      "Not in channel list  Inter\n",
      "Not in channel list  Slope\n",
      "A:/DATA\\20231110_slow_control_17.h5\n",
      "Time offset 27083887.0\n",
      "dict_keys(['omb_daq/Flow_Meter', 'omb_daq/Inter', 'omb_daq/Liquid_Nitro_Valve', 'omb_daq/PID_Heater', 'omb_daq/Pressure_Cell', 'omb_daq/Pressure_Mfold', 'omb_daq/Pressure_Nitro', 'omb_daq/Slope', 'pid_info/Heater_State', 'pid_info/Nitro_Baseline', 'pid_info/Nitro_Weigth', 'pid_info/Target_Channel', 'pid_info/Target_Temperature', 'pid_info/Time', 'pid_info/Valve_State', 'tc08_daq/Cold_Finger', 'tc08_daq/Inter', 'tc08_daq/Nitro_Reservoir', 'tc08_daq/Slope', 'tc08_daq/Storage_1', 'tc08_daq/Storage_2', 'tc08_daq/Xe_Cell_1', 'tc08_daq/Xe_Cell_2', 'tc08_daq/Xe_Cell_3', 'tc08_daq/Xe_Cell_Outside'])\n",
      "Not in channel list  Inter\n",
      "Not in channel list  Slope\n",
      "Not in channel list  Inter\n",
      "Not in channel list  Slope\n",
      "A:/DATA\\20231110_slow_control_18.h5\n",
      "Time offset 27084562.0\n",
      "dict_keys(['omb_daq/Flow_Meter', 'omb_daq/Inter', 'omb_daq/Liquid_Nitro_Valve', 'omb_daq/PID_Heater', 'omb_daq/Pressure_Cell', 'omb_daq/Pressure_Mfold', 'omb_daq/Pressure_Nitro', 'omb_daq/Slope', 'pid_info/Heater_State', 'pid_info/Nitro_Baseline', 'pid_info/Nitro_Weigth', 'pid_info/Target_Channel', 'pid_info/Target_Temperature', 'pid_info/Time', 'pid_info/Valve_State', 'tc08_daq/Cold_Finger', 'tc08_daq/Inter', 'tc08_daq/Nitro_Reservoir', 'tc08_daq/Slope', 'tc08_daq/Storage_1', 'tc08_daq/Storage_2', 'tc08_daq/Xe_Cell_1', 'tc08_daq/Xe_Cell_2', 'tc08_daq/Xe_Cell_3', 'tc08_daq/Xe_Cell_Outside'])\n",
      "Not in channel list  Inter\n",
      "Not in channel list  Slope\n",
      "Not in channel list  Inter\n",
      "Not in channel list  Slope\n",
      "A:/DATA\\20231110_slow_control_19.h5\n",
      "Time offset 27085704.0\n",
      "dict_keys(['omb_daq/Flow_Meter', 'omb_daq/Inter', 'omb_daq/Liquid_Nitro_Valve', 'omb_daq/PID_Heater', 'omb_daq/Pressure_Cell', 'omb_daq/Pressure_Mfold', 'omb_daq/Pressure_Nitro', 'omb_daq/Slope', 'pid_info/Heater_State', 'pid_info/Nitro_Baseline', 'pid_info/Nitro_Weigth', 'pid_info/Target_Channel', 'pid_info/Target_Temperature', 'pid_info/Time', 'pid_info/Valve_State', 'tc08_daq/Cold_Finger', 'tc08_daq/Inter', 'tc08_daq/Nitro_Reservoir', 'tc08_daq/Slope', 'tc08_daq/Storage_1', 'tc08_daq/Storage_2', 'tc08_daq/Xe_Cell_1', 'tc08_daq/Xe_Cell_2', 'tc08_daq/Xe_Cell_3', 'tc08_daq/Xe_Cell_Outside'])\n",
      "Not in channel list  Inter\n",
      "Not in channel list  Slope\n",
      "Not in channel list  Inter\n",
      "Not in channel list  Slope\n",
      "A:/DATA\\20231110_slow_control_2.h5\n",
      "\t\t too small\n",
      "A:/DATA\\20231110_slow_control_20.h5\n",
      "Time offset 27085955.0\n",
      "dict_keys(['omb_daq/Flow_Meter', 'omb_daq/Inter', 'omb_daq/Liquid_Nitro_Valve', 'omb_daq/PID_Heater', 'omb_daq/Pressure_Cell', 'omb_daq/Pressure_Mfold', 'omb_daq/Pressure_Nitro', 'omb_daq/Slope', 'pid_info/Heater_State', 'pid_info/Nitro_Baseline', 'pid_info/Nitro_Weigth', 'pid_info/Target_Channel', 'pid_info/Target_Temperature', 'pid_info/Time', 'pid_info/Valve_State', 'tc08_daq/Cold_Finger', 'tc08_daq/Inter', 'tc08_daq/Nitro_Reservoir', 'tc08_daq/Slope', 'tc08_daq/Storage_1', 'tc08_daq/Storage_2', 'tc08_daq/Xe_Cell_1', 'tc08_daq/Xe_Cell_2', 'tc08_daq/Xe_Cell_3', 'tc08_daq/Xe_Cell_Outside'])\n",
      "Not in channel list  Inter\n",
      "Not in channel list  Slope\n",
      "Not in channel list  Inter\n",
      "Not in channel list  Slope\n",
      "A:/DATA\\20231110_slow_control_21.h5\n",
      "Time offset 27088933.0\n",
      "dict_keys(['omb_daq/Flow_Meter', 'omb_daq/Inter', 'omb_daq/Liquid_Nitro_Valve', 'omb_daq/PID_Heater', 'omb_daq/Pressure_Cell', 'omb_daq/Pressure_Mfold', 'omb_daq/Pressure_Nitro', 'omb_daq/Slope', 'pid_info/Heater_State', 'pid_info/Nitro_Baseline', 'pid_info/Nitro_Weigth', 'pid_info/Target_Channel', 'pid_info/Target_Temperature', 'pid_info/Time', 'pid_info/Valve_State', 'tc08_daq/Cold_Finger', 'tc08_daq/Inter', 'tc08_daq/Nitro_Reservoir', 'tc08_daq/Slope', 'tc08_daq/Storage_1', 'tc08_daq/Storage_2', 'tc08_daq/Xe_Cell_1', 'tc08_daq/Xe_Cell_2', 'tc08_daq/Xe_Cell_3', 'tc08_daq/Xe_Cell_Outside'])\n",
      "Not in channel list  Inter\n",
      "Not in channel list  Slope\n",
      "Not in channel list  Inter\n",
      "Not in channel list  Slope\n",
      "A:/DATA\\20231110_slow_control_3.h5\n",
      "\t\t too small\n",
      "A:/DATA\\20231110_slow_control_4.h5\n",
      "\t\t too small\n",
      "A:/DATA\\20231110_slow_control_5.h5\n",
      "\t\t too small\n",
      "A:/DATA\\20231110_slow_control_6.h5\n",
      "\t\t too small\n",
      "A:/DATA\\20231110_slow_control_7.h5\n",
      "\t\t too small\n",
      "A:/DATA\\20231110_slow_control_8.h5\n",
      "\t\t too small\n",
      "A:/DATA\\20231110_slow_control_9.h5\n",
      "Time offset 27075259.0\n",
      "dict_keys(['omb_daq/Flow_Meter', 'omb_daq/Inter', 'omb_daq/Liquid_Nitro_Valve', 'omb_daq/PID_Heater', 'omb_daq/Pressure_Cell', 'omb_daq/Pressure_Mfold', 'omb_daq/Pressure_Nitro', 'omb_daq/Slope', 'pid_info/Heater_State', 'pid_info/Nitro_Baseline', 'pid_info/Nitro_Weigth', 'pid_info/Target_Channel', 'pid_info/Target_Temperature', 'pid_info/Time', 'pid_info/Valve_State', 'tc08_daq/Cold_Finger', 'tc08_daq/Inter', 'tc08_daq/Nitro_Reservoir', 'tc08_daq/Slope', 'tc08_daq/Storage_1', 'tc08_daq/Storage_2', 'tc08_daq/Xe_Cell_1', 'tc08_daq/Xe_Cell_2', 'tc08_daq/Xe_Cell_3', 'tc08_daq/Xe_Cell_Outside'])\n",
      "Not in channel list  Inter\n",
      "Not in channel list  Slope\n",
      "Not in channel list  Inter\n",
      "Not in channel list  Slope\n"
     ]
    }
   ],
   "source": [
    "date=20231110\n",
    "data_loc=env_var_dataloc\n",
    "search_term=data_loc+str(date)+\"*.h5\"\n",
    "file_list=glob.glob(search_term)\n",
    "print(file_list)\n",
    "\n",
    "slowcontrol_dict_list=[]\n",
    "\n",
    "for file in file_list:\n",
    "    print(file)\n",
    "    if os.path.getsize(file) <=40000:\n",
    "        print(\"\\t\\t too small\")\n",
    "        continue\n",
    "    slowcontrol_dict_list.append(pd.DataFrame.from_dict(calib_dict_wtime(file)))\n",
    "DF_Nov10=pd.concat(slowcontrol_dict_list)\n"
   ]
  },
  {
   "cell_type": "code",
   "execution_count": null,
   "metadata": {},
   "outputs": [
    {
     "name": "stdout",
     "output_type": "stream",
     "text": [
      "['A:/DATA\\\\20240520_slow_control.h5', 'A:/DATA\\\\20240520_slow_control_1.h5', 'A:/DATA\\\\20240520_slow_control_10.h5', 'A:/DATA\\\\20240520_slow_control_2.h5', 'A:/DATA\\\\20240520_slow_control_3.h5', 'A:/DATA\\\\20240520_slow_control_4.h5', 'A:/DATA\\\\20240520_slow_control_5.h5', 'A:/DATA\\\\20240520_slow_control_6.h5', 'A:/DATA\\\\20240520_slow_control_7.h5', 'A:/DATA\\\\20240520_slow_control_8.h5', 'A:/DATA\\\\20240520_slow_control_9.h5']\n",
      "Time offset 33469\n",
      "dict_keys(['omb_daq/Flow_Meter', 'omb_daq/Inter', 'omb_daq/Liquid_Nitro_Valve', 'omb_daq/PID_Heater', 'omb_daq/Pressure_Cryostat', 'omb_daq/Pressure_Manifold', 'omb_daq/Pressure_Nitro', 'omb_daq/Slope', 'pid_info/Heater_State', 'pid_info/Nitro_Baseline', 'pid_info/Nitro_Weigth', 'pid_info/Target_Channel', 'pid_info/Target_Temperature', 'pid_info/Time', 'pid_info/Valve_State', 'tc08_daq/Cold_Finger', 'tc08_daq/Cryostat_Top', 'tc08_daq/Inter', 'tc08_daq/Nitro_Reservoir', 'tc08_daq/Slope', 'tc08_daq/Storage_1', 'tc08_daq/Storage_2', 'tc08_daq/Xe_Cell_Bottom', 'tc08_daq/Xe_Cell_Outside', 'tc08_daq/Xe_Cell_Top'])\n",
      "Not in channel list  Inter\n",
      "Not in channel list  Slope\n",
      "Not in channel list  Inter\n",
      "Not in channel list  Slope\n",
      "Time offset 33500\n",
      "dict_keys(['omb_daq/Flow_Meter', 'omb_daq/Inter', 'omb_daq/Liquid_Nitro_Valve', 'omb_daq/PID_Heater', 'omb_daq/Pressure_Cryostat', 'omb_daq/Pressure_Manifold', 'omb_daq/Pressure_Nitro', 'omb_daq/Slope', 'pid_info/Heater_State', 'pid_info/Nitro_Baseline', 'pid_info/Nitro_Weigth', 'pid_info/Target_Channel', 'pid_info/Target_Temperature', 'pid_info/Time', 'pid_info/Valve_State', 'tc08_daq/Cold_Finger', 'tc08_daq/Cryostat_Top', 'tc08_daq/Inter', 'tc08_daq/Nitro_Reservoir', 'tc08_daq/Slope', 'tc08_daq/Storage_1', 'tc08_daq/Storage_2', 'tc08_daq/Xe_Cell_Bottom', 'tc08_daq/Xe_Cell_Outside', 'tc08_daq/Xe_Cell_Top'])\n",
      "Not in channel list  Inter\n",
      "Not in channel list  Slope\n",
      "Not in channel list  Inter\n",
      "Not in channel list  Slope\n",
      "Time offset 78227\n",
      "dict_keys(['omb_daq/Flow_Meter', 'omb_daq/Inter', 'omb_daq/Liquid_Nitro_Valve', 'omb_daq/PID_Heater', 'omb_daq/Pressure_Cryostat', 'omb_daq/Pressure_Manifold', 'omb_daq/Pressure_Nitro', 'omb_daq/Slope', 'pid_info/Heater_State', 'pid_info/Nitro_Baseline', 'pid_info/Nitro_Weigth', 'pid_info/Target_Channel', 'pid_info/Target_Temperature', 'pid_info/Time', 'pid_info/Valve_State', 'tc08_daq/Cold_Finger', 'tc08_daq/Cryostat_Top', 'tc08_daq/Inter', 'tc08_daq/Nitro_Reservoir', 'tc08_daq/Slope', 'tc08_daq/Storage_1', 'tc08_daq/Storage_2', 'tc08_daq/Xe_Cell_Bottom', 'tc08_daq/Xe_Cell_Outside', 'tc08_daq/Xe_Cell_Top'])\n",
      "Not in channel list  Inter\n",
      "Not in channel list  Slope\n",
      "Not in channel list  Inter\n",
      "Not in channel list  Slope\n",
      "Time offset 38759\n",
      "dict_keys(['omb_daq/Flow_Meter', 'omb_daq/Inter', 'omb_daq/Liquid_Nitro_Valve', 'omb_daq/PID_Heater', 'omb_daq/Pressure_Cryostat', 'omb_daq/Pressure_Manifold', 'omb_daq/Pressure_Nitro', 'omb_daq/Slope', 'pid_info/Heater_State', 'pid_info/Nitro_Baseline', 'pid_info/Nitro_Weigth', 'pid_info/Target_Channel', 'pid_info/Target_Temperature', 'pid_info/Time', 'pid_info/Valve_State', 'tc08_daq/Cold_Finger', 'tc08_daq/Cryostat_Top', 'tc08_daq/Inter', 'tc08_daq/Nitro_Reservoir', 'tc08_daq/Slope', 'tc08_daq/Storage_1', 'tc08_daq/Storage_2', 'tc08_daq/Xe_Cell_Bottom', 'tc08_daq/Xe_Cell_Outside', 'tc08_daq/Xe_Cell_Top'])\n",
      "Not in channel list  Inter\n",
      "Not in channel list  Slope\n",
      "Not in channel list  Inter\n",
      "Not in channel list  Slope\n",
      "Time offset 38800\n",
      "dict_keys(['omb_daq/Flow_Meter', 'omb_daq/Inter', 'omb_daq/Liquid_Nitro_Valve', 'omb_daq/PID_Heater', 'omb_daq/Pressure_Cryostat', 'omb_daq/Pressure_Manifold', 'omb_daq/Pressure_Nitro', 'omb_daq/Slope', 'pid_info/Heater_State', 'pid_info/Nitro_Baseline', 'pid_info/Nitro_Weigth', 'pid_info/Target_Channel', 'pid_info/Target_Temperature', 'pid_info/Time', 'pid_info/Valve_State', 'tc08_daq/Cold_Finger', 'tc08_daq/Cryostat_Top', 'tc08_daq/Inter', 'tc08_daq/Nitro_Reservoir', 'tc08_daq/Slope', 'tc08_daq/Storage_1', 'tc08_daq/Storage_2', 'tc08_daq/Xe_Cell_Bottom', 'tc08_daq/Xe_Cell_Outside', 'tc08_daq/Xe_Cell_Top'])\n",
      "Not in channel list  Inter\n",
      "Not in channel list  Slope\n",
      "Not in channel list  Inter\n",
      "Not in channel list  Slope\n",
      "Time offset 44042\n",
      "dict_keys(['omb_daq/Flow_Meter', 'omb_daq/Inter', 'omb_daq/Liquid_Nitro_Valve', 'omb_daq/PID_Heater', 'omb_daq/Pressure_Cryostat', 'omb_daq/Pressure_Manifold', 'omb_daq/Pressure_Nitro', 'omb_daq/Slope', 'pid_info/Heater_State', 'pid_info/Nitro_Baseline', 'pid_info/Nitro_Weigth', 'pid_info/Target_Channel', 'pid_info/Target_Temperature', 'pid_info/Time', 'pid_info/Valve_State', 'tc08_daq/Cold_Finger', 'tc08_daq/Cryostat_Top', 'tc08_daq/Inter', 'tc08_daq/Nitro_Reservoir', 'tc08_daq/Slope', 'tc08_daq/Storage_1', 'tc08_daq/Storage_2', 'tc08_daq/Xe_Cell_Bottom', 'tc08_daq/Xe_Cell_Outside', 'tc08_daq/Xe_Cell_Top'])\n",
      "Not in channel list  Inter\n",
      "Not in channel list  Slope\n",
      "Not in channel list  Inter\n",
      "Not in channel list  Slope\n",
      "Time offset 46397\n",
      "dict_keys(['omb_daq/Flow_Meter', 'omb_daq/Inter', 'omb_daq/Liquid_Nitro_Valve', 'omb_daq/PID_Heater', 'omb_daq/Pressure_Cryostat', 'omb_daq/Pressure_Manifold', 'omb_daq/Pressure_Nitro', 'omb_daq/Slope', 'pid_info/Heater_State', 'pid_info/Nitro_Baseline', 'pid_info/Nitro_Weigth', 'pid_info/Target_Channel', 'pid_info/Target_Temperature', 'pid_info/Time', 'pid_info/Valve_State', 'tc08_daq/Cold_Finger', 'tc08_daq/Cryostat_Top', 'tc08_daq/Inter', 'tc08_daq/Nitro_Reservoir', 'tc08_daq/Slope', 'tc08_daq/Storage_1', 'tc08_daq/Storage_2', 'tc08_daq/Xe_Cell_Bottom', 'tc08_daq/Xe_Cell_Outside', 'tc08_daq/Xe_Cell_Top'])\n",
      "Not in channel list  Inter\n",
      "Not in channel list  Slope\n",
      "Not in channel list  Inter\n",
      "Not in channel list  Slope\n",
      "Time offset 59555\n",
      "dict_keys(['omb_daq/Flow_Meter', 'omb_daq/Inter', 'omb_daq/Liquid_Nitro_Valve', 'omb_daq/PID_Heater', 'omb_daq/Pressure_Cryostat', 'omb_daq/Pressure_Manifold', 'omb_daq/Pressure_Nitro', 'omb_daq/Slope', 'pid_info/Heater_State', 'pid_info/Nitro_Baseline', 'pid_info/Nitro_Weigth', 'pid_info/Target_Channel', 'pid_info/Target_Temperature', 'pid_info/Time', 'pid_info/Valve_State', 'tc08_daq/Cold_Finger', 'tc08_daq/Cryostat_Top', 'tc08_daq/Inter', 'tc08_daq/Nitro_Reservoir', 'tc08_daq/Slope', 'tc08_daq/Storage_1', 'tc08_daq/Storage_2', 'tc08_daq/Xe_Cell_Bottom', 'tc08_daq/Xe_Cell_Outside', 'tc08_daq/Xe_Cell_Top'])\n",
      "Not in channel list  Inter\n",
      "Not in channel list  Slope\n",
      "Not in channel list  Inter\n",
      "Not in channel list  Slope\n",
      "Time offset 74347\n",
      "dict_keys(['omb_daq/Flow_Meter', 'omb_daq/Inter', 'omb_daq/Liquid_Nitro_Valve', 'omb_daq/PID_Heater', 'omb_daq/Pressure_Cryostat', 'omb_daq/Pressure_Manifold', 'omb_daq/Pressure_Nitro', 'omb_daq/Slope', 'pid_info/Heater_State', 'pid_info/Nitro_Baseline', 'pid_info/Nitro_Weigth', 'pid_info/Target_Channel', 'pid_info/Target_Temperature', 'pid_info/Time', 'pid_info/Valve_State', 'tc08_daq/Cold_Finger', 'tc08_daq/Cryostat_Top', 'tc08_daq/Inter', 'tc08_daq/Nitro_Reservoir', 'tc08_daq/Slope', 'tc08_daq/Storage_1', 'tc08_daq/Storage_2', 'tc08_daq/Xe_Cell_Bottom', 'tc08_daq/Xe_Cell_Outside', 'tc08_daq/Xe_Cell_Top'])\n",
      "Not in channel list  Inter\n",
      "Not in channel list  Slope\n",
      "Not in channel list  Inter\n",
      "Not in channel list  Slope\n"
     ]
    }
   ],
   "source": [
    "\n",
    "\n",
    "date=20240520\n",
    "data_loc=env_var_dataloc\n",
    "search_term=data_loc+str(date)+\"*\"\n",
    "file_list=glob.glob(search_term)\n",
    "print(file_list)\n",
    "\n",
    "slowcontrol_dict_list=[]\n",
    "\n",
    "for file in file_list:\n",
    "    if os.path.getsize(file) <=40000:\n",
    "        continue\n",
    "    slowcontrol_dict_list.append(pd.DataFrame.from_dict(calib_dict_wtime(file)))\n",
    "DF_May20=pd.concat(slowcontrol_dict_list)\n",
    "\n"
   ]
  },
  {
   "cell_type": "code",
   "execution_count": null,
   "metadata": {},
   "outputs": [
    {
     "name": "stdout",
     "output_type": "stream",
     "text": [
      "['A:/DATA\\\\20240605_slow_control.h5', 'A:/DATA\\\\20240605_slow_control_1.h5', 'A:/DATA\\\\20240605_slow_control_2.h5', 'A:/DATA\\\\20240605_slow_control_3.h5', 'A:/DATA\\\\20240605_slow_control_4.h5', 'A:/DATA\\\\20240605_slow_control_5.h5', 'A:/DATA\\\\20240605_slow_control_6.h5']\n",
      "Time offset 45047858.0\n",
      "dict_keys(['omb_daq/Flow_Meter', 'omb_daq/Inter', 'omb_daq/Liquid_Nitro_Valve', 'omb_daq/PID_Heater', 'omb_daq/Pressure_Cryostat', 'omb_daq/Pressure_Manifold', 'omb_daq/Pressure_Nitro', 'omb_daq/Slope', 'pid_info/Heater_State', 'pid_info/Nitro_Baseline', 'pid_info/Nitro_Weigth', 'pid_info/Target_Channel', 'pid_info/Target_Temperature', 'pid_info/Time', 'pid_info/Valve_State', 'tc08_daq/Cold_Finger', 'tc08_daq/Cryostat_Top', 'tc08_daq/Inter', 'tc08_daq/Nitro_Reservoir', 'tc08_daq/Slope', 'tc08_daq/Storage_1', 'tc08_daq/Storage_2', 'tc08_daq/Xe_Cell_Bottom', 'tc08_daq/Xe_Cell_Outside', 'tc08_daq/Xe_Cell_Top'])\n",
      "Not in channel list  Inter\n",
      "Not in channel list  Slope\n",
      "Not in channel list  Inter\n",
      "Not in channel list  Slope\n",
      "Time offset 45053541.0\n",
      "dict_keys(['omb_daq/Flow_Meter', 'omb_daq/Inter', 'omb_daq/Liquid_Nitro_Valve', 'omb_daq/PID_Heater', 'omb_daq/Pressure_Cryostat', 'omb_daq/Pressure_Manifold', 'omb_daq/Pressure_Nitro', 'omb_daq/Slope', 'pid_info/Heater_State', 'pid_info/Nitro_Baseline', 'pid_info/Nitro_Weigth', 'pid_info/Target_Channel', 'pid_info/Target_Temperature', 'pid_info/Time', 'pid_info/Valve_State', 'tc08_daq/Cold_Finger', 'tc08_daq/Cryostat_Top', 'tc08_daq/Inter', 'tc08_daq/Nitro_Reservoir', 'tc08_daq/Slope', 'tc08_daq/Storage_1', 'tc08_daq/Storage_2', 'tc08_daq/Xe_Cell_Bottom', 'tc08_daq/Xe_Cell_Outside', 'tc08_daq/Xe_Cell_Top'])\n",
      "Not in channel list  Inter\n",
      "Not in channel list  Slope\n",
      "Not in channel list  Inter\n",
      "Not in channel list  Slope\n",
      "Time offset 45059330.0\n",
      "dict_keys(['omb_daq/Flow_Meter', 'omb_daq/Inter', 'omb_daq/Liquid_Nitro_Valve', 'omb_daq/PID_Heater', 'omb_daq/Pressure_Cryostat', 'omb_daq/Pressure_Manifold', 'omb_daq/Pressure_Nitro', 'omb_daq/Slope', 'pid_info/Heater_State', 'pid_info/Nitro_Baseline', 'pid_info/Nitro_Weigth', 'pid_info/Target_Channel', 'pid_info/Target_Temperature', 'pid_info/Time', 'pid_info/Valve_State', 'tc08_daq/Cold_Finger', 'tc08_daq/Cryostat_Top', 'tc08_daq/Inter', 'tc08_daq/Nitro_Reservoir', 'tc08_daq/Slope', 'tc08_daq/Storage_1', 'tc08_daq/Storage_2', 'tc08_daq/Xe_Cell_Bottom', 'tc08_daq/Xe_Cell_Outside', 'tc08_daq/Xe_Cell_Top'])\n",
      "Not in channel list  Inter\n",
      "Not in channel list  Slope\n",
      "Not in channel list  Inter\n",
      "Not in channel list  Slope\n",
      "Time offset 45061054.0\n",
      "dict_keys(['omb_daq/Flow_Meter', 'omb_daq/Inter', 'omb_daq/Liquid_Nitro_Valve', 'omb_daq/PID_Heater', 'omb_daq/Pressure_Cryostat', 'omb_daq/Pressure_Manifold', 'omb_daq/Pressure_Nitro', 'omb_daq/Slope', 'pid_info/Heater_State', 'pid_info/Nitro_Baseline', 'pid_info/Nitro_Weigth', 'pid_info/Target_Channel', 'pid_info/Target_Temperature', 'pid_info/Time', 'pid_info/Valve_State', 'tc08_daq/Cold_Finger', 'tc08_daq/Cryostat_Top', 'tc08_daq/Inter', 'tc08_daq/Nitro_Reservoir', 'tc08_daq/Slope', 'tc08_daq/Storage_1', 'tc08_daq/Storage_2', 'tc08_daq/Xe_Cell_Bottom', 'tc08_daq/Xe_Cell_Outside', 'tc08_daq/Xe_Cell_Top'])\n",
      "Not in channel list  Inter\n",
      "Not in channel list  Slope\n",
      "Not in channel list  Inter\n",
      "Not in channel list  Slope\n",
      "Time offset 45064753.0\n",
      "dict_keys(['omb_daq/Flow_Meter', 'omb_daq/Inter', 'omb_daq/Liquid_Nitro_Valve', 'omb_daq/PID_Heater', 'omb_daq/Pressure_Cryostat', 'omb_daq/Pressure_Manifold', 'omb_daq/Pressure_Nitro', 'omb_daq/Slope', 'pid_info/Heater_State', 'pid_info/Nitro_Baseline', 'pid_info/Nitro_Weigth', 'pid_info/Target_Channel', 'pid_info/Target_Temperature', 'pid_info/Time', 'pid_info/Valve_State', 'tc08_daq/Cold_Finger', 'tc08_daq/Cryostat_Top', 'tc08_daq/Inter', 'tc08_daq/Nitro_Reservoir', 'tc08_daq/Slope', 'tc08_daq/Storage_1', 'tc08_daq/Storage_2', 'tc08_daq/Xe_Cell_Bottom', 'tc08_daq/Xe_Cell_Outside', 'tc08_daq/Xe_Cell_Top'])\n",
      "Not in channel list  Inter\n",
      "Not in channel list  Slope\n",
      "Not in channel list  Inter\n",
      "Not in channel list  Slope\n",
      "Time offset 45098895.0\n",
      "dict_keys(['omb_daq/Flow_Meter', 'omb_daq/Inter', 'omb_daq/Liquid_Nitro_Valve', 'omb_daq/PID_Heater', 'omb_daq/Pressure_Cryostat', 'omb_daq/Pressure_Manifold', 'omb_daq/Pressure_Nitro', 'omb_daq/Slope', 'pid_info/Heater_State', 'pid_info/Nitro_Baseline', 'pid_info/Nitro_Weigth', 'pid_info/Target_Channel', 'pid_info/Target_Temperature', 'pid_info/Time', 'pid_info/Valve_State', 'tc08_daq/Cold_Finger', 'tc08_daq/Cryostat_Top', 'tc08_daq/Inter', 'tc08_daq/Nitro_Reservoir', 'tc08_daq/Slope', 'tc08_daq/Storage_1', 'tc08_daq/Storage_2', 'tc08_daq/Xe_Cell_Bottom', 'tc08_daq/Xe_Cell_Outside', 'tc08_daq/Xe_Cell_Top'])\n",
      "Not in channel list  Inter\n",
      "Not in channel list  Slope\n",
      "Not in channel list  Inter\n",
      "Not in channel list  Slope\n",
      "Time offset 45099995.0\n",
      "dict_keys(['omb_daq/Flow_Meter', 'omb_daq/Inter', 'omb_daq/Liquid_Nitro_Valve', 'omb_daq/PID_Heater', 'omb_daq/Pressure_Cryostat', 'omb_daq/Pressure_Manifold', 'omb_daq/Pressure_Nitro', 'omb_daq/Slope', 'pid_info/Heater_State', 'pid_info/Nitro_Baseline', 'pid_info/Nitro_Weigth', 'pid_info/Target_Channel', 'pid_info/Target_Temperature', 'pid_info/Time', 'pid_info/Valve_State', 'tc08_daq/Cold_Finger', 'tc08_daq/Cryostat_Top', 'tc08_daq/Inter', 'tc08_daq/Nitro_Reservoir', 'tc08_daq/Slope', 'tc08_daq/Storage_1', 'tc08_daq/Storage_2', 'tc08_daq/Xe_Cell_Bottom', 'tc08_daq/Xe_Cell_Outside', 'tc08_daq/Xe_Cell_Top'])\n",
      "Not in channel list  Inter\n",
      "Not in channel list  Slope\n",
      "Not in channel list  Inter\n",
      "Not in channel list  Slope\n"
     ]
    }
   ],
   "source": [
    "date=20240605\n",
    "data_loc=env_var_dataloc\n",
    "search_term=data_loc+str(date)+\"*\"\n",
    "file_list=glob.glob(search_term)\n",
    "print(file_list)\n",
    "\n",
    "slowcontrol_dict_list=[]\n",
    "\n",
    "for file in file_list:\n",
    "    if os.path.getsize(file) <=30000:\n",
    "        continue\n",
    "    slowcontrol_dict_list.append(pd.DataFrame.from_dict(calib_dict_wtime(file)))\n",
    "DF_June10=pd.concat(slowcontrol_dict_list)\n"
   ]
  },
  {
   "cell_type": "code",
   "execution_count": null,
   "metadata": {},
   "outputs": [
    {
     "name": "stderr",
     "output_type": "stream",
     "text": [
      "No artists with labels found to put in legend.  Note that artists whose label start with an underscore are ignored when legend() is called with no argument.\n"
     ]
    },
    {
     "data": {
      "text/plain": [
       "<matplotlib.legend.Legend at 0x11ebeb4e050>"
      ]
     },
     "execution_count": 261,
     "metadata": {},
     "output_type": "execute_result"
    },
    {
     "data": {
      "image/png": "[encoded data removed]",
      "text/plain": [
       "<Figure size 640x480 with 1 Axes>"
      ]
     },
     "metadata": {},
     "output_type": "display_data"
    }
   ],
   "source": [
    "plt.errorbar(DF_Nov10[\"Time\"][::60]/60.0,DF_Nov10[\"Xe_Cell_1\"][::60], fmt=\"h\")\n",
    "plt.errorbar(DF_Nov10[\"Time\"][::60]/60.0,DF_Nov10[\"Xe_Cell_2\"][::60], fmt=\"x\")\n",
    "plt.errorbar(DF_Nov10[\"Time\"][::60]/60.0,DF_Nov10[\"Xe_Cell_3\"][::60], fmt=\"p\")\n",
    "plt.grid()\n",
    "plt.legend()\n"
   ]
  },
  {
   "cell_type": "code",
   "execution_count": null,
   "metadata": {},
   "outputs": [
    {
     "name": "stderr",
     "output_type": "stream",
     "text": [
      "No artists with labels found to put in legend.  Note that artists whose label start with an underscore are ignored when legend() is called with no argument.\n"
     ]
    },
    {
     "name": "stdout",
     "output_type": "stream",
     "text": [
      "45100800.0\n"
     ]
    },
    {
     "data": {
      "text/plain": [
       "(150.0, 220.0)"
      ]
     },
     "execution_count": 374,
     "metadata": {},
     "output_type": "execute_result"
    },
    {
     "data": {
      "image/png": "[encoded data removed]",
      "text/plain": [
       "<Figure size 640x480 with 1 Axes>"
      ]
     },
     "metadata": {},
     "output_type": "display_data"
    }
   ],
   "source": [
    "timeo=(datetime.datetime(2024,6,6)-TimeZero).total_seconds()\n",
    "print(timeo)\n",
    "\n",
    "plt.errorbar(x=(DF_June06[\"Time\"][::60]-timeo)/3600.0  , y=DF_June06[\"Cold_Finger\"][::60], fmt=\"h\")\n",
    "#plt.errorbar(x=(DF_June06[\"Time\"][::60]-timeo)/3600.0, y=DF_June06[\"Xe_Cell_Top\"][::60], fmt=\"x\")\n",
    "#plt.errorbar(x=(DF_June06[\"Time\"][::60]-timeo)/3600.0, y=DF_June06[\"Cryostat_Top\"][::60], fmt=\"p\")\n",
    "plt.grid()\n",
    "plt.legend()\n",
    "\n",
    "#plt.xlim(7,15)\n",
    "plt.ylim(150,220)"
   ]
  },
  {
   "cell_type": "code",
   "execution_count": null,
   "metadata": {},
   "outputs": [
    {
     "name": "stdout",
     "output_type": "stream",
     "text": [
      "45100800.0\n"
     ]
    },
    {
     "data": {
      "text/plain": [
       "(7.0, 15.0)"
      ]
     },
     "execution_count": 303,
     "metadata": {},
     "output_type": "execute_result"
    },
    {
     "data": {
      "image/png": "[encoded data removed]",
      "text/plain": [
       "<Figure size 640x480 with 1 Axes>"
      ]
     },
     "metadata": {},
     "output_type": "display_data"
    }
   ],
   "source": [
    "timeo=(datetime.datetime(2024,6,6)-TimeZero).total_seconds()\n",
    "print(timeo)\n",
    "\n",
    "\n",
    "plt.errorbar(x=(DF_June06[\"Time\"][::60]-timeo)/3600.0  , y=DF_June06[\"Flow_Meter\"][::60], fmt=\"h\", label=\"Bottom of drift cell\")\n",
    "plt.errorbar(x=(DF_June06[\"Time\"][::60]-timeo)/3600.0  , y=DF_June06[\"Target_Channel\"][::60])\n",
    "\n",
    "June5_dt = datetime.datetime(2024,6,6)\n",
    "\n",
    "June5_secs = (June5_dt - TimeZero).total_seconds()\n",
    "\n",
    "\n",
    "#plt.errorbar(x=np.array([June5_secs,June5_secs])/60,y=[0,5])\n",
    "#plt.errorbar(DF_June06[\"Time\"][::60]/60.0,DF_June\n",
    "# 06[\"Xe_Cell_Top\"][::60], fmt=\"x\", label=\"Top of drift cell\")\n",
    "#plt.errorbar(DF_June06[\"Time\"][::60]/60.0,DF_June06[\"Cryostat_Top\"][::60], fmt=\"x\", label=\"Top of cryo\")\n",
    "#plt\n",
    "# .errorbar(DF_June06[\"Time\"][::60]/60.0,DF_June06[\"Xe_Cell_3\"][::60], fmt=\"p\")\n",
    "plt.grid()\n",
    "plt.legend()\n",
    "#plt.xlim(550,800)\n",
    "#plt.ylim(160,220)\n",
    "#plt.title(\"Thermocouple Data on June 6th\")\n",
    "plt.xlabel(\"Time [mins]\")\n",
    "#plt.ylabel(\"Temperature [K]\")\n",
    "plt.xlim(7,15)"
   ]
  },
  {
   "cell_type": "code",
   "execution_count": null,
   "metadata": {},
   "outputs": [
    {
     "data": {
      "text/plain": [
       "Index(['Flow_Meter', 'Liquid_Nitro_Valve', 'PID_Heater', 'Pressure_Cryostat',\n",
       "       'Pressure_Manifold', 'Pressure_Nitro', 'Heater_State', 'Nitro_Baseline',\n",
       "       'Nitro_Weigth', 'Target_Channel', 'Target_Temperature', 'Time',\n",
       "       'Valve_State', 'Cold_Finger', 'Cryostat_Top', 'Nitro_Reservoir',\n",
       "       'Storage_1', 'Storage_2', 'Xe_Cell_Bottom', 'Xe_Cell_Outside',\n",
       "       'Xe_Cell_Top'],\n",
       "      dtype='object')"
      ]
     },
     "execution_count": 198,
     "metadata": {},
     "output_type": "execute_result"
    }
   ],
   "source": [
    "DF_June06.keys()"
   ]
  },
  {
   "cell_type": "code",
   "execution_count": null,
   "metadata": {},
   "outputs": [
    {
     "name": "stdout",
     "output_type": "stream",
     "text": [
      "['A:/DATA\\\\20240606_slow_control.h5', 'A:/DATA\\\\20240606_slow_control_1.h5', 'A:/DATA\\\\20240606_slow_control_2.h5', 'A:/DATA\\\\20240606_slow_control_3.h5', 'A:/DATA\\\\20240606_slow_control_4.h5']\n",
      "Time offset 35087\n",
      "dict_keys(['omb_daq/Flow_Meter', 'omb_daq/Inter', 'omb_daq/Liquid_Nitro_Valve', 'omb_daq/PID_Heater', 'omb_daq/Pressure_Cryostat', 'omb_daq/Pressure_Manifold', 'omb_daq/Pressure_Nitro', 'omb_daq/Slope', 'pid_info/Heater_State', 'pid_info/Nitro_Baseline', 'pid_info/Nitro_Weigth', 'pid_info/Target_Channel', 'pid_info/Target_Temperature', 'pid_info/Time', 'pid_info/Valve_State', 'tc08_daq/Cold_Finger', 'tc08_daq/Cryostat_Top', 'tc08_daq/Inter', 'tc08_daq/Nitro_Reservoir', 'tc08_daq/Slope', 'tc08_daq/Storage_1', 'tc08_daq/Storage_2', 'tc08_daq/Xe_Cell_Bottom', 'tc08_daq/Xe_Cell_Outside', 'tc08_daq/Xe_Cell_Top'])\n",
      "Not in channel list  Inter\n",
      "Not in channel list  Slope\n",
      "Not in channel list  Inter\n",
      "Not in channel list  Slope\n",
      "Time offset 61035\n",
      "dict_keys(['omb_daq/Flow_Meter', 'omb_daq/Inter', 'omb_daq/Liquid_Nitro_Valve', 'omb_daq/PID_Heater', 'omb_daq/Pressure_Cryostat', 'omb_daq/Pressure_Manifold', 'omb_daq/Pressure_Nitro', 'omb_daq/Slope', 'pid_info/Heater_State', 'pid_info/Nitro_Baseline', 'pid_info/Nitro_Weigth', 'pid_info/Target_Channel', 'pid_info/Target_Temperature', 'pid_info/Time', 'pid_info/Valve_State', 'tc08_daq/Cold_Finger', 'tc08_daq/Cryostat_Top', 'tc08_daq/Inter', 'tc08_daq/Nitro_Reservoir', 'tc08_daq/Slope', 'tc08_daq/Storage_1', 'tc08_daq/Storage_2', 'tc08_daq/Xe_Cell_Bottom', 'tc08_daq/Xe_Cell_Outside', 'tc08_daq/Xe_Cell_Top'])\n",
      "Not in channel list  Inter\n",
      "Not in channel list  Slope\n",
      "Not in channel list  Inter\n",
      "Not in channel list  Slope\n",
      "Time offset 63645\n",
      "dict_keys(['omb_daq/Flow_Meter', 'omb_daq/Inter', 'omb_daq/Liquid_Nitro_Valve', 'omb_daq/PID_Heater', 'omb_daq/Pressure_Cryostat', 'omb_daq/Pressure_Manifold', 'omb_daq/Pressure_Nitro', 'omb_daq/Slope', 'pid_info/Heater_State', 'pid_info/Nitro_Baseline', 'pid_info/Nitro_Weigth', 'pid_info/Target_Channel', 'pid_info/Target_Temperature', 'pid_info/Time', 'pid_info/Valve_State', 'tc08_daq/Cold_Finger', 'tc08_daq/Cryostat_Top', 'tc08_daq/Inter', 'tc08_daq/Nitro_Reservoir', 'tc08_daq/Slope', 'tc08_daq/Storage_1', 'tc08_daq/Storage_2', 'tc08_daq/Xe_Cell_Bottom', 'tc08_daq/Xe_Cell_Outside', 'tc08_daq/Xe_Cell_Top'])\n",
      "Not in channel list  Inter\n",
      "Not in channel list  Slope\n",
      "Not in channel list  Inter\n",
      "Not in channel list  Slope\n"
     ]
    },
    {
     "data": {
      "text/plain": [
       "Text(0, 0.5, 'Pressure [pisa]')"
      ]
     },
     "execution_count": 195,
     "metadata": {},
     "output_type": "execute_result"
    },
    {
     "data": {
      "image/png": "[encoded data removed]",
      "text/plain": [
       "<Figure size 640x480 with 1 Axes>"
      ]
     },
     "metadata": {},
     "output_type": "display_data"
    }
   ],
   "source": [
    "date=20240606\n",
    "data_loc=env_var_dataloc\n",
    "search_term=data_loc+str(date)+\"*\"\n",
    "file_list =glob.glob(search_term)\n",
    "print(file_list)\n",
    "\n",
    "slowcontrol_dict_list=[]\n",
    "\n",
    "for file in file_list:\n",
    "    if os.path.getsize(file) <=40000:\n",
    "        continue\n",
    "    slowcontrol_dict_list.append(pd.DataFrame.from_dict(calib_dict_wtime(file)))\n",
    "DF_June06_2=pd.concat(slowcontrol_dict_list)\n",
    "\n",
    "plt.errorbar(DF_June06_2[\"Time\"][::60]/60.0,DF_June06_2[\"Pressure_Cryostat\"][::60], fmt=\"h\", label=\"Pressure at top of cell\")\n",
    "#plt.errorbar(DF_June06[\"Time\"][::60]/60.0,DF_June06[\"Xe_Cell_Top\"][::60], fmt=\"x\", label=\"Top of drift cell\")\n",
    "#plt.errorbar(DF_June06[\"Time\"][::60]/60.0,DF_June06[\"Xe_Cell_3\"][::60], fmt=\"p\")\n",
    "plt.grid()\n",
    "plt.legend()\n",
    "plt.xlim(550,800)\n",
    "#plt.ylim(160,220)\n",
    "plt.title(\"Pressure Data From June 6th\")\n",
    "plt.xlabel(\"Time [mins]\")\n",
    "plt.ylabel(\"Pressure [pisa]\")"
   ]
  },
  {
   "cell_type": "code",
   "execution_count": null,
   "metadata": {},
   "outputs": [
    {
     "name": "stdout",
     "output_type": "stream",
     "text": [
      "['A:/DATA\\\\20240523_slow_control_2.h5', 'A:/DATA\\\\20240523_slow_control_3.h5', 'A:/DATA\\\\20240523_slow_control_5.h5', 'A:/DATA\\\\20240523_slow_control_8.h5']\n",
      "Time offset 37645\n",
      "dict_keys(['omb_daq/Flow_Meter', 'omb_daq/Inter', 'omb_daq/Liquid_Nitro_Valve', 'omb_daq/PID_Heater', 'omb_daq/Pressure_Cryostat', 'omb_daq/Pressure_Manifold', 'omb_daq/Pressure_Nitro', 'omb_daq/Slope', 'pid_info/Heater_State', 'pid_info/Nitro_Baseline', 'pid_info/Nitro_Weigth', 'pid_info/Target_Channel', 'pid_info/Target_Temperature', 'pid_info/Time', 'pid_info/Valve_State', 'tc08_daq/Cold_Finger', 'tc08_daq/Cryostat_Top', 'tc08_daq/Inter', 'tc08_daq/Nitro_Reservoir', 'tc08_daq/Slope', 'tc08_daq/Storage_1', 'tc08_daq/Storage_2', 'tc08_daq/Xe_Cell_Bottom', 'tc08_daq/Xe_Cell_Outside', 'tc08_daq/Xe_Cell_Top'])\n",
      "Not in channel list  Inter\n",
      "Not in channel list  Slope\n",
      "Not in channel list  Inter\n",
      "Not in channel list  Slope\n",
      "Time offset 39437\n",
      "dict_keys(['omb_daq/Flow_Meter', 'omb_daq/Inter', 'omb_daq/Liquid_Nitro_Valve', 'omb_daq/PID_Heater', 'omb_daq/Pressure_Cryostat', 'omb_daq/Pressure_Manifold', 'omb_daq/Pressure_Nitro', 'omb_daq/Slope', 'pid_info/Heater_State', 'pid_info/Nitro_Baseline', 'pid_info/Nitro_Weigth', 'pid_info/Target_Channel', 'pid_info/Target_Temperature', 'pid_info/Time', 'pid_info/Valve_State', 'tc08_daq/Cold_Finger', 'tc08_daq/Cryostat_Top', 'tc08_daq/Inter', 'tc08_daq/Nitro_Reservoir', 'tc08_daq/Slope', 'tc08_daq/Storage_1', 'tc08_daq/Storage_2', 'tc08_daq/Xe_Cell_Bottom', 'tc08_daq/Xe_Cell_Outside', 'tc08_daq/Xe_Cell_Top'])\n",
      "Not in channel list  Inter\n",
      "Not in channel list  Slope\n",
      "Not in channel list  Inter\n",
      "Not in channel list  Slope\n",
      "Time offset 41096\n",
      "dict_keys(['omb_daq/Flow_Meter', 'omb_daq/Inter', 'omb_daq/Liquid_Nitro_Valve', 'omb_daq/PID_Heater', 'omb_daq/Pressure_Cryostat', 'omb_daq/Pressure_Manifold', 'omb_daq/Pressure_Nitro', 'omb_daq/Slope', 'pid_info/Heater_State', 'pid_info/Nitro_Baseline', 'pid_info/Nitro_Weigth', 'pid_info/Target_Channel', 'pid_info/Target_Temperature', 'pid_info/Time', 'pid_info/Valve_State', 'tc08_daq/Cold_Finger', 'tc08_daq/Cryostat_Top', 'tc08_daq/Inter', 'tc08_daq/Nitro_Reservoir', 'tc08_daq/Slope', 'tc08_daq/Storage_1', 'tc08_daq/Storage_2', 'tc08_daq/Xe_Cell_Bottom', 'tc08_daq/Xe_Cell_Outside', 'tc08_daq/Xe_Cell_Top'])\n",
      "Not in channel list  Inter\n",
      "Not in channel list  Slope\n",
      "Not in channel list  Inter\n",
      "Not in channel list  Slope\n",
      "Time offset 43838\n",
      "dict_keys(['omb_daq/Flow_Meter', 'omb_daq/Inter', 'omb_daq/Liquid_Nitro_Valve', 'omb_daq/PID_Heater', 'omb_daq/Pressure_Cryostat', 'omb_daq/Pressure_Manifold', 'omb_daq/Pressure_Nitro', 'omb_daq/Slope', 'pid_info/Heater_State', 'pid_info/Nitro_Baseline', 'pid_info/Nitro_Weigth', 'pid_info/Target_Channel', 'pid_info/Target_Temperature', 'pid_info/Time', 'pid_info/Valve_State', 'tc08_daq/Cold_Finger', 'tc08_daq/Cryostat_Top', 'tc08_daq/Inter', 'tc08_daq/Nitro_Reservoir', 'tc08_daq/Slope', 'tc08_daq/Storage_1', 'tc08_daq/Storage_2', 'tc08_daq/Xe_Cell_Bottom', 'tc08_daq/Xe_Cell_Outside', 'tc08_daq/Xe_Cell_Top'])\n",
      "Not in channel list  Inter\n",
      "Not in channel list  Slope\n",
      "Not in channel list  Inter\n",
      "Not in channel list  Slope\n"
     ]
    },
    {
     "data": {
      "text/plain": [
       "Text(0.5, 1.0, 'Thermocouple Data on May 23rd')"
      ]
     },
     "execution_count": 188,
     "metadata": {},
     "output_type": "execute_result"
    },
    {
     "data": {
      "image/png": "[encoded data removed]",
      "text/plain": [
       "<Figure size 640x480 with 1 Axes>"
      ]
     },
     "metadata": {},
     "output_type": "display_data"
    }
   ],
   "source": [
    "\n",
    "date=20240523\n",
    "data_loc=env_var_dataloc\n",
    "search_term=data_loc+str(date)+\"*_[2,3,5,8]*\"\n",
    "file_list = glob.glob(search_term)\n",
    "\n",
    "\n",
    "print(file_list)\n",
    "\n",
    "slowcontrol_dict_list=[]\n",
    "\n",
    "for file in file_list:\n",
    "    if os.path.getsize(file) <=35000:\n",
    "        continue\n",
    "    slowcontrol_dict_list.append(pd.DataFrame.from_dict(calib_dict_wtime(file)))\n",
    "DF=pd.concat(slowcontrol_dict_list)\n",
    "\n",
    "plt.errorbar(DF[\"Time\"][::60]/60.0,DF[\"Pressure_Cryostat\"][::60], fmt=\"h\", label=\"Pressure at top of cell\")\n",
    "#plt.errorbar(DF_June06[\"Time\"][::60]/60.0,DF_June06[\"Xe_Cell_Top\"][::60], fmt=\"x\", label=\"Top of drift cell\")\n",
    "#plt.errorbar(DF_June06[\"Time\"][::60]/60.0,DF_June06[\"Xe_Cell_3\"][::60], fmt=\"p\")\n",
    "plt.grid()\n",
    "plt.legend()\n",
    "#plt.xlim(550,800)\n",
    "#plt.ylim(160,220)\n",
    "plt.title(\"Thermocouple Data on May 23rd\")"
   ]
  },
  {
   "cell_type": "code",
   "execution_count": null,
   "metadata": {},
   "outputs": [
    {
     "data": {
      "text/plain": [
       "Text(0.5, 1.0, 'Thermocouple Data on May 23rd')"
      ]
     },
     "execution_count": 190,
     "metadata": {},
     "output_type": "execute_result"
    },
    {
     "data": {
      "image/png": "[encoded data removed]",
      "text/plain": [
       "<Figure size 640x480 with 1 Axes>"
      ]
     },
     "metadata": {},
     "output_type": "display_data"
    }
   ],
   "source": [
    "plt.errorbar(DF[\"Time\"][::60]/60.0,DF[\"Xe_Cell_Bottom\"][::60], fmt=\"h\", label=\"Bottom of drift cell\")\n",
    "#plt.errorbar(DF_June06[\"Time\"][::60]/60.0,DF_June06[\"Xe_Cell_Top\"][::60], fmt=\"x\", label=\"Top of drift cell\")\n",
    "#plt.errorbar(DF_June06[\"Time\"][::60]/60.0,DF_June06[\"Xe_Cell_3\"][::60], fmt=\"p\")\n",
    "plt.grid()\n",
    "plt.legend()\n",
    "#plt.xlim(550,800)\n",
    "#plt.ylim(160,220)\n",
    "plt.title(\"Thermocouple Data on May 23rd\")"
   ]
  },
  {
   "cell_type": "code",
   "execution_count": null,
   "metadata": {},
   "outputs": [
    {
     "data": {
      "text/plain": [
       "list"
      ]
     },
     "execution_count": 306,
     "metadata": {},
     "output_type": "execute_result"
    }
   ],
   "source": [
    "date=[\"20240202\"]\n",
    "type(date)"
   ]
  },
  {
   "cell_type": "code",
   "execution_count": null,
   "metadata": {},
   "outputs": [],
   "source": [
    "date=20240528\n",
    "\n",
    "print(GetAllFiles(date))\n",
    "DF=Get_SlowControl_DF(date)\n"
   ]
  },
  {
   "cell_type": "code",
   "execution_count": 145,
   "metadata": {},
   "outputs": [
    {
     "name": "stdout",
     "output_type": "stream",
     "text": [
      "Saturation\n",
      "Saturation\n",
      "Saturation\n",
      "[ 5636  6701  6746 11316] 10133.816097259521 20716.33124987284\n"
     ]
    }
   ],
   "source": [
    "flow_threshold=0.0055\n",
    "\n",
    "\n",
    "xenon_density_at_0C_1atm=(0.0058592+0.0059401)/2.0  # Density of gaseous xenon at 0C and 1 atm from a nist table  in [g/ml]- used psia of 14.6 and 14.8 to average for 14.7\n",
    "xenon_flow_conversionfactor=1.32 # This is pulled from page 68 from the MKS manuel. Table of correction factors\n",
    "\n",
    "\n",
    "flow_sum=0\n",
    "a=[]\n",
    "flow_intergration=0\n",
    "flow_itergartion_list=[]\n",
    "flow_running_sum=[]\n",
    "flow_list=[]\n",
    "for i,flow in enumerate(DF[\"Flow_Meter\"]):\n",
    "    if flow <= flow_threshold:\n",
    "        flow=0     \n",
    "    if i == 0 or i == len(DF[\"Flow_Meter\"])-1:\n",
    "        a.append(1)\n",
    "    elif i%2 == 1:\n",
    "        a.append(4)\n",
    "    else:\n",
    "        a.append(2)\n",
    "    flow_list.append(flow)\n",
    "    if flow>=5:\n",
    "        print(\"Saturation\")\n",
    "    flow_intergration = (2/3) * sum(np.array(a)*np.array(flow_list))\n",
    "    flow_itergartion_list.append(flow_intergration)\n",
    "\n",
    "    flow_sum = flow*2+flow_sum\n",
    "    flow_running_sum.append(flow_sum)\n",
    "\n",
    "\n",
    "DF[\"Flow_Iter\"] = flow_itergartion_list\n",
    "\n",
    "\n",
    "xloc_of_mid=np.where(np.abs(DF[\"Flow_Meter\"].diff(1500)) < 0.0000005)[0]\n",
    "yval_of_mid=DF[\"Flow_Iter\"].loc[np.where(DF[\"Flow_Meter\"].diff(1500) < 0.0000005)[0][0]]\n",
    "yval_of_end=DF[\"Flow_Iter\"].loc[np.where(DF[\"Flow_Meter\"].diff(1500) < 0.0000005)[0][-1]]\n",
    "print(xloc_of_mid,yval_of_mid,yval_of_end)"
   ]
  },
  {
   "cell_type": "code",
   "execution_count": 143,
   "metadata": {},
   "outputs": [
    {
     "name": "stderr",
     "output_type": "stream",
     "text": [
      "No artists with labels found to put in legend.  Note that artists whose label start with an underscore are ignored when legend() is called with no argument.\n"
     ]
    },
    {
     "name": "stdout",
     "output_type": "stream",
     "text": [
      "Start of the day, since timezero 44323200.0\n",
      "Start of file  44356782.0\n",
      "Start of file  33582.0\n"
     ]
    },
    {
     "data": {
      "text/plain": [
       "Text(0.5, 0, 'Time ')"
      ]
     },
     "execution_count": 143,
     "metadata": {},
     "output_type": "execute_result"
    },
    {
     "data": {
      "image/png": "[encoded data removed]",
      "text/plain": [
       "<Figure size 640x480 with 1 Axes>"
      ]
     },
     "metadata": {},
     "output_type": "display_data"
    }
   ],
   "source": [
    "\n",
    "\n",
    "timeo=(datetime.datetime(2024,5,28,0,0,0)-TimeZero).total_seconds()\n",
    "print(\"Start of the day, since timezero\" ,timeo)\n",
    "print(\"Start of file \" ,DF[\"Time\"].iloc[0])\n",
    "print(\"Start of file \", DF[\"Time\"].iloc[0]-timeo)\n",
    "\n",
    "\n",
    "plt.errorbar(x=(DF[\"Time\"][::])-timeo , y=DF[\"Flow_Meter\"][::], fmt=\"h\")\n",
    "\n",
    "plt.errorbar(x=(DF[\"Time\"][::])-timeo , y=DF[\"Flow_Iter\"][::], fmt=\"h\")\n",
    "#plt.errorbar(x=(DF[\"Time\"][::60]-timeo)/3600.0  , y=DF[\"Target_Channel\"][::60])\n",
    "\n",
    "\n",
    "x=DF[\"Time\"][np.where(np.abs(DF[\"Flow_Meter\"].diff(1500)) < 0.0000005)[0]] -timeo \n",
    "y=3*np.ones(len(x))\n",
    "plt.errorbar(x,y,marker=\"s\",fmt=\" \")\n",
    "\n",
    "June5_dt = datetime.datetime(2024,6,6)\n",
    "\n",
    "June5_secs = (June5_dt - TimeZero).total_seconds()\n",
    "\n",
    "\n",
    "#plt.errorbar(x=np.array([June5_secs,June5_secs])/60,y=[0,5])\n",
    "#plt.errorbar(DF_June06[\"Time\"][::60]/60.0,DF_June\n",
    "# 06[\"Xe_Cell_Top\"][::60], fmt=\"x\", label=\"Top of drift cell\")\n",
    "#plt.errorbar(DF_June06[\"Time\"][::60]/60.0,DF_June06[\"Cryostat_Top\"][::60], fmt=\"x\", label=\"Top of cryo\")\n",
    "#plt\n",
    "# .errorbar(DF_June06[\"Time\"][::60]/60.0,DF_June06[\"Xe_Cell_3\"][::60], fmt=\"p\")\n",
    "plt.grid()\n",
    "plt.legend()\n",
    "#plt.xlim(550,800)\n",
    "#plt.ylim(4000,6000)\n",
    "#plt.title(\"Thermocouple Data on June 6th\")\n",
    "plt.xlabel(\"Time \")\n",
    "\n",
    "#plt.ylabel(\"Temperature [K]\")\n",
    "#plt.xlim(37500,49000)"
   ]
  },
  {
   "cell_type": "code",
   "execution_count": 118,
   "metadata": {},
   "outputs": [
    {
     "data": {
      "text/plain": [
       "<ErrorbarContainer object of 3 artists>"
      ]
     },
     "execution_count": 118,
     "metadata": {},
     "output_type": "execute_result"
    },
    {
     "data": {
      "image/png": "[encoded data removed]",
      "text/plain": [
       "<Figure size 640x480 with 1 Axes>"
      ]
     },
     "metadata": {},
     "output_type": "display_data"
    }
   ],
   "source": [
    "x1_stop=4000\n",
    "x2_start=6310\n",
    "\n",
    "x1=DF[\"Time\"][:x1_stop]\n",
    "y1=DF[\"Flow_Meter\"][:x1_stop]\n",
    "\n",
    "x2=DF[\"Time\"][x2_start:]\n",
    "y2=DF[\"Flow_Meter\"][x2_start:]\n",
    "\n",
    "\n",
    "plt.errorbar(x1-x1.iloc[0],y1,marker=\"x\",fmt=\" \")\n",
    "plt.errorbar(x2-x2.iloc[0],y2,marker=\"+\",fmt=\" \")\n",
    "#plt.xlim(1000,2000)\n",
    "\n",
    "\n",
    "\n",
    "\n",
    "\n"
   ]
  },
  {
   "cell_type": "markdown",
   "metadata": {},
   "source": [
    "#### Total Flow sum for two complete pass cycles"
   ]
  },
  {
   "cell_type": "code",
   "execution_count": 60,
   "metadata": {},
   "outputs": [],
   "source": [
    "# Pulls data from a double round of purification passes to attempt a flow meter itergration calibration\n",
    "Calib_FlowIter_1 = 5080.177172\n",
    "Calib_FlowIter_2 = 10371.57745-5080.177172"
   ]
  },
  {
   "cell_type": "code",
   "execution_count": 62,
   "metadata": {},
   "outputs": [
    {
     "data": {
      "text/plain": [
       "1.0415779014881965"
      ]
     },
     "execution_count": 62,
     "metadata": {},
     "output_type": "execute_result"
    }
   ],
   "source": [
    "Calib_FlowIter_2/Calib_FlowIter_1"
   ]
  },
  {
   "cell_type": "code",
   "execution_count": 159,
   "metadata": {},
   "outputs": [
    {
     "name": "stdout",
     "output_type": "stream",
     "text": [
      "['A:/DATA\\\\20240528_slow_control.h5']\n",
      "{'year': 2024, 'mon': 5, 'day': 28, 'hour': 9, 'min': 19, 'sec': 42} 2024-05-28 09:19:42\n",
      "Time offset 44356782.0\n",
      "dict_keys(['omb_daq/Flow_Meter', 'omb_daq/Inter', 'omb_daq/Liquid_Nitro_Valve', 'omb_daq/PID_Heater', 'omb_daq/Pressure_Cryostat', 'omb_daq/Pressure_Manifold', 'omb_daq/Pressure_Nitro', 'omb_daq/Slope', 'pid_info/Heater_State', 'pid_info/Nitro_Baseline', 'pid_info/Nitro_Weigth', 'pid_info/Target_Channel', 'pid_info/Target_Temperature', 'pid_info/Time', 'pid_info/Valve_State', 'tc08_daq/Cold_Finger', 'tc08_daq/Cryostat_Top', 'tc08_daq/Inter', 'tc08_daq/Nitro_Reservoir', 'tc08_daq/Slope', 'tc08_daq/Storage_1', 'tc08_daq/Storage_2', 'tc08_daq/Xe_Cell_Bottom', 'tc08_daq/Xe_Cell_Outside', 'tc08_daq/Xe_Cell_Top'])\n",
      "Not in channel list  Inter\n",
      "Not in channel list  Slope\n",
      "Not in channel list  Inter\n",
      "Not in channel list  Slope\n"
     ]
    }
   ],
   "source": [
    "date=20240528\n",
    "\n",
    "print(GetAllFiles(date))\n",
    "DF=Get_SlowControl_DF(date)"
   ]
  },
  {
   "cell_type": "code",
   "execution_count": 163,
   "metadata": {},
   "outputs": [
    {
     "name": "stdout",
     "output_type": "stream",
     "text": [
      "Saturation\n",
      "Saturation\n",
      "Saturation\n",
      "[ 5636  6701  6746 11316] 3587.158088291825 7333.146219498719\n"
     ]
    }
   ],
   "source": [
    "\n",
    "\n",
    "\n",
    "flow_threshold=0.0055\n",
    "\n",
    "\n",
    "xenon_density_at_0C_1atm=(0.0058592+0.0059401)/2.0  # Density of gaseous xenon at 0C and 1 atm from a nist table - used psia of 14.6 and 14.8 to average for 14.7\n",
    "xenon_flow_conversionfactor=1.32 # This is pulled from page 68 from the MKS manuel. Table of correction factors\n",
    "\n",
    "\n",
    "flow_sum=0\n",
    "a=[]\n",
    "flow_intergration=0\n",
    "flow_itergartion_list=[]\n",
    "flow_running_sum=[]\n",
    "flow_list=[]\n",
    "for i,flow in enumerate(DF[\"Flow_Meter\"]):\n",
    "    if flow <= flow_threshold:\n",
    "        flow=0     \n",
    "    if i == 0 or i == len(DF[\"Flow_Meter\"])-1:\n",
    "        a.append(1)\n",
    "    elif i%2 == 1:\n",
    "        a.append(4)\n",
    "    else:\n",
    "        a.append(2)\n",
    "    flow_list.append(flow*60*xenon_density_at_0C_1atm)\n",
    "    if flow>=5:\n",
    "        print(\"Saturation\")\n",
    "    flow_intergration = (2/3) * sum(np.array(a)*np.array(flow_list))\n",
    "    flow_itergartion_list.append(flow_intergration)\n",
    "\n",
    "    flow_sum = flow*2+flow_sum\n",
    "    flow_running_sum.append(flow_sum)\n",
    "\n",
    "\n",
    "DF[\"Flow_Iter\"] = flow_itergartion_list\n",
    "\n",
    "\n",
    "xloc_of_mid=np.where(np.abs(DF[\"Flow_Meter\"].diff(1500)) < 0.0000005)[0]\n",
    "yval_of_mid=DF[\"Flow_Iter\"].loc[np.where(DF[\"Flow_Meter\"].diff(1500) < 0.000005)[0][0]]\n",
    "yval_of_end=DF[\"Flow_Iter\"].loc[np.where(DF[\"Flow_Meter\"].diff(1500) < 0.0000005)[0][-1]]\n",
    "\n",
    "print(xloc_of_mid,yval_of_mid,yval_of_end)"
   ]
  },
  {
   "cell_type": "code",
   "execution_count": 164,
   "metadata": {},
   "outputs": [
    {
     "name": "stderr",
     "output_type": "stream",
     "text": [
      "No artists with labels found to put in legend.  Note that artists whose label start with an underscore are ignored when legend() is called with no argument.\n"
     ]
    },
    {
     "name": "stdout",
     "output_type": "stream",
     "text": [
      "Start of the day, since timezero 44323200.0\n",
      "Start of file  44356782.0\n",
      "Start of file  33582.0\n"
     ]
    },
    {
     "data": {
      "text/plain": [
       "Text(0.5, 0, 'Time ')"
      ]
     },
     "execution_count": 164,
     "metadata": {},
     "output_type": "execute_result"
    },
    {
     "data": {
      "image/png": "[encoded data removed]",
      "text/plain": [
       "<Figure size 640x480 with 1 Axes>"
      ]
     },
     "metadata": {},
     "output_type": "display_data"
    }
   ],
   "source": [
    "\n",
    "\n",
    "timeo=(datetime.datetime(2024,5,28,0,0,0)-TimeZero).total_seconds()\n",
    "print(\"Start of the day, since timezero\" ,timeo)\n",
    "print(\"Start of file \" ,DF[\"Time\"].iloc[0])\n",
    "print(\"Start of file \", DF[\"Time\"].iloc[0]-timeo)\n",
    "\n",
    "\n",
    "plt.errorbar(x=(DF[\"Time\"][::])-timeo , y=DF[\"Flow_Meter\"][::], fmt=\"h\")\n",
    "\n",
    "#plt.errorbar(x=(DF[\"Time\"][::])-timeo , y=DF[\"Flow_Iter\"][::], fmt=\"h\")\n",
    "#plt.errorbar(x=(DF[\"Time\"][::60]-timeo)/3600.0  , y=DF[\"Target_Channel\"][::60])\n",
    "\n",
    "\n",
    "x=DF[\"Time\"][np.where(np.abs(DF[\"Flow_Meter\"].diff(1500)) < 0.0000005)[0]] -timeo \n",
    "y=3*np.ones(len(x))\n",
    "plt.errorbar(x,y,marker=\"s\",fmt=\" \")\n",
    "\n",
    "June5_dt = datetime.datetime(2024,6,6)\n",
    "\n",
    "June5_secs = (June5_dt - TimeZero).total_seconds()\n",
    "\n",
    "\n",
    "#plt.errorbar(x=np.array([June5_secs,June5_secs])/60,y=[0,5])\n",
    "#plt.errorbar(DF_June06[\"Time\"][::60]/60.0,DF_June\n",
    "# 06[\"Xe_Cell_Top\"][::60], fmt=\"x\", label=\"Top of drift cell\")\n",
    "#plt.errorbar(DF_June06[\"Time\"][::60]/60.0,DF_June06[\"Cryostat_Top\"][::60], fmt=\"x\", label=\"Top of cryo\")\n",
    "#plt\n",
    "# .errorbar(DF_June06[\"Time\"][::60]/60.0,DF_June06[\"Xe_Cell_3\"][::60], fmt=\"p\")\n",
    "plt.grid()\n",
    "plt.legend()\n",
    "\n",
    "#plt.xlim(550,800)\n",
    "#plt.ylim(4000,6000)\n",
    "#plt.title(\"Thermocouple Data on June 6th\")\n",
    "plt.xlabel(\"Time \")\n",
    "\n",
    "#plt.ylabel(\"Temperature [K]\")\n",
    "#plt.xlim(37500,49000)"
   ]
  }
 ],
 "metadata": {
  "kernelspec": {
   "display_name": "Python 3",
   "language": "python",
   "name": "python3"
  },
  "language_info": {
   "codemirror_mode": {
    "name": "ipython",
    "version": 3
   },
   "file_extension": ".py",
   "mimetype": "text/x-python",
   "name": "python",
   "nbconvert_exporter": "python",
   "pygments_lexer": "ipython3",
   "version": "3.11.4"
  }
 },
 "nbformat": 4,
 "nbformat_minor": 2
}
