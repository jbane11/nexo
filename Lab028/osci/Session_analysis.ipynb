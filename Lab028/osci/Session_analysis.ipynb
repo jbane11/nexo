{
 "cells": [
  {
   "cell_type": "code",
   "execution_count": 2,
   "id": "79c12234",
   "metadata": {},
   "outputs": [],
   "source": [
    "#Import needed libraries\n",
    "import h5py\n",
    "import pandas as pd\n",
    "import numpy as np\n",
    "import matplotlib.pyplot as plt\n",
    "import glob\n",
    "import csv\n",
    "import datetime\n",
    "import os,platform\n",
    "from scipy.optimize import curve_fit\n",
    "import scipy\n",
    "from scipy.fft import fft, rfft, irfft,ifft,fftfreq\n",
    "from scipy.signal import argrelextrema\n",
    "from scipy.stats import norm\n",
    "from lmfit.models import SkewedGaussianModel\n",
    "import re\n",
    "import sqlite3\n",
    "\n",
    "# Please update these path varibles to your local machine.\n",
    "env_session_file_location = r\"\\\\172.24.54.234\\\\NAS-Lab28\\\\Data\"\n",
    "NAS_Path = r\"\\\\172.24.54.234\\\\NAS-Lab28\"\n",
    "Plot_path= r\"\\\\172.24.54.234\\\\NAS-Lab28\\\\Users\\\\Bane\\\\Plots\"\n"
   ]
  },
  {
   "cell_type": "code",
   "execution_count": null,
   "id": "4ddd3775",
   "metadata": {},
   "outputs": [],
   "source": []
  },
  {
   "cell_type": "markdown",
   "id": "8aff9dde",
   "metadata": {},
   "source": [
    "# Session Analysis"
   ]
  },
  {
   "cell_type": "markdown",
   "id": "b56fc217",
   "metadata": {},
   "source": [
    "## Build Run list from new database"
   ]
  },
  {
   "cell_type": "code",
   "execution_count": null,
   "id": "620a5939",
   "metadata": {},
   "outputs": [
    {
     "data": {
      "text/plain": [
       "'Laser power measurments'"
      ]
     },
     "execution_count": 6,
     "metadata": {},
     "output_type": "execute_result"
    }
   ],
   "source": [
    "Connection = sqlite3.connect(NAS_Path+\"\\\\Data\\\\lab_28_run.db\")\n",
    "RunDatabase = pd.read_sql(\"SELECT * from runs\", Connection).sort_values(by='run', ascending=False)\n",
    "\n",
    "\n"
   ]
  },
  {
   "cell_type": "code",
   "execution_count": 14,
   "id": "9db3d869",
   "metadata": {},
   "outputs": [
    {
     "name": "stdout",
     "output_type": "stream",
     "text": [
      "\\\\172.24.54.234\\\\NAS-Lab28\\\\Data\\\\024_241030.h5\n"
     ]
    },
    {
     "data": {
      "text/plain": [
       "run                                                    500\n",
       "old_run_name                                20241030-00295\n",
       "session                                                 24\n",
       "date                                                241030\n",
       "configuration                                           32\n",
       "grid                                                   2.0\n",
       "run_type                                     commissioning\n",
       "cathode_V                                              0.0\n",
       "cathode_V_err                                          0.5\n",
       "cathode_grid_V                                         0.0\n",
       "cathode_grid_V_err                                     0.5\n",
       "anode_grid_V           b'\\x00\\x00\\x00\\x00\\x00\\x00\\x00\\x00'\n",
       "anode_grid_V_err                                       0.5\n",
       "anode_V                                                0.0\n",
       "anode_V_err                                            0.5\n",
       "laser_A                                               27.5\n",
       "laser_A_err                                           0.17\n",
       "laser_Hz                                             600.0\n",
       "medium                                              vacuum\n",
       "rtd_1_K                                                0.0\n",
       "rtd_1_K_err                                            0.1\n",
       "rtd_2_K                                                0.0\n",
       "rtd_2_K_err                                            0.1\n",
       "rtd_3_K                                                0.0\n",
       "rtd_3_K_err                                            0.1\n",
       "rtd_4_K                                                0.0\n",
       "rtd_4_K_err                                            0.1\n",
       "cryostat_bar                                           0.0\n",
       "cryostat_bar_err                                  0.000069\n",
       "time_window_ns                                      1000.0\n",
       "drift_length_mm                                       20.9\n",
       "drift_length_mm_err                                   0.05\n",
       "run_notes                          Laser power measurments\n",
       "Name: 499, dtype: object"
      ]
     },
     "execution_count": 14,
     "metadata": {},
     "output_type": "execute_result"
    }
   ],
   "source": [
    "rn = 500\n",
    "RunInfo = RunDatabase.query(f'run == {rn}').iloc[0]\n",
    "\n",
    "\n",
    "session_file_name= f\"{env_session_file_location}\\\\\\{RunInfo['session']:03}_{RunInfo['date']}.h5\"\n",
    "print(session_file_name)\n",
    "RunInfo"
   ]
  },
  {
   "cell_type": "code",
   "execution_count": null,
   "id": "169c55a0",
   "metadata": {},
   "outputs": [
    {
     "name": "stdout",
     "output_type": "stream",
     "text": [
      "<HDF5 dataset \"anode\": shape (12501,), type \"<f4\">\n"
     ]
    },
    {
     "ename": "AttributeError",
     "evalue": "'Dataset' object has no attribute 'values'",
     "output_type": "error",
     "traceback": [
      "\u001b[1;31m---------------------------------------------------------------------------\u001b[0m",
      "\u001b[1;31mAttributeError\u001b[0m                            Traceback (most recent call last)",
      "Cell \u001b[1;32mIn[27], line 15\u001b[0m\n\u001b[0;32m     12\u001b[0m     waveform_data[channel] \u001b[38;5;241m=\u001b[39m subdir[runnumber][channel]\n\u001b[0;32m     13\u001b[0m     \u001b[38;5;28mprint\u001b[39m(subdir[runnumber][channel])\n\u001b[1;32m---> 15\u001b[0m     \u001b[38;5;28mprint\u001b[39m(\u001b[43msubdir\u001b[49m\u001b[43m[\u001b[49m\u001b[43mrunnumber\u001b[49m\u001b[43m]\u001b[49m\u001b[43m[\u001b[49m\u001b[43mchannel\u001b[49m\u001b[43m]\u001b[49m\u001b[38;5;241;43m.\u001b[39;49m\u001b[43mvalues\u001b[49m[:])\n\u001b[0;32m     16\u001b[0m     \u001b[38;5;28mprint\u001b[39m(waveform_data)\n\u001b[0;32m     17\u001b[0m \u001b[38;5;28;01mbreak\u001b[39;00m\n",
      "\u001b[1;31mAttributeError\u001b[0m: 'Dataset' object has no attribute 'values'"
     ]
    }
   ],
   "source": [
    "session_files = glob.glob(env_session_file_location + \"\\\\*.h5\")\n",
    "\n",
    "for session_file in session_files:\n",
    "    # Open the HDF5 file\n",
    "    with h5py.File(session_file, 'r') as f:\n",
    "        # Check if 'data' exists in the file\n",
    "        subdir = f['run']\n",
    "        for runnumber in subdir.keys():\n",
    "            channels=subdir[runnumber].keys()\n",
    "            waveform_data={}\n",
    "            for channel in channels:\n",
    "                waveform_data[channel] = subdir[runnumber][channel]\n",
    "                print(subdir[runnumber][channel])\n",
    "\n",
    "                print(subdir[runnumber][channel])\n",
    "                print(waveform_data)\n",
    "            break\n",
    "\n",
    "\n",
    "    break\n"
   ]
  },
  {
   "cell_type": "code",
   "execution_count": null,
   "id": "e52cd0c7",
   "metadata": {},
   "outputs": [],
   "source": []
  },
  {
   "cell_type": "code",
   "execution_count": null,
   "id": "798ecd8e",
   "metadata": {},
   "outputs": [],
   "source": []
  },
  {
   "cell_type": "markdown",
   "id": "e0561f37",
   "metadata": {},
   "source": [
    "## Laser power analysis - calibration for laser settings to injected power\n"
   ]
  },
  {
   "cell_type": "code",
   "execution_count": null,
   "id": "2b2dfbe6",
   "metadata": {},
   "outputs": [],
   "source": [
    "runnumber = 500\n",
    "debug = 10\n",
    "\n",
    "#def MeasureLaserpower(runnumber=0, debug=0):\n",
    "if 1==1:\n",
    "\n",
    "    if debug >=10:\n",
    "        print(f\"Laser power analysis for Run number: {runnumber}\")\n",
    "    Runinfo = RunDatabase.query(f'run == {runnumber}').iloc[0]\n",
    "    \n",
    "\n",
    "    \n"
   ]
  }
 ],
 "metadata": {
  "kernelspec": {
   "display_name": "Python 3",
   "language": "python",
   "name": "python3"
  },
  "language_info": {
   "codemirror_mode": {
    "name": "ipython",
    "version": 3
   },
   "file_extension": ".py",
   "mimetype": "text/x-python",
   "name": "python",
   "nbconvert_exporter": "python",
   "pygments_lexer": "ipython3",
   "version": "3.10.5"
  }
 },
 "nbformat": 4,
 "nbformat_minor": 5
}
