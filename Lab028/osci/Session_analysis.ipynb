{
 "cells": [
  {
   "cell_type": "code",
   "execution_count": 1,
   "id": "79c12234",
   "metadata": {},
   "outputs": [],
   "source": [
    "#Import needed libraries\n",
    "import h5py\n",
    "import pandas as pd\n",
    "import numpy as np\n",
    "import matplotlib.pyplot as plt\n",
    "import glob\n",
    "import csv\n",
    "import datetime\n",
    "import os,platform\n",
    "from scipy.optimize import curve_fit\n",
    "import scipy\n",
    "from scipy.fft import fft, rfft, irfft,ifft,fftfreq\n",
    "from scipy.signal import argrelextrema\n",
    "from scipy.stats import norm\n",
    "from lmfit.models import SkewedGaussianModel\n",
    "import re\n",
    "\n",
    "# Please update these path varibles to your local machine.\n",
    "env_session_file_location = r\"\\\\172.24.54.234\\\\NAS-Lab28\\\\Data\"\n",
    "NAS_Path = r\"\\\\172.24.54.234\\\\NAS-Lab28\"\n",
    "Plot_path= r\"\\\\172.24.54.234\\\\NAS-Lab28\\\\Users\\\\Bane\\\\Plots\"\n"
   ]
  },
  {
   "cell_type": "code",
   "execution_count": null,
   "id": "e52cd0c7",
   "metadata": {},
   "outputs": [],
   "source": []
  }
 ],
 "metadata": {
  "kernelspec": {
   "display_name": "Python 3",
   "language": "python",
   "name": "python3"
  },
  "language_info": {
   "codemirror_mode": {
    "name": "ipython",
    "version": 3
   },
   "file_extension": ".py",
   "mimetype": "text/x-python",
   "name": "python",
   "nbconvert_exporter": "python",
   "pygments_lexer": "ipython3",
   "version": "3.10.5"
  }
 },
 "nbformat": 4,
 "nbformat_minor": 5
}
