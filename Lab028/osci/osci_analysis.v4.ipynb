{
 "cells": [
  {
   "cell_type": "markdown",
   "metadata": {},
   "source": [
    "# Oscilloscope Analaysis for Lab 28\n",
    "\n",
    "#### Header info"
   ]
  },
  {
   "cell_type": "code",
   "execution_count": 35,
   "metadata": {},
   "outputs": [],
   "source": [
    "#Import needed libraries\n",
    "import h5py\n",
    "import pandas as pd\n",
    "import numpy as np\n",
    "import matplotlib.pyplot as plt\n",
    "import glob\n",
    "import csv\n",
    "import os,platform\n",
    "from scipy.optimize import curve_fit\n",
    "import scipy\n",
    "from scipy.fft import fft, rfft, irfft,ifft,fftfreq\n",
    "\n",
    "#Read in the runlist and save as dataframe\n",
    "Runlist= pd.read_table(\"./Runlist.tsv\")\n",
    "Runlist[\"RN\"]=pd.to_numeric(Runlist[\"RN\"])\n",
    "\n",
    "#varible for determining the lab pc or other pc, Check if windows or not, then try to grab pc name\n",
    "pcname=\"\"\n",
    "if platform.system() == \"Windows\":\n",
    "    pcname=platform.uname().node\n",
    "else:\n",
    "    try:\n",
    "        pcname=os.uname()[1]\n",
    "    except:\n",
    "        print(\"Issue with finding pc name\")\n",
    "\n",
    "env_var_wavefromloc =\"\" #varible for location of waveform data. \n",
    "data_dir_mod_old=\"\" #varible for small difference in storage managment between pc 1 and 2\n",
    "if pcname=='PHYS-PSB02802': #Lab pc 2, (Labview pc)\n",
    "    env_var_wavefromloc =\"A:/DATA/waveforms/\"\n",
    "    env_var_waveformloc_old=\"C:/Users/KK_Lab28_1/Documents/Waveforms/\"\n",
    "    data_dir_mod_old=\"\"\n",
    "\n",
    "elif pcname==\"PHYS-PSB02801\": #Lab pc 1, (solidworks pc)\n",
    "    env_var_wavefromloc =\"data/waveforms/\" #This is true for Jason's work atm (June 10th) Needs Updateing to global or user friendly verison\n",
    "    data_dir_mod_old=\"/\"\n"
   ]
  },
  {
   "cell_type": "markdown",
   "metadata": {},
   "source": [
    "## Functions "
   ]
  },
  {
   "cell_type": "code",
   "execution_count": 52,
   "metadata": {},
   "outputs": [
    {
     "name": "stdout",
     "output_type": "stream",
     "text": [
      "L23-C200-G0-A0-anode ['200']\n",
      "Voltages  ['200', '0', '0']\n",
      "Cur 23\n",
      "Number of waveforms:  0\n",
      "L23-C200-G0-A0-cathode ['200']\n",
      "Voltages  ['200', '0', '0']\n",
      "Cur 23\n",
      "Number of waveforms:  0\n",
      "L23-C200-G0-A0-grid ['200']\n",
      "Voltages  ['200', '0', '0']\n",
      "Cur 23\n",
      "Number of waveforms:  0\n",
      "L24-C300-G0-A0-anode ['300']\n",
      "Voltages  ['300', '0', '0']\n",
      "Cur 24\n",
      "Number of waveforms:  0\n",
      "L25-C1000-G0-A100-anode ['1000']\n",
      "Voltages  ['1000', '0', '100']\n",
      "Cur 25\n",
      "Number of waveforms:  0\n",
      "L25-C500-G0-A100-anode ['500']\n",
      "Voltages  ['500', '0', '100']\n",
      "Cur 25\n",
      "Number of waveforms:  0\n",
      "L26-C250-G0-A100-anode ['250']\n",
      "Voltages  ['250', '0', '100']\n",
      "Cur 26\n",
      "Number of waveforms:  0\n",
      "-noise []\n",
      "Voltages  [0, 0, 0]\n",
      "Cur 0\n",
      "Number of waveforms:  0\n",
      "8\n"
     ]
    },
    {
     "name": "stderr",
     "output_type": "stream",
     "text": [
      "c:\\Python\\3_114\\Lib\\site-packages\\numpy\\lib\\function_base.py:520: RuntimeWarning: Mean of empty slice.\n",
      "  avg = a.mean(axis, **keepdims_kw)\n",
      "c:\\Python\\3_114\\Lib\\site-packages\\numpy\\core\\_methods.py:129: RuntimeWarning: invalid value encountered in scalar divide\n",
      "  ret = ret.dtype.type(ret / rcount)\n"
     ]
    }
   ],
   "source": [
    "\n",
    "\n",
    "#def grab_waveform_avg(waveform_path):\n",
    "if 1==1:\n",
    "    Runs=[]\n",
    "\n",
    "    if 1==1:\n",
    "        #print(waveform_path)\n",
    "        dirlist = glob.glob(waveform_path+\"*\")\n",
    "        #print(dirlist)\n",
    "        for  dir in dirlist:\n",
    "            dir = dir.replace(\"\\\\\",\"/\")\n",
    "            subname= dir.replace(waveform_path,\"\")\n",
    "            delim=\"-\"\n",
    "            name_sep= subname.split(delim)\n",
    "            \n",
    "            subname=subname.replace(\"\\\\\",\"\")\n",
    "            subname=subname.replace(str(waveform_date),\"\")\n",
    "            subname=subname.replace(\"%sL\"%(delim),\"L\")\n",
    "                 \n",
    "            if \"noise\" in dir:\n",
    "                LaserCur=0\n",
    "                Voltags=[0,0,0]\n",
    "                        \n",
    "            key=\"L\"\n",
    "            item =[ i for i in name_sep if i.find(key) >= 0]\n",
    "            \n",
    "            result=[ i.replace(key,\"\") for i in item ]\n",
    "            LaserCur=result[0] if len(result)>0  else 0\n",
    "\n",
    "            key=\"C\"\n",
    "            item =[ i for i in name_sep if i.find(key) >= 0]\n",
    "            result=[ i.replace(key,\"\") for i in item ]\n",
    "            CathPot=  result[0] if len(result)>0  else 0\n",
    "            print(subname,result)\n",
    "\n",
    "            key=\"G\"\n",
    "            item =[ i for i in name_sep if i.find(key) >= 0]\n",
    "            result=[ i.replace(key,\"\") for i in item ]\n",
    "            GridPot=  result[0] if len(result)>0  else 0\n",
    "\n",
    "            key=\"A\"\n",
    "            item =[ i for i in name_sep if i.find(key) >= 0]\n",
    "            result=[ i.replace(key,\"\") for i in item ]\n",
    "            AnodePot=  result[0] if len(result)>0  else 0\n",
    "\n",
    "            #print(\"check\" ,spec_loc,Apos_end)\n",
    "            #print(stringtest[:Apos_end])\n",
    "            #if AnodePos\n",
    "\n",
    "            Voltags=[CathPot,GridPot,AnodePot]\n",
    "          \n",
    "\n",
    "            #Build up file name from the base name and path\n",
    "            subname=subname.replace(\"-n\",\"n\")\n",
    "            #print(waveform_path)\n",
    "            file_base=waveform_path+\"/\"+str(waveform_date)+delim +subname\n",
    "            if subname.find(\"vac_uv\")>=0:\n",
    "                continue\n",
    "            #print(file_base)\n",
    "            file_list= glob.glob(file_base+\"/*.csv\")\n",
    "\n",
    "            #print(\"list\\n\",file_list)\n",
    "            #prepare list for each channel for every waveform\n",
    "            waveforms=[]\n",
    "            ChAs=[] \n",
    "            ChBs=[]\n",
    "            ChCs=[]\n",
    "            Times=[]\n",
    "            #print(file_base)\n",
    "            if len(file_list)<0:\n",
    "                print(\"No files found\")\n",
    "                break\n",
    "        #        return 0\n",
    "\n",
    "            #Loop through each file(waveform) \n",
    "            print(\"Number of waveforms: \", len(file_list))\n",
    "            for file in file_list:\n",
    "                #print(\"/t\",file)\n",
    "                waveform=pd.read_csv(file,skiprows=[1,2])#Read in the csv info into datafram\n",
    "                \n",
    "                #Grab each column and build 2D array with time steps for each channel then appended through each waveform\n",
    "                Times.append(np.array(waveform[\"Time\"]))\n",
    "                ChAs.append(np.array(waveform[\"Channel A\"]))\n",
    "                ChBs.append(np.array(waveform[\"Channel B\"]))\n",
    "                ChCs.append(np.array(waveform[\"Channel C\"]))\n",
    "                \n",
    "\n",
    "                            \n",
    "            #average each channel\n",
    "            Time=np.average(Times, axis=0)\n",
    "            ChA=np.average(ChAs, axis=0)*1000\n",
    "            ChB=np.average(ChBs, axis=0)\n",
    "            ChC=np.average(ChCs, axis=0)\n",
    "\n",
    "            waveform_dict={}\n",
    "            waveform_dict[\"Time\"]=Time\n",
    "            waveform_dict[\"Pickoff\"]=ChA\n",
    "            waveform_dict[\"PreAmp\"]=ChB\n",
    "            waveform_dict[\"Shaper\"]=ChC\n",
    "\n",
    "            waveform_dict[\"LaserCur\"]=LaserCur\n",
    "            waveform_dict[\"Cathode\"]=int(Voltags[0])\n",
    "            waveform_dict[\"Grid\"]   =int(Voltags[1])\n",
    "            waveform_dict[\"Anode\"]  =int(Voltags[2])\n",
    "            waveform_dict[\"Info\"]   =name_sep[-2]+\"-\" +name_sep[-1]\n",
    " \n",
    "        # print(waveform_dict[\"LaserCur\"])\n",
    "            Runs.append(waveform_dict)\n",
    "        print(len(Runs))\n",
    "    #    return waveform_dict\n",
    "\n",
    "\n",
    "#        return Runs\n",
    "\n"
   ]
  },
  {
   "cell_type": "code",
   "execution_count": 36,
   "metadata": {},
   "outputs": [
    {
     "name": "stdout",
     "output_type": "stream",
     "text": [
      "C:/Users/KK_Lab28_1/Documents/Waveforms/20231110\n",
      "[]\n",
      "0\n"
     ]
    }
   ],
   "source": [
    "waveform_date=20231110\n",
    "waveform_path=\"%s%s\"%(env_var_waveformloc_old,str(waveform_date))\n",
    "\n",
    "Runs= grab_waveform_avg(waveform_path)\n"
   ]
  },
  {
   "cell_type": "code",
   "execution_count": 33,
   "metadata": {},
   "outputs": [
    {
     "name": "stdout",
     "output_type": "stream",
     "text": [
      "0\n"
     ]
    },
    {
     "data": {
      "text/plain": [
       "['C:/Users/KK_Lab28_1/Documents/Waveforms\\\\20231110-L23-C200-G0-A0-anode',\n",
       " 'C:/Users/KK_Lab28_1/Documents/Waveforms\\\\20231110-L23-C200-G0-A0-cathode',\n",
       " 'C:/Users/KK_Lab28_1/Documents/Waveforms\\\\20231110-L23-C200-G0-A0-grid',\n",
       " 'C:/Users/KK_Lab28_1/Documents/Waveforms\\\\20231110-L24-C300-G0-A0-anode',\n",
       " 'C:/Users/KK_Lab28_1/Documents/Waveforms\\\\20231110-L25-C1000-G0-A100-anode',\n",
       " 'C:/Users/KK_Lab28_1/Documents/Waveforms\\\\20231110-L25-C500-G0-A100-anode',\n",
       " 'C:/Users/KK_Lab28_1/Documents/Waveforms\\\\20231110-L26-C250-G0-A100-anode',\n",
       " 'C:/Users/KK_Lab28_1/Documents/Waveforms\\\\20231110-noise']"
      ]
     },
     "execution_count": 33,
     "metadata": {},
     "output_type": "execute_result"
    }
   ],
   "source": [
    "print(waveform_path[-1])\n",
    "\n",
    "\n",
    "glob.glob(\"C:/Users/KK_Lab28_1/Documents/Waveforms/20231110*\")"
   ]
  }
 ],
 "metadata": {
  "kernelspec": {
   "display_name": "Python 3",
   "language": "python",
   "name": "python3"
  },
  "language_info": {
   "codemirror_mode": {
    "name": "ipython",
    "version": 3
   },
   "file_extension": ".py",
   "mimetype": "text/x-python",
   "name": "python",
   "nbconvert_exporter": "python",
   "pygments_lexer": "ipython3",
   "version": "3.11.4"
  }
 },
 "nbformat": 4,
 "nbformat_minor": 2
}
