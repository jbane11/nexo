{
 "cells": [
  {
   "cell_type": "code",
   "execution_count": 5,
   "metadata": {},
   "outputs": [],
   "source": [
    "import h5py\n",
    "import pandas as pd\n",
    "import numpy as np\n",
    "import matplotlib.pyplot as plt\n",
    "import glob\n",
    "import csv\n",
    "import datetime\n",
    "import os,platform\n",
    "from scipy.optimize import curve_fit\n",
    "import scipy\n",
    "from scipy.fft import fft, rfft, irfft,ifft,fftfreq\n",
    "from scipy.signal import argrelextrema\n",
    "from scipy.stats import norm\n",
    "from lmfit.models import SkewedGaussianModel\n",
    "\n"
   ]
  },
  {
   "cell_type": "code",
   "execution_count": 52,
   "metadata": {},
   "outputs": [],
   "source": [
    "def GI(anode_grid_distance,wire_radius,wire_spacing):\n",
    "\n",
    "    d=anode_grid_distance\n",
    "    r=wire_radius\n",
    "    a=wire_spacing\n",
    "\n",
    "    res1 = (np.pi**2 * r**2)/a**2\n",
    "    res2 = np.log(2*np.pi*r/a)\n",
    "    res3 = a/(2*np.pi) * (( res1-res2))\n",
    "    print(res1,res2,res3)\n",
    "    return (1 + d/(res3))**(-1)\n",
    "\n",
    "\n",
    "def Rmin(wire_radius, wire_spacing):\n",
    "    r=wire_radius\n",
    "    a=wire_spacing\n",
    "    rho= 2* np.pi *r / a\n",
    "    print(rho)\n",
    "    return (1+rho)/(1-rho)\n",
    "    \n"
   ]
  },
  {
   "cell_type": "code",
   "execution_count": 56,
   "metadata": {},
   "outputs": [
    {
     "name": "stdout",
     "output_type": "stream",
     "text": [
      "0.007527141336519019 -1.7514727923575577 96.3040158149306\n"
     ]
    },
    {
     "data": {
      "text/plain": [
       "array([0.08784426, 0.06032937, 0.04999419])"
      ]
     },
     "execution_count": 56,
     "metadata": {},
     "output_type": "execute_result"
    }
   ],
   "source": [
    "GI([1000,1500,1830],19/2,344)"
   ]
  },
  {
   "cell_type": "code",
   "execution_count": 57,
   "metadata": {},
   "outputs": [
    {
     "name": "stdout",
     "output_type": "stream",
     "text": [
      "0.17351819889013392\n"
     ]
    },
    {
     "data": {
      "text/plain": [
       "1.41989599446018"
      ]
     },
     "execution_count": 57,
     "metadata": {},
     "output_type": "execute_result"
    }
   ],
   "source": [
    "Rmin(19/2,344)"
   ]
  },
  {
   "cell_type": "code",
   "execution_count": null,
   "metadata": {},
   "outputs": [],
   "source": []
  }
 ],
 "metadata": {
  "kernelspec": {
   "display_name": "Python 3",
   "language": "python",
   "name": "python3"
  },
  "language_info": {
   "codemirror_mode": {
    "name": "ipython",
    "version": 3
   },
   "file_extension": ".py",
   "mimetype": "text/x-python",
   "name": "python",
   "nbconvert_exporter": "python",
   "pygments_lexer": "ipython3",
   "version": "3.10.5"
  }
 },
 "nbformat": 4,
 "nbformat_minor": 2
}
