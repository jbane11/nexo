{
 "cells": [
  {
   "cell_type": "markdown",
   "metadata": {},
   "source": [
    "# Headers and required functions"
   ]
  },
  {
   "cell_type": "code",
   "execution_count": 1,
   "metadata": {},
   "outputs": [],
   "source": [
    "import h5py\n",
    "import pandas as pd\n",
    "import numpy as np\n",
    "import matplotlib\n",
    "import matplotlib.pyplot as plt\n",
    "import glob\n",
    "import csv\n",
    "import os\n",
    "from scipy.optimize import curve_fit\n",
    "import scipy.interpolate as interpolate\n",
    "import scipy\n",
    "from scipy.fft import fft, rfft, irfft,ifft,fftfreq\n",
    "import wget,requests\n",
    "import urllib\n",
    "from scipy.interpolate import LinearNDInterpolator\n",
    "\n",
    "\n",
    "nist_table_dir=\"./NistData\"\n",
    "\n",
    "Storage_vol=7570.82 +300## Storage volume in ml"
   ]
  },
  {
   "cell_type": "markdown",
   "metadata": {},
   "source": [
    "## Nist Tables \n",
    "Check for access to tables isobaric density tables. Get from NIST website if they do not exist. "
   ]
  },
  {
   "cell_type": "markdown",
   "metadata": {},
   "source": [
    "### Getting isobar data from nist for storage"
   ]
  },
  {
   "cell_type": "code",
   "execution_count": 2,
   "metadata": {},
   "outputs": [
    {
     "name": "stdout",
     "output_type": "stream",
     "text": [
      "Skipping ./NistData/NistData-isobar-P0.10-HighT300.00-LowT270.00-Step1.00.tsv, already exisis\n",
      "Skipping ./NistData/NistData-isobar-P25.10-HighT300.00-LowT270.00-Step1.00.tsv, already exisis\n",
      "Skipping ./NistData/NistData-isobar-P50.10-HighT300.00-LowT270.00-Step1.00.tsv, already exisis\n",
      "Skipping ./NistData/NistData-isobar-P75.10-HighT300.00-LowT270.00-Step1.00.tsv, already exisis\n",
      "Skipping ./NistData/NistData-isobar-P100.10-HighT300.00-LowT270.00-Step1.00.tsv, already exisis\n",
      "Skipping ./NistData/NistData-isobar-P125.10-HighT300.00-LowT270.00-Step1.00.tsv, already exisis\n",
      "Skipping ./NistData/NistData-isobar-P150.10-HighT300.00-LowT270.00-Step1.00.tsv, already exisis\n",
      "Skipping ./NistData/NistData-isobar-P175.10-HighT300.00-LowT270.00-Step1.00.tsv, already exisis\n",
      "Skipping ./NistData/NistData-isobar-P200.10-HighT300.00-LowT270.00-Step1.00.tsv, already exisis\n",
      "Skipping ./NistData/NistData-isobar-P225.10-HighT300.00-LowT270.00-Step1.00.tsv, already exisis\n",
      "Skipping ./NistData/NistData-isobar-P250.10-HighT300.00-LowT270.00-Step1.00.tsv, already exisis\n",
      "Skipping ./NistData/NistData-isobar-P275.10-HighT300.00-LowT270.00-Step1.00.tsv, already exisis\n",
      "Skipping ./NistData/NistData-isobar-P300.10-HighT300.00-LowT270.00-Step1.00.tsv, already exisis\n",
      "Skipping ./NistData/NistData-isobar-P325.10-HighT300.00-LowT270.00-Step1.00.tsv, already exisis\n",
      "Skipping ./NistData/NistData-isobar-P350.10-HighT300.00-LowT270.00-Step1.00.tsv, already exisis\n",
      "Skipping ./NistData/NistData-isobar-P375.10-HighT300.00-LowT270.00-Step1.00.tsv, already exisis\n",
      "Skipping ./NistData/NistData-isobar-P400.10-HighT300.00-LowT270.00-Step1.00.tsv, already exisis\n",
      "Skipping ./NistData/NistData-isobar-P425.10-HighT300.00-LowT270.00-Step1.00.tsv, already exisis\n",
      "Skipping ./NistData/NistData-isobar-P450.10-HighT300.00-LowT270.00-Step1.00.tsv, already exisis\n",
      "Skipping ./NistData/NistData-isobar-P475.10-HighT300.00-LowT270.00-Step1.00.tsv, already exisis\n",
      "Skipping ./NistData/NistData-isobar-P500.10-HighT300.00-LowT270.00-Step1.00.tsv, already exisis\n",
      "Skipping ./NistData/NistData-isobar-P525.10-HighT300.00-LowT270.00-Step1.00.tsv, already exisis\n",
      "Skipping ./NistData/NistData-isobar-P550.10-HighT300.00-LowT270.00-Step1.00.tsv, already exisis\n",
      "Skipping ./NistData/NistData-isobar-P575.10-HighT300.00-LowT270.00-Step1.00.tsv, already exisis\n",
      "Skipping ./NistData/NistData-isobar-P600.10-HighT300.00-LowT270.00-Step1.00.tsv, already exisis\n",
      "Skipping ./NistData/NistData-isobar-P625.10-HighT300.00-LowT270.00-Step1.00.tsv, already exisis\n",
      "Skipping ./NistData/NistData-isobar-P650.10-HighT300.00-LowT270.00-Step1.00.tsv, already exisis\n",
      "Skipping ./NistData/NistData-isobar-P675.10-HighT300.00-LowT270.00-Step1.00.tsv, already exisis\n",
      "Skipping ./NistData/NistData-isobar-P700.10-HighT300.00-LowT270.00-Step1.00.tsv, already exisis\n",
      "Skipping ./NistData/NistData-isobar-P725.10-HighT300.00-LowT270.00-Step1.00.tsv, already exisis\n",
      "Skipping ./NistData/NistData-isobar-P750.10-HighT300.00-LowT270.00-Step1.00.tsv, already exisis\n",
      "Skipping ./NistData/NistData-isobar-P775.10-HighT300.00-LowT270.00-Step1.00.tsv, already exisis\n",
      "Skipping ./NistData/NistData-isobar-P800.10-HighT300.00-LowT270.00-Step1.00.tsv, already exisis\n",
      "Skipping ./NistData/NistData-isobar-P825.10-HighT300.00-LowT270.00-Step1.00.tsv, already exisis\n",
      "Skipping ./NistData/NistData-isobar-P850.10-HighT300.00-LowT270.00-Step1.00.tsv, already exisis\n",
      "Skipping ./NistData/NistData-isobar-P875.10-HighT300.00-LowT270.00-Step1.00.tsv, already exisis\n"
     ]
    }
   ],
   "source": [
    "Pressure=1 \n",
    "TempHigh=300\n",
    "TempLow=270\n",
    "TempStep=1\n",
    "\n",
    "\n",
    "for Pressure in np.arange(0.1,900.1,25):\n",
    "    fname=\"NistData-isobar-P%0.2f-HighT%0.2f-LowT%0.2f-Step%0.2f.tsv\"%(Pressure,TempHigh,TempLow,TempStep)\n",
    "    filepath=\"./NistData/%s\"%(fname)\n",
    "    #print(\"https://webbook.nist.gov/cgi/fluid.cgi?Action=Data&Wide=on&ID=C7440633&Type=IsoBar&Digits=5&P=%0.2f&THigh=%0.2f&TLow=%0.2f&TInc=%0.2f&RefState=DEF&TUnit=K&PUnit=psia&DUnit=g%%2Fml&HUnit=kJ%%2Fmol&WUnit=m%%2Fs&VisUnit=uPa*s&STUnit=N%%2Fm\"%(Pressure,TempHigh,TempLow,TempStep))\n",
    "    if os.path.exists(filepath):\n",
    "        print(\"Skipping %s, already exisis\"%(filepath))\n",
    "    else:\n",
    "        url =\"https://webbook.nist.gov/cgi/fluid.cgi?Action=Data&Wide=on&ID=C7440633&Type=IsoBar&Digits=5&P=%0.2f&THigh=%0.2f&TLow=%0.2f&TInc=%0.2f&RefState=DEF&TUnit=K&PUnit=psia&DUnit=g%%2Fml&HUnit=kJ%%2Fmol&WUnit=m%%2Fs&VisUnit=uPa*s&STUnit=N%%2Fm\"%(Pressure,TempHigh,TempLow,TempStep)\n",
    "        file=wget.download(url,filepath )"
   ]
  },
  {
   "cell_type": "markdown",
   "metadata": {},
   "source": [
    "### Getting isobar data from nist for cold cell"
   ]
  },
  {
   "cell_type": "code",
   "execution_count": 3,
   "metadata": {},
   "outputs": [
    {
     "name": "stdout",
     "output_type": "stream",
     "text": [
      "Skipping ./NistData/NistData-isobar-P0.10-HighT210.00-LowT161.00-Step1.00.tsv, already exisis\n",
      "Skipping ./NistData/NistData-isobar-P0.60-HighT210.00-LowT161.00-Step1.00.tsv, already exisis\n",
      "Skipping ./NistData/NistData-isobar-P1.10-HighT210.00-LowT161.00-Step1.00.tsv, already exisis\n",
      "Skipping ./NistData/NistData-isobar-P1.60-HighT210.00-LowT161.00-Step1.00.tsv, already exisis\n",
      "Skipping ./NistData/NistData-isobar-P2.10-HighT210.00-LowT161.00-Step1.00.tsv, already exisis\n",
      "Skipping ./NistData/NistData-isobar-P2.60-HighT210.00-LowT161.00-Step1.00.tsv, already exisis\n",
      "Skipping ./NistData/NistData-isobar-P3.10-HighT210.00-LowT161.00-Step1.00.tsv, already exisis\n",
      "Skipping ./NistData/NistData-isobar-P3.60-HighT210.00-LowT161.00-Step1.00.tsv, already exisis\n",
      "Skipping ./NistData/NistData-isobar-P4.10-HighT210.00-LowT161.00-Step1.00.tsv, already exisis\n",
      "Skipping ./NistData/NistData-isobar-P4.60-HighT210.00-LowT161.00-Step1.00.tsv, already exisis\n",
      "Skipping ./NistData/NistData-isobar-P5.10-HighT210.00-LowT161.00-Step1.00.tsv, already exisis\n",
      "Skipping ./NistData/NistData-isobar-P5.60-HighT210.00-LowT161.00-Step1.00.tsv, already exisis\n",
      "Skipping ./NistData/NistData-isobar-P6.10-HighT210.00-LowT161.00-Step1.00.tsv, already exisis\n",
      "Skipping ./NistData/NistData-isobar-P6.60-HighT210.00-LowT161.00-Step1.00.tsv, already exisis\n",
      "Skipping ./NistData/NistData-isobar-P7.10-HighT210.00-LowT161.00-Step1.00.tsv, already exisis\n",
      "Skipping ./NistData/NistData-isobar-P7.60-HighT210.00-LowT161.00-Step1.00.tsv, already exisis\n",
      "Skipping ./NistData/NistData-isobar-P8.10-HighT210.00-LowT161.00-Step1.00.tsv, already exisis\n",
      "Skipping ./NistData/NistData-isobar-P8.60-HighT210.00-LowT161.00-Step1.00.tsv, already exisis\n",
      "Skipping ./NistData/NistData-isobar-P9.10-HighT210.00-LowT161.00-Step1.00.tsv, already exisis\n",
      "Skipping ./NistData/NistData-isobar-P9.60-HighT210.00-LowT161.00-Step1.00.tsv, already exisis\n",
      "Skipping ./NistData/NistData-isobar-P10.10-HighT210.00-LowT161.00-Step1.00.tsv, already exisis\n",
      "Skipping ./NistData/NistData-isobar-P10.60-HighT210.00-LowT161.00-Step1.00.tsv, already exisis\n",
      "Skipping ./NistData/NistData-isobar-P11.10-HighT210.00-LowT161.00-Step1.00.tsv, already exisis\n",
      "Skipping ./NistData/NistData-isobar-P11.60-HighT210.00-LowT161.00-Step1.00.tsv, already exisis\n",
      "Skipping ./NistData/NistData-isobar-P12.10-HighT210.00-LowT161.00-Step1.00.tsv, already exisis\n",
      "Skipping ./NistData/NistData-isobar-P12.60-HighT210.00-LowT161.00-Step1.00.tsv, already exisis\n",
      "Skipping ./NistData/NistData-isobar-P13.10-HighT210.00-LowT161.00-Step1.00.tsv, already exisis\n",
      "Skipping ./NistData/NistData-isobar-P13.60-HighT210.00-LowT161.00-Step1.00.tsv, already exisis\n",
      "Skipping ./NistData/NistData-isobar-P14.10-HighT210.00-LowT161.00-Step1.00.tsv, already exisis\n",
      "Skipping ./NistData/NistData-isobar-P14.60-HighT210.00-LowT161.00-Step1.00.tsv, already exisis\n",
      "Skipping ./NistData/NistData-isobar-P15.10-HighT210.00-LowT161.00-Step1.00.tsv, already exisis\n",
      "Skipping ./NistData/NistData-isobar-P15.60-HighT210.00-LowT161.00-Step1.00.tsv, already exisis\n",
      "Skipping ./NistData/NistData-isobar-P16.10-HighT210.00-LowT161.00-Step1.00.tsv, already exisis\n",
      "Skipping ./NistData/NistData-isobar-P16.60-HighT210.00-LowT161.00-Step1.00.tsv, already exisis\n",
      "Skipping ./NistData/NistData-isobar-P17.10-HighT210.00-LowT161.00-Step1.00.tsv, already exisis\n",
      "Skipping ./NistData/NistData-isobar-P17.60-HighT210.00-LowT161.00-Step1.00.tsv, already exisis\n",
      "Skipping ./NistData/NistData-isobar-P18.10-HighT210.00-LowT161.00-Step1.00.tsv, already exisis\n",
      "Skipping ./NistData/NistData-isobar-P18.60-HighT210.00-LowT161.00-Step1.00.tsv, already exisis\n",
      "Skipping ./NistData/NistData-isobar-P19.10-HighT210.00-LowT161.00-Step1.00.tsv, already exisis\n",
      "Skipping ./NistData/NistData-isobar-P19.60-HighT210.00-LowT161.00-Step1.00.tsv, already exisis\n",
      "Skipping ./NistData/NistData-isobar-P20.10-HighT210.00-LowT161.00-Step1.00.tsv, already exisis\n",
      "Skipping ./NistData/NistData-isobar-P20.60-HighT210.00-LowT161.00-Step1.00.tsv, already exisis\n",
      "Skipping ./NistData/NistData-isobar-P21.10-HighT210.00-LowT161.00-Step1.00.tsv, already exisis\n",
      "Skipping ./NistData/NistData-isobar-P21.60-HighT210.00-LowT161.00-Step1.00.tsv, already exisis\n",
      "Skipping ./NistData/NistData-isobar-P22.10-HighT210.00-LowT161.00-Step1.00.tsv, already exisis\n",
      "Skipping ./NistData/NistData-isobar-P22.60-HighT210.00-LowT161.00-Step1.00.tsv, already exisis\n",
      "Skipping ./NistData/NistData-isobar-P23.10-HighT210.00-LowT161.00-Step1.00.tsv, already exisis\n",
      "Skipping ./NistData/NistData-isobar-P23.60-HighT210.00-LowT161.00-Step1.00.tsv, already exisis\n",
      "Skipping ./NistData/NistData-isobar-P24.10-HighT210.00-LowT161.00-Step1.00.tsv, already exisis\n",
      "Skipping ./NistData/NistData-isobar-P24.60-HighT210.00-LowT161.00-Step1.00.tsv, already exisis\n",
      "Skipping ./NistData/NistData-isobar-P25.10-HighT210.00-LowT161.00-Step1.00.tsv, already exisis\n",
      "Skipping ./NistData/NistData-isobar-P25.60-HighT210.00-LowT161.00-Step1.00.tsv, already exisis\n",
      "Skipping ./NistData/NistData-isobar-P26.10-HighT210.00-LowT161.00-Step1.00.tsv, already exisis\n",
      "Skipping ./NistData/NistData-isobar-P26.60-HighT210.00-LowT161.00-Step1.00.tsv, already exisis\n",
      "Skipping ./NistData/NistData-isobar-P27.10-HighT210.00-LowT161.00-Step1.00.tsv, already exisis\n",
      "Skipping ./NistData/NistData-isobar-P27.60-HighT210.00-LowT161.00-Step1.00.tsv, already exisis\n",
      "Skipping ./NistData/NistData-isobar-P28.10-HighT210.00-LowT161.00-Step1.00.tsv, already exisis\n",
      "Skipping ./NistData/NistData-isobar-P28.60-HighT210.00-LowT161.00-Step1.00.tsv, already exisis\n",
      "Skipping ./NistData/NistData-isobar-P29.10-HighT210.00-LowT161.00-Step1.00.tsv, already exisis\n",
      "Skipping ./NistData/NistData-isobar-P29.60-HighT210.00-LowT161.00-Step1.00.tsv, already exisis\n"
     ]
    }
   ],
   "source": [
    "Pressure=1\n",
    "TempHigh=210\n",
    "TempLow=161\n",
    "TempStep=1\n",
    "\n",
    "\n",
    "for Pressure in np.arange(0.1,30,0.5):\n",
    "    fname=\"NistData-isobar-P%0.2f-HighT%0.2f-LowT%0.2f-Step%0.2f.tsv\"%(Pressure,TempHigh,TempLow,TempStep)\n",
    "    filepath=\"./NistData/%s\"%(fname)\n",
    "\n",
    "    \n",
    "    #print(\"https://webbook.nist.gov/cgi/fluid.cgi?Action=Data&Wide=on&ID=C7440633&Type=IsoBar&Digits=5&P=%0.2f&THigh=%0.2f&TLow=%0.2f&TInc=%0.2f&RefState=DEF&TUnit=K&PUnit=psia&DUnit=g%%2Fml&HUnit=kJ%%2Fmol&WUnit=m%%2Fs&VisUnit=uPa*s&STUnit=N%%2Fm\"%(Pressure,TempHigh,TempLow,TempStep))\n",
    "    if os.path.exists(filepath):\n",
    "        print(\"Skipping %s, already exisis\"%(filepath))\n",
    "    else:\n",
    "        url =\"https://webbook.nist.gov/cgi/fluid.cgi?Action=Data&Wide=on&ID=C7440633&Type=IsoBar&Digits=5&P=%0.2f&THigh=%0.2f&TLow=%0.2f&TInc=%0.2f&RefState=DEF&TUnit=K&PUnit=psia&DUnit=g%%2Fml&HUnit=kJ%%2Fmol&WUnit=m%%2Fs&VisUnit=uPa*s&STUnit=N%%2Fm\"%(Pressure,TempHigh,TempLow,TempStep)\n",
    "        print(\"Downloading %s\"%(url))\n",
    "        url_header= {'User-Agent': 'Mozilla/5.0 (X11; Linux x86_64) '   \n",
    "            'AppleWebKit/537.11 (KHTML, like Gecko) '\n",
    "            'Chrome/23.0.1271.64 Safari/537.11',\n",
    "            'Accept': 'text/html,application/xhtml+xml,application/xml;q=0.9,*/*;q=0.8',\n",
    "            'Accept-Charset': 'ISO-8859-1,utf-8;q=0.7,*;q=0.3',\n",
    "            'Accept-Encoding': 'none',\n",
    "            'Accept-Language': 'en-US,en;q=0.8',\n",
    "            'Connection': 'keep-alive'}\n",
    "\n",
    "        #the URL where you are requesting at\n",
    "        req = urllib.request.Request(url, headers=url_header) \n",
    "        page = urllib.request.urlopen(req).read()\n",
    "\n",
    "        #open the file in write mode\n",
    "        with open(filepath, 'wb') as file:\n",
    "            file.write(page)\n",
    "        \n",
    "        print(\"Saving %s\"%(filepath))      \n",
    "\n",
    "        #file=wget.download(url,filepath )"
   ]
  },
  {
   "cell_type": "markdown",
   "metadata": {},
   "source": [
    "## Read in data from files in nist_table_dir"
   ]
  },
  {
   "cell_type": "markdown",
   "metadata": {},
   "source": [
    "### Read in isobar data to XeTable for Cell"
   ]
  },
  {
   "cell_type": "code",
   "execution_count": 4,
   "metadata": {},
   "outputs": [],
   "source": [
    "files = glob.glob(nist_table_dir+\"/*isobar-P[0-30]*LowT[161]*\")\n",
    "DFs=[]\n",
    "Ps=[]\n",
    "Ts=[]\n",
    "Ds=[]\n",
    "for file in files:\n",
    "    DF= pd.read_table(file)\n",
    "    DFs.append(DF)\n",
    "    Ps.append(DF[\"Pressure (psia)\"][:].values)\n",
    "    Ts.append(DF[\"Temperature (K)\"][:].values)\n",
    "    Ds.append(DF[\"Density (g/ml)\"][:].values)\n",
    "if len(files)>0:\n",
    "    XeTable=pd.concat(DFs,ignore_index=True)\n",
    "    XeTable = XeTable.sort_values(by=[\"Pressure (psia)\",\"Temperature (K)\"])\n",
    "\n",
    "    X=np.array(XeTable[\"Temperature (K)\"])\n",
    "    Y=np.array(XeTable[\"Pressure (psia)\"])\n",
    "    Z=np.array(XeTable[\"Density (g/ml)\"])\n",
    "    IsoBar_TvP=LinearNDInterpolator(list(zip(X,Y)),Z) \n"
   ]
  },
  {
   "cell_type": "markdown",
   "metadata": {},
   "source": [
    "#### colorbar map of density for PvT  cmap is log scale\n",
    "\n",
    "Use this to check the interpolation of the nist table"
   ]
  },
  {
   "cell_type": "code",
   "execution_count": 5,
   "metadata": {},
   "outputs": [
    {
     "name": "stdout",
     "output_type": "stream",
     "text": [
      "abs(`Temperature (K)` -172.500000) <12.500000 and abs(`Pressure (psia)` - 20.500000) <7.537688\n",
      "173.00097526243968 23.542043196770287 2.8884170545768755\n",
      "170.02681394297545 18.064444009603804 0.011992050139207795\n",
      "183.631592043428 19.083748286140406 0.011656217473800776\n",
      "180.33634677705655 20.98189713788479 0.01311636160318482\n",
      "183.8480134146891 18.885970942543636 0.011516072696659342\n",
      "178.91511782537634 27.09619791612095 0.017281871803191125\n"
     ]
    },
    {
     "data": {
      "image/png": "[encoded data removed]",
      "text/plain": [
       "<Figure size 640x480 with 2 Axes>"
      ]
     },
     "metadata": {},
     "output_type": "display_data"
    }
   ],
   "source": [
    "Tmin=160\n",
    "Tmax=185\n",
    "Pmin=13\n",
    "Pmax=28\n",
    "count=5\n",
    "\n",
    "print(\"abs(`Temperature (K)` -%f) <%f and abs(`Pressure (psia)` - %f) <%f\"%((Tmin+Tmax)/2, (Tmax-Tmin)/2,(Pmax+Pmin)/2,(Pmax-Pmin)/1.99))\n",
    "DF=XeTable.query(\"abs(`Temperature (K)` -%f) <%f and abs(`Pressure (psia)` - %f) <%f\"%((Tmin+Tmax)/2, (Tmax-Tmin)/2,(Pmax+Pmin)/2,(Pmax-Pmin)/1.99))\n",
    "\n",
    "plt.scatter(DF[\"Temperature (K)\"],DF[\"Pressure (psia)\"],c=(DF[\"Density (g/ml)\"]),marker=\".\",cmap=\"Spectral\",norm=matplotlib.colors.LogNorm())\n",
    "plt.colorbar()\n",
    "\n",
    "\n",
    "for i in np.arange(0,count+1,1):\n",
    "    x=np.random.random()*(Tmax-Tmin)+Tmin\n",
    "    y=np.random.random()*(Pmax-Pmin)+Pmin\n",
    "    z=IsoBar_TvP(x,y)\n",
    "    print(x,y,z)\n",
    "\n",
    "    plt.text(x,y,np.round(z,5),color=\"red\")\n",
    "    plt.scatter(x,y,c=z,marker=\"x\")\n",
    "\n",
    "\n",
    "for m in [0,1,2,3,4,5,6]:\n",
    "    m= int(m/6* len(DF.index)) -1\n",
    "    X=DF[\"Temperature (K)\"].iloc[m]\n",
    "    Y=DF[\"Pressure (psia)\"].iloc[m]\n",
    "    Z=DF[\"Density (g/ml)\"].iloc[m]\n",
    "   # plt.text(X-0.15,Y-0.015,np.round(Z,4))\n",
    "    \n",
    "\n",
    "\n"
   ]
  },
  {
   "cell_type": "markdown",
   "metadata": {},
   "source": [
    "### Read in isobar data to XeTable for Storage"
   ]
  },
  {
   "cell_type": "code",
   "execution_count": 6,
   "metadata": {},
   "outputs": [],
   "source": [
    "files = glob.glob(nist_table_dir+\"/*isobar*LowT[270]*\")\n",
    "DFs=[]\n",
    "Ps=[]\n",
    "Ts=[]\n",
    "Ds=[]\n",
    "for file in files:\n",
    "    DF= pd.read_table(file)\n",
    "    DFs.append(DF)\n",
    "    Ps.append(DF[\"Pressure (psia)\"][:].values)\n",
    "    Ts.append(DF[\"Temperature (K)\"][:].values)\n",
    "    Ds.append(DF[\"Density (g/ml)\"][:].values)\n",
    "\n",
    "\n",
    "XeTable_storage=pd.concat(DFs,ignore_index=True)\n",
    "XeTable_storage = XeTable_storage.sort_values(by=[\"Pressure (psia)\",\"Temperature (K)\"])\n",
    "\n",
    "X=np.array(XeTable_storage[\"Temperature (K)\"])\n",
    "Y=np.array(XeTable_storage[\"Pressure (psia)\"])\n",
    "Z=np.array(XeTable_storage[\"Density (g/ml)\"])\n",
    "IsoBar_TvP_storage=LinearNDInterpolator(list(zip(X,Y)),Z)\n"
   ]
  },
  {
   "cell_type": "markdown",
   "metadata": {},
   "source": [
    "#### colorbar map of density for PvT  cmap is log scale\n",
    "\n",
    "Use this to check the interpolation of the nist table"
   ]
  },
  {
   "cell_type": "code",
   "execution_count": null,
   "metadata": {},
   "outputs": [
    {
     "name": "stdout",
     "output_type": "stream",
     "text": [
      "abs(`Temperature (K)` -295.000000) <5.000000 and abs(`Pressure (psia)` - 287.500000) <238.693467\n"
     ]
    }
   ],
   "source": [
    "Tmin=290\n",
    "Tmax=300\n",
    "Pmin=50\n",
    "Pmax=525\n",
    "count=5\n",
    "\n",
    "\n",
    "print(\"abs(`Temperature (K)` -%f) <%f and abs(`Pressure (psia)` - %f) <%f\"%((Tmin+Tmax)/2, (Tmax-Tmin)/2,(Pmax+Pmin)/2,(Pmax-Pmin)/1.99))\n",
    "DF=XeTable_storage.query(\"abs(`Temperature (K)` -%f) <%f and abs(`Pressure (psia)` - %f) <%f\"%((Tmin+Tmax)/2, (Tmax-Tmin)/2,(Pmax+Pmin)/2,(Pmax-Pmin)/1.99))\n",
    "\n",
    "plt.scatter(DF[\"Temperature (K)\"],DF[\"Pressure (psia)\"],c=(DF[\"Density (g/ml)\"]),marker=\".\",cmap=\"jet\",norm=matplotlib.colors.LogNorm())\n",
    "plt.colorbar()\n",
    "\n",
    "\n",
    "for i in np.arange(0,count+1,1):\n",
    "    x=np.random.random()*(Tmax-Tmin)+Tmin\n",
    "    y=np.random.random()*(Pmax-Pmin)+Pmin\n",
    "    z=IsoBar_TvP_storage(x,y)\n",
    "    \n",
    "    \n",
    "    plt.text(x,y,np.round(z,5),color=\"red\")\n",
    "    plt.scatter(x,y,c=z,marker=\"x\")\n",
    "\n",
    "\n",
    "for m in [0,1,2,3,4]:\n",
    "    m= int(m/4* len(DF.index)) -1\n",
    "    X=DF[\"Temperature (K)\"].iloc[m]\n",
    "    Y=DF[\"Pressure (psia)\"].iloc[m]\n",
    "    Z=DF[\"Density (g/ml)\"].iloc[m]\n",
    "\n",
    "    \n",
    "    plt.text(X-0.5,Y-0.025,np.round(Z,4))\n",
    "    \n",
    "\n",
    "\n"
   ]
  },
  {
   "cell_type": "markdown",
   "metadata": {},
   "source": [
    "## Amount of Xenon in Storage clyinder with P and T"
   ]
  },
  {
   "cell_type": "code",
   "execution_count": null,
   "metadata": {},
   "outputs": [
    {
     "name": "stdout",
     "output_type": "stream",
     "text": [
      "Xe Mass in Storage at 689.700 psia(675.000 psig) and 293.000 K is 3112.437 grams:\n"
     ]
    }
   ],
   "source": [
    "## Set the time 0 amount of xenon\n",
    "\n",
    "x=293\n",
    "y=675+14.7\n",
    "z=IsoBar_TvP_storage(x,y)\n",
    "\n",
    "print( \"Xe Mass in Storage at %0.3f psia(%0.3f psig) and %0.3f K is %0.3f grams:\"%(y,y-14.7,x,z*Storage_vol))\n",
    "\n",
    "XeMass_t0=float(z)*Storage_vol\n"
   ]
  },
  {
   "cell_type": "markdown",
   "metadata": {},
   "source": [
    "## Functions to calculate amount of xenon removed from storage with some conservative estimate on error"
   ]
  },
  {
   "cell_type": "code",
   "execution_count": null,
   "metadata": {},
   "outputs": [],
   "source": [
    "def getperrors(pressures):\n",
    "    ''' Calculate the low and high pressure range for each pressure value in the list.\n",
    "        if the pressure is a multiple of 50, the range is +- 15 psia.\n",
    "        if the pressure is a multiple of 25, the range is +- 20 psia.\n",
    "        if the pressure is less than 6 psia from the floor, the range is set to be 5 psia below the next gauge value and 25 psia above the pressure. - need to check\n",
    "    '''\n",
    "    \n",
    "    p_low=[]\n",
    "    p_high=[]\n",
    "\n",
    "    for p in pressures:\n",
    "        p_floor= np.floor(p/100)*100\n",
    "        p_ceil= np.ceil(p/100)*100\n",
    "\n",
    "        if p%50==0:\n",
    "            p_range=[p-15,p,p+15]\n",
    "        elif p%25==0:\n",
    "            p_range=[p-20,p,p+20]\n",
    "        elif p-p_floor < 6:\n",
    "            p_range=[np.max([p_floor-5,p-25]),p,np.min([p+25,p_floor+50])]\n",
    "        elif p-p_floor < 50:\n",
    "            p_range=[np.max([p_floor,p-25]),p,np.min([p+25,p_floor+50])]\n",
    "        else:\n",
    "            p_range=[np.max([p_ceil-50,p-25]),p,np.min([p_ceil,p+25])]\n",
    "        \n",
    "        p_low.append(p_range[0])\n",
    "        p_high.append(p_range[2])\n",
    "        #print(p_range)\n",
    "    return p_low,p_high\n",
    "\n",
    "\n",
    "def GetMassInjected(p :float, T=293.0, m_0=XeMass_t0 ,vol=Storage_vol):\n",
    "    ''' Calculate the mass of xenon injected into the storage at a given pressure and temperature.\n",
    "    Args:\n",
    "        p (float or list): Pressure in psia.\n",
    "        T (float): Temperature in Kelvin. Default is 293.0 K.\n",
    "        m_0 (float): Initial mass of xenon in grams. Default is XeMass_t0.\n",
    "        vol (float): Volume of the storage in ml. Default is Storage_vol.\n",
    "        Returns:  amount of xenon injected in grams for each value of p. '''\n",
    "    if type(p) == type([]):\n",
    "        m_inj=[]\n",
    "        for pre in p:\n",
    "            m_inj.append(m_0 -IsoBar_TvP_storage(T,pre+14.7)*vol )\n",
    "        return m_inj\n",
    "    else:\n",
    "        m_in_sto_t = IsoBar_TvP_storage(T,p+14.7)*vol\n",
    "        return m_0-m_in_sto_t\n",
    " \n"
   ]
  },
  {
   "cell_type": "code",
   "execution_count": null,
   "metadata": {},
   "outputs": [
    {
     "data": {
      "text/plain": [
       "([595.0], [630.0])"
      ]
     },
     "execution_count": 42,
     "metadata": {},
     "output_type": "execute_result"
    }
   ],
   "source": [
    "getperrors([605])"
   ]
  },
  {
   "cell_type": "markdown",
   "metadata": {},
   "source": [
    "# Previous injection days"
   ]
  },
  {
   "cell_type": "code",
   "execution_count": null,
   "metadata": {},
   "outputs": [],
   "source": [
    "mass_removed_6 = [550]\n",
    "time_6 = np.array([8.75] )##20241203\n",
    "\n",
    "mass_removed_5 = [554,866,954,1145,1225,1275,1400,1590]\n",
    "time_5 = np.array([8.5,9,9.25,9.5,9.75,10,10.5,11,11.5,12] )##20241203\n",
    "\n",
    "mass_removed_4 = [199.3,383,550,808,981,1092,1145,1250,1400,1520,1633,1744]\n",
    "time_4 = np.array([8.5, 8+35/60, 8+5/6, 9.25,9.75,9+57/60,10+1/6,10.5,10+5/6,11+1/6,11+35/60,11+5/6 ])  ##20241025\n",
    "\n",
    "mass_removed_3 = [554.6,808,925,1145.9,1250,1350]\n",
    "time_3 = np.array([9 +12/60, 9+25/60,9+5/6,10+1/6,10+23/60,10+35/60])  ##20241011\n",
    "\n",
    "mass_removed_2 = [554.6378,866,1093,1200,1400,1448,1634, 1810]\n",
    "time_2 = np.array([9 +11/60,9 +41/60, 10.0,10.5,10 + 40/60, 11 +10/60, 11.5, 12 ])  ##20241004\n",
    "\n",
    "mass_removed = [199.3,555,684,866,1145,1200]\n",
    "time = np.array([10+23/60,10 + 37/60,10.75,11 +5/60,11.75,11+55/60])  ## 20241007"
   ]
  },
  {
   "cell_type": "markdown",
   "metadata": {},
   "source": [
    "## Jan 28th"
   ]
  },
  {
   "cell_type": "code",
   "execution_count": null,
   "metadata": {},
   "outputs": [
    {
     "name": "stdout",
     "output_type": "stream",
     "text": [
      "[   0.          553.68070372  714.08801532  865.20775932 1008.28352528\n",
      " 1144.35426144 1248.705593   1398.39284776 1632.18768504]\n"
     ]
    }
   ],
   "source": [
    "Jan28_p= np.array([675,600,575,550,525,500,480,450,400])\n",
    "time_0128 = np.array([8+35/60,8.75,9.00,9.25,9.5,9.75,10.0,10.25,10+35/60])\n",
    "p_low_0128,p_high_0128= getperrors(Jan28_p)\n",
    "\n",
    "\n",
    "m_low_0128= GetMassInjected(p_low_0128)\n",
    "m_high_0128=GetMassInjected(p_high_0128)\n",
    "m_0128=GetMassInjected(Jan28_p)\n",
    "\n",
    "m_err_0128=np.vstack((np.abs(m_high_0128-m_0128),m_low_0128-m_0128))\n",
    "\n",
    "print(m_0128)"
   ]
  },
  {
   "cell_type": "code",
   "execution_count": null,
   "metadata": {},
   "outputs": [],
   "source": [
    "pressures = np.array([600,550,535,500,485,475,450,410,375,360])\n",
    "p_low,p_high= getperrors(pressures)\n",
    "\n",
    "\n",
    "m_low= GetMassInjected(p_low)\n",
    "m_high=GetMassInjected(p_high)\n",
    "m=GetMassInjected(pressures)\n",
    "\n",
    "m_err=np.vstack((np.abs(m_high-m),m_low-m))\n"
   ]
  },
  {
   "cell_type": "code",
   "execution_count": null,
   "metadata": {},
   "outputs": [],
   "source": [
    "time_1213 = np.array([8.50,8 +5/6,9,9.25,9.5,9+5/6,10 + 1/12,10.25,10+25/60])\n",
    "pressures_1213 = np.array([600,540,500,475,450,425,400,375,365])\n",
    "p_low_1213,p_high_1213= getperrors(pressures_1213)\n",
    "\n",
    "\n",
    "m_low_1213= GetMassInjected(p_low_1213)\n",
    "m_high_1213=GetMassInjected(p_high_1213)\n",
    "m_1213=GetMassInjected(pressures_1213)\n",
    "\n",
    "m_err_1213=np.vstack((np.abs(m_high_1213-m_1213),m_low_1213-m_1213))\n"
   ]
  },
  {
   "cell_type": "markdown",
   "metadata": {},
   "source": [
    "## 20250204"
   ]
  },
  {
   "cell_type": "code",
   "execution_count": null,
   "metadata": {},
   "outputs": [
    {
     "name": "stdout",
     "output_type": "stream",
     "text": [
      "[   0.          198.87987976  714.08801532  865.20775932  951.95993736\n",
      " 1144.35426144 1222.9680116  1398.39284776 1609.59843164]\n"
     ]
    }
   ],
   "source": [
    "Feb04_p= np.array([675,650,575,550,535,500,485,450,405])\n",
    "time_0204 = np.array([10+5/6,11,11.5,11.75,12,12.25,12.5,12+5/6,13+5/9])\n",
    "p_low_0204,p_high_0204= getperrors(Feb04_p)\n",
    "\n",
    "\n",
    "m_low_0204= GetMassInjected(p_low_0204)\n",
    "m_high_0204=GetMassInjected(p_high_0204)\n",
    "m_0204=GetMassInjected(Feb04_p)\n",
    "\n",
    "m_err_0204=np.vstack((np.abs(m_high_0204-m_0204),m_low_0204-m_0204))\n",
    "m_err_0204_new=np.array([(m_err_0204[0][1:],m_err_0204[1][1:])])\n",
    "\n",
    "print(m_0204)"
   ]
  },
  {
   "cell_type": "markdown",
   "metadata": {},
   "source": [
    "## 20250225"
   ]
  },
  {
   "cell_type": "code",
   "execution_count": null,
   "metadata": {},
   "outputs": [
    {
     "data": {
      "text/plain": [
       "array([   0.        ,  198.87987976,  553.68070372,  865.20775932,\n",
       "       1008.28352528, 1144.35426144, 1274.17556652, 1398.39284776,\n",
       "       1517.5728042 , 1609.59843164])"
      ]
     },
     "execution_count": 20,
     "metadata": {},
     "output_type": "execute_result"
    }
   ],
   "source": [
    "Feb25_p= np.array([675,650,600,550,525,500,475,450,425,405])\n",
    "time_0225 = np.array([9,9+1/6,9.5,10,10.33,10+5/6,11+1/6,11.33,11+5/6,12])\n",
    "p_low_0225,p_high_0225= getperrors(Feb25_p)\n",
    "\n",
    "\n",
    "m_low_0225= GetMassInjected(p_low_0225)\n",
    "m_high_0225=GetMassInjected(p_high_0225)\n",
    "m_0225=GetMassInjected(Feb25_p)\n",
    "\n",
    "m_err_0225=np.vstack((np.abs(m_high_0225-m_0225),m_low_0225-m_0225))\n",
    "\n",
    "m_0225"
   ]
  },
  {
   "cell_type": "markdown",
   "metadata": {},
   "source": [
    "## 20250311"
   ]
  },
  {
   "cell_type": "code",
   "execution_count": null,
   "metadata": {},
   "outputs": [
    {
     "name": "stdout",
     "output_type": "stream",
     "text": [
      "[   0.          553.68070372  865.20775932 1144.35426144 1222.9680116\n",
      " 1398.39284776 1632.18768504]\n"
     ]
    }
   ],
   "source": [
    "Mar11_p= np.array([675,600,550,500,485,450,400])\n",
    "time_0311 = np.array([9,9.5,10,10.5,11,11.5,12.1])\n",
    "p_low_0311,p_high_0311= getperrors(Mar11_p)\n",
    "\n",
    "\n",
    "m_low_0311= GetMassInjected(p_low_0311)\n",
    "m_high_0311=GetMassInjected(p_high_0311)\n",
    "m_0311=GetMassInjected(Mar11_p)\n",
    "\n",
    "m_err_0311=np.vstack((np.abs(m_high_0311-m_0311),m_low_0311-m_0311))\n",
    "\n",
    "\n",
    "\n",
    "print(m_0311)\n",
    "\n",
    "m_err_0311_new=np.array([(m_err_0311[0][1:],m_err_0311[1][1:])])\n"
   ]
  },
  {
   "cell_type": "markdown",
   "metadata": {},
   "source": [
    "## 2050429"
   ]
  },
  {
   "cell_type": "code",
   "execution_count": null,
   "metadata": {},
   "outputs": [
    {
     "name": "stdout",
     "output_type": "stream",
     "text": [
      "[   0.          486.63705896  805.76732668  865.20775932 1144.35426144\n",
      " 1274.17556652 1446.60949108 1609.59843164 1632.18768504]\n"
     ]
    }
   ],
   "source": [
    "Apr29_p= np.array([675,610,560,550,500,475,440,405,400])\n",
    "time_0429 = np.array([7+5/6,8.5,9+1/12,9.5,9+5/6,10+1/3,11+1/12,11+1/3,11.5])\n",
    "p_low_0429,p_high_0429= getperrors(Apr29_p)\n",
    "\n",
    "\n",
    "m_low_0429= GetMassInjected(p_low_0429)\n",
    "m_high_0429=GetMassInjected(p_high_0429)\n",
    "m_0429=GetMassInjected(Apr29_p)\n",
    "\n",
    "m_err_0429=np.vstack((np.abs(m_high_0429-m_0429),m_low_0429-m_0429))\n",
    "\n",
    "\n",
    "\n",
    "print(m_0429)\n",
    "\n",
    "m_err_0429_new=np.array([(m_err_0429[0][1:],m_err_0429[1][1:])])\n"
   ]
  },
  {
   "cell_type": "markdown",
   "metadata": {},
   "source": [
    "## May 6th"
   ]
  },
  {
   "cell_type": "code",
   "execution_count": null,
   "metadata": {},
   "outputs": [
    {
     "name": "stdout",
     "output_type": "stream",
     "text": [
      "[   0.          553.68070372 1090.70675232 1170.81595828 1398.39284776\n",
      " 1632.18768504 1742.6782562 ]\n"
     ]
    }
   ],
   "source": [
    "May06_p= np.array([675,600,510,495,450,400,375])\n",
    "time_0506 = np.array([10,10.5,10+55/60,11.33,11.75,12.5,12.8])\n",
    "p_low_0506,p_high_0506= getperrors(May06_p)\n",
    "\n",
    "\n",
    "m_low_0506= GetMassInjected(p_low_0506)\n",
    "m_high_0506=GetMassInjected(p_high_0506)\n",
    "m_0506=GetMassInjected(May06_p)\n",
    "\n",
    "m_err_0506=np.vstack((np.abs(m_high_0506-m_0506),m_low_0506-m_0506))\n",
    "m_err_0506_new=np.array([(m_err_0506[0][1:],m_err_0506[1][1:])])\n",
    "\n",
    "print(m_0506)\n",
    "\n",
    "\n"
   ]
  },
  {
   "cell_type": "markdown",
   "metadata": {},
   "source": [
    "## May 15th\n"
   ]
  },
  {
   "cell_type": "code",
   "execution_count": null,
   "metadata": {},
   "outputs": [
    {
     "name": "stdout",
     "output_type": "stream",
     "text": [
      "[   0.          553.68070372 1008.28352528 1398.39284776 1517.5728042 ]\n"
     ]
    }
   ],
   "source": [
    "May15_p= np.array([675,600,525,450,425])\n",
    "time_0515 = np.array([8+5/6,9+1/6,9+5/6,10.5,11])\n",
    "p_low_0515,p_high_0515= getperrors(May15_p)\n",
    "\n",
    "\n",
    "m_low_0515= GetMassInjected(p_low_0515)\n",
    "m_high_0515=GetMassInjected(p_high_0515)\n",
    "m_0515=GetMassInjected(May15_p)\n",
    "\n",
    "m_err_0515=np.vstack((np.abs(m_high_0515-m_0515),m_low_0515-m_0515))\n",
    "m_err_0515_new=np.array([(m_err_0515[0][1:],m_err_0515[1][1:])])\n",
    "\n",
    "print(m_0515)\n",
    "\n",
    "\n"
   ]
  },
  {
   "cell_type": "markdown",
   "metadata": {},
   "source": [
    "## June 3rd"
   ]
  },
  {
   "cell_type": "code",
   "execution_count": null,
   "metadata": {},
   "outputs": [
    {
     "name": "stdout",
     "output_type": "stream",
     "text": [
      "[   0.          553.68070372  714.08801532  865.20775932 1008.28352528\n",
      " 1144.35426144 1274.17556652 1398.39284776 1517.5728042  1632.18768504]\n"
     ]
    }
   ],
   "source": [
    "Jun03_p= np.array([675,600,575, 550,525,500,475,450,425,400])\n",
    "time_0603 = np.array([8.66,9,9.25, 9.5,10,10.25,10.75,11,11.25,11.5])\n",
    "p_low_0603,p_high_0603= getperrors(Jun03_p)\n",
    "\n",
    "\n",
    "m_low_0603= GetMassInjected(p_low_0603)\n",
    "m_high_0603=GetMassInjected(p_high_0603)\n",
    "m_0603=GetMassInjected(Jun03_p)\n",
    "\n",
    "m_err_0603=np.vstack((np.abs(m_high_0603-m_0603),m_low_0603-m_0603))\n",
    "m_err_0603_new=np.array([(m_err_0603[0][1:],m_err_0603[1][1:])])\n",
    "\n",
    "print(m_0603)\n",
    "\n",
    "\n"
   ]
  },
  {
   "cell_type": "markdown",
   "metadata": {},
   "source": [
    "# Plot"
   ]
  },
  {
   "cell_type": "code",
   "execution_count": null,
   "metadata": {},
   "outputs": [
    {
     "data": {
      "text/plain": [
       "<matplotlib.legend.Legend at 0x20effbbcaf0>"
      ]
     },
     "execution_count": 26,
     "metadata": {},
     "output_type": "execute_result"
    },
    {
     "data": {
      "image/png": "[encoded data removed]",
      "text/plain": [
       "<Figure size 640x480 with 1 Axes>"
      ]
     },
     "metadata": {},
     "output_type": "display_data"
    }
   ],
   "source": [
    "\n",
    "\n",
    "plt.errorbar(x=time_1213-(8.25) , y =m_1213, yerr=m_err_1213,fmt=\" \",marker=\"+\",label=\"20241213\")\n",
    "#plt.errorbar(x=time_0128[1:]-time_0128[0] , y =m_0128[1:], yerr=m_err_0128_new[0],fmt=\" \",marker=\"+\",label=\"20250128\")\n",
    "plt.errorbar(x=time_0204[1:]-time_0204[0] , y =m_0204[1:], yerr=m_err_0204_new[0],fmt=\" \",marker=\"x\",label=\"20250204\")\n",
    "#plt.errorbar(x=time_0225[1:]-time_0225[0] , y =m_0225[1:], yerr=m_err_0225_new[0],fmt=\" \",marker=\"x\",label=\"20250225\")\n",
    "plt.errorbar(x=time_0311[1:]-time_0311[0] , y =m_0311[1:], yerr=m_err_0311_new[0],fmt=\" \",marker=\"x\",label=\"20250311\")\n",
    "#plt.errorbar(x=time_0429[1:]-time_0429[0] , y =m_0429[1:], yerr=m_err_0429_new[0],fmt=\" \",marker=\"x\",label=\"20250429\")\n",
    "plt.errorbar(x=time_0506[1:]-time_0506[0] , y =m_0506[1:], yerr=m_err_0506_new[0],fmt=\" \",marker=\"x\",label=\"20250506\")\n",
    "# plt.errorbar(x=time_0515[1:]-time_0515[0] , y =m_0515[1:], yerr=m_err_0515_new[0],fmt=\" \",marker=\"x\",label=\"20250515\")\n",
    "plt.errorbar(x=time_0603[1:]-time_0603[0] , y =m_0603[1:], yerr=m_err_0603_new[0],fmt=\" \",marker=\"x\",label=\"20250603\")\n",
    "\n",
    "plt.grid()\n",
    "plt.ylabel(\"Xe 'injected' [g]\")\n",
    "plt.xlabel(\"Injection Time  [h]\")\n",
    "plt.legend()"
   ]
  },
  {
   "cell_type": "markdown",
   "metadata": {},
   "source": [
    "# Estimate Volmne of Cell"
   ]
  },
  {
   "cell_type": "markdown",
   "metadata": {},
   "source": [
    "### Cupper Cell"
   ]
  },
  {
   "cell_type": "code",
   "execution_count": 53,
   "metadata": {},
   "outputs": [
    {
     "data": {
      "text/plain": [
       "1693945.4876925927"
      ]
     },
     "execution_count": 53,
     "metadata": {},
     "output_type": "execute_result"
    }
   ],
   "source": [
    "Cu_Cell_H =215.9 #mm\n",
    "Cu_Cell_ID=99.949  #mm\n",
    "Cu_Cell_vol= Cu_Cell_H * (Cu_Cell_ID/2)**2 * np.pi\n",
    "Cu_Cell_vol"
   ]
  },
  {
   "cell_type": "markdown",
   "metadata": {},
   "source": [
    "### Stainless Steal Nipple"
   ]
  },
  {
   "cell_type": "code",
   "execution_count": 54,
   "metadata": {},
   "outputs": [
    {
     "data": {
      "text/plain": [
       "1059297.9189006744"
      ]
     },
     "execution_count": 54,
     "metadata": {},
     "output_type": "execute_result"
    }
   ],
   "source": [
    "SS_Nipple_H  = 134.874#mm\n",
    "SS_Nipple_ID = 100#mm This is the OD \n",
    "SS_Nipple_vol= SS_Nipple_H * (SS_Nipple_ID/2)**2 * np.pi\n",
    "SS_Nipple_vol"
   ]
  },
  {
   "cell_type": "markdown",
   "metadata": {},
   "source": [
    "### Cross"
   ]
  },
  {
   "cell_type": "code",
   "execution_count": 55,
   "metadata": {},
   "outputs": [
    {
     "data": {
      "text/plain": [
       "937130.1069842934"
      ]
     },
     "execution_count": 55,
     "metadata": {},
     "output_type": "execute_result"
    }
   ],
   "source": [
    "Cross_large_ID = 72.898 #mm 76.2 OD guess at ID from standard chart\n",
    "Cross_large_len= 85.852*2#mm\n",
    "Cross_small_ID = 60.198 #mm 63.5 OD guess at ID from standard chart\n",
    "Cross_small_len= 75.184*2#mm\n",
    "\n",
    "Cross_small_overlap_vol = Cross_large_ID * (Cross_small_ID/2)**2 * np.pi\n",
    "\n",
    "Cross_vol = Cross_large_len * ( Cross_large_ID/2)**2 * np.pi + Cross_small_len* (Cross_small_ID/2)**2 * np.pi - Cross_small_overlap_vol\n",
    "Cross_vol\n"
   ]
  },
  {
   "cell_type": "markdown",
   "metadata": {},
   "source": [
    "### Tubing and Extras"
   ]
  },
  {
   "cell_type": "code",
   "execution_count": 56,
   "metadata": {},
   "outputs": [
    {
     "data": {
      "text/plain": [
       "8208.661161379463"
      ]
     },
     "execution_count": 56,
     "metadata": {},
     "output_type": "execute_result"
    }
   ],
   "source": [
    "Tubing_len=500 #mm rough estimate measuring tubes on top of cryo\n",
    "Tubing_ID=4.572 #1/4 OD estimate of ID via standard chart\n",
    "\n",
    "Tubing_vol=Tubing_len* (Tubing_ID/2)**2 * np.pi\n",
    "Tubing_vol"
   ]
  },
  {
   "cell_type": "markdown",
   "metadata": {},
   "source": [
    "### Total Vol"
   ]
  },
  {
   "cell_type": "code",
   "execution_count": 57,
   "metadata": {},
   "outputs": [
    {
     "name": "stdout",
     "output_type": "stream",
     "text": [
      "Total xenon vol is 3998.582 ml\n"
     ]
    }
   ],
   "source": [
    "Total_Xenon_Vol= SS_Nipple_vol+ Cu_Cell_vol+Cross_vol+Tubing_vol+300000\n",
    "Total_Xenon_Vol #cubim mm\n",
    "\n",
    "print(\"Total xenon vol is %0.3f ml\"%(Total_Xenon_Vol*0.001))"
   ]
  },
  {
   "cell_type": "code",
   "execution_count": 58,
   "metadata": {},
   "outputs": [
    {
     "name": "stdout",
     "output_type": "stream",
     "text": [
      "1583.7949860882256  Vol other ml\n"
     ]
    }
   ],
   "source": [
    "#Estimate extra vol as extra heigth on cell\n",
    "\n",
    "Extra_Vol_fakeH =(Cross_vol+Tubing_vol+300000)/(Cu_Cell_ID/2)**2 #,,\n",
    "\n",
    "Vol_Other= (Extra_Vol_fakeH + SS_Nipple_H)*(SS_Nipple_ID/2)**2 *0.001\n",
    "print(Vol_Other, \" Vol other ml\")\n"
   ]
  },
  {
   "cell_type": "code",
   "execution_count": 59,
   "metadata": {},
   "outputs": [
    {
     "data": {
      "text/plain": [
       "501.9455314930027"
      ]
     },
     "execution_count": 59,
     "metadata": {},
     "output_type": "execute_result"
    }
   ],
   "source": [
    "np.pi *((3.5/2)**2-(3/2)**2) *12 * 16.3871  #+ np.pi *((2/2)**2-(1/2)**2) *6 * 16.3871 "
   ]
  },
  {
   "cell_type": "code",
   "execution_count": 60,
   "metadata": {},
   "outputs": [
    {
     "name": "stdout",
     "output_type": "stream",
     "text": [
      "2310.0590414906087 19.250492012421738\n"
     ]
    }
   ],
   "source": [
    "CubeVol_withhole = 3.5*3.5*12 *16.3871  - (np.pi * (0.8/2)**2 * 12 *16.3871)\n",
    "\n",
    "ppv=CubeVol_withhole/120\n",
    "\n",
    "print(CubeVol_withhole,ppv)"
   ]
  },
  {
   "cell_type": "code",
   "execution_count": 61,
   "metadata": {},
   "outputs": [
    {
     "name": "stdout",
     "output_type": "stream",
     "text": [
      "673.7672204347609 11.419783397199337\n"
     ]
    }
   ],
   "source": [
    "CubeVol_withhole = 3.5*3.5*3.5 *16.3871  - np.pi * (0.8/2)**2 * 3.5 *16.3871\n",
    "\n",
    "ppv=CubeVol_withhole/59\n",
    "\n",
    "print(CubeVol_withhole,ppv)"
   ]
  },
  {
   "cell_type": "code",
   "execution_count": 62,
   "metadata": {},
   "outputs": [
    {
     "data": {
      "text/plain": [
       "(1085.9398517877462, 8.353383475290356, 2932.0375998269146)"
      ]
     },
     "execution_count": 62,
     "metadata": {},
     "output_type": "execute_result"
    }
   ],
   "source": [
    "np.pi*(3.75/2)**2 * 6 * 16.3871 , np.pi*(3.75/2)**2 * 6 * 16.3871/130 , 2.7*np.pi*(3.75/2)**2 * 6 * 16.3871"
   ]
  },
  {
   "cell_type": "code",
   "execution_count": 63,
   "metadata": {},
   "outputs": [
    {
     "data": {
      "text/plain": [
       "0.54178"
      ]
     },
     "execution_count": 63,
     "metadata": {},
     "output_type": "execute_result"
    }
   ],
   "source": [
    "0.0054178*100*1000/1000"
   ]
  },
  {
   "cell_type": "markdown",
   "metadata": {},
   "source": [
    "## Density in Cell"
   ]
  },
  {
   "cell_type": "code",
   "execution_count": 72,
   "metadata": {},
   "outputs": [
    {
     "data": {
      "text/plain": [
       "0.7127526396743544"
      ]
     },
     "execution_count": 72,
     "metadata": {},
     "output_type": "execute_result"
    }
   ],
   "source": [
    "mass=2850#XeMass_removed\n",
    "XeCell_Density = mass/(Total_Xenon_Vol*0.001) # g/ml\n",
    "XeCell_Density\n"
   ]
  },
  {
   "cell_type": "markdown",
   "metadata": {},
   "source": [
    "### Grab isochoric data for heigth estimate"
   ]
  },
  {
   "cell_type": "code",
   "execution_count": 70,
   "metadata": {},
   "outputs": [
    {
     "name": "stdout",
     "output_type": "stream",
     "text": [
      "Getting new file with Density if 0.712753\n",
      "https://webbook.nist.gov/cgi/fluid.cgi?Action=Data&Wide=on&ID=C7440633&Type=IsoChor&Digits=5&THigh=300.000&TLow=161.000&TInc=0.250&D=0.713&RefState=DEF&TUnit=K&PUnit=psia&DUnit=g%2Fml&HUnit=kJ%2Fmol&WUnit=m%2Fs&VisUnit=uPa*s&STUnit=N%2Fm\n"
     ]
    }
   ],
   "source": [
    "XeDensity=XeCell_Density\n",
    "THigh=300\n",
    "TLow=161\n",
    "TStep=0.25\n",
    "\n",
    "\n",
    "IsoChoric_URL=\"https://webbook.nist.gov/cgi/fluid.cgi?Action=Data&Wide=on&ID=C7440633&Type=IsoChor&Digits=5&THigh=%0.3f&TLow=%0.3f&TInc=%0.3f&D=%0.3f&RefState=DEF&TUnit=K&PUnit=psia&DUnit=g%%2Fml&HUnit=kJ%%2Fmol&WUnit=m%%2Fs&VisUnit=uPa*s&STUnit=N%%2Fm\"%(THigh,TLow,TStep,XeDensity)\n",
    "IsoChoric_filename=\"NistData-isochoric-D%0.4f-TLow%0.3f-THigh%0.3f-Tstep%0.3f.tsv\"%(XeDensity,TLow,THigh,TStep)\n",
    "\n",
    "filepath=\"./NistData/%s\"%(IsoChoric_filename)\n",
    "if os.path.exists(filepath):\n",
    "    print(\"Skipping %s, already exisis\"%(filepath))\n",
    "    file = open(filepath)\n",
    "else:\n",
    "    print(\"Getting new file with Density if %f\"%(XeDensity))\n",
    "    print(IsoChoric_URL)\n",
    "    file=wget.download(IsoChoric_URL,filepath )\n",
    "\n",
    "XeIsoChoric_DF = pd.read_table(file)\n",
    "\n"
   ]
  },
  {
   "cell_type": "markdown",
   "metadata": {},
   "source": []
  },
  {
   "cell_type": "code",
   "execution_count": 67,
   "metadata": {},
   "outputs": [
    {
     "data": {
      "text/html": [
       "<div>\n",
       "<style scoped>\n",
       "    .dataframe tbody tr th:only-of-type {\n",
       "        vertical-align: middle;\n",
       "    }\n",
       "\n",
       "    .dataframe tbody tr th {\n",
       "        vertical-align: top;\n",
       "    }\n",
       "\n",
       "    .dataframe thead th {\n",
       "        text-align: right;\n",
       "    }\n",
       "</style>\n",
       "<table border=\"1\" class=\"dataframe\">\n",
       "  <thead>\n",
       "    <tr style=\"text-align: right;\">\n",
       "      <th></th>\n",
       "      <th>Temperature (K)</th>\n",
       "      <th>Pressure (psia)</th>\n",
       "      <th>Quality (l+v)</th>\n",
       "      <th>Density (l, g/ml)</th>\n",
       "      <th>Density (v, g/ml)</th>\n",
       "    </tr>\n",
       "  </thead>\n",
       "  <tbody>\n",
       "    <tr>\n",
       "      <th>10</th>\n",
       "      <td>163.91</td>\n",
       "      <td>13.753</td>\n",
       "      <td>0.011915</td>\n",
       "      <td>2.9496</td>\n",
       "      <td>0.009419</td>\n",
       "    </tr>\n",
       "    <tr>\n",
       "      <th>11</th>\n",
       "      <td>164.16</td>\n",
       "      <td>13.955</td>\n",
       "      <td>0.012073</td>\n",
       "      <td>2.9480</td>\n",
       "      <td>0.009545</td>\n",
       "    </tr>\n",
       "    <tr>\n",
       "      <th>12</th>\n",
       "      <td>164.41</td>\n",
       "      <td>14.159</td>\n",
       "      <td>0.012233</td>\n",
       "      <td>2.9463</td>\n",
       "      <td>0.009673</td>\n",
       "    </tr>\n",
       "    <tr>\n",
       "      <th>13</th>\n",
       "      <td>164.66</td>\n",
       "      <td>14.365</td>\n",
       "      <td>0.012395</td>\n",
       "      <td>2.9446</td>\n",
       "      <td>0.009802</td>\n",
       "    </tr>\n",
       "    <tr>\n",
       "      <th>14</th>\n",
       "      <td>164.91</td>\n",
       "      <td>14.573</td>\n",
       "      <td>0.012559</td>\n",
       "      <td>2.9430</td>\n",
       "      <td>0.009932</td>\n",
       "    </tr>\n",
       "    <tr>\n",
       "      <th>15</th>\n",
       "      <td>165.16</td>\n",
       "      <td>14.784</td>\n",
       "      <td>0.012724</td>\n",
       "      <td>2.9413</td>\n",
       "      <td>0.010064</td>\n",
       "    </tr>\n",
       "    <tr>\n",
       "      <th>16</th>\n",
       "      <td>165.41</td>\n",
       "      <td>14.997</td>\n",
       "      <td>0.012891</td>\n",
       "      <td>2.9396</td>\n",
       "      <td>0.010197</td>\n",
       "    </tr>\n",
       "    <tr>\n",
       "      <th>17</th>\n",
       "      <td>165.66</td>\n",
       "      <td>15.212</td>\n",
       "      <td>0.013059</td>\n",
       "      <td>2.9380</td>\n",
       "      <td>0.010331</td>\n",
       "    </tr>\n",
       "    <tr>\n",
       "      <th>18</th>\n",
       "      <td>165.91</td>\n",
       "      <td>15.430</td>\n",
       "      <td>0.013229</td>\n",
       "      <td>2.9363</td>\n",
       "      <td>0.010466</td>\n",
       "    </tr>\n",
       "    <tr>\n",
       "      <th>19</th>\n",
       "      <td>166.16</td>\n",
       "      <td>15.650</td>\n",
       "      <td>0.013400</td>\n",
       "      <td>2.9346</td>\n",
       "      <td>0.010603</td>\n",
       "    </tr>\n",
       "    <tr>\n",
       "      <th>20</th>\n",
       "      <td>166.41</td>\n",
       "      <td>15.873</td>\n",
       "      <td>0.013574</td>\n",
       "      <td>2.9330</td>\n",
       "      <td>0.010741</td>\n",
       "    </tr>\n",
       "    <tr>\n",
       "      <th>21</th>\n",
       "      <td>166.66</td>\n",
       "      <td>16.098</td>\n",
       "      <td>0.013749</td>\n",
       "      <td>2.9313</td>\n",
       "      <td>0.010881</td>\n",
       "    </tr>\n",
       "    <tr>\n",
       "      <th>22</th>\n",
       "      <td>166.91</td>\n",
       "      <td>16.325</td>\n",
       "      <td>0.013925</td>\n",
       "      <td>2.9296</td>\n",
       "      <td>0.011022</td>\n",
       "    </tr>\n",
       "    <tr>\n",
       "      <th>23</th>\n",
       "      <td>167.16</td>\n",
       "      <td>16.555</td>\n",
       "      <td>0.014104</td>\n",
       "      <td>2.9279</td>\n",
       "      <td>0.011164</td>\n",
       "    </tr>\n",
       "    <tr>\n",
       "      <th>24</th>\n",
       "      <td>167.41</td>\n",
       "      <td>16.788</td>\n",
       "      <td>0.014284</td>\n",
       "      <td>2.9262</td>\n",
       "      <td>0.011308</td>\n",
       "    </tr>\n",
       "    <tr>\n",
       "      <th>25</th>\n",
       "      <td>167.66</td>\n",
       "      <td>17.023</td>\n",
       "      <td>0.014466</td>\n",
       "      <td>2.9246</td>\n",
       "      <td>0.011453</td>\n",
       "    </tr>\n",
       "    <tr>\n",
       "      <th>26</th>\n",
       "      <td>167.91</td>\n",
       "      <td>17.260</td>\n",
       "      <td>0.014649</td>\n",
       "      <td>2.9229</td>\n",
       "      <td>0.011600</td>\n",
       "    </tr>\n",
       "    <tr>\n",
       "      <th>27</th>\n",
       "      <td>168.16</td>\n",
       "      <td>17.500</td>\n",
       "      <td>0.014835</td>\n",
       "      <td>2.9212</td>\n",
       "      <td>0.011748</td>\n",
       "    </tr>\n",
       "    <tr>\n",
       "      <th>28</th>\n",
       "      <td>168.41</td>\n",
       "      <td>17.743</td>\n",
       "      <td>0.015022</td>\n",
       "      <td>2.9195</td>\n",
       "      <td>0.011897</td>\n",
       "    </tr>\n",
       "    <tr>\n",
       "      <th>29</th>\n",
       "      <td>168.66</td>\n",
       "      <td>17.988</td>\n",
       "      <td>0.015210</td>\n",
       "      <td>2.9178</td>\n",
       "      <td>0.012048</td>\n",
       "    </tr>\n",
       "    <tr>\n",
       "      <th>30</th>\n",
       "      <td>168.91</td>\n",
       "      <td>18.236</td>\n",
       "      <td>0.015401</td>\n",
       "      <td>2.9162</td>\n",
       "      <td>0.012200</td>\n",
       "    </tr>\n",
       "    <tr>\n",
       "      <th>31</th>\n",
       "      <td>169.16</td>\n",
       "      <td>18.486</td>\n",
       "      <td>0.015593</td>\n",
       "      <td>2.9145</td>\n",
       "      <td>0.012354</td>\n",
       "    </tr>\n",
       "    <tr>\n",
       "      <th>32</th>\n",
       "      <td>169.41</td>\n",
       "      <td>18.739</td>\n",
       "      <td>0.015788</td>\n",
       "      <td>2.9128</td>\n",
       "      <td>0.012509</td>\n",
       "    </tr>\n",
       "    <tr>\n",
       "      <th>33</th>\n",
       "      <td>169.66</td>\n",
       "      <td>18.995</td>\n",
       "      <td>0.015983</td>\n",
       "      <td>2.9111</td>\n",
       "      <td>0.012665</td>\n",
       "    </tr>\n",
       "    <tr>\n",
       "      <th>34</th>\n",
       "      <td>169.91</td>\n",
       "      <td>19.253</td>\n",
       "      <td>0.016181</td>\n",
       "      <td>2.9094</td>\n",
       "      <td>0.012823</td>\n",
       "    </tr>\n",
       "    <tr>\n",
       "      <th>35</th>\n",
       "      <td>170.16</td>\n",
       "      <td>19.514</td>\n",
       "      <td>0.016381</td>\n",
       "      <td>2.9077</td>\n",
       "      <td>0.012983</td>\n",
       "    </tr>\n",
       "    <tr>\n",
       "      <th>36</th>\n",
       "      <td>170.41</td>\n",
       "      <td>19.778</td>\n",
       "      <td>0.016582</td>\n",
       "      <td>2.9060</td>\n",
       "      <td>0.013144</td>\n",
       "    </tr>\n",
       "    <tr>\n",
       "      <th>37</th>\n",
       "      <td>170.66</td>\n",
       "      <td>20.044</td>\n",
       "      <td>0.016786</td>\n",
       "      <td>2.9043</td>\n",
       "      <td>0.013307</td>\n",
       "    </tr>\n",
       "    <tr>\n",
       "      <th>38</th>\n",
       "      <td>170.91</td>\n",
       "      <td>20.313</td>\n",
       "      <td>0.016991</td>\n",
       "      <td>2.9026</td>\n",
       "      <td>0.013471</td>\n",
       "    </tr>\n",
       "    <tr>\n",
       "      <th>39</th>\n",
       "      <td>171.16</td>\n",
       "      <td>20.585</td>\n",
       "      <td>0.017198</td>\n",
       "      <td>2.9009</td>\n",
       "      <td>0.013636</td>\n",
       "    </tr>\n",
       "  </tbody>\n",
       "</table>\n",
       "</div>"
      ],
      "text/plain": [
       "    Temperature (K)  Pressure (psia) Quality (l+v)  Density (l, g/ml)  \\\n",
       "10           163.91           13.753      0.011915             2.9496   \n",
       "11           164.16           13.955      0.012073             2.9480   \n",
       "12           164.41           14.159      0.012233             2.9463   \n",
       "13           164.66           14.365      0.012395             2.9446   \n",
       "14           164.91           14.573      0.012559             2.9430   \n",
       "15           165.16           14.784      0.012724             2.9413   \n",
       "16           165.41           14.997      0.012891             2.9396   \n",
       "17           165.66           15.212      0.013059             2.9380   \n",
       "18           165.91           15.430      0.013229             2.9363   \n",
       "19           166.16           15.650      0.013400             2.9346   \n",
       "20           166.41           15.873      0.013574             2.9330   \n",
       "21           166.66           16.098      0.013749             2.9313   \n",
       "22           166.91           16.325      0.013925             2.9296   \n",
       "23           167.16           16.555      0.014104             2.9279   \n",
       "24           167.41           16.788      0.014284             2.9262   \n",
       "25           167.66           17.023      0.014466             2.9246   \n",
       "26           167.91           17.260      0.014649             2.9229   \n",
       "27           168.16           17.500      0.014835             2.9212   \n",
       "28           168.41           17.743      0.015022             2.9195   \n",
       "29           168.66           17.988      0.015210             2.9178   \n",
       "30           168.91           18.236      0.015401             2.9162   \n",
       "31           169.16           18.486      0.015593             2.9145   \n",
       "32           169.41           18.739      0.015788             2.9128   \n",
       "33           169.66           18.995      0.015983             2.9111   \n",
       "34           169.91           19.253      0.016181             2.9094   \n",
       "35           170.16           19.514      0.016381             2.9077   \n",
       "36           170.41           19.778      0.016582             2.9060   \n",
       "37           170.66           20.044      0.016786             2.9043   \n",
       "38           170.91           20.313      0.016991             2.9026   \n",
       "39           171.16           20.585      0.017198             2.9009   \n",
       "\n",
       "    Density (v, g/ml)  \n",
       "10           0.009419  \n",
       "11           0.009545  \n",
       "12           0.009673  \n",
       "13           0.009802  \n",
       "14           0.009932  \n",
       "15           0.010064  \n",
       "16           0.010197  \n",
       "17           0.010331  \n",
       "18           0.010466  \n",
       "19           0.010603  \n",
       "20           0.010741  \n",
       "21           0.010881  \n",
       "22           0.011022  \n",
       "23           0.011164  \n",
       "24           0.011308  \n",
       "25           0.011453  \n",
       "26           0.011600  \n",
       "27           0.011748  \n",
       "28           0.011897  \n",
       "29           0.012048  \n",
       "30           0.012200  \n",
       "31           0.012354  \n",
       "32           0.012509  \n",
       "33           0.012665  \n",
       "34           0.012823  \n",
       "35           0.012983  \n",
       "36           0.013144  \n",
       "37           0.013307  \n",
       "38           0.013471  \n",
       "39           0.013636  "
      ]
     },
     "execution_count": 67,
     "metadata": {},
     "output_type": "execute_result"
    }
   ],
   "source": [
    "XeIsoChoric_DF[10:40][[\"Temperature (K)\",\"Pressure (psia)\",\"Quality (l+v)\",\"Density (l, g/ml)\",\"Density (v, g/ml)\"]]"
   ]
  },
  {
   "cell_type": "code",
   "execution_count": 74,
   "metadata": {},
   "outputs": [
    {
     "name": "stdout",
     "output_type": "stream",
     "text": [
      "313.1675620580554\n"
     ]
    }
   ],
   "source": [
    "j=10\n",
    "\n",
    "XeDen_ratio = XeIsoChoric_DF.iloc[j][\"Density (l, g/ml)\"]/XeIsoChoric_DF.iloc[j][\"Density (v, g/ml)\"]\n",
    "print(XeDen_ratio)"
   ]
  },
  {
   "cell_type": "code",
   "execution_count": 82,
   "metadata": {},
   "outputs": [
    {
     "name": "stdout",
     "output_type": "stream",
     "text": [
      "0.016689 \n",
      " Temperature (K)        163.91\n",
      "Pressure (psia)        13.753\n",
      "Density (v, g/ml)    0.009419\n",
      "Density (l, g/ml)      2.9496\n",
      "Name: 10, dtype: object\n",
      "Mass  All V = 31.7091  Liquid Mass =  1868.2909000000002\n",
      "Mass of vapor just in cell  16.791968544029437\n",
      "80.72993185067038 227.2314662569762\n"
     ]
    }
   ],
   "source": [
    "Qual=float(XeIsoChoric_DF.iloc[j][\"Quality (l+v)\"])\n",
    "Mass_total = mass\n",
    "Vapor_Density=XeIsoChoric_DF.iloc[j][\"Density (v, g/ml)\"]\n",
    "Liquid_Density=XeIsoChoric_DF.iloc[j][\"Density (l, g/ml)\"]\n",
    "print(Qual,\"\\n\",XeIsoChoric_DF.iloc[j][[\"Temperature (K)\",\"Pressure (psia)\",\"Density (v, g/ml)\",\"Density (l, g/ml)\"]])\n",
    "\n",
    "Hv= (Qual * Mass_total - Vol_Other*Vapor_Density)/ (Vapor_Density*0.001 * np.pi * (Cu_Cell_ID/2)**2)\n",
    "\n",
    "\n",
    "Mass_Vapor_all = Qual*Mass_total\n",
    "\n",
    "\n",
    "\n",
    "\n",
    "Mass_liquid= (1-Qual)*Mass_total\n",
    "\n",
    "print(\"Mass  All V =\",Mass_Vapor_all, \" Liquid Mass = \", Mass_liquid )\n",
    "\n",
    "print(\"Mass of vapor just in cell \", Qual * Mass_total - Vol_Other*Vapor_Density)   # %*g - ml*g/ml *()*\n",
    "\n",
    "\n",
    "Hl=Mass_liquid/(Liquid_Density*0.001 *np.pi * (Cu_Cell_ID/2)**2)\n",
    "\n",
    "print(Hl, Hv)\n"
   ]
  },
  {
   "cell_type": "code",
   "execution_count": 564,
   "metadata": {},
   "outputs": [
    {
     "name": "stdout",
     "output_type": "stream",
     "text": [
      "274000 vol ml\n",
      "29.197080291970803  mass g\n"
     ]
    }
   ],
   "source": [
    "vol = 137*2000 # ml/g * grams\n",
    "\n",
    "m   = 4000 / 137 # ml / ml/g\n",
    "\n",
    "print( vol, \"vol ml\")\n",
    "print( m , \" mass g\")\n"
   ]
  },
  {
   "cell_type": "code",
   "execution_count": 86,
   "metadata": {},
   "outputs": [
    {
     "data": {
      "text/plain": [
       "119.9574652421682"
      ]
     },
     "execution_count": 86,
     "metadata": {},
     "output_type": "execute_result"
    }
   ],
   "source": [
    "Total_Xenon_Vol *0.001 *0.03"
   ]
  },
  {
   "cell_type": "markdown",
   "metadata": {},
   "source": [
    "Quality is Vapor_mass/ ( Total Mass)"
   ]
  }
 ],
 "metadata": {
  "kernelspec": {
   "display_name": "Python 3",
   "language": "python",
   "name": "python3"
  },
  "language_info": {
   "codemirror_mode": {
    "name": "ipython",
    "version": 3
   },
   "file_extension": ".py",
   "mimetype": "text/x-python",
   "name": "python",
   "nbconvert_exporter": "python",
   "pygments_lexer": "ipython3",
   "version": "3.10.5"
  }
 },
 "nbformat": 4,
 "nbformat_minor": 2
}
