{
 "cells": [
  {
   "cell_type": "code",
   "execution_count": 81,
   "metadata": {},
   "outputs": [],
   "source": [
    "import h5py\n",
    "import pandas as pd\n",
    "import numpy as np\n",
    "import matplotlib.pyplot as plt\n",
    "import glob\n",
    "import csv\n",
    "import os\n",
    "from scipy.optimize import curve_fit\n",
    "import scipy.interpolate as interpolate\n",
    "import scipy\n",
    "from scipy.fft import fft, rfft, irfft,ifft,fftfreq\n",
    "import wget,requests\n",
    "from scipy.interpolate import LinearNDInterpolator\n",
    "\n",
    "\n",
    "nist_table_dir=\"./NistData\"\n"
   ]
  },
  {
   "cell_type": "markdown",
   "metadata": {},
   "source": [
    "#### Getting isobar data from nist "
   ]
  },
  {
   "cell_type": "code",
   "execution_count": 82,
   "metadata": {},
   "outputs": [
    {
     "name": "stdout",
     "output_type": "stream",
     "text": [
      "Skipping ./NistData/NistData-isobar-P0.10-HighT300.00-LowT270.00-Step1.00.tsv, already exisis\n",
      "Skipping ./NistData/NistData-isobar-P25.10-HighT300.00-LowT270.00-Step1.00.tsv, already exisis\n",
      "Skipping ./NistData/NistData-isobar-P50.10-HighT300.00-LowT270.00-Step1.00.tsv, already exisis\n",
      "Skipping ./NistData/NistData-isobar-P75.10-HighT300.00-LowT270.00-Step1.00.tsv, already exisis\n",
      "Skipping ./NistData/NistData-isobar-P100.10-HighT300.00-LowT270.00-Step1.00.tsv, already exisis\n",
      "Skipping ./NistData/NistData-isobar-P125.10-HighT300.00-LowT270.00-Step1.00.tsv, already exisis\n",
      "Skipping ./NistData/NistData-isobar-P150.10-HighT300.00-LowT270.00-Step1.00.tsv, already exisis\n",
      "Skipping ./NistData/NistData-isobar-P175.10-HighT300.00-LowT270.00-Step1.00.tsv, already exisis\n",
      "Skipping ./NistData/NistData-isobar-P200.10-HighT300.00-LowT270.00-Step1.00.tsv, already exisis\n",
      "Skipping ./NistData/NistData-isobar-P225.10-HighT300.00-LowT270.00-Step1.00.tsv, already exisis\n",
      "Skipping ./NistData/NistData-isobar-P250.10-HighT300.00-LowT270.00-Step1.00.tsv, already exisis\n",
      "Skipping ./NistData/NistData-isobar-P275.10-HighT300.00-LowT270.00-Step1.00.tsv, already exisis\n",
      "Skipping ./NistData/NistData-isobar-P300.10-HighT300.00-LowT270.00-Step1.00.tsv, already exisis\n",
      "Skipping ./NistData/NistData-isobar-P325.10-HighT300.00-LowT270.00-Step1.00.tsv, already exisis\n",
      "Skipping ./NistData/NistData-isobar-P350.10-HighT300.00-LowT270.00-Step1.00.tsv, already exisis\n",
      "Skipping ./NistData/NistData-isobar-P375.10-HighT300.00-LowT270.00-Step1.00.tsv, already exisis\n",
      "Skipping ./NistData/NistData-isobar-P400.10-HighT300.00-LowT270.00-Step1.00.tsv, already exisis\n",
      "Skipping ./NistData/NistData-isobar-P425.10-HighT300.00-LowT270.00-Step1.00.tsv, already exisis\n",
      "Skipping ./NistData/NistData-isobar-P450.10-HighT300.00-LowT270.00-Step1.00.tsv, already exisis\n",
      "Skipping ./NistData/NistData-isobar-P475.10-HighT300.00-LowT270.00-Step1.00.tsv, already exisis\n",
      "Skipping ./NistData/NistData-isobar-P500.10-HighT300.00-LowT270.00-Step1.00.tsv, already exisis\n",
      "Skipping ./NistData/NistData-isobar-P525.10-HighT300.00-LowT270.00-Step1.00.tsv, already exisis\n",
      "Skipping ./NistData/NistData-isobar-P550.10-HighT300.00-LowT270.00-Step1.00.tsv, already exisis\n",
      "Skipping ./NistData/NistData-isobar-P575.10-HighT300.00-LowT270.00-Step1.00.tsv, already exisis\n",
      "Skipping ./NistData/NistData-isobar-P600.10-HighT300.00-LowT270.00-Step1.00.tsv, already exisis\n",
      "Skipping ./NistData/NistData-isobar-P625.10-HighT300.00-LowT270.00-Step1.00.tsv, already exisis\n",
      "Skipping ./NistData/NistData-isobar-P650.10-HighT300.00-LowT270.00-Step1.00.tsv, already exisis\n",
      "Skipping ./NistData/NistData-isobar-P675.10-HighT300.00-LowT270.00-Step1.00.tsv, already exisis\n",
      "Skipping ./NistData/NistData-isobar-P700.10-HighT300.00-LowT270.00-Step1.00.tsv, already exisis\n",
      "Skipping ./NistData/NistData-isobar-P725.10-HighT300.00-LowT270.00-Step1.00.tsv, already exisis\n",
      "Skipping ./NistData/NistData-isobar-P750.10-HighT300.00-LowT270.00-Step1.00.tsv, already exisis\n",
      "Skipping ./NistData/NistData-isobar-P775.10-HighT300.00-LowT270.00-Step1.00.tsv, already exisis\n",
      "Skipping ./NistData/NistData-isobar-P800.10-HighT300.00-LowT270.00-Step1.00.tsv, already exisis\n",
      "Skipping ./NistData/NistData-isobar-P825.10-HighT300.00-LowT270.00-Step1.00.tsv, already exisis\n",
      "Skipping ./NistData/NistData-isobar-P850.10-HighT300.00-LowT270.00-Step1.00.tsv, already exisis\n",
      "Skipping ./NistData/NistData-isobar-P875.10-HighT300.00-LowT270.00-Step1.00.tsv, already exisis\n"
     ]
    }
   ],
   "source": [
    "Pressure=1\n",
    "TempHigh=300\n",
    "TempLow=270\n",
    "TempStep=1\n",
    "\n",
    "\n",
    "for Pressure in np.arange(0.1,900.1,25):\n",
    "    fname=\"NistData-isobar-P%0.2f-HighT%0.2f-LowT%0.2f-Step%0.2f.tsv\"%(Pressure,TempHigh,TempLow,TempStep)\n",
    "    filepath=\"./NistData/%s\"%(fname)\n",
    "    #print(\"https://webbook.nist.gov/cgi/fluid.cgi?Action=Data&Wide=on&ID=C7440633&Type=IsoBar&Digits=5&P=%0.2f&THigh=%0.2f&TLow=%0.2f&TInc=%0.2f&RefState=DEF&TUnit=K&PUnit=psia&DUnit=g%%2Fml&HUnit=kJ%%2Fmol&WUnit=m%%2Fs&VisUnit=uPa*s&STUnit=N%%2Fm\"%(Pressure,TempHigh,TempLow,TempStep))\n",
    "    if os.path.exists(filepath):\n",
    "        print(\"Skipping %s, already exisis\"%(filepath))\n",
    "    else:\n",
    "        url =\"https://webbook.nist.gov/cgi/fluid.cgi?Action=Data&Wide=on&ID=C7440633&Type=IsoBar&Digits=5&P=%0.2f&THigh=%0.2f&TLow=%0.2f&TInc=%0.2f&RefState=DEF&TUnit=K&PUnit=psia&DUnit=g%%2Fml&HUnit=kJ%%2Fmol&WUnit=m%%2Fs&VisUnit=uPa*s&STUnit=N%%2Fm\"%(Pressure,TempHigh,TempLow,TempStep)\n",
    "        file=wget.download(url,filepath )"
   ]
  },
  {
   "cell_type": "code",
   "execution_count": 83,
   "metadata": {},
   "outputs": [
    {
     "name": "stdout",
     "output_type": "stream",
     "text": [
      "[]\n"
     ]
    }
   ],
   "source": [
    "files = glob.glob(nist_table_dir+\"/*isobar-P[0-30]*LowT[161]*\")\n",
    "print(files)"
   ]
  },
  {
   "cell_type": "markdown",
   "metadata": {},
   "source": [
    "### Isobar"
   ]
  },
  {
   "cell_type": "markdown",
   "metadata": {},
   "source": [
    "#### Read in isobar data to XeTable for Cell"
   ]
  },
  {
   "cell_type": "code",
   "execution_count": 84,
   "metadata": {},
   "outputs": [
    {
     "ename": "ValueError",
     "evalue": "No objects to concatenate",
     "output_type": "error",
     "traceback": [
      "\u001b[1;31m---------------------------------------------------------------------------\u001b[0m",
      "\u001b[1;31mValueError\u001b[0m                                Traceback (most recent call last)",
      "Cell \u001b[1;32mIn[84], line 14\u001b[0m\n\u001b[0;32m     10\u001b[0m     Ts\u001b[38;5;241m.\u001b[39mappend(DF[\u001b[38;5;124m\"\u001b[39m\u001b[38;5;124mTemperature (K)\u001b[39m\u001b[38;5;124m\"\u001b[39m][:]\u001b[38;5;241m.\u001b[39mvalues)\n\u001b[0;32m     11\u001b[0m     Ds\u001b[38;5;241m.\u001b[39mappend(DF[\u001b[38;5;124m\"\u001b[39m\u001b[38;5;124mDensity (g/ml)\u001b[39m\u001b[38;5;124m\"\u001b[39m][:]\u001b[38;5;241m.\u001b[39mvalues)\n\u001b[1;32m---> 14\u001b[0m XeTable\u001b[38;5;241m=\u001b[39m\u001b[43mpd\u001b[49m\u001b[38;5;241;43m.\u001b[39;49m\u001b[43mconcat\u001b[49m\u001b[43m(\u001b[49m\u001b[43mDFs\u001b[49m\u001b[43m,\u001b[49m\u001b[43mignore_index\u001b[49m\u001b[38;5;241;43m=\u001b[39;49m\u001b[38;5;28;43;01mTrue\u001b[39;49;00m\u001b[43m)\u001b[49m\n\u001b[0;32m     15\u001b[0m XeTable \u001b[38;5;241m=\u001b[39m XeTable\u001b[38;5;241m.\u001b[39msort_values(by\u001b[38;5;241m=\u001b[39m[\u001b[38;5;124m\"\u001b[39m\u001b[38;5;124mPressure (psia)\u001b[39m\u001b[38;5;124m\"\u001b[39m,\u001b[38;5;124m\"\u001b[39m\u001b[38;5;124mTemperature (K)\u001b[39m\u001b[38;5;124m\"\u001b[39m])\n",
      "File \u001b[1;32mc:\\Python310\\lib\\site-packages\\pandas\\core\\reshape\\concat.py:382\u001b[0m, in \u001b[0;36mconcat\u001b[1;34m(objs, axis, join, ignore_index, keys, levels, names, verify_integrity, sort, copy)\u001b[0m\n\u001b[0;32m    379\u001b[0m \u001b[38;5;28;01melif\u001b[39;00m copy \u001b[38;5;129;01mand\u001b[39;00m using_copy_on_write():\n\u001b[0;32m    380\u001b[0m     copy \u001b[38;5;241m=\u001b[39m \u001b[38;5;28;01mFalse\u001b[39;00m\n\u001b[1;32m--> 382\u001b[0m op \u001b[38;5;241m=\u001b[39m \u001b[43m_Concatenator\u001b[49m\u001b[43m(\u001b[49m\n\u001b[0;32m    383\u001b[0m \u001b[43m    \u001b[49m\u001b[43mobjs\u001b[49m\u001b[43m,\u001b[49m\n\u001b[0;32m    384\u001b[0m \u001b[43m    \u001b[49m\u001b[43maxis\u001b[49m\u001b[38;5;241;43m=\u001b[39;49m\u001b[43maxis\u001b[49m\u001b[43m,\u001b[49m\n\u001b[0;32m    385\u001b[0m \u001b[43m    \u001b[49m\u001b[43mignore_index\u001b[49m\u001b[38;5;241;43m=\u001b[39;49m\u001b[43mignore_index\u001b[49m\u001b[43m,\u001b[49m\n\u001b[0;32m    386\u001b[0m \u001b[43m    \u001b[49m\u001b[43mjoin\u001b[49m\u001b[38;5;241;43m=\u001b[39;49m\u001b[43mjoin\u001b[49m\u001b[43m,\u001b[49m\n\u001b[0;32m    387\u001b[0m \u001b[43m    \u001b[49m\u001b[43mkeys\u001b[49m\u001b[38;5;241;43m=\u001b[39;49m\u001b[43mkeys\u001b[49m\u001b[43m,\u001b[49m\n\u001b[0;32m    388\u001b[0m \u001b[43m    \u001b[49m\u001b[43mlevels\u001b[49m\u001b[38;5;241;43m=\u001b[39;49m\u001b[43mlevels\u001b[49m\u001b[43m,\u001b[49m\n\u001b[0;32m    389\u001b[0m \u001b[43m    \u001b[49m\u001b[43mnames\u001b[49m\u001b[38;5;241;43m=\u001b[39;49m\u001b[43mnames\u001b[49m\u001b[43m,\u001b[49m\n\u001b[0;32m    390\u001b[0m \u001b[43m    \u001b[49m\u001b[43mverify_integrity\u001b[49m\u001b[38;5;241;43m=\u001b[39;49m\u001b[43mverify_integrity\u001b[49m\u001b[43m,\u001b[49m\n\u001b[0;32m    391\u001b[0m \u001b[43m    \u001b[49m\u001b[43mcopy\u001b[49m\u001b[38;5;241;43m=\u001b[39;49m\u001b[43mcopy\u001b[49m\u001b[43m,\u001b[49m\n\u001b[0;32m    392\u001b[0m \u001b[43m    \u001b[49m\u001b[43msort\u001b[49m\u001b[38;5;241;43m=\u001b[39;49m\u001b[43msort\u001b[49m\u001b[43m,\u001b[49m\n\u001b[0;32m    393\u001b[0m \u001b[43m\u001b[49m\u001b[43m)\u001b[49m\n\u001b[0;32m    395\u001b[0m \u001b[38;5;28;01mreturn\u001b[39;00m op\u001b[38;5;241m.\u001b[39mget_result()\n",
      "File \u001b[1;32mc:\\Python310\\lib\\site-packages\\pandas\\core\\reshape\\concat.py:445\u001b[0m, in \u001b[0;36m_Concatenator.__init__\u001b[1;34m(self, objs, axis, join, keys, levels, names, ignore_index, verify_integrity, copy, sort)\u001b[0m\n\u001b[0;32m    442\u001b[0m \u001b[38;5;28mself\u001b[39m\u001b[38;5;241m.\u001b[39mverify_integrity \u001b[38;5;241m=\u001b[39m verify_integrity\n\u001b[0;32m    443\u001b[0m \u001b[38;5;28mself\u001b[39m\u001b[38;5;241m.\u001b[39mcopy \u001b[38;5;241m=\u001b[39m copy\n\u001b[1;32m--> 445\u001b[0m objs, keys \u001b[38;5;241m=\u001b[39m \u001b[38;5;28;43mself\u001b[39;49m\u001b[38;5;241;43m.\u001b[39;49m\u001b[43m_clean_keys_and_objs\u001b[49m\u001b[43m(\u001b[49m\u001b[43mobjs\u001b[49m\u001b[43m,\u001b[49m\u001b[43m \u001b[49m\u001b[43mkeys\u001b[49m\u001b[43m)\u001b[49m\n\u001b[0;32m    447\u001b[0m \u001b[38;5;66;03m# figure out what our result ndim is going to be\u001b[39;00m\n\u001b[0;32m    448\u001b[0m ndims \u001b[38;5;241m=\u001b[39m \u001b[38;5;28mself\u001b[39m\u001b[38;5;241m.\u001b[39m_get_ndims(objs)\n",
      "File \u001b[1;32mc:\\Python310\\lib\\site-packages\\pandas\\core\\reshape\\concat.py:507\u001b[0m, in \u001b[0;36m_Concatenator._clean_keys_and_objs\u001b[1;34m(self, objs, keys)\u001b[0m\n\u001b[0;32m    504\u001b[0m     objs_list \u001b[38;5;241m=\u001b[39m \u001b[38;5;28mlist\u001b[39m(objs)\n\u001b[0;32m    506\u001b[0m \u001b[38;5;28;01mif\u001b[39;00m \u001b[38;5;28mlen\u001b[39m(objs_list) \u001b[38;5;241m==\u001b[39m \u001b[38;5;241m0\u001b[39m:\n\u001b[1;32m--> 507\u001b[0m     \u001b[38;5;28;01mraise\u001b[39;00m \u001b[38;5;167;01mValueError\u001b[39;00m(\u001b[38;5;124m\"\u001b[39m\u001b[38;5;124mNo objects to concatenate\u001b[39m\u001b[38;5;124m\"\u001b[39m)\n\u001b[0;32m    509\u001b[0m \u001b[38;5;28;01mif\u001b[39;00m keys \u001b[38;5;129;01mis\u001b[39;00m \u001b[38;5;28;01mNone\u001b[39;00m:\n\u001b[0;32m    510\u001b[0m     objs_list \u001b[38;5;241m=\u001b[39m \u001b[38;5;28mlist\u001b[39m(com\u001b[38;5;241m.\u001b[39mnot_none(\u001b[38;5;241m*\u001b[39mobjs_list))\n",
      "\u001b[1;31mValueError\u001b[0m: No objects to concatenate"
     ]
    }
   ],
   "source": [
    "files = glob.glob(nist_table_dir+\"/*isobar-P[0-30]*LowT[161]*\")\n",
    "DFs=[]\n",
    "Ps=[]\n",
    "Ts=[]\n",
    "Ds=[]\n",
    "for file in files:\n",
    "    DF= pd.read_table(file)\n",
    "    DFs.append(DF)\n",
    "    Ps.append(DF[\"Pressure (psia)\"][:].values)\n",
    "    Ts.append(DF[\"Temperature (K)\"][:].values)\n",
    "    Ds.append(DF[\"Density (g/ml)\"][:].values)\n",
    "\n",
    "\n",
    "XeTable=pd.concat(DFs,ignore_index=True)\n",
    "XeTable = XeTable.sort_values(by=[\"Pressure (psia)\",\"Temperature (K)\"])\n"
   ]
  },
  {
   "cell_type": "markdown",
   "metadata": {},
   "source": [
    "#### Set up 2d interpolation"
   ]
  },
  {
   "cell_type": "code",
   "execution_count": null,
   "metadata": {},
   "outputs": [
    {
     "ename": "NameError",
     "evalue": "name 'XeTable' is not defined",
     "output_type": "error",
     "traceback": [
      "\u001b[1;31m---------------------------------------------------------------------------\u001b[0m",
      "\u001b[1;31mNameError\u001b[0m                                 Traceback (most recent call last)",
      "Cell \u001b[1;32mIn[3], line 1\u001b[0m\n\u001b[1;32m----> 1\u001b[0m X\u001b[38;5;241m=\u001b[39mnp\u001b[38;5;241m.\u001b[39marray(\u001b[43mXeTable\u001b[49m[\u001b[38;5;124m\"\u001b[39m\u001b[38;5;124mTemperature (K)\u001b[39m\u001b[38;5;124m\"\u001b[39m])\n\u001b[0;32m      2\u001b[0m Y\u001b[38;5;241m=\u001b[39mnp\u001b[38;5;241m.\u001b[39marray(XeTable[\u001b[38;5;124m\"\u001b[39m\u001b[38;5;124mPressure (psia)\u001b[39m\u001b[38;5;124m\"\u001b[39m])\n\u001b[0;32m      3\u001b[0m Z\u001b[38;5;241m=\u001b[39mnp\u001b[38;5;241m.\u001b[39marray(XeTable[\u001b[38;5;124m\"\u001b[39m\u001b[38;5;124mDensity (g/ml)\u001b[39m\u001b[38;5;124m\"\u001b[39m])\n",
      "\u001b[1;31mNameError\u001b[0m: name 'XeTable' is not defined"
     ]
    }
   ],
   "source": [
    "X=np.array(XeTable[\"Temperature (K)\"])\n",
    "Y=np.array(XeTable[\"Pressure (psia)\"])\n",
    "Z=np.array(XeTable[\"Density (g/ml)\"])\n",
    "IsoBar_TvP=LinearNDInterpolator(list(zip(X,Y)),Z)"
   ]
  },
  {
   "cell_type": "markdown",
   "metadata": {},
   "source": [
    "#### colorbar map of density for PvT  cmap is log scale"
   ]
  },
  {
   "cell_type": "code",
   "execution_count": null,
   "metadata": {},
   "outputs": [
    {
     "name": "stdout",
     "output_type": "stream",
     "text": [
      "abs(`Temperature (K)` -172.500000) <12.500000 and abs(`Pressure (psia)` - 20.500000) <7.537688\n"
     ]
    },
    {
     "ename": "NameError",
     "evalue": "name 'XeTable' is not defined",
     "output_type": "error",
     "traceback": [
      "\u001b[1;31m---------------------------------------------------------------------------\u001b[0m",
      "\u001b[1;31mNameError\u001b[0m                                 Traceback (most recent call last)",
      "Cell \u001b[1;32mIn[5], line 8\u001b[0m\n\u001b[0;32m      5\u001b[0m count\u001b[38;5;241m=\u001b[39m\u001b[38;5;241m5\u001b[39m\n\u001b[0;32m      7\u001b[0m \u001b[38;5;28mprint\u001b[39m(\u001b[38;5;124m\"\u001b[39m\u001b[38;5;124mabs(`Temperature (K)` -\u001b[39m\u001b[38;5;132;01m%f\u001b[39;00m\u001b[38;5;124m) <\u001b[39m\u001b[38;5;132;01m%f\u001b[39;00m\u001b[38;5;124m and abs(`Pressure (psia)` - \u001b[39m\u001b[38;5;132;01m%f\u001b[39;00m\u001b[38;5;124m) <\u001b[39m\u001b[38;5;132;01m%f\u001b[39;00m\u001b[38;5;124m\"\u001b[39m\u001b[38;5;241m%\u001b[39m((Tmin\u001b[38;5;241m+\u001b[39mTmax)\u001b[38;5;241m/\u001b[39m\u001b[38;5;241m2\u001b[39m, (Tmax\u001b[38;5;241m-\u001b[39mTmin)\u001b[38;5;241m/\u001b[39m\u001b[38;5;241m2\u001b[39m,(Pmax\u001b[38;5;241m+\u001b[39mPmin)\u001b[38;5;241m/\u001b[39m\u001b[38;5;241m2\u001b[39m,(Pmax\u001b[38;5;241m-\u001b[39mPmin)\u001b[38;5;241m/\u001b[39m\u001b[38;5;241m1.99\u001b[39m))\n\u001b[1;32m----> 8\u001b[0m DF\u001b[38;5;241m=\u001b[39m\u001b[43mXeTable\u001b[49m\u001b[38;5;241m.\u001b[39mquery(\u001b[38;5;124m\"\u001b[39m\u001b[38;5;124mabs(`Temperature (K)` -\u001b[39m\u001b[38;5;132;01m%f\u001b[39;00m\u001b[38;5;124m) <\u001b[39m\u001b[38;5;132;01m%f\u001b[39;00m\u001b[38;5;124m and abs(`Pressure (psia)` - \u001b[39m\u001b[38;5;132;01m%f\u001b[39;00m\u001b[38;5;124m) <\u001b[39m\u001b[38;5;132;01m%f\u001b[39;00m\u001b[38;5;124m\"\u001b[39m\u001b[38;5;241m%\u001b[39m((Tmin\u001b[38;5;241m+\u001b[39mTmax)\u001b[38;5;241m/\u001b[39m\u001b[38;5;241m2\u001b[39m, (Tmax\u001b[38;5;241m-\u001b[39mTmin)\u001b[38;5;241m/\u001b[39m\u001b[38;5;241m2\u001b[39m,(Pmax\u001b[38;5;241m+\u001b[39mPmin)\u001b[38;5;241m/\u001b[39m\u001b[38;5;241m2\u001b[39m,(Pmax\u001b[38;5;241m-\u001b[39mPmin)\u001b[38;5;241m/\u001b[39m\u001b[38;5;241m1.99\u001b[39m))\n\u001b[0;32m     10\u001b[0m plt\u001b[38;5;241m.\u001b[39mscatter(DF[\u001b[38;5;124m\"\u001b[39m\u001b[38;5;124mTemperature (K)\u001b[39m\u001b[38;5;124m\"\u001b[39m],DF[\u001b[38;5;124m\"\u001b[39m\u001b[38;5;124mPressure (psia)\u001b[39m\u001b[38;5;124m\"\u001b[39m],c\u001b[38;5;241m=\u001b[39m(DF[\u001b[38;5;124m\"\u001b[39m\u001b[38;5;124mDensity (g/ml)\u001b[39m\u001b[38;5;124m\"\u001b[39m]),marker\u001b[38;5;241m=\u001b[39m\u001b[38;5;124m\"\u001b[39m\u001b[38;5;124m.\u001b[39m\u001b[38;5;124m\"\u001b[39m,cmap\u001b[38;5;241m=\u001b[39m\u001b[38;5;124m\"\u001b[39m\u001b[38;5;124mjet\u001b[39m\u001b[38;5;124m\"\u001b[39m)\n\u001b[0;32m     11\u001b[0m plt\u001b[38;5;241m.\u001b[39mcolorbar()\n",
      "\u001b[1;31mNameError\u001b[0m: name 'XeTable' is not defined"
     ]
    }
   ],
   "source": [
    "Tmin=160\n",
    "Tmax=185\n",
    "Pmin=13\n",
    "Pmax=28\n",
    "count=5\n",
    "\n",
    "print(\"abs(`Temperature (K)` -%f) <%f and abs(`Pressure (psia)` - %f) <%f\"%((Tmin+Tmax)/2, (Tmax-Tmin)/2,(Pmax+Pmin)/2,(Pmax-Pmin)/1.99))\n",
    "DF=XeTable.query(\"abs(`Temperature (K)` -%f) <%f and abs(`Pressure (psia)` - %f) <%f\"%((Tmin+Tmax)/2, (Tmax-Tmin)/2,(Pmax+Pmin)/2,(Pmax-Pmin)/1.99))\n",
    "\n",
    "plt.scatter(DF[\"Temperature (K)\"],DF[\"Pressure (psia)\"],c=(DF[\"Density (g/ml)\"]),marker=\".\",cmap=\"jet\")\n",
    "plt.colorbar()\n",
    "\n",
    "\n",
    "for i in np.arange(0,count+1,1):\n",
    "    x=np.random.random()*(Tmax-Tmin)+Tmin\n",
    "    y=np.random.random()*(Pmax-Pmin)+Pmin\n",
    "    z=IsoBar_TvP(x,y)\n",
    "    print(x,y,z)\n",
    "\n",
    "    plt.text(x,y,np.round(z,5),color=\"red\")\n",
    "    plt.scatter(x,y,c=z,marker=\"x\")\n",
    "\n",
    "\n",
    "for m in [0,1,2,3,4,5,6]:\n",
    "    m= int(m/6* len(DF.index)) -1\n",
    "    X=DF[\"Temperature (K)\"].iloc[m]\n",
    "    Y=DF[\"Pressure (psia)\"].iloc[m]\n",
    "    Z=DF[\"Density (g/ml)\"].iloc[m]\n",
    "    plt.text(X-0.15,Y-0.015,np.round(Z,4))\n",
    "    \n",
    "\n",
    "\n"
   ]
  },
  {
   "cell_type": "code",
   "execution_count": 5,
   "metadata": {},
   "outputs": [
    {
     "ename": "NameError",
     "evalue": "name 'IsoBar_TvP' is not defined",
     "output_type": "error",
     "traceback": [
      "\u001b[1;31m---------------------------------------------------------------------------\u001b[0m",
      "\u001b[1;31mNameError\u001b[0m                                 Traceback (most recent call last)",
      "Cell \u001b[1;32mIn[5], line 1\u001b[0m\n\u001b[1;32m----> 1\u001b[0m \u001b[43mIsoBar_TvP\u001b[49m(\u001b[38;5;241m293\u001b[39m,\u001b[38;5;241m525\u001b[39m)\n",
      "\u001b[1;31mNameError\u001b[0m: name 'IsoBar_TvP' is not defined"
     ]
    }
   ],
   "source": [
    "IsoBar_TvP(293,525)"
   ]
  },
  {
   "cell_type": "code",
   "execution_count": null,
   "metadata": {},
   "outputs": [],
   "source": []
  },
  {
   "cell_type": "markdown",
   "metadata": {},
   "source": [
    "#### Read in isobar data to XeTable for Storage"
   ]
  },
  {
   "cell_type": "code",
   "execution_count": 6,
   "metadata": {},
   "outputs": [],
   "source": [
    "files = glob.glob(nist_table_dir+\"/*isobar*LowT[270]*\")\n",
    "DFs=[]\n",
    "Ps=[]\n",
    "Ts=[]\n",
    "Ds=[]\n",
    "for file in files:\n",
    "    DF= pd.read_table(file)\n",
    "    DFs.append(DF)\n",
    "    Ps.append(DF[\"Pressure (psia)\"][:].values)\n",
    "    Ts.append(DF[\"Temperature (K)\"][:].values)\n",
    "    Ds.append(DF[\"Density (g/ml)\"][:].values)\n",
    "\n",
    "\n",
    "XeTable_storage=pd.concat(DFs,ignore_index=True)\n",
    "XeTable_storage = XeTable_storage.sort_values(by=[\"Pressure (psia)\",\"Temperature (K)\"])\n"
   ]
  },
  {
   "cell_type": "code",
   "execution_count": 85,
   "metadata": {},
   "outputs": [],
   "source": [
    "X=np.array(XeTable_storage[\"Temperature (K)\"])\n",
    "Y=np.array(XeTable_storage[\"Pressure (psia)\"])\n",
    "Z=np.array(XeTable_storage[\"Density (g/ml)\"])\n",
    "IsoBar_TvP_storage=LinearNDInterpolator(list(zip(X,Y)),Z)"
   ]
  },
  {
   "cell_type": "code",
   "execution_count": 86,
   "metadata": {},
   "outputs": [
    {
     "name": "stdout",
     "output_type": "stream",
     "text": [
      "abs(`Temperature (K)` -295.000000) <5.000000 and abs(`Pressure (psia)` - 637.500000) <-113.065327\n"
     ]
    },
    {
     "ename": "IndexError",
     "evalue": "single positional indexer is out-of-bounds",
     "output_type": "error",
     "traceback": [
      "\u001b[1;31m---------------------------------------------------------------------------\u001b[0m",
      "\u001b[1;31mIndexError\u001b[0m                                Traceback (most recent call last)",
      "Cell \u001b[1;32mIn[86], line 28\u001b[0m\n\u001b[0;32m     26\u001b[0m \u001b[38;5;28;01mfor\u001b[39;00m m \u001b[38;5;129;01min\u001b[39;00m [\u001b[38;5;241m0\u001b[39m,\u001b[38;5;241m1\u001b[39m,\u001b[38;5;241m2\u001b[39m,\u001b[38;5;241m3\u001b[39m,\u001b[38;5;241m4\u001b[39m]:\n\u001b[0;32m     27\u001b[0m     m\u001b[38;5;241m=\u001b[39m \u001b[38;5;28mint\u001b[39m(m\u001b[38;5;241m/\u001b[39m\u001b[38;5;241m4\u001b[39m\u001b[38;5;241m*\u001b[39m \u001b[38;5;28mlen\u001b[39m(DF\u001b[38;5;241m.\u001b[39mindex)) \u001b[38;5;241m-\u001b[39m\u001b[38;5;241m1\u001b[39m\n\u001b[1;32m---> 28\u001b[0m     X\u001b[38;5;241m=\u001b[39m\u001b[43mDF\u001b[49m\u001b[43m[\u001b[49m\u001b[38;5;124;43m\"\u001b[39;49m\u001b[38;5;124;43mTemperature (K)\u001b[39;49m\u001b[38;5;124;43m\"\u001b[39;49m\u001b[43m]\u001b[49m\u001b[38;5;241;43m.\u001b[39;49m\u001b[43miloc\u001b[49m\u001b[43m[\u001b[49m\u001b[43mm\u001b[49m\u001b[43m]\u001b[49m\n\u001b[0;32m     29\u001b[0m     Y\u001b[38;5;241m=\u001b[39mDF[\u001b[38;5;124m\"\u001b[39m\u001b[38;5;124mPressure (psia)\u001b[39m\u001b[38;5;124m\"\u001b[39m]\u001b[38;5;241m.\u001b[39miloc[m]\n\u001b[0;32m     30\u001b[0m     Z\u001b[38;5;241m=\u001b[39mDF[\u001b[38;5;124m\"\u001b[39m\u001b[38;5;124mDensity (g/ml)\u001b[39m\u001b[38;5;124m\"\u001b[39m]\u001b[38;5;241m.\u001b[39miloc[m]\n",
      "File \u001b[1;32mc:\\Python310\\lib\\site-packages\\pandas\\core\\indexing.py:1191\u001b[0m, in \u001b[0;36m_LocationIndexer.__getitem__\u001b[1;34m(self, key)\u001b[0m\n\u001b[0;32m   1189\u001b[0m maybe_callable \u001b[38;5;241m=\u001b[39m com\u001b[38;5;241m.\u001b[39mapply_if_callable(key, \u001b[38;5;28mself\u001b[39m\u001b[38;5;241m.\u001b[39mobj)\n\u001b[0;32m   1190\u001b[0m maybe_callable \u001b[38;5;241m=\u001b[39m \u001b[38;5;28mself\u001b[39m\u001b[38;5;241m.\u001b[39m_check_deprecated_callable_usage(key, maybe_callable)\n\u001b[1;32m-> 1191\u001b[0m \u001b[38;5;28;01mreturn\u001b[39;00m \u001b[38;5;28;43mself\u001b[39;49m\u001b[38;5;241;43m.\u001b[39;49m\u001b[43m_getitem_axis\u001b[49m\u001b[43m(\u001b[49m\u001b[43mmaybe_callable\u001b[49m\u001b[43m,\u001b[49m\u001b[43m \u001b[49m\u001b[43maxis\u001b[49m\u001b[38;5;241;43m=\u001b[39;49m\u001b[43maxis\u001b[49m\u001b[43m)\u001b[49m\n",
      "File \u001b[1;32mc:\\Python310\\lib\\site-packages\\pandas\\core\\indexing.py:1752\u001b[0m, in \u001b[0;36m_iLocIndexer._getitem_axis\u001b[1;34m(self, key, axis)\u001b[0m\n\u001b[0;32m   1749\u001b[0m     \u001b[38;5;28;01mraise\u001b[39;00m \u001b[38;5;167;01mTypeError\u001b[39;00m(\u001b[38;5;124m\"\u001b[39m\u001b[38;5;124mCannot index by location index with a non-integer key\u001b[39m\u001b[38;5;124m\"\u001b[39m)\n\u001b[0;32m   1751\u001b[0m \u001b[38;5;66;03m# validate the location\u001b[39;00m\n\u001b[1;32m-> 1752\u001b[0m \u001b[38;5;28;43mself\u001b[39;49m\u001b[38;5;241;43m.\u001b[39;49m\u001b[43m_validate_integer\u001b[49m\u001b[43m(\u001b[49m\u001b[43mkey\u001b[49m\u001b[43m,\u001b[49m\u001b[43m \u001b[49m\u001b[43maxis\u001b[49m\u001b[43m)\u001b[49m\n\u001b[0;32m   1754\u001b[0m \u001b[38;5;28;01mreturn\u001b[39;00m \u001b[38;5;28mself\u001b[39m\u001b[38;5;241m.\u001b[39mobj\u001b[38;5;241m.\u001b[39m_ixs(key, axis\u001b[38;5;241m=\u001b[39maxis)\n",
      "File \u001b[1;32mc:\\Python310\\lib\\site-packages\\pandas\\core\\indexing.py:1685\u001b[0m, in \u001b[0;36m_iLocIndexer._validate_integer\u001b[1;34m(self, key, axis)\u001b[0m\n\u001b[0;32m   1683\u001b[0m len_axis \u001b[38;5;241m=\u001b[39m \u001b[38;5;28mlen\u001b[39m(\u001b[38;5;28mself\u001b[39m\u001b[38;5;241m.\u001b[39mobj\u001b[38;5;241m.\u001b[39m_get_axis(axis))\n\u001b[0;32m   1684\u001b[0m \u001b[38;5;28;01mif\u001b[39;00m key \u001b[38;5;241m>\u001b[39m\u001b[38;5;241m=\u001b[39m len_axis \u001b[38;5;129;01mor\u001b[39;00m key \u001b[38;5;241m<\u001b[39m \u001b[38;5;241m-\u001b[39mlen_axis:\n\u001b[1;32m-> 1685\u001b[0m     \u001b[38;5;28;01mraise\u001b[39;00m \u001b[38;5;167;01mIndexError\u001b[39;00m(\u001b[38;5;124m\"\u001b[39m\u001b[38;5;124msingle positional indexer is out-of-bounds\u001b[39m\u001b[38;5;124m\"\u001b[39m)\n",
      "\u001b[1;31mIndexError\u001b[0m: single positional indexer is out-of-bounds"
     ]
    },
    {
     "data": {
      "image/png": "[encoded data removed]",
      "text/plain": [
       "<Figure size 640x480 with 2 Axes>"
      ]
     },
     "metadata": {},
     "output_type": "display_data"
    }
   ],
   "source": [
    "Tmin=290\n",
    "Tmax=300\n",
    "Pmin=750\n",
    "Pmax=525\n",
    "count=5\n",
    "\n",
    "Storage_vol=7570.82 +300## Storage volume in ml\n",
    "\n",
    "print(\"abs(`Temperature (K)` -%f) <%f and abs(`Pressure (psia)` - %f) <%f\"%((Tmin+Tmax)/2, (Tmax-Tmin)/2,(Pmax+Pmin)/2,(Pmax-Pmin)/1.99))\n",
    "DF=XeTable_storage.query(\"abs(`Temperature (K)` -%f) <%f and abs(`Pressure (psia)` - %f) <%f\"%((Tmin+Tmax)/2, (Tmax-Tmin)/2,(Pmax+Pmin)/2,(Pmax-Pmin)/1.99))\n",
    "\n",
    "plt.scatter(DF[\"Temperature (K)\"],DF[\"Pressure (psia)\"],c=(DF[\"Density (g/ml)\"]),marker=\".\",cmap=\"jet\")\n",
    "plt.colorbar()\n",
    "\n",
    "\n",
    "for i in np.arange(0,count+1,1):\n",
    "    x=np.random.random()*(Tmax-Tmin)+Tmin\n",
    "    y=np.random.random()*(Pmax-Pmin)+Pmin\n",
    "    z=IsoBar_TvP_storage(x,y)\n",
    "    \n",
    "    \n",
    "    plt.text(x,y,np.round(z,5),color=\"red\")\n",
    "    plt.scatter(x,y,c=z,marker=\"x\")\n",
    "\n",
    "\n",
    "for m in [0,1,2,3,4]:\n",
    "    m= int(m/4* len(DF.index)) -1\n",
    "    X=DF[\"Temperature (K)\"].iloc[m]\n",
    "    Y=DF[\"Pressure (psia)\"].iloc[m]\n",
    "    Z=DF[\"Density (g/ml)\"].iloc[m]\n",
    "\n",
    "    \n",
    "    plt.text(X-0.5,Y-0.025,np.round(Z,4))\n",
    "    \n",
    "\n",
    "\n"
   ]
  },
  {
   "cell_type": "markdown",
   "metadata": {},
   "source": [
    "## Amount of Xenon in Storage clyinder with P and T"
   ]
  },
  {
   "cell_type": "code",
   "execution_count": 87,
   "metadata": {},
   "outputs": [
    {
     "name": "stdout",
     "output_type": "stream",
     "text": [
      "Xe Mass in Storage at 689.700 psia(675.000 psig) and 293.000 K is 3114.680 grams:\n",
      "3114.6799296672\n"
     ]
    }
   ],
   "source": [
    "## Set the time 0 amount of xenon\n",
    "\n",
    "x=293\n",
    "y=675+14.7\n",
    "z=IsoBar_TvP_storage(x,y)\n",
    "\n",
    "print( \"Xe Mass in Storage at %0.3f psia(%0.3f psig) and %0.3f K is %0.3f grams:\"%(y,y-14.7,x,z*Storage_vol))\n",
    "\n",
    "XeMass_t0=z*Storage_vol\n",
    "print(XeMass_t0)"
   ]
  },
  {
   "cell_type": "markdown",
   "metadata": {},
   "source": [
    "Xenon Mass in Storage as of 20240618 @ 1515 is 2076.88 grams, @ 294.65 K and 540 psig"
   ]
  },
  {
   "cell_type": "markdown",
   "metadata": {},
   "source": [
    "## Amount of Xenon removed from storage.\n"
   ]
  },
  {
   "cell_type": "code",
   "execution_count": 88,
   "metadata": {},
   "outputs": [
    {
     "name": "stdout",
     "output_type": "stream",
     "text": [
      "Xe Mass in Storage at 614.700 psia(600.000 psig) and 293.000 K is 2560.042 grams:\n",
      "Xe Mass removed from storage at 614.700 psia(600.000 psig) and 293.000 K is 554.638 grams:\n"
     ]
    }
   ],
   "source": [
    "x=293 #temp\n",
    "y=600+14.7 #pressure\n",
    "z=IsoBar_TvP_storage(x,y)\n",
    "\n",
    "XeMass_removed= XeMass_t0 - z*Storage_vol\n",
    "\n",
    "print( \"Xe Mass in Storage at %0.3f psia(%0.3f psig) and %0.3f K is %0.3f grams:\"%(y,y-14.7,x,z*Storage_vol))\n",
    "\n",
    "print( \"Xe Mass removed from storage at %0.3f psia(%0.3f psig) and %0.3f K is %0.3f grams:\"%(y,y-14.7,x,XeMass_removed))\n"
   ]
  },
  {
   "cell_type": "code",
   "execution_count": 32,
   "metadata": {},
   "outputs": [
    {
     "data": {
      "text/plain": [
       "165.5294535724685"
      ]
     },
     "execution_count": 32,
     "metadata": {},
     "output_type": "execute_result"
    }
   ],
   "source": [
    "np.sqrt(150**2+ 70**2)"
   ]
  },
  {
   "cell_type": "markdown",
   "metadata": {},
   "source": [
    "## 20241004"
   ]
  },
  {
   "cell_type": "code",
   "execution_count": 89,
   "metadata": {},
   "outputs": [],
   "source": [
    "def getperrors(pressures):\n",
    "    \n",
    "    p_low=[]\n",
    "    p_high=[]\n",
    "\n",
    "    for p in pressures:\n",
    "        p_floor= np.floor(p/100)*100\n",
    "        p_ceil= np.ceil(p/100)*100\n",
    "\n",
    "        if p%50==0:\n",
    "            p_range=[p-15,p,p+15]\n",
    "        elif p%25==0:\n",
    "            p_range=[p-20,p,p+20]\n",
    "        elif p-p_floor < 50:\n",
    "            p_range=[np.max([p_floor,p-25]),p,np.min([p+25,p_floor+50])]\n",
    "        else:\n",
    "            p_range=[np.max([p_ceil-50,p-25]),p,np.min([p_ceil,p+25])]\n",
    "        \n",
    "        p_low.append(p_range[0])\n",
    "        p_high.append(p_range[2])\n",
    "        print(p_range)\n",
    "    return p_low,p_high\n",
    "\n",
    "\n",
    "def GetMassInjected(p,T=293,m_0=XeMass_t0,vol=Storage_vol):\n",
    "    \n",
    "    if type(p) == type([]):\n",
    "        m_inj=[]\n",
    "        for pre in p:\n",
    "            m_inj.append(m_0 -IsoBar_TvP_storage(T,pre+14.7)*vol )\n",
    "        return m_inj\n",
    "    else:\n",
    "        m_in_sto_t = IsoBar_TvP_storage(T,p+14.7)*vol\n",
    "        return m_0-m_in_sto_t\n",
    "\n",
    "\n",
    "    \n",
    "\n",
    "\n"
   ]
  },
  {
   "cell_type": "code",
   "execution_count": 98,
   "metadata": {},
   "outputs": [
    {
     "name": "stdout",
     "output_type": "stream",
     "text": [
      "[655, 675, 695]\n",
      "[635, 650, 665]\n",
      "[  0.         199.29357006]\n"
     ]
    }
   ],
   "source": [
    "Feb04_p= np.array([675,650])\n",
    "time_0204 = np.array([10+5/6,11])\n",
    "p_low_0204,p_high_0204= getperrors(Feb04_p)\n",
    "\n",
    "\n",
    "m_low_0204= GetMassInjected(p_low_0204)\n",
    "m_high_0204=GetMassInjected(p_high_0204)\n",
    "m_0204=GetMassInjected(Feb04_p)\n",
    "\n",
    "m_err_0204=np.vstack((np.abs(m_high_0204-m_0204),m_low_0204-m_0204))\n",
    "\n",
    "print(m_0204)"
   ]
  },
  {
   "cell_type": "code",
   "execution_count": 99,
   "metadata": {},
   "outputs": [
    {
     "name": "stdout",
     "output_type": "stream",
     "text": [
      "[655, 675, 695]\n",
      "[585, 600, 615]\n",
      "[555, 575, 595]\n",
      "[535, 550, 565]\n",
      "[505, 525, 545]\n",
      "[485, 500, 515]\n",
      "[455.0, 480, 500.0]\n",
      "[435, 450, 465]\n",
      "[385, 400, 415]\n",
      "[   0.          554.6384251   715.2031531   866.48598049 1009.69397622\n",
      " 1145.85034691 1250.46802701 1399.99345772 1633.92682143]\n"
     ]
    }
   ],
   "source": [
    "Jan28_p= np.array([675,600,575,550,525,500,480,450,400])\n",
    "time_0128 = np.array([8+35/60,8.75,9.00,9.25,9.5,9.75,10.0,10.25,10+35/60])\n",
    "p_low_0128,p_high_0128= getperrors(Jan28_p)\n",
    "\n",
    "\n",
    "m_low_0128= GetMassInjected(p_low_0128)\n",
    "m_high_0128=GetMassInjected(p_high_0128)\n",
    "m_0128=GetMassInjected(Jan28_p)\n",
    "\n",
    "m_err_0128=np.vstack((np.abs(m_high_0128-m_0128),m_low_0128-m_0128))\n",
    "\n",
    "print(m_0128)"
   ]
  },
  {
   "cell_type": "code",
   "execution_count": 100,
   "metadata": {},
   "outputs": [
    {
     "name": "stdout",
     "output_type": "stream",
     "text": [
      "[585, 600, 615]\n",
      "[535, 550, 565]\n",
      "[510.0, 535, 550.0]\n",
      "[485, 500, 515]\n",
      "[460.0, 485, 500.0]\n",
      "[455, 475, 495]\n",
      "[435, 450, 465]\n",
      "[400.0, 410, 435.0]\n",
      "[355, 375, 395]\n",
      "[350.0, 360, 385.0]\n"
     ]
    }
   ],
   "source": [
    "pressures = np.array([600,550,535,500,485,475,450,410,375,360])\n",
    "p_low,p_high= getperrors(pressures)\n",
    "\n",
    "\n",
    "m_low= GetMassInjected(p_low)\n",
    "m_high=GetMassInjected(p_high)\n",
    "m=GetMassInjected(pressures)\n",
    "\n",
    "m_err=np.vstack((np.abs(m_high-m),m_low-m))\n"
   ]
  },
  {
   "cell_type": "code",
   "execution_count": 101,
   "metadata": {},
   "outputs": [
    {
     "name": "stdout",
     "output_type": "stream",
     "text": [
      "[585, 600, 615]\n",
      "[515.0, 540, 550.0]\n",
      "[485, 500, 515]\n",
      "[455, 475, 495]\n",
      "[435, 450, 465]\n",
      "[405, 425, 445]\n",
      "[385, 400, 415]\n",
      "[355, 375, 395]\n",
      "[350.0, 365, 390.0]\n"
     ]
    }
   ],
   "source": [
    "time_1213 = np.array([8.50,8 +5/6,9,9.25,9.5,9+5/6,10 + 1/12,10.25,10+25/60])\n",
    "pressures_1213 = np.array([600,540,500,475,450,425,400,375,365])\n",
    "p_low_1213,p_high_1213= getperrors(pressures_1213)\n",
    "\n",
    "\n",
    "m_low_1213= GetMassInjected(p_low_1213)\n",
    "m_high_1213=GetMassInjected(p_high_1213)\n",
    "m_1213=GetMassInjected(pressures_1213)\n",
    "\n",
    "m_err_1213=np.vstack((np.abs(m_high_1213-m_1213),m_low_1213-m_1213))\n"
   ]
  },
  {
   "cell_type": "code",
   "execution_count": 102,
   "metadata": {},
   "outputs": [
    {
     "data": {
      "text/plain": [
       "numpy.ndarray"
      ]
     },
     "execution_count": 102,
     "metadata": {},
     "output_type": "execute_result"
    }
   ],
   "source": [
    "type(np.array(p_low))"
   ]
  },
  {
   "cell_type": "code",
   "execution_count": 103,
   "metadata": {},
   "outputs": [],
   "source": [
    "mass_removed_6 = [550]\n",
    "time_6 = np.array([8.75] )##20241203\n",
    "\n",
    "mass_removed_5 = [554,866,954,1145,1225,1275,1400,1590]\n",
    "time_5 = np.array([8.5,9,9.25,9.5,9.75,10,10.5,11,11.5,12] )##20241203\n",
    "\n",
    "mass_removed_4 = [199.3,383,550,808,981,1092,1145,1250,1400,1520,1633,1744]\n",
    "time_4 = np.array([8.5, 8+35/60, 8+5/6, 9.25,9.75,9+57/60,10+1/6,10.5,10+5/6,11+1/6,11+35/60,11+5/6 ])  ##20241025\n",
    "\n",
    "mass_removed_3 = [554.6,808,925,1145.9,1250,1350]\n",
    "time_3 = np.array([9 +12/60, 9+25/60,9+5/6,10+1/6,10+23/60,10+35/60])  ##20241011\n",
    "\n",
    "mass_removed_2 = [554.6378,866,1093,1200,1400,1448,1634, 1810]\n",
    "time_2 = np.array([9 +11/60,9 +41/60, 10.0,10.5,10 + 40/60, 11 +10/60, 11.5, 12 ])  ##20241004\n",
    "\n",
    "mass_removed = [199.3,555,684,866,1145,1200]\n",
    "time = np.array([10+23/60,10 + 37/60,10.75,11 +5/60,11.75,11+55/60])  ## 20241007"
   ]
  },
  {
   "cell_type": "code",
   "execution_count": 139,
   "metadata": {},
   "outputs": [
    {
     "name": "stdout",
     "output_type": "stream",
     "text": [
      "[655, 675, 695]\n",
      "[635, 650, 665]\n",
      "[555, 575, 595]\n",
      "[535, 550, 565]\n",
      "[510.0, 535, 550.0]\n",
      "[485, 500, 515]\n",
      "[460.0, 485, 500.0]\n",
      "[435, 450, 465]\n",
      "[400.0, 405, 430.0]\n",
      "[   0.          199.29357006  715.2031531   866.48598049  954.1574703\n",
      " 1145.85034691 1225.18695317 1399.99345772 1611.49498443]\n"
     ]
    }
   ],
   "source": [
    "Feb04_p= np.array([675,650,575,550,535,500,485,450,405])\n",
    "time_0204 = np.array([10+5/6,11,11.5,11.75,12,12.25,12.5,12+5/6,13+5/9])\n",
    "p_low_0204,p_high_0204= getperrors(Feb04_p)\n",
    "\n",
    "\n",
    "m_low_0204= GetMassInjected(p_low_0204)\n",
    "m_high_0204=GetMassInjected(p_high_0204)\n",
    "m_0204=GetMassInjected(Feb04_p)\n",
    "\n",
    "m_err_0204=np.vstack((np.abs(m_high_0204-m_0204),m_low_0204-m_0204))\n",
    "\n",
    "print(m_0204)"
   ]
  },
  {
   "cell_type": "code",
   "execution_count": 140,
   "metadata": {},
   "outputs": [
    {
     "data": {
      "text/plain": [
       "<matplotlib.legend.Legend at 0x1ea95e11750>"
      ]
     },
     "execution_count": 140,
     "metadata": {},
     "output_type": "execute_result"
    },
    {
     "data": {
      "image/png": "[encoded data removed]",
      "text/plain": [
       "<Figure size 640x480 with 1 Axes>"
      ]
     },
     "metadata": {},
     "output_type": "display_data"
    }
   ],
   "source": [
    "m_err_0128_new=np.array([(m_err_0128[0][1:],m_err_0128[1][1:])])\n",
    "m_err_0204_new=np.array([(m_err_0204[0][1:],m_err_0204[1][1:])])\n",
    "#  plt.errorbar(x=time-time[0], y=mass_removed,yerr=100,fmt=\" \", marker=\"o\",label=\"20241007\")\n",
    "# plt.errorbar(x=time_2-time_2[0], y=mass_removed_2,yerr=100,fmt=\" \", marker=\"x\", label=\"20241004\")\n",
    "# plt.errorbar(x=time_3-time_3[0], y=mass_removed_3,yerr=100,fmt=\" \", marker=\"x\", label=\"20241011\")\n",
    "\n",
    "\n",
    "plt.errorbar(x=time_4-(8.25), y=mass_removed_4,yerr=100,fmt=\" \", marker=\"x\", label=\"20241025\")\n",
    "#plt.errorbar(x=time_5-(8.25), y=mass_removed_5,yerr=100,fmt=\" \", marker=\"+\", label=\"20241203\")\n",
    "#plt.errorbar(x=time_5-(8.25), y=m,yerr=m_err,fmt=\" \", marker=\"*\", label=\"20241203\")\n",
    "plt.errorbar(x=time_1213-(8.25) , y =m_1213, yerr=m_err_1213,fmt=\" \",marker=\"+\",label=\"20241213\")\n",
    "plt.errorbar(x=time_0128[1:]-time_0128[0] , y =m_0128[1:], yerr=m_err_0128_new[0],fmt=\" \",marker=\"+\",label=\"20250128\")\n",
    "plt.errorbar(x=time_0204[1:]-time_0204[0] , y =m_0204[1:], yerr=m_err_0204_new[0],fmt=\" \",marker=\"x\",label=\"20250204\")\n",
    "\n",
    "plt.grid()\n",
    "plt.ylabel(\"Xe 'injected' [g]\")\n",
    "plt.xlabel(\"Injection Time  [h]\")\n",
    "plt.legend()"
   ]
  },
  {
   "cell_type": "markdown",
   "metadata": {},
   "source": [
    "## Estimate Volmne of Cell"
   ]
  },
  {
   "cell_type": "markdown",
   "metadata": {},
   "source": [
    "### Cupper Cell"
   ]
  },
  {
   "cell_type": "code",
   "execution_count": 53,
   "metadata": {},
   "outputs": [
    {
     "data": {
      "text/plain": [
       "1693945.4876925927"
      ]
     },
     "execution_count": 53,
     "metadata": {},
     "output_type": "execute_result"
    }
   ],
   "source": [
    "Cu_Cell_H =215.9 #mm\n",
    "Cu_Cell_ID=99.949  #mm\n",
    "Cu_Cell_vol= Cu_Cell_H * (Cu_Cell_ID/2)**2 * np.pi\n",
    "Cu_Cell_vol"
   ]
  },
  {
   "cell_type": "markdown",
   "metadata": {},
   "source": [
    "### Stainless Steal Nipple"
   ]
  },
  {
   "cell_type": "code",
   "execution_count": 54,
   "metadata": {},
   "outputs": [
    {
     "data": {
      "text/plain": [
       "1059297.9189006744"
      ]
     },
     "execution_count": 54,
     "metadata": {},
     "output_type": "execute_result"
    }
   ],
   "source": [
    "SS_Nipple_H  = 134.874#mm\n",
    "SS_Nipple_ID = 100#mm This is the OD \n",
    "SS_Nipple_vol= SS_Nipple_H * (SS_Nipple_ID/2)**2 * np.pi\n",
    "SS_Nipple_vol"
   ]
  },
  {
   "cell_type": "markdown",
   "metadata": {},
   "source": [
    "### Cross"
   ]
  },
  {
   "cell_type": "code",
   "execution_count": 55,
   "metadata": {},
   "outputs": [
    {
     "data": {
      "text/plain": [
       "937130.1069842934"
      ]
     },
     "execution_count": 55,
     "metadata": {},
     "output_type": "execute_result"
    }
   ],
   "source": [
    "Cross_large_ID = 72.898 #mm 76.2 OD guess at ID from standard chart\n",
    "Cross_large_len= 85.852*2#mm\n",
    "Cross_small_ID = 60.198 #mm 63.5 OD guess at ID from standard chart\n",
    "Cross_small_len= 75.184*2#mm\n",
    "\n",
    "Cross_small_overlap_vol = Cross_large_ID * (Cross_small_ID/2)**2 * np.pi\n",
    "\n",
    "Cross_vol = Cross_large_len * ( Cross_large_ID/2)**2 * np.pi + Cross_small_len* (Cross_small_ID/2)**2 * np.pi - Cross_small_overlap_vol\n",
    "Cross_vol\n"
   ]
  },
  {
   "cell_type": "markdown",
   "metadata": {},
   "source": [
    "### Tubing and Extras"
   ]
  },
  {
   "cell_type": "code",
   "execution_count": 56,
   "metadata": {},
   "outputs": [
    {
     "data": {
      "text/plain": [
       "8208.661161379463"
      ]
     },
     "execution_count": 56,
     "metadata": {},
     "output_type": "execute_result"
    }
   ],
   "source": [
    "Tubing_len=500 #mm rough estimate measuring tubes on top of cryo\n",
    "Tubing_ID=4.572 #1/4 OD estimate of ID via standard chart\n",
    "\n",
    "Tubing_vol=Tubing_len* (Tubing_ID/2)**2 * np.pi\n",
    "Tubing_vol"
   ]
  },
  {
   "cell_type": "markdown",
   "metadata": {},
   "source": [
    "### Total Vol"
   ]
  },
  {
   "cell_type": "code",
   "execution_count": 57,
   "metadata": {},
   "outputs": [
    {
     "name": "stdout",
     "output_type": "stream",
     "text": [
      "Total xenon vol is 3998.582 ml\n"
     ]
    }
   ],
   "source": [
    "Total_Xenon_Vol= SS_Nipple_vol+ Cu_Cell_vol+Cross_vol+Tubing_vol+300000\n",
    "Total_Xenon_Vol #cubim mm\n",
    "\n",
    "print(\"Total xenon vol is %0.3f ml\"%(Total_Xenon_Vol*0.001))"
   ]
  },
  {
   "cell_type": "code",
   "execution_count": 58,
   "metadata": {},
   "outputs": [
    {
     "name": "stdout",
     "output_type": "stream",
     "text": [
      "1583.7949860882256  Vol other ml\n"
     ]
    }
   ],
   "source": [
    "#Estimate extra vol as extra heigth on cell\n",
    "\n",
    "Extra_Vol_fakeH =(Cross_vol+Tubing_vol+300000)/(Cu_Cell_ID/2)**2 #,,\n",
    "\n",
    "Vol_Other= (Extra_Vol_fakeH + SS_Nipple_H)*(SS_Nipple_ID/2)**2 *0.001\n",
    "print(Vol_Other, \" Vol other ml\")\n"
   ]
  },
  {
   "cell_type": "code",
   "execution_count": 59,
   "metadata": {},
   "outputs": [
    {
     "data": {
      "text/plain": [
       "501.9455314930027"
      ]
     },
     "execution_count": 59,
     "metadata": {},
     "output_type": "execute_result"
    }
   ],
   "source": [
    "np.pi *((3.5/2)**2-(3/2)**2) *12 * 16.3871  #+ np.pi *((2/2)**2-(1/2)**2) *6 * 16.3871 "
   ]
  },
  {
   "cell_type": "code",
   "execution_count": 60,
   "metadata": {},
   "outputs": [
    {
     "name": "stdout",
     "output_type": "stream",
     "text": [
      "2310.0590414906087 19.250492012421738\n"
     ]
    }
   ],
   "source": [
    "CubeVol_withhole = 3.5*3.5*12 *16.3871  - (np.pi * (0.8/2)**2 * 12 *16.3871)\n",
    "\n",
    "ppv=CubeVol_withhole/120\n",
    "\n",
    "print(CubeVol_withhole,ppv)"
   ]
  },
  {
   "cell_type": "code",
   "execution_count": 61,
   "metadata": {},
   "outputs": [
    {
     "name": "stdout",
     "output_type": "stream",
     "text": [
      "673.7672204347609 11.419783397199337\n"
     ]
    }
   ],
   "source": [
    "CubeVol_withhole = 3.5*3.5*3.5 *16.3871  - np.pi * (0.8/2)**2 * 3.5 *16.3871\n",
    "\n",
    "ppv=CubeVol_withhole/59\n",
    "\n",
    "print(CubeVol_withhole,ppv)"
   ]
  },
  {
   "cell_type": "code",
   "execution_count": 62,
   "metadata": {},
   "outputs": [
    {
     "data": {
      "text/plain": [
       "(1085.9398517877462, 8.353383475290356, 2932.0375998269146)"
      ]
     },
     "execution_count": 62,
     "metadata": {},
     "output_type": "execute_result"
    }
   ],
   "source": [
    "np.pi*(3.75/2)**2 * 6 * 16.3871 , np.pi*(3.75/2)**2 * 6 * 16.3871/130 , 2.7*np.pi*(3.75/2)**2 * 6 * 16.3871"
   ]
  },
  {
   "cell_type": "code",
   "execution_count": 63,
   "metadata": {},
   "outputs": [
    {
     "data": {
      "text/plain": [
       "0.54178"
      ]
     },
     "execution_count": 63,
     "metadata": {},
     "output_type": "execute_result"
    }
   ],
   "source": [
    "0.0054178*100*1000/1000"
   ]
  },
  {
   "cell_type": "markdown",
   "metadata": {},
   "source": [
    "## Density in Cell"
   ]
  },
  {
   "cell_type": "code",
   "execution_count": 72,
   "metadata": {},
   "outputs": [
    {
     "data": {
      "text/plain": [
       "0.7127526396743544"
      ]
     },
     "execution_count": 72,
     "metadata": {},
     "output_type": "execute_result"
    }
   ],
   "source": [
    "mass=2850#XeMass_removed\n",
    "XeCell_Density = mass/(Total_Xenon_Vol*0.001) # g/ml\n",
    "XeCell_Density\n"
   ]
  },
  {
   "cell_type": "markdown",
   "metadata": {},
   "source": [
    "### Grab isochoric data for heigth estimate"
   ]
  },
  {
   "cell_type": "code",
   "execution_count": 70,
   "metadata": {},
   "outputs": [
    {
     "name": "stdout",
     "output_type": "stream",
     "text": [
      "Getting new file with Density if 0.712753\n",
      "https://webbook.nist.gov/cgi/fluid.cgi?Action=Data&Wide=on&ID=C7440633&Type=IsoChor&Digits=5&THigh=300.000&TLow=161.000&TInc=0.250&D=0.713&RefState=DEF&TUnit=K&PUnit=psia&DUnit=g%2Fml&HUnit=kJ%2Fmol&WUnit=m%2Fs&VisUnit=uPa*s&STUnit=N%2Fm\n"
     ]
    }
   ],
   "source": [
    "XeDensity=XeCell_Density\n",
    "THigh=300\n",
    "TLow=161\n",
    "TStep=0.25\n",
    "\n",
    "\n",
    "IsoChoric_URL=\"https://webbook.nist.gov/cgi/fluid.cgi?Action=Data&Wide=on&ID=C7440633&Type=IsoChor&Digits=5&THigh=%0.3f&TLow=%0.3f&TInc=%0.3f&D=%0.3f&RefState=DEF&TUnit=K&PUnit=psia&DUnit=g%%2Fml&HUnit=kJ%%2Fmol&WUnit=m%%2Fs&VisUnit=uPa*s&STUnit=N%%2Fm\"%(THigh,TLow,TStep,XeDensity)\n",
    "IsoChoric_filename=\"NistData-isochoric-D%0.4f-TLow%0.3f-THigh%0.3f-Tstep%0.3f.tsv\"%(XeDensity,TLow,THigh,TStep)\n",
    "\n",
    "filepath=\"./NistData/%s\"%(IsoChoric_filename)\n",
    "if os.path.exists(filepath):\n",
    "    print(\"Skipping %s, already exisis\"%(filepath))\n",
    "    file = open(filepath)\n",
    "else:\n",
    "    print(\"Getting new file with Density if %f\"%(XeDensity))\n",
    "    print(IsoChoric_URL)\n",
    "    file=wget.download(IsoChoric_URL,filepath )\n",
    "\n",
    "XeIsoChoric_DF = pd.read_table(file)\n",
    "\n"
   ]
  },
  {
   "cell_type": "markdown",
   "metadata": {},
   "source": []
  },
  {
   "cell_type": "code",
   "execution_count": 67,
   "metadata": {},
   "outputs": [
    {
     "data": {
      "text/html": [
       "<div>\n",
       "<style scoped>\n",
       "    .dataframe tbody tr th:only-of-type {\n",
       "        vertical-align: middle;\n",
       "    }\n",
       "\n",
       "    .dataframe tbody tr th {\n",
       "        vertical-align: top;\n",
       "    }\n",
       "\n",
       "    .dataframe thead th {\n",
       "        text-align: right;\n",
       "    }\n",
       "</style>\n",
       "<table border=\"1\" class=\"dataframe\">\n",
       "  <thead>\n",
       "    <tr style=\"text-align: right;\">\n",
       "      <th></th>\n",
       "      <th>Temperature (K)</th>\n",
       "      <th>Pressure (psia)</th>\n",
       "      <th>Quality (l+v)</th>\n",
       "      <th>Density (l, g/ml)</th>\n",
       "      <th>Density (v, g/ml)</th>\n",
       "    </tr>\n",
       "  </thead>\n",
       "  <tbody>\n",
       "    <tr>\n",
       "      <th>10</th>\n",
       "      <td>163.91</td>\n",
       "      <td>13.753</td>\n",
       "      <td>0.011915</td>\n",
       "      <td>2.9496</td>\n",
       "      <td>0.009419</td>\n",
       "    </tr>\n",
       "    <tr>\n",
       "      <th>11</th>\n",
       "      <td>164.16</td>\n",
       "      <td>13.955</td>\n",
       "      <td>0.012073</td>\n",
       "      <td>2.9480</td>\n",
       "      <td>0.009545</td>\n",
       "    </tr>\n",
       "    <tr>\n",
       "      <th>12</th>\n",
       "      <td>164.41</td>\n",
       "      <td>14.159</td>\n",
       "      <td>0.012233</td>\n",
       "      <td>2.9463</td>\n",
       "      <td>0.009673</td>\n",
       "    </tr>\n",
       "    <tr>\n",
       "      <th>13</th>\n",
       "      <td>164.66</td>\n",
       "      <td>14.365</td>\n",
       "      <td>0.012395</td>\n",
       "      <td>2.9446</td>\n",
       "      <td>0.009802</td>\n",
       "    </tr>\n",
       "    <tr>\n",
       "      <th>14</th>\n",
       "      <td>164.91</td>\n",
       "      <td>14.573</td>\n",
       "      <td>0.012559</td>\n",
       "      <td>2.9430</td>\n",
       "      <td>0.009932</td>\n",
       "    </tr>\n",
       "    <tr>\n",
       "      <th>15</th>\n",
       "      <td>165.16</td>\n",
       "      <td>14.784</td>\n",
       "      <td>0.012724</td>\n",
       "      <td>2.9413</td>\n",
       "      <td>0.010064</td>\n",
       "    </tr>\n",
       "    <tr>\n",
       "      <th>16</th>\n",
       "      <td>165.41</td>\n",
       "      <td>14.997</td>\n",
       "      <td>0.012891</td>\n",
       "      <td>2.9396</td>\n",
       "      <td>0.010197</td>\n",
       "    </tr>\n",
       "    <tr>\n",
       "      <th>17</th>\n",
       "      <td>165.66</td>\n",
       "      <td>15.212</td>\n",
       "      <td>0.013059</td>\n",
       "      <td>2.9380</td>\n",
       "      <td>0.010331</td>\n",
       "    </tr>\n",
       "    <tr>\n",
       "      <th>18</th>\n",
       "      <td>165.91</td>\n",
       "      <td>15.430</td>\n",
       "      <td>0.013229</td>\n",
       "      <td>2.9363</td>\n",
       "      <td>0.010466</td>\n",
       "    </tr>\n",
       "    <tr>\n",
       "      <th>19</th>\n",
       "      <td>166.16</td>\n",
       "      <td>15.650</td>\n",
       "      <td>0.013400</td>\n",
       "      <td>2.9346</td>\n",
       "      <td>0.010603</td>\n",
       "    </tr>\n",
       "    <tr>\n",
       "      <th>20</th>\n",
       "      <td>166.41</td>\n",
       "      <td>15.873</td>\n",
       "      <td>0.013574</td>\n",
       "      <td>2.9330</td>\n",
       "      <td>0.010741</td>\n",
       "    </tr>\n",
       "    <tr>\n",
       "      <th>21</th>\n",
       "      <td>166.66</td>\n",
       "      <td>16.098</td>\n",
       "      <td>0.013749</td>\n",
       "      <td>2.9313</td>\n",
       "      <td>0.010881</td>\n",
       "    </tr>\n",
       "    <tr>\n",
       "      <th>22</th>\n",
       "      <td>166.91</td>\n",
       "      <td>16.325</td>\n",
       "      <td>0.013925</td>\n",
       "      <td>2.9296</td>\n",
       "      <td>0.011022</td>\n",
       "    </tr>\n",
       "    <tr>\n",
       "      <th>23</th>\n",
       "      <td>167.16</td>\n",
       "      <td>16.555</td>\n",
       "      <td>0.014104</td>\n",
       "      <td>2.9279</td>\n",
       "      <td>0.011164</td>\n",
       "    </tr>\n",
       "    <tr>\n",
       "      <th>24</th>\n",
       "      <td>167.41</td>\n",
       "      <td>16.788</td>\n",
       "      <td>0.014284</td>\n",
       "      <td>2.9262</td>\n",
       "      <td>0.011308</td>\n",
       "    </tr>\n",
       "    <tr>\n",
       "      <th>25</th>\n",
       "      <td>167.66</td>\n",
       "      <td>17.023</td>\n",
       "      <td>0.014466</td>\n",
       "      <td>2.9246</td>\n",
       "      <td>0.011453</td>\n",
       "    </tr>\n",
       "    <tr>\n",
       "      <th>26</th>\n",
       "      <td>167.91</td>\n",
       "      <td>17.260</td>\n",
       "      <td>0.014649</td>\n",
       "      <td>2.9229</td>\n",
       "      <td>0.011600</td>\n",
       "    </tr>\n",
       "    <tr>\n",
       "      <th>27</th>\n",
       "      <td>168.16</td>\n",
       "      <td>17.500</td>\n",
       "      <td>0.014835</td>\n",
       "      <td>2.9212</td>\n",
       "      <td>0.011748</td>\n",
       "    </tr>\n",
       "    <tr>\n",
       "      <th>28</th>\n",
       "      <td>168.41</td>\n",
       "      <td>17.743</td>\n",
       "      <td>0.015022</td>\n",
       "      <td>2.9195</td>\n",
       "      <td>0.011897</td>\n",
       "    </tr>\n",
       "    <tr>\n",
       "      <th>29</th>\n",
       "      <td>168.66</td>\n",
       "      <td>17.988</td>\n",
       "      <td>0.015210</td>\n",
       "      <td>2.9178</td>\n",
       "      <td>0.012048</td>\n",
       "    </tr>\n",
       "    <tr>\n",
       "      <th>30</th>\n",
       "      <td>168.91</td>\n",
       "      <td>18.236</td>\n",
       "      <td>0.015401</td>\n",
       "      <td>2.9162</td>\n",
       "      <td>0.012200</td>\n",
       "    </tr>\n",
       "    <tr>\n",
       "      <th>31</th>\n",
       "      <td>169.16</td>\n",
       "      <td>18.486</td>\n",
       "      <td>0.015593</td>\n",
       "      <td>2.9145</td>\n",
       "      <td>0.012354</td>\n",
       "    </tr>\n",
       "    <tr>\n",
       "      <th>32</th>\n",
       "      <td>169.41</td>\n",
       "      <td>18.739</td>\n",
       "      <td>0.015788</td>\n",
       "      <td>2.9128</td>\n",
       "      <td>0.012509</td>\n",
       "    </tr>\n",
       "    <tr>\n",
       "      <th>33</th>\n",
       "      <td>169.66</td>\n",
       "      <td>18.995</td>\n",
       "      <td>0.015983</td>\n",
       "      <td>2.9111</td>\n",
       "      <td>0.012665</td>\n",
       "    </tr>\n",
       "    <tr>\n",
       "      <th>34</th>\n",
       "      <td>169.91</td>\n",
       "      <td>19.253</td>\n",
       "      <td>0.016181</td>\n",
       "      <td>2.9094</td>\n",
       "      <td>0.012823</td>\n",
       "    </tr>\n",
       "    <tr>\n",
       "      <th>35</th>\n",
       "      <td>170.16</td>\n",
       "      <td>19.514</td>\n",
       "      <td>0.016381</td>\n",
       "      <td>2.9077</td>\n",
       "      <td>0.012983</td>\n",
       "    </tr>\n",
       "    <tr>\n",
       "      <th>36</th>\n",
       "      <td>170.41</td>\n",
       "      <td>19.778</td>\n",
       "      <td>0.016582</td>\n",
       "      <td>2.9060</td>\n",
       "      <td>0.013144</td>\n",
       "    </tr>\n",
       "    <tr>\n",
       "      <th>37</th>\n",
       "      <td>170.66</td>\n",
       "      <td>20.044</td>\n",
       "      <td>0.016786</td>\n",
       "      <td>2.9043</td>\n",
       "      <td>0.013307</td>\n",
       "    </tr>\n",
       "    <tr>\n",
       "      <th>38</th>\n",
       "      <td>170.91</td>\n",
       "      <td>20.313</td>\n",
       "      <td>0.016991</td>\n",
       "      <td>2.9026</td>\n",
       "      <td>0.013471</td>\n",
       "    </tr>\n",
       "    <tr>\n",
       "      <th>39</th>\n",
       "      <td>171.16</td>\n",
       "      <td>20.585</td>\n",
       "      <td>0.017198</td>\n",
       "      <td>2.9009</td>\n",
       "      <td>0.013636</td>\n",
       "    </tr>\n",
       "  </tbody>\n",
       "</table>\n",
       "</div>"
      ],
      "text/plain": [
       "    Temperature (K)  Pressure (psia) Quality (l+v)  Density (l, g/ml)  \\\n",
       "10           163.91           13.753      0.011915             2.9496   \n",
       "11           164.16           13.955      0.012073             2.9480   \n",
       "12           164.41           14.159      0.012233             2.9463   \n",
       "13           164.66           14.365      0.012395             2.9446   \n",
       "14           164.91           14.573      0.012559             2.9430   \n",
       "15           165.16           14.784      0.012724             2.9413   \n",
       "16           165.41           14.997      0.012891             2.9396   \n",
       "17           165.66           15.212      0.013059             2.9380   \n",
       "18           165.91           15.430      0.013229             2.9363   \n",
       "19           166.16           15.650      0.013400             2.9346   \n",
       "20           166.41           15.873      0.013574             2.9330   \n",
       "21           166.66           16.098      0.013749             2.9313   \n",
       "22           166.91           16.325      0.013925             2.9296   \n",
       "23           167.16           16.555      0.014104             2.9279   \n",
       "24           167.41           16.788      0.014284             2.9262   \n",
       "25           167.66           17.023      0.014466             2.9246   \n",
       "26           167.91           17.260      0.014649             2.9229   \n",
       "27           168.16           17.500      0.014835             2.9212   \n",
       "28           168.41           17.743      0.015022             2.9195   \n",
       "29           168.66           17.988      0.015210             2.9178   \n",
       "30           168.91           18.236      0.015401             2.9162   \n",
       "31           169.16           18.486      0.015593             2.9145   \n",
       "32           169.41           18.739      0.015788             2.9128   \n",
       "33           169.66           18.995      0.015983             2.9111   \n",
       "34           169.91           19.253      0.016181             2.9094   \n",
       "35           170.16           19.514      0.016381             2.9077   \n",
       "36           170.41           19.778      0.016582             2.9060   \n",
       "37           170.66           20.044      0.016786             2.9043   \n",
       "38           170.91           20.313      0.016991             2.9026   \n",
       "39           171.16           20.585      0.017198             2.9009   \n",
       "\n",
       "    Density (v, g/ml)  \n",
       "10           0.009419  \n",
       "11           0.009545  \n",
       "12           0.009673  \n",
       "13           0.009802  \n",
       "14           0.009932  \n",
       "15           0.010064  \n",
       "16           0.010197  \n",
       "17           0.010331  \n",
       "18           0.010466  \n",
       "19           0.010603  \n",
       "20           0.010741  \n",
       "21           0.010881  \n",
       "22           0.011022  \n",
       "23           0.011164  \n",
       "24           0.011308  \n",
       "25           0.011453  \n",
       "26           0.011600  \n",
       "27           0.011748  \n",
       "28           0.011897  \n",
       "29           0.012048  \n",
       "30           0.012200  \n",
       "31           0.012354  \n",
       "32           0.012509  \n",
       "33           0.012665  \n",
       "34           0.012823  \n",
       "35           0.012983  \n",
       "36           0.013144  \n",
       "37           0.013307  \n",
       "38           0.013471  \n",
       "39           0.013636  "
      ]
     },
     "execution_count": 67,
     "metadata": {},
     "output_type": "execute_result"
    }
   ],
   "source": [
    "XeIsoChoric_DF[10:40][[\"Temperature (K)\",\"Pressure (psia)\",\"Quality (l+v)\",\"Density (l, g/ml)\",\"Density (v, g/ml)\"]]"
   ]
  },
  {
   "cell_type": "code",
   "execution_count": 74,
   "metadata": {},
   "outputs": [
    {
     "name": "stdout",
     "output_type": "stream",
     "text": [
      "313.1675620580554\n"
     ]
    }
   ],
   "source": [
    "j=10\n",
    "\n",
    "XeDen_ratio = XeIsoChoric_DF.iloc[j][\"Density (l, g/ml)\"]/XeIsoChoric_DF.iloc[j][\"Density (v, g/ml)\"]\n",
    "print(XeDen_ratio)"
   ]
  },
  {
   "cell_type": "code",
   "execution_count": 82,
   "metadata": {},
   "outputs": [
    {
     "name": "stdout",
     "output_type": "stream",
     "text": [
      "0.016689 \n",
      " Temperature (K)        163.91\n",
      "Pressure (psia)        13.753\n",
      "Density (v, g/ml)    0.009419\n",
      "Density (l, g/ml)      2.9496\n",
      "Name: 10, dtype: object\n",
      "Mass  All V = 31.7091  Liquid Mass =  1868.2909000000002\n",
      "Mass of vapor just in cell  16.791968544029437\n",
      "80.72993185067038 227.2314662569762\n"
     ]
    }
   ],
   "source": [
    "Qual=float(XeIsoChoric_DF.iloc[j][\"Quality (l+v)\"])\n",
    "Mass_total = mass\n",
    "Vapor_Density=XeIsoChoric_DF.iloc[j][\"Density (v, g/ml)\"]\n",
    "Liquid_Density=XeIsoChoric_DF.iloc[j][\"Density (l, g/ml)\"]\n",
    "print(Qual,\"\\n\",XeIsoChoric_DF.iloc[j][[\"Temperature (K)\",\"Pressure (psia)\",\"Density (v, g/ml)\",\"Density (l, g/ml)\"]])\n",
    "\n",
    "Hv= (Qual * Mass_total - Vol_Other*Vapor_Density)/ (Vapor_Density*0.001 * np.pi * (Cu_Cell_ID/2)**2)\n",
    "\n",
    "\n",
    "Mass_Vapor_all = Qual*Mass_total\n",
    "\n",
    "\n",
    "\n",
    "\n",
    "Mass_liquid= (1-Qual)*Mass_total\n",
    "\n",
    "print(\"Mass  All V =\",Mass_Vapor_all, \" Liquid Mass = \", Mass_liquid )\n",
    "\n",
    "print(\"Mass of vapor just in cell \", Qual * Mass_total - Vol_Other*Vapor_Density)   # %*g - ml*g/ml *()*\n",
    "\n",
    "\n",
    "Hl=Mass_liquid/(Liquid_Density*0.001 *np.pi * (Cu_Cell_ID/2)**2)\n",
    "\n",
    "print(Hl, Hv)\n"
   ]
  },
  {
   "cell_type": "code",
   "execution_count": 564,
   "metadata": {},
   "outputs": [
    {
     "name": "stdout",
     "output_type": "stream",
     "text": [
      "274000 vol ml\n",
      "29.197080291970803  mass g\n"
     ]
    }
   ],
   "source": [
    "vol = 137*2000 # ml/g * grams\n",
    "\n",
    "m   = 4000 / 137 # ml / ml/g\n",
    "\n",
    "print( vol, \"vol ml\")\n",
    "print( m , \" mass g\")\n"
   ]
  },
  {
   "cell_type": "code",
   "execution_count": 86,
   "metadata": {},
   "outputs": [
    {
     "data": {
      "text/plain": [
       "119.9574652421682"
      ]
     },
     "execution_count": 86,
     "metadata": {},
     "output_type": "execute_result"
    }
   ],
   "source": [
    "Total_Xenon_Vol *0.001 *0.03"
   ]
  },
  {
   "cell_type": "code",
   "execution_count": 130,
   "metadata": {},
   "outputs": [
    {
     "data": {
      "text/plain": [
       "(-1.0, 6.0)"
      ]
     },
     "execution_count": 130,
     "metadata": {},
     "output_type": "execute_result"
    },
    {
     "data": {
      "image/png": "[encoded data removed]",
      "text/plain": [
       "<Figure size 640x480 with 1 Axes>"
      ]
     },
     "metadata": {},
     "output_type": "display_data"
    }
   ],
   "source": [
    "plt.errorbar(x=[0,2],y=[2,2], color=\"b\")\n",
    "plt.errorbar(x=[2,3,5],y=[2,4,0], color=\"b\")\n",
    "\n",
    "plt.errorbar(x=[-2,7],y=[0,0], color=\"r\",)\n",
    "plt.errorbar(x=[0,0],y=[-2,7], color=\"r\",)\n",
    "\n",
    "\n",
    "plt.text(4,-.5,\"t\",size=14)\n",
    "plt.text(-.5,4, \"V(t)\",size=14)\n",
    "\n",
    "plt.grid()\n",
    "plt.ylim(-1,6)\n",
    "plt.xlim(-1,6)\n",
    "\n"
   ]
  },
  {
   "cell_type": "markdown",
   "metadata": {},
   "source": [
    "Quality is Vapor_mass/ ( Total Mass)"
   ]
  }
 ],
 "metadata": {
  "kernelspec": {
   "display_name": "Python 3",
   "language": "python",
   "name": "python3"
  },
  "language_info": {
   "codemirror_mode": {
    "name": "ipython",
    "version": 3
   },
   "file_extension": ".py",
   "mimetype": "text/x-python",
   "name": "python",
   "nbconvert_exporter": "python",
   "pygments_lexer": "ipython3",
   "version": "3.10.5"
  }
 },
 "nbformat": 4,
 "nbformat_minor": 2
}
