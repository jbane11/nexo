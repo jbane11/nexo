{
 "cells": [
  {
   "cell_type": "code",
   "execution_count": 1,
   "metadata": {},
   "outputs": [
    {
     "name": "stdout",
     "output_type": "stream",
     "text": [
      "importing Jupyter notebook from nexoheader.ipynb\n"
     ]
    }
   ],
   "source": [
    "#import uproot \n",
    "import numpy as np\n",
    "import matplotlib.pyplot as plt\n",
    "import os,sys,time\n",
    "import pandas as pd\n",
    "\n",
    "import import_ipynb\n",
    "from nexoheader import *\n",
    "import uproot3 \n",
    "import awkward as ak\n",
    "\n",
    "\n",
    "#rootdir=\"./data/\"\n",
    "#outdir=\"./stdout/\""
   ]
  },
  {
   "cell_type": "code",
   "execution_count": 6,
   "metadata": {},
   "outputs": [],
   "source": [
    "import tarfile"
   ]
  },
  {
   "cell_type": "code",
   "execution_count": 17,
   "metadata": {},
   "outputs": [],
   "source": [
    "def file_dict_from_tarfile(file):\n",
    "    \n",
    "    fileinfo=file_info_from_file(file)\n",
    "    \n",
    "    fi=fileinfo\n",
    "    if fileinfo[0] == 0:\n",
    "        print(\"Double check file name\")\n",
    "        print(\"Recall: naming convention : %s \"%file_name_conv)\n",
    "        \n",
    "        return False\n",
    "    \n",
    "    simFiledict={}\n",
    "    simFiledict[\"Config\"]=fileinfo[0]\n",
    "    simFiledict[\"Target\"]=fileinfo[1]\n",
    "    simFiledict[\"NumEvents\"]=fileinfo[2]\n",
    "    \n",
    "    simFiledict[\"Version\"]=fileinfo[4]\n",
    " \n",
    "    return simFiledict"
   ]
  },
  {
   "cell_type": "code",
   "execution_count": 29,
   "metadata": {},
   "outputs": [],
   "source": [
    "def tarfile_info(tar_filename):\n",
    "    \"\"\"\n",
    "    Return a dict of info from a tarfile.\n",
    "    \"\"\"\n",
    "    tf= tarfile.open(tar_filename)\n",
    "    tarinfo_list =tf.getmembers()\n",
    "    filename1 = tarinfo_list[0].name\n",
    "\n",
    "    Fileinfo = file_dict_from_tarfile(filename1)\n",
    "    seedlist = []\n",
    "    for i in np.arange(len(tarinfo_list)):\n",
    "\n",
    "        FI = file_dict_from_file(tarinfo_list[i].name)\n",
    "        if FI[\"Seed\"].find(\"_\")== -1:\n",
    "            seedlist.append(FI[\"Seed\"])\n",
    "\n",
    "    Fileinfo[\"Seeds\"] = seedlist\n",
    "\n",
    "    return Fileinfo\n",
    "\n"
   ]
  },
  {
   "cell_type": "code",
   "execution_count": 31,
   "metadata": {},
   "outputs": [],
   "source": [
    "TF_I=tarfile_info(filename)"
   ]
  },
  {
   "cell_type": "code",
   "execution_count": null,
   "metadata": {},
   "outputs": [],
   "source": []
  },
  {
   "cell_type": "code",
   "execution_count": null,
   "metadata": {},
   "outputs": [],
   "source": [
    "Seeds =TF_I[\"Seeds\"]\n",
    "\n",
    "for Seed in Seeds:\n",
    "\n",
    "    \n"
   ]
  },
  {
   "cell_type": "code",
   "execution_count": 5,
   "metadata": {},
   "outputs": [
    {
     "name": "stdout",
     "output_type": "stream",
     "text": [
      "0\n"
     ]
    }
   ],
   "source": [
    "filename=\"./data/ExternalGammas_light-v3-Tl208-5000-seed_1-10.tar.gz\"\n",
    "list =os.system(\"tar -tzvf %s\"%(filename))\n",
    "print(list)"
   ]
  },
  {
   "cell_type": "code",
   "execution_count": 2,
   "metadata": {},
   "outputs": [],
   "source": [
    "filename= rootdir + \"ExternalsGammas_light-v3-Tl028-5000-seed1.root\"\n",
    "\n",
    "fileinfo = file_dict_from_file(filename)"
   ]
  },
  {
   "cell_type": "code",
   "execution_count": 3,
   "metadata": {},
   "outputs": [
    {
     "data": {
      "text/plain": [
       "{'Config': 'dataExternalsGammas_light',\n",
       " 'Target': 'Tl028',\n",
       " 'NumEvents': 5000,\n",
       " 'Seed': '1',\n",
       " 'Version': 'v3',\n",
       " 'root_filename': './data/dataExternalsGammas_light-v3-Tl028-5000-seed1.root',\n",
       " 'sens_filename': './data/dataExternalsGammas_light-v3-Tl028-5000-seed1_sensrecon.root'}"
      ]
     },
     "execution_count": 3,
     "metadata": {},
     "output_type": "execute_result"
    }
   ],
   "source": [
    "fileinfo"
   ]
  },
  {
   "cell_type": "code",
   "execution_count": 9,
   "metadata": {},
   "outputs": [],
   "source": [
    "file = uproot.open(\"./data/ExternalGammas_light-v3-Tl208-5000-seed1.root\")"
   ]
  },
  {
   "cell_type": "code",
   "execution_count": 10,
   "metadata": {},
   "outputs": [
    {
     "data": {
      "text/plain": [
       "['SimEvent',\n",
       " 'SimEvent/nEXO::EventObject',\n",
       " 'SimEvent/nEXO::EventObject/TObject',\n",
       " 'SimEvent/nEXO::EventObject/TObject/fUniqueID',\n",
       " 'SimEvent/nEXO::EventObject/TObject/fBits',\n",
       " 'SimEvent/fGenTheta_p',\n",
       " 'SimEvent/fGenPhi_p',\n",
       " 'SimEvent/fGenE',\n",
       " 'SimEvent/fParentTrackID',\n",
       " 'SimEvent/fNeutronCount',\n",
       " 'SimEvent/fXe137Count',\n",
       " 'SimEvent/fInitNeutronEnergy',\n",
       " 'SimEvent/fPMT_Hits',\n",
       " 'SimEvent/fPMTID',\n",
       " 'SimEvent/fPMTs_fired',\n",
       " 'SimEvent/fmu_Impact_parameter',\n",
       " 'SimEvent/fn_Impact_parameter',\n",
       " 'SimEvent/fTotalEventEnergy_WT',\n",
       " 'SimEvent/fEnergyDeposit_WT',\n",
       " 'SimEvent/fLengthDeposit_WT',\n",
       " 'SimEvent/fNumDeposits_WT',\n",
       " 'SimEvent/fEventNumber',\n",
       " 'SimEvent/fGenX',\n",
       " 'SimEvent/fGenY',\n",
       " 'SimEvent/fGenZ',\n",
       " 'SimEvent/fGenParticleID',\n",
       " 'SimEvent/fGenKineticE',\n",
       " 'SimEvent/fTotalEventEnergy',\n",
       " 'SimEvent/fNumDeposits',\n",
       " 'SimEvent/fLengthDeposit',\n",
       " 'SimEvent/fEnergyDeposit',\n",
       " 'SimEvent/fPreEnergyDeposit',\n",
       " 'SimEvent/fPostEnergyDeposit',\n",
       " 'SimEvent/fTrackNumber',\n",
       " 'SimEvent/fXpos',\n",
       " 'SimEvent/fYpos',\n",
       " 'SimEvent/fZpos',\n",
       " 'SimEvent/fTglob',\n",
       " 'SimEvent/fTloc',\n",
       " 'SimEvent/fNOP',\n",
       " 'SimEvent/fInitNOP',\n",
       " 'SimEvent/fInitCherenkovOP',\n",
       " 'SimEvent/fNReflections',\n",
       " 'SimEvent/fOPEnergy',\n",
       " 'SimEvent/fSiPMID',\n",
       " 'SimEvent/fOPTime',\n",
       " 'SimEvent/fOPType',\n",
       " 'SimEvent/fOPStopVolume',\n",
       " 'SimEvent/fAOI',\n",
       " 'SimEvent/fOPX',\n",
       " 'SimEvent/fOPY',\n",
       " 'SimEvent/fOPZ',\n",
       " 'SimEvent/fNESTLineageX',\n",
       " 'SimEvent/fNESTLineageY',\n",
       " 'SimEvent/fNESTLineageZ',\n",
       " 'SimEvent/fNESTLineageXwidth',\n",
       " 'SimEvent/fNESTLineageYwidth',\n",
       " 'SimEvent/fNESTLineageZwidth',\n",
       " 'SimEvent/fNESTLineageNOP',\n",
       " 'SimEvent/fNESTLineageNTE',\n",
       " 'SimEvent/fNESTLineageE',\n",
       " 'SimEvent/fNESTLineageT',\n",
       " 'SimEvent/fNESTLineageTwidth',\n",
       " 'SimEvent/fNESTLineageType',\n",
       " 'SimEvent/fNESTHitX',\n",
       " 'SimEvent/fNESTHitY',\n",
       " 'SimEvent/fNESTHitZ',\n",
       " 'SimEvent/fNESTHitNOP',\n",
       " 'SimEvent/fNESTHitNTE',\n",
       " 'SimEvent/fNESTHitE',\n",
       " 'SimEvent/fNESTHitT',\n",
       " 'SimEvent/fNESTHitType',\n",
       " 'SimEvent/fNTE']"
      ]
     },
     "execution_count": 10,
     "metadata": {},
     "output_type": "execute_result"
    }
   ],
   "source": [
    "file[\"Event/Sim/SimEvent\"].keys()"
   ]
  },
  {
   "cell_type": "code",
   "execution_count": null,
   "metadata": {},
   "outputs": [],
   "source": []
  }
 ],
 "metadata": {
  "kernelspec": {
   "display_name": "Python 3",
   "language": "python",
   "name": "python3"
  },
  "language_info": {
   "codemirror_mode": {
    "name": "ipython",
    "version": 3
   },
   "file_extension": ".py",
   "mimetype": "text/x-python",
   "name": "python",
   "nbconvert_exporter": "python",
   "pygments_lexer": "ipython3",
   "version": "3.11.4"
  },
  "orig_nbformat": 4
 },
 "nbformat": 4,
 "nbformat_minor": 2
}
