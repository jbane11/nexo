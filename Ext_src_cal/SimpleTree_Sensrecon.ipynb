{
 "cells": [
  {
   "cell_type": "code",
   "execution_count": 1,
   "metadata": {},
   "outputs": [
    {
     "name": "stdout",
     "output_type": "stream",
     "text": [
      "importing Jupyter notebook from nexoheader.ipynb\n"
     ]
    }
   ],
   "source": [
    "import import_ipynb\n",
    "from nexoheader import *\n",
    "#import uproot \n",
    "import uproot3\n",
    "import awkward as ak"
   ]
  },
  {
   "cell_type": "code",
   "execution_count": null,
   "metadata": {},
   "outputs": [],
   "source": []
  },
  {
   "cell_type": "code",
   "execution_count": 2,
   "metadata": {},
   "outputs": [],
   "source": [
    "tgt=\"Tl208\" \n",
    "seed=55\n",
    "nevts=5000\n",
    "\n",
    "\n",
    "file = \"/home/wrkshp/nexo/slurm_data/recon/ExternalGammas_light-%s-%i-seed%i_sensrecon.root\"%(tgt,nevts,seed)\n",
    "newfilename = \"/home/wrkshp/nexo/slurm_data/sens/%s-seed%i.root\"%(tgt,seed)\n",
    "\n",
    "\n"
   ]
  },
  {
   "cell_type": "code",
   "execution_count": 7,
   "metadata": {},
   "outputs": [
    {
     "data": {
      "text/plain": [
       "9"
      ]
     },
     "execution_count": 7,
     "metadata": {},
     "output_type": "execute_result"
    }
   ],
   "source": [
    "file.find(\"shp\")"
   ]
  },
  {
   "cell_type": "code",
   "execution_count": 2,
   "metadata": {},
   "outputs": [],
   "source": [
    "\n",
    "def simpletree(file=\"\",newfilename=\"\"):\n",
    "    Treenames=[\"Energy\",\"Standoff\",\"ChargeQuanta\",\"Photons\",\"DNNTag\",\"NESTBugFlag\"]\n",
    "    \n",
    "    \n",
    "    \n",
    "    \n",
    "    rootfile=uproot.open(file)\n",
    "    \n",
    "    \n",
    "    BR=1.0\n",
    "    if file.find(\"Tl208\") >= 1:\n",
    "        BR=0.36\n",
    "    \n",
    "    \n",
    "    #newrootfile=uproot.recreate(newfile)\n",
    "    trees=[]\n",
    "\n",
    "    treesinfo=[]\n",
    "    bdicts={}\n",
    "    b_dicts_info={}\n",
    "    branches=[]\n",
    "    bb=0\n",
    "\n",
    "    for i,tname in enumerate(Treenames):\n",
    "      #  print(len(trees))\n",
    "        treeinfo={}\n",
    "        \n",
    "        try:\n",
    "            trees.append(rootfile[\"Event/Recon/%s/%s\"%(tname,tname)])\n",
    "            treeinfo[\"name\"]=tname\n",
    "            treeinfo[\"path\"]=\"Event/Recon/%s/%s\"%(tname,tname)\n",
    "            treeinfo[\"branch\"]=rootfile[\"Event/Recon/%s/%s/%s\"%(tname,tname,tname)]\n",
    "        except:\n",
    "            print(\"Issue with \",tname, \" on file \",file)      \n",
    "            return 0   \n",
    "        print(treeinfo[\"branch\"].keys())\n",
    "        if True: \n",
    "            for j, bname in enumerate(treeinfo[\"branch\"].keys()):\n",
    "                if j < 4:\n",
    "                    continue \n",
    "                #print(bname)\n",
    "                bdict={}\n",
    "                bdict[\"name\"]=bname\n",
    "                bdict[\"values\"]=treeinfo[\"branch\"][bname].array()\n",
    "\n",
    "                branches.append(rootfile[\"Event/Recon/%s/%s/%s\"%(tname,tname,bname)])\n",
    "                #bdicts.append(bdict)\n",
    "                bdicts[bname]=treeinfo[\"branch\"][bname].array()\n",
    "\n",
    "                b_dicts_info[bname]=type(bdict[\"values\"][0])\n",
    "                #print(\"\\t\\t\\t\\t \",len(bdicts),\"  \",len(b_dicts_info))\n",
    "    \n",
    "    bdicts[\"Branch_ratio\"]= ak.highlevel.Array([BR]*len(bdicts[bname]))\n",
    "  \n",
    "    b_dicts_info[\"Branch_ratio\"]= type(bdict[\"values\"][0])        \n",
    "    with uproot3.recreate(newfilename) as f:\n",
    "        f[\"nexo\"] = uproot3.newtree(b_dicts_info,title=\"\")\n",
    "\n",
    "        f[\"nexo\"].extend(bdicts)\n",
    "    \n",
    "    f.close()\n",
    "    \n",
    "    \n",
    "    \n",
    "    \n",
    "    return f[\"nexo\"]"
   ]
  },
  {
   "cell_type": "code",
   "execution_count": 3,
   "metadata": {},
   "outputs": [
    {
     "ename": "NameError",
     "evalue": "name 'uproot' is not defined",
     "output_type": "error",
     "traceback": [
      "\u001b[1;31m---------------------------------------------------------------------------\u001b[0m",
      "\u001b[1;31mNameError\u001b[0m                                 Traceback (most recent call last)",
      "\u001b[1;32mc:\\Users\\EXO_Lab1\\Documents\\Bane\\nexo_code\\nexo\\Ext_src_cal\\SimpleTree_Sensrecon.ipynb Cell 6\u001b[0m line \u001b[0;36m4\n\u001b[0;32m      <a href='vscode-notebook-cell:/c%3A/Users/EXO_Lab1/Documents/Bane/nexo_code/nexo/Ext_src_cal/SimpleTree_Sensrecon.ipynb#W4sZmlsZQ%3D%3D?line=0'>1</a>\u001b[0m FI\u001b[39m=\u001b[39mfile_dict_from_file(\u001b[39m\"\u001b[39m\u001b[39m/home/wrkshp/nexo/slurm_data/Tl208/ExternalGammas_light-v2-Tl208-5000-seed53.root\u001b[39m\u001b[39m\"\u001b[39m)\n\u001b[0;32m      <a href='vscode-notebook-cell:/c%3A/Users/EXO_Lab1/Documents/Bane/nexo_code/nexo/Ext_src_cal/SimpleTree_Sensrecon.ipynb#W4sZmlsZQ%3D%3D?line=2'>3</a>\u001b[0m FI\n\u001b[1;32m----> <a href='vscode-notebook-cell:/c%3A/Users/EXO_Lab1/Documents/Bane/nexo_code/nexo/Ext_src_cal/SimpleTree_Sensrecon.ipynb#W4sZmlsZQ%3D%3D?line=3'>4</a>\u001b[0m rf \u001b[39m=\u001b[39muproot\u001b[39m.\u001b[39mopen(FI[\u001b[39m\"\u001b[39m\u001b[39mroot_filename\u001b[39m\u001b[39m\"\u001b[39m])\n\u001b[0;32m     <a href='vscode-notebook-cell:/c%3A/Users/EXO_Lab1/Documents/Bane/nexo_code/nexo/Ext_src_cal/SimpleTree_Sensrecon.ipynb#W4sZmlsZQ%3D%3D?line=9'>10</a>\u001b[0m \u001b[39m#rf.close()\u001b[39;00m\n\u001b[0;32m     <a href='vscode-notebook-cell:/c%3A/Users/EXO_Lab1/Documents/Bane/nexo_code/nexo/Ext_src_cal/SimpleTree_Sensrecon.ipynb#W4sZmlsZQ%3D%3D?line=11'>12</a>\u001b[0m rf\u001b[39m.\u001b[39mkeys()\n",
      "\u001b[1;31mNameError\u001b[0m: name 'uproot' is not defined"
     ]
    }
   ],
   "source": [
    "FI=file_dict_from_file(\"/home/wrkshp/nexo/slurm_data/Tl208/ExternalGammas_light-v2-Tl208-5000-seed53.root\")\n",
    "\n",
    "FI\n",
    "rf =uproot.open(FI[\"root_filename\"])\n",
    "\n",
    "\n",
    "\n",
    "\n",
    "\n",
    "#rf.close()\n",
    "\n",
    "rf.keys()\n",
    "#ExternalGammas_light-v2-Tl208-5000-seed53.root\n",
    "\n",
    "rf[\"Meta/FileMetaData\"]"
   ]
  },
  {
   "cell_type": "code",
   "execution_count": 24,
   "metadata": {},
   "outputs": [
    {
     "name": "stdout",
     "output_type": "stream",
     "text": [
      "{'Config': 'ExternalGammas_light', 'Target': 'Bi212', 'NumEvents': 5000, 'Seed': '10', 'Version': 'v3', 'root_filename': './data/ExternalGammas_light-v3-Bi212-5000-seed10.root', 'sens_filename': './data/ExternalGammas_light-v3-Bi212-5000-seed10_sensrecon.root'}\n",
      "Event/Recon/Energy\n",
      "opening,  ./data/ExternalGammas_light-v3-Bi212-5000-seed10_sensrecon.root\n",
      "keys [b'Event;1', b'ProcessID0;1']\n",
      "Event/Recon/Standoff\n",
      "Event/Recon/Standoff [b'Event;1', b'ProcessID0;1']\n",
      "Event/Recon/Standoff Not in keys issue with file and branch\n",
      "Event/Recon/ChargeQuanta\n",
      "Event/Recon/ChargeQuanta [b'Event;1', b'ProcessID0;1']\n",
      "Event/Recon/ChargeQuanta Not in keys issue with file and branch\n",
      "Event/Recon/Photons\n",
      "Event/Recon/Photons [b'Event;1', b'ProcessID0;1']\n",
      "Event/Recon/Photons Not in keys issue with file and branch\n",
      "Event/Recon/DNNTag\n",
      "Event/Recon/DNNTag [b'Event;1', b'ProcessID0;1']\n",
      "Event/Recon/DNNTag Not in keys issue with file and branch\n",
      "Event/Recon/NESTBugFlag\n",
      "Event/Recon/NESTBugFlag [b'Event;1', b'ProcessID0;1']\n",
      "Event/Recon/NESTBugFlag Not in keys issue with file and branch\n",
      "Event/Sim/SimEvent\n"
     ]
    }
   ],
   "source": [
    "if 1==1:\n",
    "    \n",
    "#def simplecombtree(file=\"\",newfilename=\"\"):\n",
    "    #file =\"/home/wrkshp/nexo/slurm_data/Tl208/ExternalGammas_light-v3-Tl208-5000-seed20.root\"\n",
    "    newfilename=\"./data/Bi212_v3_seed10.root\"\n",
    "    file=\"./data/ExternalGammas_light-v3-Bi212-5000-seed10.root\"\n",
    "    sens_Treenames=[\"Event/Recon/Energy\",\"Event/Recon/Standoff\"\n",
    "                   ,\"Event/Recon/ChargeQuanta\",\"Event/Recon/Photons\"\n",
    "                   ,\"Event/Recon/DNNTag\",\"Event/Recon/NESTBugFlag\"]\n",
    "    root_Treenames=[\"Event/Sim/SimEvent\"]\n",
    "    root_bnames=[\"fGenX\"\n",
    "                ,\"fGenY\"\n",
    "                ,\"fGenZ\"\n",
    "                ]\n",
    "    senstreelen=len(sens_Treenames)\n",
    "    \n",
    "    Treenames=sens_Treenames+root_Treenames\n",
    "    \n",
    "    sens_Tree_basename =\"Event/Recon/\"\n",
    "    root_Tree_basename =\"Event/Sim/\"\n",
    "    \n",
    "    Tree_basename=[sens_Tree_basename,root_Tree_basename]\n",
    "    \n",
    "    \n",
    "    filedict=file_dict_from_file(file)\n",
    "    print(filedict)\n",
    "    Seed=filedict[\"Seed\"]\n",
    "    Nevts=filedict[\"NumEvents\"]\n",
    "    \n",
    "    \n",
    "    \n",
    "    BR=1.0\n",
    "    if file.find(\"Tl208\") >= 1:\n",
    "        BR=0.3594\n",
    "    \n",
    "    \n",
    "    #newrootfile=uproot.recreate(newfile)\n",
    "    trees=[]\n",
    "\n",
    "    treesinfo=[]\n",
    "    bdicts={}\n",
    "    b_dicts_info={}\n",
    "    branches=[]\n",
    "    bb=0\n",
    "\n",
    "    for i,tname in enumerate(Treenames):\n",
    "        print(tname)\n",
    "        if i < senstreelen:\n",
    "            base_sel=0\n",
    "        else:\n",
    "            base_sel=1\n",
    "        \n",
    "        \n",
    "        branchname=tname.replace(Tree_basename[base_sel],\"\")\n",
    "        \n",
    "        filename=\"\"\n",
    "        if i==0:\n",
    "            filename=filedict[\"sens_filename\"]\n",
    "            rootfile=uproot3.open(filename)\n",
    "            print(\"opening, \",filename)\n",
    "            print(\"keys\",rootfile.keys())\n",
    "            \n",
    "            \n",
    "        elif i <senstreelen:\n",
    "            keys=rootfile.keys()\n",
    "\n",
    "            print(tname, keys)\n",
    "            if tname+\";1\" in keys:\n",
    "                #print(\"Good\")\n",
    "                aaa=\"AAA\"\n",
    "            else:\n",
    "                #print(sens_Treenames)\n",
    "                #print(senstreelen)\n",
    "                print(tname,\"Not in keys\",\"issue with file and branch\")\n",
    "                #print(branchname, filename)\n",
    "        \n",
    "        else:\n",
    "            try:\n",
    "                keys=rootfile.keys()\n",
    "                #print(\"\\t\\t\",branchname, \"\\t\",filename)\n",
    "                if tname+\";1\" in keys:\n",
    "                    #print(tname, \" is in file\")\n",
    "                    aaa=\"AAA\"\n",
    "                else:\n",
    "                    #print(\"Openning new file, end of sens\")\n",
    "                    filename=filedict[\"root_filename\"]\n",
    "                    rootfile.close()\n",
    "                    #print(filename)\n",
    "                    rootfile=uproot3.open(filename)\n",
    "                    #print(rootfile.keys())\n",
    "            except:    \n",
    "                #print(\"Openning new file due to try\")\n",
    "                filename=filedict[\"root_filename\"]\n",
    "                rootfile=uproot3.open(filename)\n",
    "            \n",
    "            #filename=filedict[\"sens_filename\"]\n",
    "            #rootfile=uproot.open(filename)\n",
    "        \n",
    "      #  print(len(trees))\n",
    "        treeinfo={}\n",
    "        \n",
    "        if base_sel==1:\n",
    "            basepath=\"%s\"%(tname)\n",
    "        else:\n",
    "            basepath=\"%s/%s\"%(tname,branchname)\n",
    "        \n",
    "        #continue\n",
    "        #print(basepath)\n",
    "        try:\n",
    "            trees.append(rootfile[\"%s/%s\"%(tname,branchname)])\n",
    "            treeinfo[\"name\"]=branchname\n",
    "            treeinfo[\"path\"]=\"%s\"%(basepath)\n",
    "            treeinfo[\"branch\"]=rootfile[\"%s/%s\"%(basepath,branchname)]\n",
    "        except:\n",
    "            print(\"Issue with \",tname, \" on file \",file) \n",
    "            \n",
    "            #return 0   \n",
    "        #print(\"%s/%s\"%(basepath,branchname))\n",
    "        #print(treeinfo[\"branch\"].keys())\n",
    "        if True: \n",
    "            try :\n",
    "                enumerate(treeinfo[\"branch\"].keys())\n",
    "                #print(\"Looking good\")\n",
    "            except :\n",
    "                print(\"Error\")\n",
    "                continue\n",
    "            \n",
    "            \n",
    "            for j, bname in enumerate(treeinfo[\"branch\"].keys()):\n",
    "                if j < 4:\n",
    "                    continue \n",
    "                \n",
    "                if base_sel==1:\n",
    "                    if bname not in root_bnames:\n",
    "                        #print(\"Skipping: not wantted\")\n",
    "                        continue\n",
    "                \n",
    "                \n",
    "                #print(\"bname\",bname)    \n",
    "                bdict={}\n",
    "                bdict[\"name\"]=bname\n",
    "                bdict[\"values\"]=treeinfo[\"branch\"][bname].array()\n",
    "                bnamepath=\"%s/%s/%s\"%(basepath,branchname,bname)\n",
    "                #print(bnamepath,rootfile[\"%s/%s\"%(basepath,branchname)].keys())\n",
    "                #print(rootfile[\"Event/Recon/Standoff/Standoff/Standoff/standoff\"].array())\n",
    "                #print(bname)\n",
    "\n",
    "                #branches.append(rootfile[bnamepath])\n",
    "                #bdicts.append(bdict)\n",
    "                bdicts[bname]=treeinfo[\"branch\"][bname].array()\n",
    "                entries=len(bdicts[bname])\n",
    "                b_dicts_info[bname]=type(bdict[\"values\"][0])\n",
    "                #print(\"\\t\\t\\t\\t \",len(bdicts),\"  \",len(b_dicts_info))\n",
    "    #print(\"Done with branches\")\n",
    "    \n",
    "    bdicts[\"Branch_ratio\"]= ak.highlevel.Array([BR]*(entries))\n",
    "    bdicts[\"Seed\"]= ak.highlevel.Array([Seed]*(entries))\n",
    "    bdicts[\"Nevts\"]= ak.highlevel.Array([Nevts]*(entries))\n",
    "  \n",
    "    b_dicts_info[\"Branch_ratio\"]= type(bdict[\"values\"][0]) \n",
    "    b_dicts_info[\"Seed\"]= type(bdict[\"values\"][0]) \n",
    "    b_dicts_info[\"Nevts\"]= type(bdict[\"values\"][0]) \n",
    "    with uproot3.recreate(newfilename) as f:\n",
    "        f[\"nexo\"] = uproot3.newtree(b_dicts_info,title=\"\")\n",
    "\n",
    "        f[\"nexo\"].extend(bdicts)\n",
    "    \n",
    "    f.close()\n",
    "    \n",
    "    \n",
    "    \n",
    "    \n",
    "    #return f[\"nexo\"]"
   ]
  },
  {
   "cell_type": "code",
   "execution_count": 58,
   "metadata": {},
   "outputs": [
    {
     "name": "stdout",
     "output_type": "stream",
     "text": [
      "{'Config': 'ExternalGammas_light', 'Target': 'Bi212', 'NumEvents': 5000, 'Seed': '10', 'Version': 'v3', 'root_filename': './data/ExternalGammas_light-v3-Bi212-5000-seed10.root', 'sens_filename': './data/ExternalGammas_light-v3-Bi212-5000-seed10_sensrecon.root'}\n",
      "0 Event/Recon/Energy\n",
      "  opening,  ./data/ExternalGammas_light-v3-Bi212-5000-seed10_sensrecon.root\n",
      "  keys [b'Event;1', b'ProcessID0;1']\n",
      "1 Event/Recon/Standoff\n",
      "Event/Recon/Standoff [b'Event;1', b'ProcessID0;1']\n",
      "   Event/Recon/Standoff Not in keys issue with file and branch\n",
      "2 Event/Recon/ChargeQuanta\n",
      "Event/Recon/ChargeQuanta [b'Event;1', b'ProcessID0;1']\n",
      "   Event/Recon/ChargeQuanta Not in keys issue with file and branch\n",
      "3 Event/Recon/Photons\n",
      "Event/Recon/Photons [b'Event;1', b'ProcessID0;1']\n",
      "   Event/Recon/Photons Not in keys issue with file and branch\n",
      "4 Event/Recon/DNNTag\n",
      "Event/Recon/DNNTag [b'Event;1', b'ProcessID0;1']\n",
      "   Event/Recon/DNNTag Not in keys issue with file and branch\n",
      "5 Event/Recon/NESTBugFlag\n",
      "Event/Recon/NESTBugFlag [b'Event;1', b'ProcessID0;1']\n",
      "   Event/Recon/NESTBugFlag Not in keys issue with file and branch\n",
      "6 Event/Sim/SimEvent\n"
     ]
    },
    {
     "ename": "NotImplementedError",
     "evalue": "",
     "output_type": "error",
     "traceback": [
      "\u001b[1;31m---------------------------------------------------------------------------\u001b[0m",
      "\u001b[1;31mNotImplementedError\u001b[0m                       Traceback (most recent call last)",
      "\u001b[1;32mc:\\Users\\EXO_Lab1\\Documents\\Bane\\nexo_code\\nexo\\Ext_src_cal\\SimpleTree_Sensrecon.ipynb Cell 8\u001b[0m line \u001b[0;36m1\n\u001b[0;32m    <a href='vscode-notebook-cell:/c%3A/Users/EXO_Lab1/Documents/Bane/nexo_code/nexo/Ext_src_cal/SimpleTree_Sensrecon.ipynb#X62sZmlsZQ%3D%3D?line=163'>164</a>\u001b[0m b_dicts_info[\u001b[39m\"\u001b[39m\u001b[39mNevts\u001b[39m\u001b[39m\"\u001b[39m]\u001b[39m=\u001b[39m \u001b[39mtype\u001b[39m(bdict[\u001b[39m\"\u001b[39m\u001b[39mvalues\u001b[39m\u001b[39m\"\u001b[39m][\u001b[39m0\u001b[39m]) \n\u001b[0;32m    <a href='vscode-notebook-cell:/c%3A/Users/EXO_Lab1/Documents/Bane/nexo_code/nexo/Ext_src_cal/SimpleTree_Sensrecon.ipynb#X62sZmlsZQ%3D%3D?line=164'>165</a>\u001b[0m \u001b[39mwith\u001b[39;00m uproot3\u001b[39m.\u001b[39mrecreate(newfilename) \u001b[39mas\u001b[39;00m f:\n\u001b[1;32m--> <a href='vscode-notebook-cell:/c%3A/Users/EXO_Lab1/Documents/Bane/nexo_code/nexo/Ext_src_cal/SimpleTree_Sensrecon.ipynb#X62sZmlsZQ%3D%3D?line=165'>166</a>\u001b[0m     f[\u001b[39m\"\u001b[39;49m\u001b[39mnexo\u001b[39;49m\u001b[39m\"\u001b[39;49m] \u001b[39m=\u001b[39m uproot3\u001b[39m.\u001b[39mnewtree(b_dicts_info,title\u001b[39m=\u001b[39m\u001b[39m\"\u001b[39m\u001b[39m\"\u001b[39m)\n\u001b[0;32m    <a href='vscode-notebook-cell:/c%3A/Users/EXO_Lab1/Documents/Bane/nexo_code/nexo/Ext_src_cal/SimpleTree_Sensrecon.ipynb#X62sZmlsZQ%3D%3D?line=167'>168</a>\u001b[0m     f[\u001b[39m\"\u001b[39m\u001b[39mnexo\u001b[39m\u001b[39m\"\u001b[39m]\u001b[39m.\u001b[39mextend(bdicts)\n\u001b[0;32m    <a href='vscode-notebook-cell:/c%3A/Users/EXO_Lab1/Documents/Bane/nexo_code/nexo/Ext_src_cal/SimpleTree_Sensrecon.ipynb#X62sZmlsZQ%3D%3D?line=169'>170</a>\u001b[0m f\u001b[39m.\u001b[39mclose()\n",
      "File \u001b[1;32mc:\\Python310\\lib\\site-packages\\uproot3\\write\\TFile.py:90\u001b[0m, in \u001b[0;36mTFileUpdate.__setitem__\u001b[1;34m(self, where, what)\u001b[0m\n\u001b[0;32m     88\u001b[0m     what \u001b[39m=\u001b[39m uproot3_methods\u001b[39m.\u001b[39mconvert\u001b[39m.\u001b[39mtowriteable(what)\n\u001b[0;32m     89\u001b[0m \u001b[39melif\u001b[39;00m what\u001b[39m.\u001b[39m\u001b[39m__class__\u001b[39m\u001b[39m.\u001b[39m\u001b[39m__name__\u001b[39m \u001b[39m==\u001b[39m \u001b[39m\"\u001b[39m\u001b[39mnewtree\u001b[39m\u001b[39m\"\u001b[39m:\n\u001b[1;32m---> 90\u001b[0m     what \u001b[39m=\u001b[39m TTree(where, what, \u001b[39mself\u001b[39;49m)\n\u001b[0;32m     91\u001b[0m cursor \u001b[39m=\u001b[39m uproot3\u001b[39m.\u001b[39mwrite\u001b[39m.\u001b[39msink\u001b[39m.\u001b[39mcursor\u001b[39m.\u001b[39mCursor(\u001b[39mself\u001b[39m\u001b[39m.\u001b[39m_fSeekFree)\n\u001b[0;32m     92\u001b[0m newkey \u001b[39m=\u001b[39m uproot3\u001b[39m.\u001b[39mwrite\u001b[39m.\u001b[39mTKey\u001b[39m.\u001b[39mTKey(fClassName \u001b[39m=\u001b[39m what\u001b[39m.\u001b[39m_fClassName,\n\u001b[0;32m     93\u001b[0m                                  fName      \u001b[39m=\u001b[39m where,\n\u001b[0;32m     94\u001b[0m                                  fTitle     \u001b[39m=\u001b[39m what\u001b[39m.\u001b[39m_fTitle,\n\u001b[1;32m   (...)\u001b[0m\n\u001b[0;32m     97\u001b[0m                                  fSeekPdir  \u001b[39m=\u001b[39m \u001b[39mself\u001b[39m\u001b[39m.\u001b[39m_fBEGIN,\n\u001b[0;32m     98\u001b[0m                                  fCycle     \u001b[39m=\u001b[39m cycle \u001b[39mif\u001b[39;00m cycle \u001b[39mis\u001b[39;00m \u001b[39mnot\u001b[39;00m \u001b[39mNone\u001b[39;00m \u001b[39melse\u001b[39;00m \u001b[39mself\u001b[39m\u001b[39m.\u001b[39m_rootdir\u001b[39m.\u001b[39mnewcycle(where))\n",
      "File \u001b[1;32mc:\\Python310\\lib\\site-packages\\uproot3\\write\\objects\\TTree.py:86\u001b[0m, in \u001b[0;36mTTree.__init__\u001b[1;34m(self, name, newtree, file)\u001b[0m\n\u001b[0;32m     84\u001b[0m             \u001b[39mraise\u001b[39;00m \u001b[39mException\u001b[39;00m(branch\u001b[39m.\u001b[39mcounter, \u001b[39m\"\u001b[39m\u001b[39m will be created automatically. Do not create it manually.\u001b[39m\u001b[39m\"\u001b[39m)\n\u001b[0;32m     85\u001b[0m compression \u001b[39m=\u001b[39m \u001b[39mgetattr\u001b[39m(branch, \u001b[39m\"\u001b[39m\u001b[39mcompression\u001b[39m\u001b[39m\"\u001b[39m, \u001b[39mgetattr\u001b[39m(newtree, \u001b[39m\"\u001b[39m\u001b[39mcompression\u001b[39m\u001b[39m\"\u001b[39m, file\u001b[39m.\u001b[39mcompression))\n\u001b[1;32m---> 86\u001b[0m \u001b[39mself\u001b[39m\u001b[39m.\u001b[39m_branches[name] \u001b[39m=\u001b[39m TBranch(name, branch, compression, \u001b[39mself\u001b[39;49m, file)\n\u001b[0;32m     87\u001b[0m \u001b[39mself\u001b[39m\u001b[39m.\u001b[39m_tree\u001b[39m.\u001b[39mfields[\u001b[39m\"\u001b[39m\u001b[39m_fLeaves\u001b[39m\u001b[39m\"\u001b[39m]\u001b[39m.\u001b[39mappend(\u001b[39mself\u001b[39m\u001b[39m.\u001b[39m_branches[name]\u001b[39m.\u001b[39m_branch\u001b[39m.\u001b[39mfields[\u001b[39m\"\u001b[39m\u001b[39m_fLeaves\u001b[39m\u001b[39m\"\u001b[39m])\n\u001b[0;32m     88\u001b[0m \u001b[39mself\u001b[39m\u001b[39m.\u001b[39m_tree\u001b[39m.\u001b[39mfields[\u001b[39m\"\u001b[39m\u001b[39m_fBranches\u001b[39m\u001b[39m\"\u001b[39m]\u001b[39m.\u001b[39mappend(\u001b[39mself\u001b[39m\u001b[39m.\u001b[39m_branches[name]\u001b[39m.\u001b[39m_branch)\n",
      "File \u001b[1;32mc:\\Python310\\lib\\site-packages\\uproot3\\write\\objects\\TTree.py:253\u001b[0m, in \u001b[0;36mTBranch.__init__\u001b[1;34m(self, name, branchobj, compression, treelvl1, file)\u001b[0m\n\u001b[0;32m    252\u001b[0m \u001b[39mdef\u001b[39;00m \u001b[39m__init__\u001b[39m(\u001b[39mself\u001b[39m, name, branchobj, compression, treelvl1, file):\n\u001b[1;32m--> 253\u001b[0m     \u001b[39mself\u001b[39m\u001b[39m.\u001b[39m_branch \u001b[39m=\u001b[39m TBranchImpl(name, branchobj, compression, file)\n\u001b[0;32m    254\u001b[0m     \u001b[39mself\u001b[39m\u001b[39m.\u001b[39m_treelvl1 \u001b[39m=\u001b[39m treelvl1\n",
      "File \u001b[1;32mc:\\Python310\\lib\\site-packages\\uproot3\\write\\objects\\TTree.py:819\u001b[0m, in \u001b[0;36mTBranchImpl.__init__\u001b[1;34m(self, name, branchobj, compression, file)\u001b[0m\n\u001b[0;32m    817\u001b[0m     \u001b[39mself\u001b[39m\u001b[39m.\u001b[39mfields[\u001b[39m\"\u001b[39m\u001b[39m_fLeaves\u001b[39m\u001b[39m\"\u001b[39m] \u001b[39m=\u001b[39m [\u001b[39mself\u001b[39m, \u001b[39m\"\u001b[39m\u001b[39mTLeafS\u001b[39m\u001b[39m\"\u001b[39m]\n\u001b[0;32m    818\u001b[0m \u001b[39melse\u001b[39;00m:\n\u001b[1;32m--> 819\u001b[0m     \u001b[39mraise\u001b[39;00m \u001b[39mNotImplementedError\u001b[39;00m\n\u001b[0;32m    821\u001b[0m \u001b[39mif\u001b[39;00m branchobj\u001b[39m.\u001b[39mtitle \u001b[39m==\u001b[39m \u001b[39m\"\u001b[39m\u001b[39m\"\u001b[39m:\n\u001b[0;32m    822\u001b[0m     \u001b[39mself\u001b[39m\u001b[39m.\u001b[39mtitle \u001b[39m=\u001b[39m _bytesid(name)\n",
      "\u001b[1;31mNotImplementedError\u001b[0m: "
     ]
    }
   ],
   "source": [
    "if 1==1:\n",
    "    \n",
    "#def simplecombtree(file=\"\",newfilename=\"\"):\n",
    "    #file =\"/home/wrkshp/nexo/slurm_data/Tl208/ExternalGammas_light-v3-Tl208-5000-seed20.root\"\n",
    "    newfilename=\"./data/Bi212_v3_seed10.root\"\n",
    "    file=\"./data/ExternalGammas_light-v3-Bi212-5000-seed10.root\"\n",
    "    sens_Treenames=[\"Event/Recon/Energy\",\"Event/Recon/Standoff\"\n",
    "                   ,\"Event/Recon/ChargeQuanta\",\"Event/Recon/Photons\"\n",
    "                   ,\"Event/Recon/DNNTag\",\"Event/Recon/NESTBugFlag\"]\n",
    "    root_Treenames=[\"Event/Sim/SimEvent\"]\n",
    "    root_bnames=[\"fGenX\"\n",
    "                ,\"fGenY\"\n",
    "                ,\"fGenZ\"\n",
    "                ]\n",
    "    senstreelen=len(sens_Treenames)\n",
    "    \n",
    "    Treenames=sens_Treenames+root_Treenames\n",
    "    \n",
    "    sens_Tree_basename =\"Event/Recon/\"\n",
    "    root_Tree_basename =\"Event/Sim/\"\n",
    "    \n",
    "    Tree_basename=[sens_Tree_basename,root_Tree_basename]\n",
    "    \n",
    "    \n",
    "    filedict=file_dict_from_file(file)\n",
    "    print(filedict)\n",
    "    Seed=filedict[\"Seed\"]\n",
    "    Nevts=filedict[\"NumEvents\"]\n",
    "    \n",
    "    \n",
    "    \n",
    "    BR=1.0\n",
    "    if file.find(\"Tl208\") >= 1:\n",
    "        BR=0.3594\n",
    "    \n",
    "    \n",
    "    #newrootfile=uproot.recreate(newfile)\n",
    "    trees=[]\n",
    "\n",
    "    treesinfo=[]\n",
    "    bdicts={}\n",
    "    b_dicts_info={}\n",
    "    branches=[]\n",
    "    bb=0\n",
    "\n",
    "    for i,tname in enumerate(Treenames):\n",
    "        print(i,tname)\n",
    "        if i < senstreelen:\n",
    "            base_sel=0\n",
    "        else:\n",
    "            base_sel=1\n",
    "        \n",
    "        \n",
    "        branchname=tname.replace(Tree_basename[base_sel],\"\")\n",
    "        \n",
    "        filename=\"\"\n",
    "        if i==0:\n",
    "            filename=filedict[\"sens_filename\"]\n",
    "            rootfile=uproot3.open(filename)\n",
    "            print(\"  opening, \",filename)\n",
    "            print(\"  keys\",rootfile.keys())\n",
    "            \n",
    "            \n",
    "        elif i <senstreelen:\n",
    "            keys=rootfile.keys()\n",
    "\n",
    "            print(tname, keys)\n",
    "            if tname+\";1\" in keys:\n",
    "                #print(\"Good\")\n",
    "                aaa=\"AAA\"\n",
    "            else:\n",
    "                #print(sens_Treenames)\n",
    "                #print(senstreelen)\n",
    "                print(\"  \",tname,\"Not in keys\",\"issue with file and branch\")\n",
    "                #print(branchname, filename)\n",
    "        \n",
    "        else:\n",
    "            try:\n",
    "                keys=rootfile.keys()\n",
    "                #print(\"\\t\\t\",branchname, \"\\t\",filename)\n",
    "                if tname+\";1\" in keys:\n",
    "                    #print(tname, \" is in file\")\n",
    "                    aaa=\"AAA\"\n",
    "                else:\n",
    "                    #print(\"Openning new file, end of sens\")\n",
    "                    filename=filedict[\"root_filename\"]\n",
    "                    rootfile.close()\n",
    "                    #print(filename)\n",
    "                    rootfile=uproot3.open(filename)\n",
    "                    #print(rootfile.keys())\n",
    "            except:    \n",
    "                #print(\"Openning new file due to try\")\n",
    "                filename=filedict[\"root_filename\"]\n",
    "                rootfile=uproot3.open(filename)\n",
    "            \n",
    "            #filename=filedict[\"sens_filename\"]\n",
    "            #rootfile=uproot.open(filename)\n",
    "        \n",
    "      #  print(len(trees))\n",
    "        treeinfo={}\n",
    "        \n",
    "        if base_sel==1:\n",
    "            basepath=\"%s\"%(tname)\n",
    "        else:\n",
    "            basepath=\"%s/%s\"%(tname,branchname)\n",
    "        \n",
    "        #continue\n",
    "        #print(basepath)\n",
    "        try:\n",
    "            trees.append(rootfile[\"%s/%s\"%(tname,branchname)])\n",
    "            treeinfo[\"name\"]=branchname\n",
    "            treeinfo[\"path\"]=\"%s\"%(basepath)\n",
    "            treeinfo[\"branch\"]=rootfile[\"%s/%s\"%(basepath,branchname)]\n",
    "        except:\n",
    "            print(\"Issue with \",tname, \" on file \",file) \n",
    "            \n",
    "            #return 0   \n",
    "        #print(\"%s/%s\"%(basepath,branchname))\n",
    "        #print(treeinfo[\"branch\"].keys())\n",
    "        if True: \n",
    "            try :\n",
    "                enumerate(treeinfo[\"branch\"].keys())\n",
    "                #print(\"Looking good\")\n",
    "            except :\n",
    "                print(\"Error\")\n",
    "                continue\n",
    "            \n",
    "            \n",
    "            for j, bname in enumerate(treeinfo[\"branch\"].keys()):\n",
    "                #print(\"\\tj loop\", j, bname,len(bdicts.keys()))\n",
    "                if b\"nEXO::EventObject\" == bname:\n",
    "                    continue \n",
    "                \n",
    "                if base_sel==1:\n",
    "                    if bname.decode(\"utf-8\") not in root_bnames:\n",
    "                        #print(\"\\t\\tSkipping: not wantted\", bname)\n",
    "                        \n",
    "                        continue\n",
    "                \n",
    "                \n",
    "                #print(\"bname\",bname)    \n",
    "                bdict={}\n",
    "                bdict[\"name\"]=bname\n",
    "                bdict[\"values\"]=treeinfo[\"branch\"][bname].array()\n",
    "                bnamepath=\"%s/%s/%s\"%(basepath,branchname,bname)\n",
    "                #print(bnamepath,rootfile[\"%s/%s\"%(basepath,branchname)].keys())\n",
    "                #print(rootfile[\"Event/Recon/Standoff/Standoff/Standoff/standoff\"].array())\n",
    "                #print(\"\\tBuild dict in j loop\",bname)\n",
    "\n",
    "                #branches.append(rootfile[bnamepath])\n",
    "                #bdicts.append(bdict)\n",
    "                bdicts[bname]=treeinfo[\"branch\"][bname].array()\n",
    "                entries=len(bdicts[bname])\n",
    "                b_dicts_info[bname]=type(bdict[\"values\"][0])\n",
    "                #print(\"\\t\\t\\t\\t \",len(bdicts),\"  \",len(b_dicts_info))\n",
    "    #print(\"Done with branches\")\n",
    "    \n",
    "    bdicts[\"Branch_ratio\"]= ak.highlevel.Array([BR]*(entries))\n",
    "    bdicts[\"Seed\"]= ak.highlevel.Array([Seed]*(entries))\n",
    "    bdicts[\"Nevts\"]= ak.highlevel.Array([Nevts]*(entries))\n",
    "  \n",
    "    b_dicts_info[\"Branch_ratio\"]= type(bdict[\"values\"][0]) \n",
    "    b_dicts_info[\"Seed\"]= type(bdict[\"values\"][0]) \n",
    "    b_dicts_info[\"Nevts\"]= type(bdict[\"values\"][0]) \n",
    "    with uproot3.recreate(newfilename) as f:\n",
    "        for k,name in enumerate(b_dicts_info.keys()):\n",
    "            print(name)\n",
    "            f[\"nexo\"] = uproot3.newtree({name:b_dicts_info[name]})\n",
    "            f[\"nexo\"].extend({name:bdicts[name]})\n",
    "\n",
    "\n",
    "\n",
    "        #f[\"nexo\"] = uproot3.newtree(b_dicts_info,title=\"\")\n",
    "\n",
    "        #f[\"nexo\"].extend(bdicts)\n",
    "    \n",
    "    f.close()\n",
    "    \n",
    "    \n",
    "    \n",
    "    \n",
    "    #return f[\"nexo\"]"
   ]
  },
  {
   "cell_type": "code",
   "execution_count": null,
   "metadata": {},
   "outputs": [],
   "source": []
  },
  {
   "cell_type": "code",
   "execution_count": 74,
   "metadata": {},
   "outputs": [
    {
     "ename": "TypeError",
     "evalue": "unhashable type: 'slice'",
     "output_type": "error",
     "traceback": [
      "\u001b[1;31m---------------------------------------------------------------------------\u001b[0m",
      "\u001b[1;31mTypeError\u001b[0m                                 Traceback (most recent call last)",
      "\u001b[1;32mc:\\Users\\EXO_Lab1\\Documents\\Bane\\nexo_code\\nexo\\Ext_src_cal\\SimpleTree_Sensrecon.ipynb Cell 9\u001b[0m line \u001b[0;36m2\n\u001b[0;32m      <a href='vscode-notebook-cell:/c%3A/Users/EXO_Lab1/Documents/Bane/nexo_code/nexo/Ext_src_cal/SimpleTree_Sensrecon.ipynb#X63sZmlsZQ%3D%3D?line=0'>1</a>\u001b[0m \u001b[39mwith\u001b[39;00m uproot3\u001b[39m.\u001b[39mrecreate(newfilename) \u001b[39mas\u001b[39;00m f:\n\u001b[1;32m----> <a href='vscode-notebook-cell:/c%3A/Users/EXO_Lab1/Documents/Bane/nexo_code/nexo/Ext_src_cal/SimpleTree_Sensrecon.ipynb#X63sZmlsZQ%3D%3D?line=1'>2</a>\u001b[0m     \u001b[39mfor\u001b[39;00m k,name \u001b[39min\u001b[39;00m \u001b[39menumerate\u001b[39m(b_dicts_info[\u001b[39m10\u001b[39;49m:]\u001b[39m.\u001b[39mkeys()):\n\u001b[0;32m      <a href='vscode-notebook-cell:/c%3A/Users/EXO_Lab1/Documents/Bane/nexo_code/nexo/Ext_src_cal/SimpleTree_Sensrecon.ipynb#X63sZmlsZQ%3D%3D?line=3'>4</a>\u001b[0m         \u001b[39mtry\u001b[39;00m:\n\u001b[0;32m      <a href='vscode-notebook-cell:/c%3A/Users/EXO_Lab1/Documents/Bane/nexo_code/nexo/Ext_src_cal/SimpleTree_Sensrecon.ipynb#X63sZmlsZQ%3D%3D?line=4'>5</a>\u001b[0m             f[\u001b[39m\"\u001b[39m\u001b[39mnexo\u001b[39m\u001b[39m\"\u001b[39m] \u001b[39m=\u001b[39m uproot3\u001b[39m.\u001b[39mnewtree({name:b_dicts_info[name]})\n",
      "\u001b[1;31mTypeError\u001b[0m: unhashable type: 'slice'"
     ]
    }
   ],
   "source": [
    "with uproot3.recreate(newfilename) as f:\n",
    "    for k,name in enumerate(b_dicts_info.keys()):\n",
    "        \n",
    "        try:\n",
    "            f[\"nexo\"] = uproot3.newtree({name:b_dicts_info[name]})\n",
    "            f[\"nexo\"].extend({name:bdicts[name]})\n",
    "        except:\n",
    "            print(\"issue\",name,len(bdicts[name]))"
   ]
  },
  {
   "cell_type": "code",
   "execution_count": 84,
   "metadata": {},
   "outputs": [
    {
     "data": {
      "text/plain": [
       "array([0.3709306 , 0.39421842, 0.7025029 , 0.5092402 , 1.3048906 ,\n",
       "       1.6207314 , 0.17192516, 1.6207385 , 0.38819075, 0.4846769 ,\n",
       "       0.7273287 , 0.39293885, 0.8155838 , 0.7273285 , 0.41649836,\n",
       "       0.319727  , 0.7853685 , 0.41957197, 1.0786271 , 0.35070887,\n",
       "       0.4106513 , 0.283091  , 0.7273356 , 1.6207311 , 0.5326867 ,\n",
       "       0.18321936, 1.459611  , 1.0425417 , 1.2496232 , 0.51756793,\n",
       "       0.6733718 , 0.7151797 ], dtype=float32)"
      ]
     },
     "execution_count": 84,
     "metadata": {},
     "output_type": "execute_result"
    }
   ],
   "source": [
    "bdicts[b'energy_mctruth_inTPC']\n",
    "\n"
   ]
  },
  {
   "cell_type": "code",
   "execution_count": 35,
   "metadata": {},
   "outputs": [
    {
     "data": {
      "text/plain": [
       "array([0.40363258, 0.01079542, 0.01955967, 0.1360321 , 0.04920904,\n",
       "       0.14081533, 0.06496177, 0.10722533, 0.03951696, 0.0174946 ,\n",
       "       0.01247369, 0.06268373, 0.27959961, 0.01014541, 0.01255884,\n",
       "       0.09864623, 0.01999658, 0.01959733, 0.11189628, 0.02292522,\n",
       "       0.16788332, 0.02749834, 0.08434334, 0.0696657 , 0.03819784,\n",
       "       0.04620985, 0.05869805, 0.22834928, 0.06454292, 0.00853588,\n",
       "       0.01675245, 0.03697034, 0.0852848 , 0.32578176, 0.03611074,\n",
       "       0.03652194, 0.08436024, 0.11792047, 0.08290456, 0.08182105,\n",
       "       0.0311686 , 0.00802624])"
      ]
     },
     "execution_count": 35,
     "metadata": {},
     "output_type": "execute_result"
    }
   ],
   "source": [
    "rootfile[\"Event/Recon/DNNTag/DNNTag/DNNTag/m_DNNvalue\"].array()"
   ]
  },
  {
   "cell_type": "code",
   "execution_count": 57,
   "metadata": {
    "scrolled": false
   },
   "outputs": [
    {
     "name": "stdout",
     "output_type": "stream",
     "text": [
      "/Users/EXO_Lab1/Documents/Bane/nexo_code/nexo/Ext_src_cal/data/ExternalGammas_light-v3-Bi212-5000-seed1.root\n"
     ]
    },
    {
     "ename": "NameError",
     "evalue": "name 'simplecombtree' is not defined",
     "output_type": "error",
     "traceback": [
      "\u001b[1;31m---------------------------------------------------------------------------\u001b[0m",
      "\u001b[1;31mNameError\u001b[0m                                 Traceback (most recent call last)",
      "\u001b[1;32mc:\\Users\\EXO_Lab1\\Documents\\Bane\\nexo_code\\nexo\\Ext_src_cal\\SimpleTree_Sensrecon.ipynb Cell 11\u001b[0m line \u001b[0;36m5\n\u001b[0;32m     <a href='vscode-notebook-cell:/c%3A/Users/EXO_Lab1/Documents/Bane/nexo_code/nexo/Ext_src_cal/SimpleTree_Sensrecon.ipynb#X11sZmlsZQ%3D%3D?line=51'>52</a>\u001b[0m         \u001b[39mcontinue\u001b[39;00m\n\u001b[0;32m     <a href='vscode-notebook-cell:/c%3A/Users/EXO_Lab1/Documents/Bane/nexo_code/nexo/Ext_src_cal/SimpleTree_Sensrecon.ipynb#X11sZmlsZQ%3D%3D?line=53'>54</a>\u001b[0m \u001b[39mif\u001b[39;00m os\u001b[39m.\u001b[39mpath\u001b[39m.\u001b[39mexists(file) \u001b[39mand\u001b[39;00m os\u001b[39m.\u001b[39mpath\u001b[39m.\u001b[39mexists(filerec) :\n\u001b[1;32m---> <a href='vscode-notebook-cell:/c%3A/Users/EXO_Lab1/Documents/Bane/nexo_code/nexo/Ext_src_cal/SimpleTree_Sensrecon.ipynb#X11sZmlsZQ%3D%3D?line=55'>56</a>\u001b[0m     T\u001b[39m=\u001b[39msimplecombtree(file,newfile)\n\u001b[0;32m     <a href='vscode-notebook-cell:/c%3A/Users/EXO_Lab1/Documents/Bane/nexo_code/nexo/Ext_src_cal/SimpleTree_Sensrecon.ipynb#X11sZmlsZQ%3D%3D?line=56'>57</a>\u001b[0m     \u001b[39mif\u001b[39;00m T\u001b[39m==\u001b[39m\u001b[39m0\u001b[39m:\n\u001b[0;32m     <a href='vscode-notebook-cell:/c%3A/Users/EXO_Lab1/Documents/Bane/nexo_code/nexo/Ext_src_cal/SimpleTree_Sensrecon.ipynb#X11sZmlsZQ%3D%3D?line=57'>58</a>\u001b[0m         \u001b[39mprint\u001b[39m(\u001b[39m\"\u001b[39m\u001b[39mError with \u001b[39m\u001b[39m\"\u001b[39m,seed)\n",
      "\u001b[1;31mNameError\u001b[0m: name 'simplecombtree' is not defined"
     ]
    }
   ],
   "source": [
    "#tgt=\"Th228\"\n",
    "version=\"-v3\"\n",
    "target_chain=[\"Tl208\"]#,\"Tl208\",\"Ra224\",\"Pb212\",\"Bi212\"]\n",
    "\n",
    "#target_chain=[\"Ra226\",\"Pb214\", \"Bi214\", \"Bi210\", \"Pb206\"]\n",
    "\n",
    "\n",
    "\n",
    "#target_chain=[\"Ra224\"]\n",
    "#target_chain=[\"Pb212\"]\n",
    "target_chain=[\"Bi212\"]\n",
    "#target_chain=[\"Cs137\"]\n",
    "#target_chain=[\"Co60\"]\n",
    "#target_chain=[\"Th228\"]\n",
    "#target_chain=[\"Pb206\"]\n",
    "#seed=55\n",
    "nevts=5000\n",
    "repeat=True\n",
    "#repeat=False\n",
    "\n",
    "#tgt=\"Tl208\"\n",
    "\n",
    "#repeat=True\n",
    "#seed =55\n",
    "\n",
    "\n",
    "Missing_list=[]\n",
    "\n",
    "#file = \"/home/wrkshp/nexo/slurm_data/recon/ExternalGammas_light-%s-%i-seed%i_sensrecon.root\"%(tgt,nevts,seed)\n",
    "#newfile = \"/home/wrkshp/nexo/slurm_data/sens/%s-seed%i_sens.root\"%(tgt,seed)\n",
    "#Fullfilename=\"/home/wrkshp/nexo/slurm_data/sens/%s-sens.root\"%(tgt)\n",
    "\n",
    "#with uproot3.recreate(Fullfilename) as Fullfile:\n",
    "for tgt in target_chain:\n",
    "    if True  :  \n",
    "\n",
    "        for seed in range(1,2+1,1):\n",
    "            mainpath=\"/Users/EXO_Lab1/Documents/Bane/nexo_code/nexo/Ext_src_cal\"\n",
    "            file = mainpath+\"/data/ExternalGammas_light%s-%s-%i-seed%i.root\"%(version,tgt,nevts,seed)            \n",
    "            filerec = mainpath+\"/data/ExternalGammas_light%s-%s-%i-seed%i_sensrecon.root\"%(version,tgt,nevts,seed)            \n",
    "            print(file)\n",
    "            newfile = \"./data/%s%s-seed%i.root\"%(tgt,version,seed)\n",
    "\n",
    "            #file = \"/home/wrkshp/nexo/slurm_data/%s/ExternalGammas_light%s-%s-%i-seed%i.root\"%(tgt,version,tgt,nevts,seed)            \n",
    "            #filerec = \"/home/wrkshp/nexo/slurm_data/recon/ExternalGammas_light%s-%s-%i-seed%i_sensrecon.root\"%(version,tgt,nevts,seed)            \n",
    "            #print(file)\n",
    "            #newfile = \"/home/wrkshp/nexo/slurm_data/sens/%s%s-seed%i.root\"%(tgt,version,seed)\n",
    "            Missing={}\n",
    "            if os.path.exists(newfile):\n",
    "                if not repeat:\n",
    "                    print(\"Skipping seed\",seed)\n",
    "                    continue\n",
    "\n",
    "            if os.path.exists(file) and os.path.exists(filerec) :\n",
    "                \n",
    "                T=simplecombtree(file,newfile)\n",
    "                if T==0:\n",
    "                    print(\"Error with \",seed)\n",
    "                    Missing[\"Target\"]=tgt\n",
    "                    Missing[\"Seed\"]=seed\n",
    "                    Missing_list.append(Missing)\n",
    "                else:\n",
    "                    print(\"Finished ,\", seed)\n",
    "            else:\n",
    "                print(tgt, version,seed ,\" is missing\")\n",
    "                Missing[\"Target\"]=tgt\n",
    "                Missing[\"Seed\"]=seed\n",
    "                \n",
    "                Missing_list.append(Missing)\n",
    "\n",
    "Missing_df=pd.DataFrame.from_dict(Missing_list)                \n",
    "                \n",
    "\n",
    "            \n",
    "#Fullfile.close()            "
   ]
  },
  {
   "cell_type": "code",
   "execution_count": 15,
   "metadata": {},
   "outputs": [
    {
     "name": "stdout",
     "output_type": "stream",
     "text": [
      "64\n"
     ]
    }
   ],
   "source": [
    "print(len(Missing_list))\n",
    "try:\n",
    "    Missing_df_Pb=Missing_df.query(\"Target == 'Tl208'\")\n",
    "    Missing_df_Pb\n",
    "except:\n",
    "    print(\"No missing?\")"
   ]
  },
  {
   "cell_type": "code",
   "execution_count": 14,
   "metadata": {},
   "outputs": [
    {
     "name": "stdout",
     "output_type": "stream",
     "text": [
      "\n"
     ]
    }
   ],
   "source": [
    " #def missingstring(misslist,cuts):\n",
    "if 1:\n",
    "    misslist=Missing_df\n",
    "    cuts=\"Target == 'Tl208'\"\n",
    "    DF=misslist.query(cuts)\n",
    "    seeds = \"\"\n",
    "    for i in DF[\"Seed\"]:\n",
    "        seeds = seeds+\",%i\"%i\n",
    "    seeds=seeds[1:]\n",
    "    print (seeds)\n",
    "    #return seeds\n",
    "    "
   ]
  },
  {
   "cell_type": "code",
   "execution_count": null,
   "metadata": {},
   "outputs": [],
   "source": [
    "ExternalGammas_light-v2-Tl208-5000-seed1_sensrecon.root"
   ]
  },
  {
   "cell_type": "code",
   "execution_count": 85,
   "metadata": {},
   "outputs": [
    {
     "data": {
      "text/plain": [
       "'./data/ExternalGammas_light-v3-Bi212-5000-seed10.root'"
      ]
     },
     "execution_count": 85,
     "metadata": {},
     "output_type": "execute_result"
    }
   ],
   "source": []
  },
  {
   "cell_type": "code",
   "execution_count": null,
   "metadata": {},
   "outputs": [],
   "source": [
    "\n"
   ]
  },
  {
   "cell_type": "code",
   "execution_count": null,
   "metadata": {},
   "outputs": [],
   "source": [
    "branches\n"
   ]
  },
  {
   "cell_type": "code",
   "execution_count": null,
   "metadata": {},
   "outputs": [],
   "source": [
    "type(rootfile[\"Event/Recon/%s/%s\"%(tname,tname)])"
   ]
  },
  {
   "cell_type": "code",
   "execution_count": null,
   "metadata": {},
   "outputs": [],
   "source": [
    "tt=uproot.TTree\n",
    "tt"
   ]
  },
  {
   "cell_type": "code",
   "execution_count": null,
   "metadata": {},
   "outputs": [],
   "source": [
    "#newfile[\"T\"]\n",
    "\n",
    "\n",
    "#newfile[\"T\"].extend(bdicts)\n",
    "tt.name=\"T\"\n",
    "tt.name\n",
    "\n",
    "tt.branches=bdicts\n",
    "tt.branches"
   ]
  },
  {
   "cell_type": "code",
   "execution_count": null,
   "metadata": {},
   "outputs": [],
   "source": [
    "newrootfile=uproot.recreate(newfile)\n",
    "\n",
    "\n"
   ]
  },
  {
   "cell_type": "code",
   "execution_count": null,
   "metadata": {},
   "outputs": [],
   "source": [
    "type(tt.branches)"
   ]
  },
  {
   "cell_type": "code",
   "execution_count": null,
   "metadata": {},
   "outputs": [],
   "source": [
    "newrootfile[\"T\"]=tt"
   ]
  },
  {
   "cell_type": "code",
   "execution_count": null,
   "metadata": {},
   "outputs": [],
   "source": [
    "t=rootfile[\"Event/Recon/%s/%s\"%(tname,tname)]"
   ]
  },
  {
   "cell_type": "code",
   "execution_count": null,
   "metadata": {},
   "outputs": [],
   "source": [
    "'DNNTag/m_DNNvalue't['DNNTag/m_DNNvalue'].array()"
   ]
  },
  {
   "cell_type": "code",
   "execution_count": null,
   "metadata": {},
   "outputs": [],
   "source": [
    "T=uproot.TTree\n",
    "print(T.name,\"\\n\",\n",
    "T.title,\"\\n\",\n",
    "T.branches\n",
    "     )"
   ]
  },
  {
   "cell_type": "code",
   "execution_count": null,
   "metadata": {},
   "outputs": [],
   "source": [
    "T.name=\"T\"\n",
    "T.branches=branches"
   ]
  },
  {
   "cell_type": "code",
   "execution_count": null,
   "metadata": {},
   "outputs": [],
   "source": [
    "T.branches"
   ]
  },
  {
   "cell_type": "code",
   "execution_count": null,
   "metadata": {},
   "outputs": [],
   "source": [
    "newfile"
   ]
  },
  {
   "cell_type": "code",
   "execution_count": null,
   "metadata": {},
   "outputs": [],
   "source": [
    "import uproot3"
   ]
  },
  {
   "cell_type": "code",
   "execution_count": null,
   "metadata": {
    "scrolled": false
   },
   "outputs": [],
   "source": [
    "bdicts"
   ]
  },
  {
   "cell_type": "code",
   "execution_count": null,
   "metadata": {},
   "outputs": [],
   "source": [
    "nfile=uproot3.recreate(\"tmp.root\", compression=uproot3.ZLIB(4))\n",
    "nfile[\"t\"]=uproot3.newtree(b_dicts_info )\n",
    "nfile[\"t\"].extend(bdicts)      \n"
   ]
  },
  {
   "cell_type": "code",
   "execution_count": null,
   "metadata": {},
   "outputs": [],
   "source": [
    "newtree = uproot3.newtree(b_dicts_info)\n"
   ]
  },
  {
   "cell_type": "code",
   "execution_count": null,
   "metadata": {},
   "outputs": [],
   "source": [
    "type(bdicts)"
   ]
  },
  {
   "cell_type": "code",
   "execution_count": null,
   "metadata": {},
   "outputs": [],
   "source": [
    "with uproot3.recreate(\"example.root\") as f:\n",
    "    f[\"t\"] = uproot3.newtree(b_dicts_info,title=\"TTree title\")\n",
    "    #for i,b in enumerate(bdicts):\n",
    "    #f[\"t\"].newbranch()\n",
    "    f[\"t\"].extend(bdicts)\n",
    "f.close()"
   ]
  },
  {
   "cell_type": "code",
   "execution_count": null,
   "metadata": {},
   "outputs": [],
   "source": [
    "f"
   ]
  },
  {
   "cell_type": "code",
   "execution_count": null,
   "metadata": {},
   "outputs": [],
   "source": [
    "50*5000"
   ]
  },
  {
   "cell_type": "code",
   "execution_count": null,
   "metadata": {},
   "outputs": [],
   "source": []
  },
  {
   "cell_type": "code",
   "execution_count": null,
   "metadata": {},
   "outputs": [],
   "source": []
  },
  {
   "cell_type": "code",
   "execution_count": null,
   "metadata": {},
   "outputs": [],
   "source": [
    "f['t/energy'].array()"
   ]
  },
  {
   "cell_type": "code",
   "execution_count": null,
   "metadata": {},
   "outputs": [],
   "source": [
    "len(bdicts)"
   ]
  },
  {
   "cell_type": "code",
   "execution_count": null,
   "metadata": {},
   "outputs": [],
   "source": [
    "rfile=uproot.open(\"/home/wrkshp/nexo/slurm_data/sens/Co60-seed1.root\")"
   ]
  },
  {
   "cell_type": "code",
   "execution_count": null,
   "metadata": {},
   "outputs": [],
   "source": [
    "rfile.keys()"
   ]
  },
  {
   "cell_type": "code",
   "execution_count": null,
   "metadata": {},
   "outputs": [],
   "source": [
    "tgt=\"Tl208\"\n",
    "version=\"-v2\"\n",
    "nevts=5000\n",
    "seed=55\n",
    "\n",
    "file = \"/home/wrkshp/nexo/slurm_data/Tl208/ExternalGammas_light%s-%s-%i-seed%i.root\"%(version,tgt,nevts,seed)\n",
    "newfilename = \"/home/wrkshp/nexo/slurm_data/sens/%s%s-seed%i.root\"%(tgt,version,seed)\n",
    "\n",
    "\n",
    "rfile=uproot.open(file)"
   ]
  },
  {
   "cell_type": "code",
   "execution_count": null,
   "metadata": {},
   "outputs": [],
   "source": [
    "rfile[\"Event/Sim/SimEvent/fGenParticleID\"].values()"
   ]
  },
  {
   "cell_type": "code",
   "execution_count": null,
   "metadata": {},
   "outputs": [],
   "source": [
    "Energy_hist,Energy_bin_edges=np.histogram(\n",
    "        np.array(T[\"energy\"].array()),bins=nbins,range=binrange)\n",
    "\n",
    "\n",
    "\n",
    "\n"
   ]
  }
 ],
 "metadata": {
  "kernelspec": {
   "display_name": "Python 3",
   "language": "python",
   "name": "python3"
  },
  "language_info": {
   "codemirror_mode": {
    "name": "ipython",
    "version": 3
   },
   "file_extension": ".py",
   "mimetype": "text/x-python",
   "name": "python",
   "nbconvert_exporter": "python",
   "pygments_lexer": "ipython3",
   "version": "3.10.5"
  }
 },
 "nbformat": 4,
 "nbformat_minor": 2
}
