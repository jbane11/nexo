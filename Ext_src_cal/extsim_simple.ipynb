{
 "cells": [
  {
   "cell_type": "code",
   "execution_count": 1,
   "metadata": {},
   "outputs": [
    {
     "name": "stdout",
     "output_type": "stream",
     "text": [
      "importing Jupyter notebook from nexoheader.ipynb\n"
     ]
    }
   ],
   "source": [
    "import import_ipynb\n",
    "from nexoheader import *\n",
    "import uproot \n",
    "import uproot3\n",
    "import uproot4\n",
    "import awkward as ak"
   ]
  },
  {
   "cell_type": "code",
   "execution_count": 68,
   "metadata": {},
   "outputs": [],
   "source": [
    "\n",
    "    sens_Treenames=[\"Event/Recon/Energy/Energy\",\"Event/Recon/Standoff/Standoff\"\n",
    "                   ,\"Event/Recon/ChargeQuanta/ChargeQuanta\",\"Event/Recon/Photons/Photons\"\n",
    "                   ,\"Event/Recon/DNNTag/DNNTag\",\"Event/Recon/NESTBugFlag/NESTBugFlag\"]\n",
    "    root_Treenames=[\"Event/Sim/SimEvent\"]\n",
    "    root_bnames=[\"fGenX\"\n",
    "                ,\"fGenY\"\n",
    "                ,\"fGenZ\"\n",
    "                ]"
   ]
  },
  {
   "cell_type": "code",
   "execution_count": 69,
   "metadata": {},
   "outputs": [],
   "source": [
    "newfilename=\"./data/Bi212_v3_seed10.root\"\n",
    "file=\"./data/ExternalGammas_light-v3-Bi212-5000-seed10.root\""
   ]
  },
  {
   "cell_type": "code",
   "execution_count": 106,
   "metadata": {},
   "outputs": [
    {
     "ename": "IndexError",
     "evalue": "invalid index to scalar variable.",
     "output_type": "error",
     "traceback": [
      "\u001b[1;31m---------------------------------------------------------------------------\u001b[0m",
      "\u001b[1;31mIndexError\u001b[0m                                Traceback (most recent call last)",
      "\u001b[1;32mc:\\Users\\EXO_Lab1\\Documents\\Bane\\nexo_code\\nexo\\Ext_src_cal\\extsim_simple.ipynb Cell 4\u001b[0m line \u001b[0;36m2\n\u001b[0;32m     <a href='vscode-notebook-cell:/c%3A/Users/EXO_Lab1/Documents/Bane/nexo_code/nexo/Ext_src_cal/extsim_simple.ipynb#W4sZmlsZQ%3D%3D?line=22'>23</a>\u001b[0m             \u001b[39mcontinue\u001b[39;00m\n\u001b[0;32m     <a href='vscode-notebook-cell:/c%3A/Users/EXO_Lab1/Documents/Bane/nexo_code/nexo/Ext_src_cal/extsim_simple.ipynb#W4sZmlsZQ%3D%3D?line=23'>24</a>\u001b[0m             \u001b[39m#ReconDict[leaf]=[int(TF) for TF in ReconDict[leaf] ]\u001b[39;00m\n\u001b[1;32m---> <a href='vscode-notebook-cell:/c%3A/Users/EXO_Lab1/Documents/Bane/nexo_code/nexo/Ext_src_cal/extsim_simple.ipynb#W4sZmlsZQ%3D%3D?line=25'>26</a>\u001b[0m         ReconDictInfo[leaf]\u001b[39m=\u001b[39m\u001b[39mtype\u001b[39m(ReconDict[leaf][\u001b[39m0\u001b[39;49m][\u001b[39m0\u001b[39;49m])\n\u001b[0;32m     <a href='vscode-notebook-cell:/c%3A/Users/EXO_Lab1/Documents/Bane/nexo_code/nexo/Ext_src_cal/extsim_simple.ipynb#W4sZmlsZQ%3D%3D?line=30'>31</a>\u001b[0m ReconFile\u001b[39m.\u001b[39mclose()\n\u001b[0;32m     <a href='vscode-notebook-cell:/c%3A/Users/EXO_Lab1/Documents/Bane/nexo_code/nexo/Ext_src_cal/extsim_simple.ipynb#W4sZmlsZQ%3D%3D?line=31'>32</a>\u001b[0m \u001b[39mif\u001b[39;00m \u001b[39m1\u001b[39m\u001b[39m==\u001b[39m\u001b[39m1\u001b[39m:    \n",
      "\u001b[1;31mIndexError\u001b[0m: invalid index to scalar variable."
     ]
    }
   ],
   "source": [
    "#def SimpleComb(file,newfile)\n",
    "if 1==1:\n",
    "    \n",
    "    \n",
    "    FI=file_dict_from_file(file)\n",
    "\n",
    "    \n",
    "    ReconFile=uproot4.open(FI[\"sens_filename\"])\n",
    "    MainReconKeys=ReconFile[\"Event/Recon\"].keys()    \n",
    "\n",
    "    ReconDict={}\n",
    "    ReconDictInfo={}\n",
    "\n",
    "    for i, Full_bname in enumerate(sens_Treenames):\n",
    "        \n",
    "        Short_bname=Full_bname.split(\"/\")[-1]\n",
    "        leaves=ReconFile[Full_bname+\"/\"+Short_bname].keys()[4:]\n",
    "        \n",
    "        for leaf in leaves:\n",
    "            ReconDict[leaf]=ReconFile[Full_bname+\"/\"+Short_bname+\"/\"+leaf].array()\n",
    "            # Having issues with bools, trying to fix my typing into an int         \n",
    "            if type(ReconDict[leaf][0]) == type( np.ones(2, dtype=np.bool_)[0]):\n",
    "                continue\n",
    "                #ReconDict[leaf]=[int(TF) for TF in ReconDict[leaf] ]\n",
    "\n",
    "            ReconDictInfo[leaf]=type(ReconDict[leaf][0][0])\n",
    "\n",
    "\n",
    "\n",
    "\n",
    "    ReconFile.close()\n",
    "    if 1==1:    \n",
    "\n",
    "        with uproot3.recreate(newfilename) as f:\n",
    "            #ReconDictInfo_short=ReconDictInfo[]\n",
    "            f[\"nexo\"] = uproot3.newtree(ReconDictInfo,title=\"\")\n",
    "            #for key in ReconDictInfo.keys()\n",
    "            \n",
    "\n",
    "            f[\"nexo\"].extend(ReconDict,flush=False)\n",
    "        \n",
    "        f.close()\n",
    "\n",
    "    \n",
    "\n",
    "\n",
    "    #G4File=uproot4.open(file)\n",
    "    #G4File.close()\n",
    "\n",
    "\n",
    "\n",
    "\n",
    "\n"
   ]
  },
  {
   "cell_type": "code",
   "execution_count": 111,
   "metadata": {},
   "outputs": [
    {
     "data": {
      "text/plain": [
       "float"
      ]
     },
     "execution_count": 111,
     "metadata": {},
     "output_type": "execute_result"
    }
   ],
   "source": [
    "type(float(ReconDict[leaf][1]))"
   ]
  },
  {
   "cell_type": "code",
   "execution_count": 105,
   "metadata": {},
   "outputs": [
    {
     "data": {
      "text/plain": [
       "{'energy': numpy.float32,\n",
       " 'energy_mctruth_allLXe': numpy.float32,\n",
       " 'energy_mctruth_inTPC': numpy.float32,\n",
       " 'r_max_simple': numpy.float32,\n",
       " 'lower_z': numpy.float32,\n",
       " 'upper_z': numpy.float32,\n",
       " 'standoff': numpy.float32,\n",
       " 'standoff_r': numpy.float32,\n",
       " 'standoff_z': numpy.float32,\n",
       " 'r_max_3d': numpy.float32,\n",
       " 'n_x_ch_abovenoise': numpy.int32,\n",
       " 'n_y_ch_abovenoise': numpy.int32,\n",
       " 'max_r_mctruth': numpy.float32,\n",
       " 'lower_z_mctruth': numpy.float32,\n",
       " 'upper_z_mctruth': numpy.float32,\n",
       " 'standoff_mctruth': numpy.float32,\n",
       " 'standoff_r_mctruth': numpy.float32,\n",
       " 'standoff_z_mctruth': numpy.float32,\n",
       " 'max_r_active_mctruth': numpy.float32,\n",
       " 'lower_z_active_mctruth': numpy.float32,\n",
       " 'upper_z_active_mctruth': numpy.float32,\n",
       " 'standoff_active_mctruth': numpy.float32,\n",
       " 'standoff_r_active_mctruth': numpy.float32,\n",
       " 'standoff_z_active_mctruth': numpy.float32,\n",
       " 'm_nQ': numpy.float32,\n",
       " 'm_nOPCal': numpy.float32,\n",
       " 'm_nOPCollected': numpy.uint32,\n",
       " 'm_DNNvalue': numpy.float64,\n",
       " 'ratio': numpy.float32}"
      ]
     },
     "execution_count": 105,
     "metadata": {},
     "output_type": "execute_result"
    }
   ],
   "source": [
    "\n",
    "ReconDictInfo\n"
   ]
  },
  {
   "cell_type": "code",
   "execution_count": null,
   "metadata": {},
   "outputs": [],
   "source": []
  }
 ],
 "metadata": {
  "kernelspec": {
   "display_name": "Python 3",
   "language": "python",
   "name": "python3"
  },
  "language_info": {
   "codemirror_mode": {
    "name": "ipython",
    "version": 3
   },
   "file_extension": ".py",
   "mimetype": "text/x-python",
   "name": "python",
   "nbconvert_exporter": "python",
   "pygments_lexer": "ipython3",
   "version": "3.10.5"
  }
 },
 "nbformat": 4,
 "nbformat_minor": 2
}
