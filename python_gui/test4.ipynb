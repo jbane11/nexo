{
 "cells": [
  {
   "cell_type": "code",
   "execution_count": null,
   "metadata": {},
   "outputs": [],
   "source": []
  },
  {
   "cell_type": "code",
   "execution_count": 4,
   "metadata": {},
   "outputs": [],
   "source": [
    "from tkinter import *\n",
    "\n",
    "root = Tk()\n",
    "root.geometry = (\"400x400\")\n",
    "\n",
    "def show():\n",
    "    label.config(text=clicked.get())\n",
    "\n",
    "options = [\"One\", \"Two\", \"Three\", \"Four\"]\n",
    "\n",
    "clicked = StringVar()\n",
    "clicked.set(\"Initial Text\")\n",
    "\n",
    "drop = OptionMenu(root, clicked, *options)\n",
    "drop.pack()\n",
    "\n",
    "button = Button(root, text = \"click here\", command=show).pack()\n",
    "\n",
    "label = Label(root, text = \"bleh\")\n",
    "label.pack()\n",
    "\n",
    "root.mainloop()"
   ]
  }
 ],
 "metadata": {
  "kernelspec": {
   "display_name": "Python 3",
   "language": "python",
   "name": "python3"
  },
  "language_info": {
   "codemirror_mode": {
    "name": "ipython",
    "version": 3
   },
   "file_extension": ".py",
   "mimetype": "text/x-python",
   "name": "python",
   "nbconvert_exporter": "python",
   "pygments_lexer": "ipython3",
   "version": "3.10.5"
  }
 },
 "nbformat": 4,
 "nbformat_minor": 2
}
